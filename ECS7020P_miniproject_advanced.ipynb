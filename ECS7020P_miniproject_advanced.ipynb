{
  "cells": [
    {
      "cell_type": "markdown",
      "metadata": {
        "id": "ZaGn4ICrfqXZ"
      },
      "source": [
        "# 1 Author\n",
        "**Student Name**: Kaushal Yadav <br>\n",
        "**Student ID**: 231030364\n",
        "\n"
      ]
    },
    {
      "cell_type": "markdown",
      "metadata": {
        "id": "o38VQkcdKd6k"
      },
      "source": [
        "# 2 Problem formulation\n",
        "\n",
        "The problem I wish to address is for a machine to be able to distinguish between a healthy dish and unhealthy dish just by using the list of ingredients and information about whether it was or is going to be prepared at home or not.\n",
        "Possible areas of application are:\n",
        "1. Integration of model's capabilities with current computer vision prowess to form an app that can process a picture of all the ingredients and help a user track the healthiness of their dishes.\n",
        "1. Integration with computer vision for dietary feedback on a user's diet.\n",
        "1. Creating personalised user dietary feedback in calorie tracking apps.\n",
        "\n",
        "This model has wide range of application areas in dietary monitering and helping individuals make informed decisions.\n",
        "As users increasingly seek personalized and technology-driven solutions for their well-being, this model aligns with the growing demand for accessible and actionable nutritional information, all made available in just a few clicks. <br>\n",
        "It is a step taken to solve the complex nutritional puzzle."
      ]
    },
    {
      "cell_type": "markdown",
      "source": [
        "# 3 Machine Learning pipeline\n",
        "\n",
        "My pipeline will essentially take a list of ingredients and information about where the dish was prepared as input and return a label, which will either be \"healthy\" or \"not_healthy.\" Let's take a quick look inside the pipeline:\n",
        "1. Pre-processing: A list of ingredients seems intuitive enough, but we may still find ingredients that are not aligned with how we want the ingredients to be. It's possible to for some ingredients to not make sense. So we would have to find a way to \"normalize\" them or make them more consistent and that would involve:\n",
        "    * Lowercasing all the ingredients (casefolding)\n",
        "    * Checking for unwanted/unexplainable characters in the ingredients and either replacing them using greedy matching or discarding them altogether.\n",
        "    * Turning the list into a format that can be parsed easily during vector creation.\n",
        "1. Feature extraction:\n",
        "  * Turning ingredients into vectors and assigning weights.\n",
        "  * Encoding any other attributes that we may want to use to train our model. Example: Home or not home, etc.\n",
        "For this model specifically, we will skip using the image array because it is possible to miss out on fine unhealthy ingredients that may not be apparent in the dish, thus leading to misleading predictions and thus, a lot more misinformed dietary decisions. For example, Ajinomoto or monosodium glutamate (MSG).\n",
        "1. The feature vector is then passed to the trained model and -\n",
        "\n",
        "This is where my pipeline ends and what comes out is either 1 for \"healthy\" or 0 for \"not_healthy.\"\n"
      ],
      "metadata": {
        "id": "9myTAIPbAyPg"
      }
    },
    {
      "cell_type": "markdown",
      "metadata": {
        "id": "j1nDXnzYLLH6"
      },
      "source": [
        "# 4 Transformation stage\n",
        "\n",
        "For our machine learning model, we find that instances characterized as \"Neutral\", specifically those with a healthiness rating integer of 3, hold limited relevance for our intended application. The rationale behind this decision lies in the consideration that individuals are less likely to seek information about the neutrality of a dish. Consequently, we intend to exclude instances with a healthiness rating of \"Neutral\" during subsequent stages of our model development, focusing our analysis on more distinctive healthiness classifications.\n",
        "\n",
        "## Basic attribute Transformation:\n",
        "1. Ingredients:\n",
        "    * Lowercasing all the ingredients (casefolding)\n",
        "    * Finding ingredients with invalid characters inside them and replacing them with with valid substring ingredient with maximum length.\n",
        "    * Trying to change ingredients that are more than three words to their base form to try and make the vectors more consistent.\n",
        "    * Changing to a format which allows easy parsing of ingredients for vectorization\n",
        "1. Home_not_home: Encoding/creating home_not_home labels"
      ]
    },
    {
      "cell_type": "markdown",
      "metadata": {
        "id": "0F5_kI95LuZ2"
      },
      "source": [
        "# 5 Modelling\n",
        "\n",
        "I tried out the models below:\n",
        "1. LinearSVC (Linear Support Vector Machine):\n",
        "  * Could be performing worse due to non-linearity of relationship between bag-of-words values of ingredient or \"bag-of-ingredients\" and binary home not home feature.\n",
        "  * Became complex due to high number of hyper parameters to be tuned like regularisation, cost, etc.\n",
        "\n",
        "#### RandomForestClassifier: Final choice\n",
        "Reason:\n",
        "1. It was able to capture complexity more effectively.\n",
        "1. Random forest is excellent at automatically weighing the importance of individual words, while linearsvc might be treating all features equally.\n",
        "1. Easier to work with because it has fewer number of hyperparameters to be tuned. Or in our case, none.\n",
        "1. High test accuracy."
      ]
    },
    {
      "cell_type": "markdown",
      "metadata": {
        "id": "bPTSuaB9L2jU"
      },
      "source": [
        "# 6 Methodology\n",
        "* The splitting of the data is done using the the pre-existing Benchmark_A column present in the dataframe, which consists the \"Train\" and \"Test\" labels.\n",
        "* The train data is used for training and the test data, no surprises, for testing. The results are assessed in a simple way using the following metrics. The list starts from the most important and then slowly moves on the least:\n",
        "    1. (Pre-existing) Confusion Matrix: It often helped me figure out and realise if and when I was fooling myself by creating and using a feature that had an illogical bias, which happened a lot during this process of trial and error. It also made me think about and consider whether there was a class imbalance in my training and/or testing data.\n",
        "    1. Precision and recall to further highlight any biases\n",
        "    1. Test accuracy: Helped me check how well my choice of classifier and feature worked to classify random real world images with real world noise or variability, so to speak.\n",
        "    3. Train accuracy: Useful for detecting instances of overfitting in the model."
      ]
    },
    {
      "cell_type": "markdown",
      "metadata": {
        "id": "HZQPxztuL9AW"
      },
      "source": [
        "# 7 Dataset\n",
        "* I utilized a dataset originating from students, myself included, enrolled in the QMUL MSc FT Big Data Science course, batch of 2024. The dataset comprises features such as the diet type (vegetarian or non-vegetarian), original cuisine, specific cuisine, dish name, home or restaurant preparation, ingredients, healthiness rating (categorized and encoded), likeness rating (categorized and encoded), and a benchmark indicating whether a sample is designated for training or testing. Additionally, each sample is indexed with the name of the corresponding image, ranging from \"000001.jpg\" to \"03250.jpg.\"\n",
        "\n",
        "* To enhance the dataset, I introduced additional columns, including a binary indicator for healthy or not healthy (1 for healthiness ratings 1 and 2, 0 for ratings 4 and 5, with neutral dishes, rating 3, discarded). I preprocessed the ingredients by converting them into space-separated format for ease of vectorization. Another added feature, \"Home_not_home,\" was created with a binary representation (1 for home, 0 for not_home) achieved through substring matching with instances containing \"home.\" Additionally, I included a column \"Num_ingreds\" just out of curiosity and sake of experimentation, denoting the number of ingredients.\n",
        "\n",
        "* To ensure a balanced dataset for healthy and unhealthy instances, I applied filtering. The final dataset underwent an 80-20 train-test split. For the predictive model, I employed the LinearSVC algorithm, using a column transformer that includes CountVectorized comma-separated ingredients and a pass-through for the Home_not_home column. This approach allowed the model to predict the healthiness of dishes based on ingredients and home preparation status."
      ]
    },
    {
      "cell_type": "markdown",
      "source": [
        "Special thanks to Nikesh Bajaj and Jesús Requena Carrión for collaborating on, creating and maintaining the mlend library below where Yummy_dataset along with a lot of other fun datasets can be found and downloaded from.<br>\n",
        "More information here:\n",
        "[MLEND Datasets documentation](https://mlend.readthedocs.io/en/latest/)\n"
      ],
      "metadata": {
        "id": "qYTEAMizJhl0"
      }
    },
    {
      "cell_type": "code",
      "execution_count": 1,
      "metadata": {
        "id": "ofOQClRI-hLr"
      },
      "outputs": [],
      "source": [
        "!pip install --quiet mlend --upgrade"
      ]
    },
    {
      "cell_type": "markdown",
      "metadata": {
        "id": "ayiwaIjf-hLt"
      },
      "source": [
        "#### Basic dependenies:"
      ]
    },
    {
      "cell_type": "code",
      "execution_count": 2,
      "metadata": {
        "id": "Tq9kycp1-hLt"
      },
      "outputs": [],
      "source": [
        "import numpy as np\n",
        "import pandas as pd\n",
        "import matplotlib.pyplot as plt\n",
        "\n",
        "import mlend\n",
        "from mlend import download_yummy_small, yummy_small_load, yummy_load, download_yummy\n",
        "\n",
        "import os, sys, re, pickle, glob"
      ]
    },
    {
      "cell_type": "code",
      "source": [
        "from google.colab import drive\n",
        "drive.mount(\"/content/MyDrive\")"
      ],
      "metadata": {
        "colab": {
          "base_uri": "https://localhost:8080/"
        },
        "id": "laDlUqmlccqO",
        "outputId": "1de9dd4f-c476-48df-a319-c37b9f211d6b"
      },
      "execution_count": 3,
      "outputs": [
        {
          "output_type": "stream",
          "name": "stdout",
          "text": [
            "Drive already mounted at /content/MyDrive; to attempt to forcibly remount, call drive.mount(\"/content/MyDrive\", force_remount=True).\n"
          ]
        }
      ]
    },
    {
      "cell_type": "markdown",
      "source": [
        "#### Downloading the data:"
      ],
      "metadata": {
        "id": "XVKoguMWorHn"
      }
    },
    {
      "cell_type": "code",
      "source": [
        "subset = {}\n",
        "\n",
        "#try this first\n",
        "# datadir = download_yummy(save_to = '/content/drive/MyDrive/Data1/MLEnd1', subset = subset,verbose=1,debug_mode = True, overwrite = False)\n",
        "\n",
        "#uncomment this if the above throws an error\n",
        "datadir, FILE_ERROR = download_yummy(save_to = '/content/drive/MyDrive/Data1/MLEnd1', subset = subset,verbose=1,debug_mode = True, overwrite = False)"
      ],
      "metadata": {
        "id": "g7zQPV_Y_Ap8",
        "colab": {
          "base_uri": "https://localhost:8080/"
        },
        "outputId": "f91c2dba-9534-4959-f558-1dec61765c42"
      },
      "execution_count": 4,
      "outputs": [
        {
          "output_type": "stream",
          "name": "stdout",
          "text": [
            "Downloading 3250 image files from https://github.com/MLEndDatasets/Yummy\n",
            "100%|\u001b[0m▓▓▓▓▓▓▓▓▓▓▓▓▓▓▓▓▓▓▓▓▓▓▓▓▓▓▓▓▓▓▓▓▓▓▓▓▓▓▓▓▓▓▓▓▓▓▓▓▓▓\u001b[0m|3250\\3250|003250.jpg\n",
            "Done!\n"
          ]
        }
      ]
    },
    {
      "cell_type": "code",
      "source": [
        "#let's get the map for the encoded attributes\n",
        "TrainSet1, TestSet1, MAPs1 = yummy_load(datadir_main = datadir,encode_labels=True,)"
      ],
      "metadata": {
        "id": "DsGXzKYC_ED4",
        "colab": {
          "base_uri": "https://localhost:8080/"
        },
        "outputId": "d8356bb0-12f9-48bf-d08a-2ae93babd509"
      },
      "execution_count": 5,
      "outputs": [
        {
          "output_type": "stream",
          "name": "stdout",
          "text": [
            "Total 3250 found in /content/drive/MyDrive/Data1/MLEnd1/yummy/MLEndYD_images/\n"
          ]
        }
      ]
    },
    {
      "cell_type": "code",
      "source": [
        "print(f\"the following is the map for healthiness rating:\")\n",
        "display(MAPs1[\"Healthiness_rating\"])"
      ],
      "metadata": {
        "colab": {
          "base_uri": "https://localhost:8080/",
          "height": 121
        },
        "id": "ehOwcI002IFp",
        "outputId": "8793fb95-8aaa-42d7-91d7-cafc82be9af8"
      },
      "execution_count": 6,
      "outputs": [
        {
          "output_type": "stream",
          "name": "stdout",
          "text": [
            "the following is the map for healthiness rating:\n"
          ]
        },
        {
          "output_type": "display_data",
          "data": {
            "text/plain": [
              "{'very_unhealthy': 1,\n",
              " 'unhealthy': 2,\n",
              " 'neutral': 3,\n",
              " 'healthy': 4,\n",
              " 'very_healthy': 5}"
            ]
          },
          "metadata": {}
        }
      ]
    },
    {
      "cell_type": "markdown",
      "source": [
        "#### Reading the data and some exploratory analysis:"
      ],
      "metadata": {
        "id": "MrExRVQapNlH"
      }
    },
    {
      "cell_type": "code",
      "source": [
        "#reading the dataset\n",
        "MLENDYD_df1 = pd.read_csv('/content/drive/MyDrive/Data1/MLEnd1/yummy/MLEndYD_image_attributes_benchmark.csv').set_index('filename')\n",
        "display(MLENDYD_df1.head(3))\n",
        "\n",
        "#extracting and saving some list of ingredients before discarding the neutral dish instances that we can then use later during feature engineering of our ingredients\n",
        "ingreds0 = [i for j in [i.split(\",\") for i in MLENDYD_df1.Ingredients] for i in j if i != \"\"]\n",
        "invalid_pattern0 = re.compile(r'[^a-zA-Z0-9_]+')\n",
        "valid_ingreds_list0 = [i for i in ingreds0 if not invalid_pattern0.search(i)]\n",
        "long_pattern0 = re.compile(r'(?:.*_){3,}')\n",
        "short_ingreds0 = [i for i in valid_ingreds_list0 if not long_pattern0.search(i)]\n",
        "\n",
        "#filtering out dishes that are neither healthy nor unhealthy, that is, neutral.\n",
        "MLENDYD_df1 = MLENDYD_df1[MLENDYD_df1.Healthiness_rating_int.isin([1, 2, 4, 5])]\n",
        "print(f\"\\nTotal number of rows after removing the 'neutral' dishes: {MLENDYD_df1.shape[0]}\\n\")\n",
        "\n",
        "#list of all the ingredients\n",
        "ingreds = [i for j in [i.split(\",\") for i in MLENDYD_df1.Ingredients] for i in j if i != \"\"]\n",
        "print(f\"Total number of unique ingredients in MLENDYD_df1: {len(set(ingreds))}\")\n",
        "print(f\"Total number of ingredients in MLENDYD_df1: {len(ingreds)}\\n\")\n",
        "\n",
        "#checking the number of ingredients that have an invalid character inside it\n",
        "invalid_pattern = re.compile(r'[^a-zA-Z0-9_]+')\n",
        "invalid_ingredients = [i for i in ingreds if invalid_pattern.search(i)]\n",
        "\n",
        "#getting a list of all valid ingredients with either numbers or aplhabets or underscores\n",
        "valid_ingreds_list = [i for i in ingreds if i not in invalid_ingredients]\n",
        "\n",
        "#printing the results\n",
        "print(f\"Unique invalid ingredients:\")\n",
        "display(set(invalid_ingredients[:5]))\n",
        "print(\"...\\n\"*3)\n",
        "print(f\"Number of unique invalid ingredients: {len(set(invalid_ingredients))}\")\n",
        "print(f\"Total number of invalid ingredients: {len(invalid_ingredients)}\")"
      ],
      "metadata": {
        "id": "P1KD75W6_Yyf",
        "colab": {
          "base_uri": "https://localhost:8080/",
          "height": 524
        },
        "outputId": "594a839a-d9b6-49fc-c3a7-c80844e386e4"
      },
      "execution_count": 7,
      "outputs": [
        {
          "output_type": "display_data",
          "data": {
            "text/plain": [
              "                      Diet Cuisine_org   Cuisine           Dish_name  \\\n",
              "filename                                                               \n",
              "000001.jpg  non_vegetarian    japanese  japanese  chicken_katsu_rice   \n",
              "000002.jpg  non_vegetarian     english   english   english_breakfast   \n",
              "000003.jpg  non_vegetarian     chinese   chinese       spicy_chicken   \n",
              "\n",
              "               Home_or_restaurant  \\\n",
              "filename                            \n",
              "000001.jpg          marugame_udon   \n",
              "000002.jpg                   home   \n",
              "000003.jpg  jinli_flagship_branch   \n",
              "\n",
              "                                                  Ingredients  \\\n",
              "filename                                                        \n",
              "000001.jpg              rice,chicken_breast,spicy_curry_sauce   \n",
              "000002.jpg  eggs,bacon,hash_brown,tomato,bread,tomato,bake...   \n",
              "000003.jpg  chili,chicken,peanuts,sihuan_peppercorns,green...   \n",
              "\n",
              "           Healthiness_rating  Healthiness_rating_int       Likeness  \\\n",
              "filename                                                               \n",
              "000001.jpg            neutral                     3.0           like   \n",
              "000002.jpg          unhealthy                     2.0           like   \n",
              "000003.jpg            neutral                     3.0  strongly_like   \n",
              "\n",
              "            Likeness_int Benchmark_A  \n",
              "filename                              \n",
              "000001.jpg           4.0       Train  \n",
              "000002.jpg           4.0       Train  \n",
              "000003.jpg           5.0       Train  "
            ],
            "text/html": [
              "\n",
              "  <div id=\"df-39ec147e-faad-45e9-98de-f291bfe21a56\" class=\"colab-df-container\">\n",
              "    <div>\n",
              "<style scoped>\n",
              "    .dataframe tbody tr th:only-of-type {\n",
              "        vertical-align: middle;\n",
              "    }\n",
              "\n",
              "    .dataframe tbody tr th {\n",
              "        vertical-align: top;\n",
              "    }\n",
              "\n",
              "    .dataframe thead th {\n",
              "        text-align: right;\n",
              "    }\n",
              "</style>\n",
              "<table border=\"1\" class=\"dataframe\">\n",
              "  <thead>\n",
              "    <tr style=\"text-align: right;\">\n",
              "      <th></th>\n",
              "      <th>Diet</th>\n",
              "      <th>Cuisine_org</th>\n",
              "      <th>Cuisine</th>\n",
              "      <th>Dish_name</th>\n",
              "      <th>Home_or_restaurant</th>\n",
              "      <th>Ingredients</th>\n",
              "      <th>Healthiness_rating</th>\n",
              "      <th>Healthiness_rating_int</th>\n",
              "      <th>Likeness</th>\n",
              "      <th>Likeness_int</th>\n",
              "      <th>Benchmark_A</th>\n",
              "    </tr>\n",
              "    <tr>\n",
              "      <th>filename</th>\n",
              "      <th></th>\n",
              "      <th></th>\n",
              "      <th></th>\n",
              "      <th></th>\n",
              "      <th></th>\n",
              "      <th></th>\n",
              "      <th></th>\n",
              "      <th></th>\n",
              "      <th></th>\n",
              "      <th></th>\n",
              "      <th></th>\n",
              "    </tr>\n",
              "  </thead>\n",
              "  <tbody>\n",
              "    <tr>\n",
              "      <th>000001.jpg</th>\n",
              "      <td>non_vegetarian</td>\n",
              "      <td>japanese</td>\n",
              "      <td>japanese</td>\n",
              "      <td>chicken_katsu_rice</td>\n",
              "      <td>marugame_udon</td>\n",
              "      <td>rice,chicken_breast,spicy_curry_sauce</td>\n",
              "      <td>neutral</td>\n",
              "      <td>3.0</td>\n",
              "      <td>like</td>\n",
              "      <td>4.0</td>\n",
              "      <td>Train</td>\n",
              "    </tr>\n",
              "    <tr>\n",
              "      <th>000002.jpg</th>\n",
              "      <td>non_vegetarian</td>\n",
              "      <td>english</td>\n",
              "      <td>english</td>\n",
              "      <td>english_breakfast</td>\n",
              "      <td>home</td>\n",
              "      <td>eggs,bacon,hash_brown,tomato,bread,tomato,bake...</td>\n",
              "      <td>unhealthy</td>\n",
              "      <td>2.0</td>\n",
              "      <td>like</td>\n",
              "      <td>4.0</td>\n",
              "      <td>Train</td>\n",
              "    </tr>\n",
              "    <tr>\n",
              "      <th>000003.jpg</th>\n",
              "      <td>non_vegetarian</td>\n",
              "      <td>chinese</td>\n",
              "      <td>chinese</td>\n",
              "      <td>spicy_chicken</td>\n",
              "      <td>jinli_flagship_branch</td>\n",
              "      <td>chili,chicken,peanuts,sihuan_peppercorns,green...</td>\n",
              "      <td>neutral</td>\n",
              "      <td>3.0</td>\n",
              "      <td>strongly_like</td>\n",
              "      <td>5.0</td>\n",
              "      <td>Train</td>\n",
              "    </tr>\n",
              "  </tbody>\n",
              "</table>\n",
              "</div>\n",
              "    <div class=\"colab-df-buttons\">\n",
              "\n",
              "  <div class=\"colab-df-container\">\n",
              "    <button class=\"colab-df-convert\" onclick=\"convertToInteractive('df-39ec147e-faad-45e9-98de-f291bfe21a56')\"\n",
              "            title=\"Convert this dataframe to an interactive table.\"\n",
              "            style=\"display:none;\">\n",
              "\n",
              "  <svg xmlns=\"http://www.w3.org/2000/svg\" height=\"24px\" viewBox=\"0 -960 960 960\">\n",
              "    <path d=\"M120-120v-720h720v720H120Zm60-500h600v-160H180v160Zm220 220h160v-160H400v160Zm0 220h160v-160H400v160ZM180-400h160v-160H180v160Zm440 0h160v-160H620v160ZM180-180h160v-160H180v160Zm440 0h160v-160H620v160Z\"/>\n",
              "  </svg>\n",
              "    </button>\n",
              "\n",
              "  <style>\n",
              "    .colab-df-container {\n",
              "      display:flex;\n",
              "      gap: 12px;\n",
              "    }\n",
              "\n",
              "    .colab-df-convert {\n",
              "      background-color: #E8F0FE;\n",
              "      border: none;\n",
              "      border-radius: 50%;\n",
              "      cursor: pointer;\n",
              "      display: none;\n",
              "      fill: #1967D2;\n",
              "      height: 32px;\n",
              "      padding: 0 0 0 0;\n",
              "      width: 32px;\n",
              "    }\n",
              "\n",
              "    .colab-df-convert:hover {\n",
              "      background-color: #E2EBFA;\n",
              "      box-shadow: 0px 1px 2px rgba(60, 64, 67, 0.3), 0px 1px 3px 1px rgba(60, 64, 67, 0.15);\n",
              "      fill: #174EA6;\n",
              "    }\n",
              "\n",
              "    .colab-df-buttons div {\n",
              "      margin-bottom: 4px;\n",
              "    }\n",
              "\n",
              "    [theme=dark] .colab-df-convert {\n",
              "      background-color: #3B4455;\n",
              "      fill: #D2E3FC;\n",
              "    }\n",
              "\n",
              "    [theme=dark] .colab-df-convert:hover {\n",
              "      background-color: #434B5C;\n",
              "      box-shadow: 0px 1px 3px 1px rgba(0, 0, 0, 0.15);\n",
              "      filter: drop-shadow(0px 1px 2px rgba(0, 0, 0, 0.3));\n",
              "      fill: #FFFFFF;\n",
              "    }\n",
              "  </style>\n",
              "\n",
              "    <script>\n",
              "      const buttonEl =\n",
              "        document.querySelector('#df-39ec147e-faad-45e9-98de-f291bfe21a56 button.colab-df-convert');\n",
              "      buttonEl.style.display =\n",
              "        google.colab.kernel.accessAllowed ? 'block' : 'none';\n",
              "\n",
              "      async function convertToInteractive(key) {\n",
              "        const element = document.querySelector('#df-39ec147e-faad-45e9-98de-f291bfe21a56');\n",
              "        const dataTable =\n",
              "          await google.colab.kernel.invokeFunction('convertToInteractive',\n",
              "                                                    [key], {});\n",
              "        if (!dataTable) return;\n",
              "\n",
              "        const docLinkHtml = 'Like what you see? Visit the ' +\n",
              "          '<a target=\"_blank\" href=https://colab.research.google.com/notebooks/data_table.ipynb>data table notebook</a>'\n",
              "          + ' to learn more about interactive tables.';\n",
              "        element.innerHTML = '';\n",
              "        dataTable['output_type'] = 'display_data';\n",
              "        await google.colab.output.renderOutput(dataTable, element);\n",
              "        const docLink = document.createElement('div');\n",
              "        docLink.innerHTML = docLinkHtml;\n",
              "        element.appendChild(docLink);\n",
              "      }\n",
              "    </script>\n",
              "  </div>\n",
              "\n",
              "\n",
              "<div id=\"df-3c7ae152-2578-421f-8979-a29041010dfb\">\n",
              "  <button class=\"colab-df-quickchart\" onclick=\"quickchart('df-3c7ae152-2578-421f-8979-a29041010dfb')\"\n",
              "            title=\"Suggest charts\"\n",
              "            style=\"display:none;\">\n",
              "\n",
              "<svg xmlns=\"http://www.w3.org/2000/svg\" height=\"24px\"viewBox=\"0 0 24 24\"\n",
              "     width=\"24px\">\n",
              "    <g>\n",
              "        <path d=\"M19 3H5c-1.1 0-2 .9-2 2v14c0 1.1.9 2 2 2h14c1.1 0 2-.9 2-2V5c0-1.1-.9-2-2-2zM9 17H7v-7h2v7zm4 0h-2V7h2v10zm4 0h-2v-4h2v4z\"/>\n",
              "    </g>\n",
              "</svg>\n",
              "  </button>\n",
              "\n",
              "<style>\n",
              "  .colab-df-quickchart {\n",
              "      --bg-color: #E8F0FE;\n",
              "      --fill-color: #1967D2;\n",
              "      --hover-bg-color: #E2EBFA;\n",
              "      --hover-fill-color: #174EA6;\n",
              "      --disabled-fill-color: #AAA;\n",
              "      --disabled-bg-color: #DDD;\n",
              "  }\n",
              "\n",
              "  [theme=dark] .colab-df-quickchart {\n",
              "      --bg-color: #3B4455;\n",
              "      --fill-color: #D2E3FC;\n",
              "      --hover-bg-color: #434B5C;\n",
              "      --hover-fill-color: #FFFFFF;\n",
              "      --disabled-bg-color: #3B4455;\n",
              "      --disabled-fill-color: #666;\n",
              "  }\n",
              "\n",
              "  .colab-df-quickchart {\n",
              "    background-color: var(--bg-color);\n",
              "    border: none;\n",
              "    border-radius: 50%;\n",
              "    cursor: pointer;\n",
              "    display: none;\n",
              "    fill: var(--fill-color);\n",
              "    height: 32px;\n",
              "    padding: 0;\n",
              "    width: 32px;\n",
              "  }\n",
              "\n",
              "  .colab-df-quickchart:hover {\n",
              "    background-color: var(--hover-bg-color);\n",
              "    box-shadow: 0 1px 2px rgba(60, 64, 67, 0.3), 0 1px 3px 1px rgba(60, 64, 67, 0.15);\n",
              "    fill: var(--button-hover-fill-color);\n",
              "  }\n",
              "\n",
              "  .colab-df-quickchart-complete:disabled,\n",
              "  .colab-df-quickchart-complete:disabled:hover {\n",
              "    background-color: var(--disabled-bg-color);\n",
              "    fill: var(--disabled-fill-color);\n",
              "    box-shadow: none;\n",
              "  }\n",
              "\n",
              "  .colab-df-spinner {\n",
              "    border: 2px solid var(--fill-color);\n",
              "    border-color: transparent;\n",
              "    border-bottom-color: var(--fill-color);\n",
              "    animation:\n",
              "      spin 1s steps(1) infinite;\n",
              "  }\n",
              "\n",
              "  @keyframes spin {\n",
              "    0% {\n",
              "      border-color: transparent;\n",
              "      border-bottom-color: var(--fill-color);\n",
              "      border-left-color: var(--fill-color);\n",
              "    }\n",
              "    20% {\n",
              "      border-color: transparent;\n",
              "      border-left-color: var(--fill-color);\n",
              "      border-top-color: var(--fill-color);\n",
              "    }\n",
              "    30% {\n",
              "      border-color: transparent;\n",
              "      border-left-color: var(--fill-color);\n",
              "      border-top-color: var(--fill-color);\n",
              "      border-right-color: var(--fill-color);\n",
              "    }\n",
              "    40% {\n",
              "      border-color: transparent;\n",
              "      border-right-color: var(--fill-color);\n",
              "      border-top-color: var(--fill-color);\n",
              "    }\n",
              "    60% {\n",
              "      border-color: transparent;\n",
              "      border-right-color: var(--fill-color);\n",
              "    }\n",
              "    80% {\n",
              "      border-color: transparent;\n",
              "      border-right-color: var(--fill-color);\n",
              "      border-bottom-color: var(--fill-color);\n",
              "    }\n",
              "    90% {\n",
              "      border-color: transparent;\n",
              "      border-bottom-color: var(--fill-color);\n",
              "    }\n",
              "  }\n",
              "</style>\n",
              "\n",
              "  <script>\n",
              "    async function quickchart(key) {\n",
              "      const quickchartButtonEl =\n",
              "        document.querySelector('#' + key + ' button');\n",
              "      quickchartButtonEl.disabled = true;  // To prevent multiple clicks.\n",
              "      quickchartButtonEl.classList.add('colab-df-spinner');\n",
              "      try {\n",
              "        const charts = await google.colab.kernel.invokeFunction(\n",
              "            'suggestCharts', [key], {});\n",
              "      } catch (error) {\n",
              "        console.error('Error during call to suggestCharts:', error);\n",
              "      }\n",
              "      quickchartButtonEl.classList.remove('colab-df-spinner');\n",
              "      quickchartButtonEl.classList.add('colab-df-quickchart-complete');\n",
              "    }\n",
              "    (() => {\n",
              "      let quickchartButtonEl =\n",
              "        document.querySelector('#df-3c7ae152-2578-421f-8979-a29041010dfb button');\n",
              "      quickchartButtonEl.style.display =\n",
              "        google.colab.kernel.accessAllowed ? 'block' : 'none';\n",
              "    })();\n",
              "  </script>\n",
              "</div>\n",
              "    </div>\n",
              "  </div>\n"
            ]
          },
          "metadata": {}
        },
        {
          "output_type": "stream",
          "name": "stdout",
          "text": [
            "\n",
            "Total number of rows after removing the 'neutral' dishes: 2464\n",
            "\n",
            "Total number of unique ingredients in MLENDYD_df1: 2873\n",
            "Total number of ingredients in MLENDYD_df1: 17544\n",
            "\n",
            "Unique invalid ingredients:\n"
          ]
        },
        {
          "output_type": "display_data",
          "data": {
            "text/plain": [
              "{'chopped\\n1/2_cup_mixed_vegetables_(carrots',\n",
              " 'etc.)',\n",
              " 'finely_chopped\\n1_small_tomato',\n",
              " 'ginger_&_garlic_paste',\n",
              " 'ingredients:\\nfor_cooking_rice:\\n1_cup_rice_(any_variety_such_as_sona_masoori_or_basmati)\\n2_cups_water\\nfor_sambar:\\n1/2_cup_toor_dal_(split_pigeon_peas)\\n1_small_lemon-sized_tamarind_ball\\n1_small_onion'}"
            ]
          },
          "metadata": {}
        },
        {
          "output_type": "stream",
          "name": "stdout",
          "text": [
            "...\n",
            "...\n",
            "...\n",
            "\n",
            "Number of unique invalid ingredients: 426\n",
            "Total number of invalid ingredients: 565\n"
          ]
        }
      ]
    },
    {
      "cell_type": "markdown",
      "source": [
        "The total number of unique ingredients are more than the number of datapoints we have, that is a bit of a problem."
      ],
      "metadata": {
        "id": "97Nscef3fFrw"
      }
    },
    {
      "cell_type": "markdown",
      "source": [
        "# 8 Results"
      ],
      "metadata": {
        "id": "ANtokWD7oK88"
      }
    },
    {
      "cell_type": "markdown",
      "source": [
        "#### Invalid ingredient greedy matching function:\n",
        "Let's develop a function that uses a \"greedy matching\" approach to replace invalid ingredients. We can indentify valid candidates for each invalid ingredient and replace it with the longest matching valid ingredient in its lowercased form."
      ],
      "metadata": {
        "id": "JZA46dlxbt9l"
      }
    },
    {
      "cell_type": "code",
      "source": [
        "def replace_invalid_strings(ingredients_list, pattern, valid_ingred): #valid_ingred_list was created in the previous cell\n",
        "    replacements = {}\n",
        "\n",
        "    #the pattern that we do not want inside our strings\n",
        "    invalid_pattern = re.compile(pattern)\n",
        "\n",
        "    #finding all the invalid ingredients in the given list\n",
        "    invalid_ingreds = [i for i in ingredients_list if invalid_pattern.search(i)]\n",
        "\n",
        "    #for each invalid ingredient we\n",
        "    for invalid in invalid_ingreds:\n",
        "        invalid_lower = invalid.lower()\n",
        "        #extract all the valid ingredients that are a substring inside the invalid ingred\n",
        "        valid_candidates = [v for v in valid_ingred if v.lower() in invalid_lower]\n",
        "        if valid_candidates:\n",
        "            #finding the longest matching ingredient\n",
        "            max_length_valid = max(valid_candidates, key=len)\n",
        "            #mapping it inside a dictionary\n",
        "            replacements[invalid] = max_length_valid\n",
        "\n",
        "    #this will ensure that the ingredient that do have a match get replaced and the ones that don't remain the same\n",
        "    result = [replacements.get(ingredient, ingredient) for ingredient in ingredients_list]\n",
        "\n",
        "    return result"
      ],
      "metadata": {
        "id": "R0-rJCqmXQ39"
      },
      "execution_count": 8,
      "outputs": []
    },
    {
      "cell_type": "code",
      "source": [
        "#taking the function out for a spin on current global list of ingredients\n",
        "fixed_ingred = replace_invalid_strings(ingreds, pattern = r'[^a-zA-Z0-9_]+', valid_ingred = valid_ingreds_list0)\n",
        "\n",
        "#checking the number of ingredients that have an invalid character inside it\n",
        "invalid_pattern = re.compile(r'[^a-zA-Z0-9_]+')\n",
        "invalid_ingreds_new = [i for i in fixed_ingred if invalid_pattern.search(i)]\n",
        "\n",
        "#printing the results\n",
        "print(f\"Invalid ingredients that can not be saved: \\n{set(invalid_ingreds_new)}\")\n",
        "print(f\"Number of unique unfixable invalid ingreds: {len(set(invalid_ingreds_new))}\")\n",
        "print(f\"Total number of unfixable invalid ingreds: {len(invalid_ingreds_new)}\")"
      ],
      "metadata": {
        "colab": {
          "base_uri": "https://localhost:8080/"
        },
        "id": "MI5S-7D8Z_U5",
        "outputId": "c050266f-f996-4f40-9073-258bfd1be323"
      },
      "execution_count": 9,
      "outputs": [
        {
          "output_type": "stream",
          "name": "stdout",
          "text": [
            "Invalid ingredients that can not be saved: \n",
            "{'chicory_powder_(optional', '8_oz_(about_225g)_chow_mein', 'lady’s_finger', '_and_cut_into_1-inch_pieces', 'mloukhiyeah(the_leaf)', 'peri-peri', 'jalapeños', 'ingredients:\\nfor_the_filling:\\n2_boneless', 'namkeen_(indian_savory)', 'for_a_hint_of_sweetness)', \"kellogg's_chocos\", 'blue_berry’s'}\n",
            "Number of unique unfixable invalid ingreds: 12\n",
            "Total number of unfixable invalid ingreds: 15\n"
          ]
        }
      ]
    },
    {
      "cell_type": "markdown",
      "source": [
        "I am honestly glad that 'lady's_finger' wasn't \"saved\" or \"fixed\"."
      ],
      "metadata": {
        "id": "bdJNqSoRfich"
      }
    },
    {
      "cell_type": "markdown",
      "source": [
        "Now let's implement it to the Ingredients column in our dataset to try and reduce dimension using feature engineering."
      ],
      "metadata": {
        "id": "rT7p-SZaWul_"
      }
    },
    {
      "cell_type": "code",
      "source": [
        "#changing ingredients with unwanted charaters (that is, anything other than numbers, alphabets and underscores) with ones that don't have it\n",
        "MLENDYD_df1[\"Ingredients\"] = [\",\".join(replace_invalid_strings(ingred_str.split(\",\"), pattern = r'[^a-zA-Z0-9_]+', valid_ingred = valid_ingreds_list0)) for ingred_str in MLENDYD_df1.Ingredients]"
      ],
      "metadata": {
        "id": "RKlF2sRfcYQg"
      },
      "execution_count": 10,
      "outputs": []
    },
    {
      "cell_type": "markdown",
      "source": [
        "There is a flaw in the above feature engineering method, some of these \"unfixable\" ingredients may have more than one unique match, that is, two different ingredients, in which case my function would only consider one ingredient of longest length.<br>\n",
        "For example: 'chicken_drumstick_stock' might only get matched with drumstick instead of stock which should have been the main term here. But '2_red_chilli' would accurately get matched with red_chilli instead of just chilli.<br>\n",
        "It is a tradeoff."
      ],
      "metadata": {
        "id": "X5PcwyogbU6f"
      }
    },
    {
      "cell_type": "markdown",
      "source": [
        "Let's now consider ingredients that are unusually long, these would be the ingredients with 3 or more underscores, that is, 4 or more words."
      ],
      "metadata": {
        "id": "cndel729XLgw"
      }
    },
    {
      "cell_type": "code",
      "source": [
        "#using regex to filter ingredients\n",
        "long_pattern = re.compile(r'(?:.*_){3,}')\n",
        "\n",
        "#new list of ingreds after updation\n",
        "ingreds = [i for j in [i.split(\",\") for i in MLENDYD_df1.Ingredients] for i in j if i != \"\"]\n",
        "\n",
        "#extracting ingredients that are longer than 4 words\n",
        "long_ingreds = [i for i in ingreds if long_pattern.search(i)]\n",
        "short_ingreds = [i for i in ingreds if i not in long_ingreds] #we can use this later when replaceing long ingredients\n",
        "\n",
        "#printing the results\n",
        "print(f'Ingredients with three or more underscores: {len(set(long_ingreds))}\\n', long_ingreds, \"\\n\")\n",
        "print(f'Ingredients with two or fewer underscores: {len(set(short_ingreds))}\\n', short_ingreds)"
      ],
      "metadata": {
        "colab": {
          "base_uri": "https://localhost:8080/"
        },
        "id": "0JZa8mDHPPmM",
        "outputId": "8f3aa8b7-2aa3-4fd3-e0dc-1862062ad033"
      },
      "execution_count": 11,
      "outputs": [
        {
          "output_type": "stream",
          "name": "stdout",
          "text": [
            "Ingredients with three or more underscores: 160\n",
            " ['chopped_fresh_coriander_leaves', 'lamb_or_goat_or_beef_mince', 'honey_and_garlic_sauce', 'white_long_grain_rice', 'mustard_and_cumin_seeds', 'ginger_and_garlic_paste', '1_teaspoon_coriander_powder', '_washed_and_drained', '2_tablespoons_vegetable_oil', '1_teaspoon_cumin_seeds', '1_teaspoon_coriander_powder', 'fresh_coriander_leaves_for_garnish', 'peri_peri_extra_hot_chicken', 'mint_leaves_and_oil', 'corriander_powder_and_oil', 'scrambled_eggs_mushrooms_and_chicken', 'paste_of_chickpea_flor', 'chopped_fresh_coriander_leaves', 'lemon_and_herb_peri_sauce', 'fresh_coriander_leaves_for_garnish', '2_tablespoons_vegetable_oil', '1_teaspoon_cumin_seeds', '1_teaspoon_coriander_powder', '_fresh_or_frozen', '1_teaspoon_garam_masala', 'fresh_coriander_leaves_for_garnish', 'refined_flour_and_indian_spices', 'almond_milk_or_any_preferred_milk', 'other_greens_like_fenugreek_leaves', 'tikka_masala_and_rice', 'chicken_with_a_spiced_tomato_and_butter', 'black_pepper_olive_oil', 'ginger_and_garlic_paste', 'heritage_tomato_panzella_salad', 'kolhapuri_red_chilli_powder', 'tomato_sauce_and_oil', '1_teaspoon_red_chili_powder', 'lamb_or_goat_mince', 'lamb_or_goat_meat', 'sesame_oil_and_tortilla', 'olive_oil_black_pepper', 'corriander_powder_and_oil', 'corriander_powder_and_oil', 'cumin_and_chilli_powder', '1_teaspoon_cumin_seeds', '1_teaspoon_coriander_powder', 'grilled_chicken_leg_and_breast', 'corriander_powder_and_oil', 'red_food_colouring_paste', 'white_wine_vinegar_or_lemon', '_soaked_overnight_and_drained', '1_teaspoon_cumin_seeds', '1_teaspoon_turmeric_powder', '1_teaspoon_cumin_powder', '1_teaspoon_coriander_powder', '1_teaspoon_garam_masala', 'fresh_coriander_leaves_for_garnish', '1_small_red_onion', 'chopped_fresh_coriander_leaves', 'coriander_and_mint_chutney', 'battered_cod_fish_fillet', 'tamrind_and_date_sauce', 'maida_and_indian_spices', 'tomato_and_peri_ketchup', 'cadbury_dairy_milk_chocolate', 'dairy_milk_hot_chocolate_powder', 'corriander_powder_and_oil', '1_teaspoon_tea_leaves_or_a_tea_bag', '2_tablespoons_vegetable_oil', '1_teaspoon_cumin_seeds', '1_teaspoon_coriander_powder', '1_teaspoon_red_chili_powder', '1_teaspoon_garam_masala', 'coriander_powder_and_salt', 'tumeric_powder_and_oil', 'red_onion_and_rice', 'corriander_powder_and_oil', '1_teaspoon_coriander_powder', '2_tablespoons_vegetable_oil', 'lamb_or_goat_meat', 'whole_wheat_bread_and_jam', 'fresh_coriander_leaves_for_garnish', 'brown_rice_with_herbs', 'meet_with_butter_and_garlic', 'shredded_vegetables_such_as_cabbage', '1_tablespoon_ghee_or_vegetable_oil', 'a_pinch_of_salt', 'rice_urad_dal_batter', 'ginger_and_garlic_paste', 'milk_and_protein_syrup', 'finely_onions_and_tomatoes', 'rice_with_meet_and_middle_eastern_spices', 'roasted_chicken_leg_with_olive_oil', 'green_and_red_capsicum', 'peppers_and_indian_spices', 'green_and_red_peppers', 'fresh_coriander_leaves_for_garnish', 'soy_sauce_or_tamari', 'sunflower_oil_and_rice', 'oil_for_deep_frying', 'broccoli_and_spice_powder', 'dried_evaporated_milk_solids', 'wheat_flour_roti_and_yogurt', 'turmeric_and_red_chilli_powder', 'corn_on_the_cob', 'chilly_oil_and_pizza_base', 'lamb_or_goat_meat', 'sunflower_oil_and_spices', 'sesame_oil_and_tortilla', 'cooked_short_penne_pasta', 'extra_virgin_olive_oil', 'peanuts_and_sunflower_oil', '_rice_flour_batter', 'green_onion_sesame_oil', 'lamb_or_goat_mince', 'quorn_chicken_and_quorn_sausages', 'corriander_powder_and_oil', '1_teaspoon_red_chili_powder', '1_teaspoon_ground_coriander', '1_teaspoon_garam_masala', 'fresh_coriander_leaves_for_garnish', '1_cup_basmati_rice', 'corriander_powder_and_oil', 'peri_peri_flavoured_chicken', 'fresh_coriander_leaves_for_garnish', 'freshly_grated_parmesan_cheese', 'green_and_red_peppers', 'lemon_and_parsley_mayonnaise', 'sesame_oil_and_yogurt', 'mustard_and_curry_leaves', 'ginger_and_garlic_paste', 'salt_and_cooking_oil', 'grilled_chicken_leg_and_breast', 'peri_peri_chicken_pieces', 'mozzarella_fior_di_latte', 'roasted_peppers_and_onions', 'split_black_gram_lentils', 'kolhapuri_red_chilli_powder', 'tumeric_powder_and_sunflower_oil', 'combine_the_mashed_potatoes', 'amchur_or_lemon_juice', 'chocolate_chips_and_vanilla_essence', 'ginger_and_garlic_paste', 'paste_of_rice_and_black_gram', 'finely_chopped_green_chilli', 'feta_cheese_and_olive_oil', 'ginger_and_garlic_paste', 'vietnamese_spring_roll_skin', 'chicken_breast_with_peri_peri_sauce', 'with_spicy_rife_and_mashed_potato_with_butter', 'corriander_powder_and_oil', 'split_pigeon_pea_lentils', 'garlic_paste_ginger_paste', 'kashmiri_dry_red_chilli', 'kashmiri_red_chili_powder', 'garlic_and_herbs_sauce', 'kashmiri_red_chilli_powder', 'boiled_and_smashed_potatoes', 'corriander_powder_and_oil', 'fresh_coriander_leaves_for_garnish', 'vegetable_mix_masala_powder', 'onion_and_tikka_masala', 'split_black_gram_lentils', '2_tablespoons_of_yogurt', '1_teaspoon_of_turmeric_powder', '1_teaspoon_of_cumin_powder', '1_teaspoon_of_coriander_powder', '2_tablespoons_of_cooking_oil', 'dry_red_chilli_and_served_with_potato_curry', 'turmeric_red_chili_powder', 'all_types_of_fruits', 'ginger_and_garlic_paste', '1_teaspoon_coriander_powder', '1_teaspoon_coriander_powder', 'soft_slider_bread_rolls', 'red_and_green_peppers', 'sliced_almond_or_cashews', 'lotus_spread_and_bread', 'chopped_tomatoes_and_onions', 'green_chillies_and_coriander_leaves', 'split_pigeon_pea_lentils', '1_teaspoon_coriander_powder', 'full_fat_soft_cheese', 'rice_urad_dal_batter', 'black_gram_bean_flour', 'fried_gram_flour_balls', 'red_buffalo_hot_sauce', 'sesame_oil_and_tortilla', 'kolhapuri_red_chilli_powder', 'cooked_piri_piri_chicken', 'for_a_hint_of_sweetness)', 'beef_patty_with_lettuce_cheddar_cheese__barbecue_sauce_fries_on_the_side_with_ketchup_salt_and_pepper', 'lamb_or_goat_meat', '1_teaspoon_coriander_powder', '1_cup_basmati_rice', 'low_fat_cheddar_cheese', '_peeled_and_cubed', '1_teaspoon_cumin_seeds', '1_teaspoon_cumin_powder', '1_teaspoon_coriander_powder', 'fresh_coriander_leaves_for_garnish', 'spice_powder_and_ghee', '1_teaspoon_cumin_seeds', '1_teaspoon_cumin_powder', '1_teaspoon_coriander_powder', 'fresh_coriander_leaves_for_garnish', '_sugar_snaps_peas', 'ginger_and_garlic_chopped', '8_oz_(about_225g)_chow_mein', '2_tablespoons_vegetable_oil', '1_red_bell_pepper', '1_green_bell_pepper', '1_cup_broccoli_florets', '1_cup_snap_peas', '1_cup_bok_choy', '2_tablespoons_hoisin_sauce', '1_tablespoon_sesame_oil', '1_teaspoon_cumin_seeds', '1_teaspoon_coriander_powder', 'meat_sausage_and_pastry', 'ginger_and_garlic_paste', 'bise_bele_bath_masala', 'buldak_sesamee_seed_and_seaweed_mix', 'peanut_butter_and_apple', 'wheat_flour_and_indian_spices', 'ginger_and_garlic_paste', 'ribeye_steak_with_garlic_sauce', 'mixed_salad_and_bread', '1_red_bell_pepper', '1_green_bell_pepper', '1_teaspoon_coriander_powder', '1_teaspoon_coriander_powder', 'corriander_powder_and_oil', 'red_and_green_chilies', 'tomato_and_basil_sauce', 'salt_and_pepper_to_taste', '_and_cut_into_1-inch_pieces', '2_tablespoons_vegetable_oil', '1_teaspoon_cumin_seeds', '1_teaspoon_coriander_powder', 'fresh_coriander_leaves_for_garnish', 'split_yellow_mung_beans', '1_cup_basmati_rice', '1_teaspoon_cumin_seeds', '1_small_cinnamon_stick', 'turmeric_and_red_chilli_powder'] \n",
            "\n",
            "Ingredients with two or fewer underscores: 2315\n",
            " ['eggs', 'bacon', 'hash_brown', 'tomato', 'bread', 'tomato', 'baked_beans', 'sugar', 'water', 'khoya', 'milk', 'salt', 'oil', 'cardamon', 'ghee', 'chicken', 'lemon', 'turmeric', 'garam_masala', 'coriander_powder', 'salt', 'onions', 'gelatine_leaf', 'dark_chocolate', 'milk_chocolate', 'egg_yolk', 'double_cream', 'unsalted_butter', 'caster_sugar', 'cocoa_powder', 'water', 'icing_sugar', 'whole_eggs', 'plain_flour', 'lemon_juice', 'chicken', 'cheese', 'mayonnaise', 'salt', 'red_chilli_powder', 'indian_flat_bread', 'egg_and_water', 'potatoes', 'tomatoes', 'green_bell_peppers', 'onions', 'green_peas', 'cauliflower', 'butter', 'pav_bhaji_seasoning', 'red_chilli_powder', 'turmeric_powder', 'salt', 'oil', 'bread_rolls', 'lemon_wedges', 'salmon', 'sunflower_oil', 'rice', 'spices', 'herbs', 'chicken', 'crushed_pepper_powder', 'onion', 'garlic_paste', 'coriander_powder', 'salt', 'coconut_oil', 'curry_leaves', 'noodles', 'eggs', 'split_pigeon_peas', '_chopped', 'mixed_vegetables', 'beans', 'drumsticks', 'pumpkin', 'etc', 'green_chilies', '_turmeric_powder', 'mutton', 'rice', 'onion', 'tomato', 'red_chilli_powder', 'salt', 'sunflower_oil', 'rice', 'beetroot', 'salt', 'spices', 'rice', 'chicken', 'biryani_masala', 'yogurt', 'oil', 'green_chilli', 'lemon', 'dried_plums', 'bottleguard', 'onion', 'ginger_garlic_paste', 'rice', 'onion', 'chilli', 'tomato', 'oil', 'pickle', 'maggie_masala', 'cottage_cheese', 'butter', 'tomato', 'onion', 'spices', 'coriander', 'cumin_seeds', 'onions', 'garlic', 'ginger', 'tomato', 'green_chilli', 'red_chilli', 'black_pepper', 'turmeric', 'yoghurt', 'salt', 'cumin', 'coriander', 'clove', 'cinnamon', 'soy', 'fresh_lemon', 'rice', 'cauliflower', 'spices', 'ginger', 'garlic', 'chillies', 'pepper', 'minced_chicken', 'spices', 'bread_crumbs', 'oil', 'boiled_rice', 'chicken', 'sunflower_oil', 'chilli_powder', 'turmeric_powder', 'onion', 'tomato', 'salt', 'garam_masala', 'pepper_powder', 'green_chilli', 'coconut_milk', 'rice', 'moong_lentils', 'ghee', 'cumin_seeds', 'ginger', 'chicken', 'oil', 'bread_crumbs', 'flour', 'egg', 'rice', 'onion', 'carrot', 'red_bell_pepper', 'garlic', 'vegetable_oil', 'salt', 'pepper', 'coconut_milk', 'green_curry_paste', 'palm_sugar', 'fish_sauce', 'kaffir_lime_leaves', 'thai_basil', 'chicken', 'rice', 'noodles', 'water', 'salt', 'seasoning', 'bread', 'butter', 'egg', 'sugar', 'milk', 'banana', 'chicken', 'breading', 'flour', 'chilli_powder', 'garlic_powder', 'paprika_powder', 'pepper', 'salt', 'beetroot', 'lettuce', 'caulifower', 'green_chilli', 'tomato', 'tamarind', 'onion', 'tomato', 'spices', 'plain_wheat_flour', 'rice', 'sambhar_spices', 'chilli', 'tomato', 'channa_dal', 'chicken', 'naga_chilli_sauce', 'sesame_seeds', 'salt', 'pepper', 'beef_mince', 'tomato_sauce', 'ginger', 'garlic', 'onion', 'turmeric', 'green_chilli', 'red_chilli_powder', 'cumin', 'ghee', 'vegetable_oil', 'bay_leaf', 'green_gram', 'water', 'mozzarella_cheese', 'pepperoni', 'onions', 'olives', 'bell_pepers', 'oil', 'wheat_flour', 'chicken', 'millets', 'turmeric_powder', 'red_chilli_powder', 'oil', 'onion', 'ginger_garlic_paste', 'chicken_tikka', 'bun', 'cheese', 'onion', 'lettuce', 'pepper', 'sweet_onion', 'garlic_sauce', 'herb_sauce', 'chicken', 'eggs', 'soy_sauce', 'mirin', 'dashi', 'carrot', 'onion', 'steramed_rice', 'spanish', 'freshly_mint_leaves', 'salt', 'tomatoes', 'basil', 'pistachios', 'parmesan', 'garlic', 'olive_oil', 'black_pepper', 'casarecce_pasta', 'chicken', 'chickpeas', 'tahini', 'falafel', 'parsley', 'tomatoes', 'bulgur', 'olive_oil', 'bread', 'mincemeat', 'pastry', 'butter', 'rice', 'tamarind', 'tomato', 'indian_spices', 'greens', 'lamb', 'mushrooms', 'rice', 'yellow_lentils', 'chicken', 'egg', 'corn_floor', 'sesame_seeds', 'rice', 'potatoes', 'curry_sauce', 'tomato', 'flour', 'spices', 'papad', 'salt', 'bread', 'yoghurt', 'sausage', 'egg', 'green_olives', 'black_olives', 'feta', 'gouda', 'cucumber', 'tomatoes', 'mozzarella', 'mushrooms', 'carrots', 'salsa_sauce', 'chicken', 'bread', 'salt', 'pepper', 'coconut', 'sesame_seeds', 'peanuts', 'tamarind', 'spices', 'flatbread', 'onion', 'warm_spices', 'salt', 'flour', 'butter', 'brown_rice', 'broccoli_florets', 'tomato', 'onion', 'ginger', 'garlic', 'cilantro', 'salt', 'turmeric_powder', 'chilli_powder', 'coriander_powder', 'sunflower_oil', 'bread_flour', 'water', 'yeast', 'salt', 'vegetable_oil', 'tomato_sauce', 'mozzarella_cheese', 'egg', 'oil', 'spices', 'onion', 'noodle', 'bok_choy', 'garlic', 'ginger', 'salad_onion', 'dried_chilli_pepper', 'sunflower_oil', 'vegetable_oil', 'potato', 'tomato', 'onion', 'green_chilly', 'pepper', 'turmeric_powder', 'coriander_powder', 'garam_masala', 'salt', '2_tablespoons_oil', '_chopped', 'ginger', 'green_chilies', '2_large_tomatoes', 'fresh_coriander_leaves', 'chopped', 'for_garnish', 'water', 'sugar', '_tomatoes', 'gram_flour', 'curd', 'tumeric', 'oil', 'caraway', 'red_chilli_powder', 'coriander_leaves', 'green_chilli', 'salt', 'mozzarella_cheese', 'egg', 'corn_floor', 'bread', 'carrot', 'bell_pepper', 'onions', 'mayonnaise', 'chilli_flakes', 'origano', 'cheese', 'yoghurt', 'sugar', 'garlic', 'chili', 'cumin_seeds', 'curry_leaves', 'turmeric', 'rasam_powder', 'tamarind', 'onions', '_salt', 'curd', 'tomato', 'onion', 'chilli', 'salt', 'oats', 'honey', 'sunflower_seeds', 'cod_fillets', 'panko_bread_crumbs', 'onions', 'potatoes', 'bread', 'lettace', 'mayonaise', 'ketchup', 'salt', 'oil', 'lettuce', 'tomatos', 'feta_cheese', 'wheat_flour', 'potato', 'salt', 'oil', 'milk', 'sugar', 'wheat_flour', 'gram_flour', 'indian_spices', 'carom_seeds', 'curd', 'cheese', 'lentils', 'urad_dal', 'channa_dal', 'potatoes', 'egg', 'onion', 'salt', 'chilli_powder', 'sunflower_oil', 'bread', 'potato', 'tomato', 'onion', 'spices', 'potato_fries', 'beetroot', 'water', 'salt', 'sugar', 'yogurt', 'coconut_oil', 'mustard_seeds', 'dried_chili', 'curry_leaves', 'rice', 'carrot', 'peas', 'corn', 'chicken', 'cauliflower', 'bell_pepper', 'onion', 'sugar', 'mint', 'lemon', 'sago', 'peanuts', 'green_chillies', 'potatoes', 'oil', 'curry_leaves', 'cumin_seeds', 'salt', 'lemon_juice', 'curd', 'rice_flour', 'coconut', 'salt', 'green_gram', 'onion', 'ginger', 'turmeric_powder', 'green_chilli', 'tomatoes', 'onion', 'potatoes', 'red_chilly_powder', 'butter', 'cheese', 'flour', 'chicken_breast_meat', 'flour', 'cornstarch', 'salt', 'chicken_leg', 'chilly_powder', 'spices', 'salt', 'garlic_paste', 'cumin_powder', 'yoghurt', 'oil_or_butter', 'chicken_pieces', 'yogurt', 'garlic_paste', 'red_chili_powder', 'garam_masala', 'turmeric_powder', 'lemon_juice', 'cooking_oil', 'butter', 'onions', 'tomatoes', 'cashew_nuts', 'fresh_cream', 'dried_fenugreek_leaves', 'salt', 'water', 'water', 'salt', 'chicken', 'beef', 'lettuce', 'bread', 'sesame', 'batter', 'cheese', 'tortillas', 'lettuce', 'tomatoes', 'cheese', 'sour_cream', 'salsa', 'chickpeas', 'kidney_beans', 'refried_beans', 'refined_wheat_flour', 'salt', 'garlic', 'green_chilli', 'mustard_oil', 'milk', 'coffee_powder', 'water', 'bread', 'onion', 'capcicum', 'salt', 'butter', 'mushroom', 'eggs', 'milk', 'sugar', 'tea_leaves', 'water', 'ginger', 'cardamom', 'black_pepper', 'cloves', 'water', 'buns', 'beef', 'cheese', 'lettuce', 'ketchup', 'rice', 'tomato', 'rasam_powder', 'spices', 'peas', 'spinach', 'eggs', 'pasta', 'dal', 'rice', 'oil', 'onion', 'spices', 'pizza_dough', 'tomato_sauce', 'mozzarella_cheese', 'basil_leaves', 'olive_oil', 'garlic', 'etc', 'egg', 'rice', 'chilli_powder', 'onion', 'tomato', 'ginger_garlic_paste', 'choclate', 'milk', 'wheat', 'water', 'basmati_rice', 'salt', 'rice_flour', 'jaggery', 'sugar', 'plain_flour', 'vegetable_oil', 'salt', 'rice', 'pigeon_peas', 'salt', 'turmeric', 'radish_green_leaves', 'garlic', 'ginger', 'green_chili', 'carrot', 'cucumber', 'radish', 'bread', 'egg', 'indian_spices', 'salt', 'chocolate_chips', 'raisin', 'caster_sugar', 'baking_powder', 'vanilla_extract', 'cinnamon', 'egg', 'milk', 'plain_yoghurt', 'bananas', 'chicken_broth', 'onions', 'mushrooms', 'soya_sauce', 'boiled_eggs', 'salt', 'black_pepper', 'turmeric_powder', 'low_fat_butter', 'water', 'potatoes', 'olive_oil', 'salt', 'bun', 'lettuce', 'chicken_chops', 'french_fries', 'sloppy_joes', 'chicken_nuggets', 'chicken', 'cheese', 'pasta', 'potato', 'cabbage', 'spinach', 'cooked_rice', 'paneer', 'vegetables', 'thai_seasonings', '_beans', 'chicory_powder_(optional', 'tea', 'whole_milk', 'to_taste', 'water', 'yellow_lentils', '4_cups_water', '_turmeric_powder', 'salt', '_to_taste', 'mustard_seeds', 'fenugreek_seeds', 'red_chilies', '1_large_onion', '_finely_chopped', 'cloves_garlic', '_minced', 'ginger', '_grated', '2_tomatoes', '_finely_chopped', 'red_chili_powder', '_garam_masala', 'lemon_juice', '_for_serving', 'paratha', 'rice', 'tomato', 'potato', 'cuccumber', 'carrot', 'spices', 'gravy', 'chopped_onions', 'ginger_garlic_paste', 'fresh_chopped_potatos', 'termeric_powder', 'ghee', 'coriander_leaves', 'plain_flour', 'salt', 'yeast', 'oil', 'water', 'onions', 'cheese', 'peppers', 'green_chillis', 'mushrooms', 'sweetcorns', 'rice_flour', 'coconut', 'garlic', 'wings', 'peri_sauce', 'rice', 'salt', 'chicken_strips', 'rocket_lettuce', 'baby_tomatoes', 'balsamic_vinegar', 'chilli', 'rice', 'red_spinach', 'potato', 'cumin_seeds', 'salt', 'red_chilli_powder', 'sunflower_oil', 'salmon', 'avocado', 'eggs', '_bread', 'salmon', 'sushi_rice', 'rice_vinegar', 'wakame_seaweed', 'avocado', 'soy_sauce', 'wasabi', 'nori_seaweed', 'chive', '_chicken', 'olive_oil', 'salt', 'pepper', 'spices', 'lemon_juice', 'lamb_chop', 'black_pepper', 'sea_salt', 'oregano', 'smoke_paprika', 'olive_oil', 'tomato_paste', 'pepper_paste', 'chicken', 'onion', 'garlic', 'vegetable_oil', 'couscous', 'chilli_sauce', 'yoghurt_sauce', 'celery', 'scallops', 'urad_dal', 'salt', 'black_pepper', 'ginger', 'green_chilies', 'rice_flour', 'onions', 'coriander_leaves', 'vegetable_oil', 'rice', 'pork_chop', 'roasted_sweetcorn', 'gravy', 'salad', 'rice', 'eggs', 'tomato', 'onion', 'garlic', 'ginger', 'curd', 'water', 'lentils', 'olive_oil', 'spices', 'garlic', 'butter', 'green_vegs', 'curd', 'salt', 'semolina', 'water', 'baking_soda', 'coconut_oil', 'black_mustard_seeds', 'red_chili', 'curry_leaves', 'salt', 'garlic', 'lentils', 'olive_oil', 'spices', 'ginger', 'garlic', 'salt', 'onion', 'tomato', 'green_chilli', 'plain_wheat_flour', 'curry_paste', 'coconut_milk', 'salt', 'sugar', 'carrots', 'onions', 'cabbage', 'fish_fillets', 'rice', 'onion', 'tomato', 'ginger', 'garlic', 'turmeric_powder', 'chilli_powder', 'coriander_powder', 'garammasala_powder', 'greenchilli', 'macaroni_pasta', 'butter', '_flour', 'milk', 'salt', 'black_pepper', 'shredded_cheddar_cheese', 'rice', 'tamarind_paste', 'curry_leaves', 'mustard_seeds', 'peanuts', 'salt', 'sugar', 'lemon_rind', 'black_gram', 'puff_pastry', 'flour', 'sausage_meat', 'egg', 'all_purpose_floor', 'tomato', 'chilli', 'onions', 'spices', 'potatoes', 'tomato', 'chickpea', 'butternut_squash', 'spinach', 'olive_oil', 'onion', 'whole_wheat_penne', 'chicken', 'peri_peri_sauce', 'smoked_barbeque', 'salt', 'black_pepper', 'red_chilli_powder', 'rice', 'onion', 'chicken_breast', 'pepper', 'sweetcorn', 'paprika', 'garlic', 'olive_oil', 'cumin', 'chilli_powder', 'chicken_stock', 'rice', 'carrot', 'beans', 'coconut', 'onion', 'green_chilli', 'chilli_powder', 'turmeric_powder', 'chicken', 'all_purpose_flour', 'eggs', 'parsley', 'baking_soda', 'olive_oil', 'steamed_noodles', 'egg', 'vegetable_stock', 'salt', 'pepper', 'pasta', 'chicken', 'peas', 'cheese', 'corn', 'potatoes', 'coleslaw', 'eggs', 'bacon', 'hash_brown', 'tomato', '_avocado', 'bread', 'tomato', 'baked_beans', 'wheat', 'salt', 'potato', 'ginger', 'spinach', 'cumin_seeds', 'salt', 'turmeric_powder', 'chilli_powder', 'burger_bread', 'chicken_breast', 'cheddar_cheese', 'ketchup', 'mayonnaise', 'potato', 'salt', 'pepper', 'chicken', 'chips', 'cheese', 'bacon', 'buns', 'lettuce', 'tomato', 'egg', 'rice', 'onion', 'tomato', 'ginger_garlic_paste', 'spices', 'oil', 'rice_batter', 'tomato', 'onion', 'red_pepper', 'coriander', 'spice_mix', 'vegetable_oil', 'salt', 'cumin_seeds', 'chicken', 'vegetable_oil', 'onions', 'tomatoes', 'cayenne_chilli_powder', 'turmeric_powder', 'tandoori_masala', 'coriander_powder', 'chilli_flakes', 'salt', 'boiled_rice', 'potato', 'chilli_powder', 'ginger', 'garlic', 'turmeric_powder', 'salt', 'onion', 'sunflower_oil', 'green_chilli', 'flours', 'water', 'black_sesami', 'tagliatelle', 'peas', 'asparagus', 'butter', 'cream', 'parmesan_cheese', 'garlic', 'salt', 'black_pepper', 'lemon_juice', 'rice', 'coconut', 'coriander_leaves', 'fried_gram', 'ginger', 'green_chillies', 'cumin', 'oil', 'cashews', 'warm_spices', 'water', 'raw_rabodi', 'chicken', 'eggplant', 'soy_sauce', 'fried_garlic', 'onion', 'bell_peppers', 'green_chillis', 'white_rice', 'chicken', 'oil', 'all_purpose_flour', 'corn_flour', 'cooked_rice', 'salmon', 'sweet_teriyaki_sauce', 'avocado', 'crispy_onion', 'lettuce', 'salt', 'mayonnaise', 'bread', 'butter', 'ham', 'water', 'milk_powder', 'almond_powder', 'all_purpose_flour', 'ghee', 'curd', 'onions', 'ginger', 'chilli', 'pork_belly', 'chilli_bean_sauce', 'scallion', 'garlic', 'ginger', 'salt', 'onion', 'garlic_shoots', 'chilli', 'soybean_oil', 'chicken', 'green_beans', 'red_peppers', 'yellow_peppers', 'broccoli', 'spicy_ramen', 'flour', 'mozzarela_cheese', 'onion', 'mushroom', 'tomato', 'chicken', 'macaroni', 'king_prawns', 'double_cream', 'milk', 'flour', 'garlic', 'onion', 'lentil', 'onion', 'potato', 'carrot', 'oil', 'flour', 'eggs', 'sprouts', 'lamb', 'rice', 'salt', 'turmeric_powder', 'chilli_powder', 'ginger_paste', 'garlic_paste', 'onion', 'cumin_powder', 'coriander_powder', 'oil', 'flattened_rice', 'potato', 'tomato', 'onions', 'groundnuts', 'prawns', 'seasonings', 'bread', 'eggs', 'salt', 'pepper', 'black_beans', 'paprika', 'olive_oil', 'cous_cous', 'tomatoes', 'vergetable_stock', 'olives', 'red_onion', 'avocado', 'rocket', 'pesto', 'olive_oil', 'lemon', 'chicken_wings', 'vegetable_oil', 'garlic', 'salt', 'black_pepper', 'butter', 'hot_sauce', 'honey', 'eggs', 'butter', 'cottage_cheese', 'chives', 'bagel', 'nesquik_chocolate_cereal', 'milk_2_cups', 'chicken', 'flower', 'spices', 'rice', 'butter', 'peppers', 'buttermilk', 'salt', 'corn', 'lime', 'cucumber', 'lettuce', 'carrots', 'milk', 'sugar', 'clarified_butter', 'khoya', 'cardamom_powder', 'pistachios', 'raisins', 'saffron_strands', 'wheat', 'paneer', 'peas', 'spices', 'greek_yougurt', 'honey', 'banana', 'lettuce_banana', 'bread', 'cheese', 'pepperoni', 'tomato_puree', 'spices', 'salt', 'herbs', 'minced_chicken', 'breadcrumb', 'oil', 'butter', 'eggs', 'chicken_sausages', 'cucumber', 'cherry_tomato', 'totilla', 'salt', 'black_pepper', 'butter', 'potato', 'onion', 'turmeric_powder', 'chilli_powder', 'tomato', 'magic_masala', 'rapeseed_oil', 'salt', 'pepper', 'sausage', 'tomatoe', 'mushroom', 'bacon', 'ketchup', 'tomatoes', 'mashed_eggs', 'dried_red_chilli', 'soy_sauce', 'rice', 'onion', 'vegetable_oil', 'salt', 'vitamins', 'tomatoes', 'onion', 'celery', 'potato', 'vegetable_stock_cubes', 'water', 'bay_leaves', 'black_pepper', 'fennel_seeds', 'olive_oil', 'sour_dough_baguette', 'chicken', 'capsicum', 'onion', 'chilli_powder', 'garlic_paste', 'turmeric_powder', 'lemon', 'semolina', 'water', 'salt', 'mashed_potatoes', 'boiled_chickpeas', 'tamarind_chutney', 'coriander_chutney', 'chaats_masala', 'chopped_onions', 'tamarind_pulp', 'coriander', 'chili_powder', 'cumin_powder', 'black_salt', 'salt', 'water', 'garlic', 'chinese_cabbage', 'noodles', 'peppers', 'red_onion', 'beef', 'black_peppe', 'oyster_sauce', 'soy_sauce', 'of_corn_starch', 'minced_garlic', 'worcestershire_sauce', 'chicken', 'lettuce', 'red_cabbage', 'tomato', 'onion', 'yoghurt_sauce', 'spicy_sauce', 'turkish_bread', 'noodles', 'sauce_mix', 'beef_patty', 'cheese', 'bacon', 'mayo', 'chilli', 'lettuce', 'bun', 'rice', 'egg', 'chicken', 'oil', 'black_pepper', 'salt', 'cottage_cheese', 'vegetable_oil', 'onion', 'tomato', 'turmeric_powder', 'red_chilli_powder', 'dried_fenugreek_leaves', 'naan_bread', 'chicken', 'yoghurt', 'garlic', 'coriander', 'cumin', 'paprika', 'onion', 'lettuce', 'lemon', 'pickled_pepper', 'dosa_dough', 'oil', 'salt', 'bread_rolls', 'butter', 'potato', 'tomato', 'onion', 'cauliflower', 'carrot', 'broccoli', 'spices', 'butter', 'egg', 'salami', 'american_cheese', 'ham', 'chicken_breast', 'bagel', 'boneless_chicken_breast', 'flour', 'eggs', 'breadcrumbs', 'salt_and_pepper', 'vegetable_oil', 'carrots', 'potatoes', 'vegetable_oil', 'curry_powder', '_flour', 'chicken_stock', 'soy_sauce', 'honey', 'salt_and_pepper', 'pizza_crust', 'bbq_sauce', 'boneless_chicken', 'red_onions', 'cilantro', 'mozzarella_cheese', 'pepperoncini_peppers', 'rice', 'beef', 'purple_cabbage', 'banana', 'onion', 'corn', 'dried_shrimps', 'onions', 'tamato', 'ginger', 'garlic', 'oil', 'salt', 'water', 'buttermilk', 'turmeric', 'green_chilli', 'red_chilli_powder', 'cumin', 'bay_leaf', 'oil', 'chicken', 'yoghurt', 'onion', 'tomato', 'turmeric_powder', 'red_chilli_powder', 'dried_fenugreek_leaves', 'rice', 'lamb', 'paprika', 'lettuce', 'cabbage', 'cucumber', 'onion', 'tomato', 'green_chilli_sauce', 'beet_root', 'naan', 'chilli_mayonnaise', 'garlic_mayonnaise', 'salt_pepper', 'thick_soy_sauce', 'egg', 'olive_oil', 'soya_chunks', 'ketchup', 'chilli_sauce', 'soy_sauce', 'onion', 'capsicum', 'salt', 'pepper', 'oil', 'onion', 'capsicum', 'carrot', 'egg', 'soy_sauce', 'vinegar', 'salt', 'pepper', 'potato', 'cumin_seeds', 'wheat_flour', 'spiced_potatoes', 'onion', 'chilli', 'peas', 'coriander', 'mint', 'cumin_seeds', 'wheat_flour', 'olive_oil', 'bacon', 'garlic', 'eggs', 'pecorino_cheese', 'spaghetti', 'salt', 'pepper', 'curd', 'potato', 'onion', 'indian_spices', 'oil', 'gram_flour', 'raisins', 'powdered_sugar', 'ghee', 'bread', 'lettuce', 'tomatoes', 'chicken', 'mayonnaise', 'cucumber', 'salt', 'potato', 'plain_flour', 'eggs', 'breadcrums', 'oil', 'paneer', 'cashew', 'green_chillis', 'sugar', 'salt', 'turmeric', 'red_chilli_powder', 'cumin', 'growund_coriander', 'cardamon_powder', 'onion', 'garlic', 'ginger', 'garam_masala', 'almond', 'salmon', 'quinoa', 'cauliflower', 'rice', 'toor_dal', 'potato', 'yogurt', 'spices', 'aubergine', 'tomato', 'egg', 'onion', 'bread', 'haddock', 'potatoes', 'oil', 'flour', 'salt', 'peas', 'mayonnaise', 'onions', 'gram_flour', 'oil', 'salt', 'bean_sprouts', 'oyster_mushrooms', 'pork', 'shaoxing_wine', 'soy_sauce', 'oyster_sauce', 'sichuan_pepper', 'doubajiang', 'onion', 'rice', 'potato', 'cauliflower', 'berries', 'flour', 'egg', 'milk', 'sugar', 'baking_powder', 'potatoes', 'salt', 'cajun_seasoning', 'wheat_flour', 'ghee', 'mustard_oil', 'chilli_powder', 'garlic', 'onion', 'potato', 'turmeric_powder', 'salt', 'green_chilli', 'chicken', 'potato', 'peppers', 'green_beans', 'tumeric', 'onion', 'tomato_puree', 'eggs', 'onion', 'tomato', 'rapeseed_oil', 'chilli_powder', 'salt', 'pepper', 'tortilla', 'cooked_pasta', 'water', 'pork_chops', 'tomato', 'red_pepper', 'onion', 'olive_oil', 'red_chilli', 'salt', 'garlic_powder', 'potato', 'carrot', 'tomato', 'spinach', 'dried_methi_leaves', 'spices', 'rice', 'cabbage', 'beans', 'red_onion', 'coriander', 'carrot', 'bell_peppers', 'brocolli', 'garlic', 'spring_onion', 'brown_sugar', 'soy_sauce', 'ginger', 'vinegar', 'cornflour', 'honey', 'indian_paneer', 'chicken_breast', 'olive_oil', 'salt', 'pepper', 'spices', 'lemon_juice', 'rice', 'oil', 'coriander_leaves', 'neem_leaves', 'lemon', 'green_chilly', 'salt', 'paneer', 'onion', 'tomato', 'ginger_garlic_paste', 'oil', 'spices', 'onion', 'tomato', 'green_chilli', 'ginger_garlic_paste', 'cashew', 'carrot', 'peas', 'green_beans', 'sweet_corn', 'cauliflower', 'potato', 'red_chilli_powder', 'cumin_powder', 'all_purpose_flour', 'vegetable_oil', 'sugar_surup', 'condensed_milk', 'flour', 'pineapple', 'cheese', 'barbeque_sauce', 'chicken', 'onions', 'yeast', 'sugar', 'salt', 'oil', 'flour', 'sugar', 'strawberry', 'pitta', 'roasted_vegetables', 'falafel', 'mayo', 'mujadara', 'plain_flour', 'yeast', 'sugar', 'baking_powder', 'salt', 'warm_water', 'oil', 'onions', 'garlic', 'ginger', 'soy_sauce', 'rice_vinegar', 'tofu', 'cabbage', 'cucumber', 'peanuts', 'coriander', 'paneer', 'momos', 'minced_meat', 'flatbread', 'tomatoes', 'salt', 'cheese', 'tomato_ketchup', 'mustard', 'onion', 'dill_pickle_slice', 'beef_patty', 'lettuce', 'bun', 'fries', 'coke', 'bread', 'butter', 'bacon', 'brown_sauce', 'chicken', 'potato', 'batter', 'gravy', 'paneer', 'tomatoes', 'onions', 'spices', 'ginger_garlic_paste', 'oil', 'olive_oil', 'chicken_breast', 'rice', 'spicy_curry', 'onion', 'tomato', 'green_pepper', 'sauce', 'water', 'french_fries', 'king_crab', 'shrimp', 'lettuce', 'seaweed', 'penne_pasta', 'cheese', 'mince_beef', 'sweetcorn', 'carrots', 'broccoli', 'dolmio_bolognese_sauce', 'semolina', 'onions', 'green_chillies', 'coriander_leaves', 'oil', 'mustard_seeds', 'cumin_seeds', 'turmeric_powder', 'black_gram_lentils', 'curry_leaves', 'salt', 'water', 'lamb', 'bbq_sauce', 'naga_chilli_sauce', 'spring_onions', 'sesame_seeds', 'rolled_oat', 'rice', 'red_lentil', 'black_gram', 'chickpea', 'yellow_lentil', 'chicken', 'coriander', 'cumin_powder', 'mace', 'anise', 'nigella_seeds', 'green_chilli', 'onion', 'lemon', 'oil', 'flour', 'tomato', 'onion', 'capsicum', 'broccoli', 'potato', 'spices', 'salt', 'oil', 'white_flour_buns', 'sweet_corn', 'vegetable_stock', 'pepper', 'ginger', 'garlic', 'olive_oil', 'noodles', 'spices', 'salt', 'chilli_sause', 'chicken', 'cajun_seasoning', 'oats', 'yogurt', 'apple', 'honey', 'cinnamon', 'maple_syrup', 'maple_syrup', 'rice', 'almonds', 'grains', 'split_pigeon_peas', 'drumsticks', 'carrots', 'beans', 'eggplant', 'pumpkin', 'chopped', '_tomatoes', 'shallots', 'green_chilies', 'bread', 'garlic', 'olive_oil', 'tomatoes', 'basil', 'eggs', 'salt', 'chilli_powder', 'pepper', 'french_fries', 'bread', 'beef', 'cashews', 'warm_water', 'warm_water', 'cloves_garlic', 'green_chilies', '1_bay_leaf', 'green_cardamom', '_cinnamon_stick', 'cloves', '_turmeric_powder', 'red_chili_powder', 'salt_to_taste', 'fenugreek_leaves', '_chopped', 'green_peas', 'heavy_cream', 'noodle', 'chicken', 'milk', 'broken_rice', 'sugar', 'raisins', 'green_cardamom', 'crushed_almonds', 'coconut', 'pistachios', 'saffron', 'egg', 'maida', 'veggies', 'sauces', 'mayonnaise', 'pepper', 'tortilla_wrap', 'chicken', 'mexican_rice', 'lettuce', 'black_beans', 'sour_cream', 'salsa', 'red_pepper', 'rice', 'chicken_drumsticks', 'curry_sauce', 'peas', 'rice', 'wheat_flour', 'cauliflower', 'yellow_pigeon_peas', 'okra', 'red_chiili', 'garlic', 'masala', 'potatoes', 'coriander', 'green_chilli', 'bell_peppers', 'rice', 'green_gram_beans', 'lemon', 'curry_leaves', 'flour', 'yogurt', 'corn_flour', 'potato', 'baking_soda', 'chicken', 'oil', 'pepper', 'potato', 'rice', 'peas', 'egg', 'chicken', 'spring_onions', 'carrots', 'soya_sauce', 'green_chilli', 'corriander', 'oil', 'onion', 'cabbage', 'luncheon_meat', 'rice', 'nori', 'cucumber', 'carrot', 'avocado', 'wheat_flour', 'eggs', 'octopus', 'ginger', 'green_onion', 'salt', 'soy_sauce', 'vegetable_oil', 'takoyaki_sauce', 'mayonnaise', 'seaweed_flakes', 'dried_bonito_flakes', 'wheat', 'oil', 'water', 'salt', 'beans', 'red_chilli_powder', 'potatoes', 'asafoetida', 'sabji_masala', 'turmeric', 'mustard', 'curd', 'noodles', 'spinach', 'red_chilli', 'shrimp', 'seasoning', 'chilli_flakes', 'tortilla', 'horse_gram', 'garam_masala', 'onion', 'cabbage', 'tomato', 'carrot', 'brioche_bun', 'chicken_breast', 'bbq_sauce', 'cheese', 'onions', 'pickles', 'french_fries', 'ranch_sauce', 'raw_eggs', 'onion', 'tomato', 'chilli', 'red_chilli_powder', 'garam_masala', 'water', 'tamarind', 'mustard_seeds', 'cumins', 'oil', 'tomato_paste', 'salt', 'boiled_rice', 'chicken', 'onion', 'green_chilli', 'garam_masala', 'garlic', 'ginger', 'turmeric_powder', 'chilli_powder', 'salt', 'pepper', 'cardamom', 'clove', 'coconut_oil', 'rice_noodle', 'beef', 'chinese_leaves', 'green_onion', 'spinach', 'chicken', 'conchiglie_pasta', 'carrots', 'apple_cider_vinegar', 'tomato', 'cucmber', 'lemon_juice', 'olive_oil', 'arugula', 'tomato_puree', 'salt', 'red_onion', 'garlic_powder', 'chilli_powder', 'smoked_paprika', 'rice_flour', 'water', 'salt_to_taste', 'ghee', 'mutton', 'onions', 'tomatoes', 'garlic_paste', 'red_chili_powder', 'turmeric_powder', 'coriander_powder', 'garam_masala', 'cooking_oil', 'salt_to_taste', 'water', 'chicken', 'greek_yogurt', 'garam_masala', 'coriander_powder', 'ground_black_pepper', 'turmeric_powder', 'red_chilli_powder', 'salt', 'ginger_garlic_paste', 'fenugreek_leaves', 'lemon_juice', 'olive_oil', 'ghee', 'rava', 'onion', 'ginger', 'green_chilies', 'curry_leaves', 'salt', 'oil', 'all_purpose_floor', 'jalapeno', 'chilli_sauce', 'capsicum', 'olives', 'corn', 'cheese', 'sago', 'cumin_seeds', 'oil', 'coriander_leaves', 'roasted_peanut_powder', 'green_chilli', 'red_chilli_powder', 'salt', 'beef', 'onion', 'oil', 'garlic', 'ginger', 'tomatoes', 'yogurt', 'coriander_leaves', 'cream', 'spices', 'cinnamon', 'cardamom', 'taroleaves', 'dal', 'onion', 'turmeric', 'salt', 'oil', 'egg', 'ghee', 'slice_cheese', 'bread', 'grapes', 'chickpea_flour', 'jalapeno_pepper', 'onion', 'lemon', 'chilli_powder', 'potatoes', 'peas', 'cilantro', 'potato', 'beans', 'oils', 'spices', 'whole_wheat_flour', 'roasted_gram_flour', 'salt', 'carom_seeds', 'roasted_eggplants', 'roasted_tomatoes', 'roasted_potatoes', 'onions', 'green_chilies', 'garlic', 'ginger', 'mustard_oil', 'fresh_coriander_leaves', 'salt', 'dosa_batter', 'coconut', 'coriander_leaves', 'fried_gram', 'ginger', 'green_chillies', 'cumin', 'oil', 'pork', 'tuna', 'mayonnaise', 'toast_bread', 'wheetabix', 'milk', 'banana', 'egg', 'pepper', 'chilli_powder', 'salt', 'chilli', 'garam_masala', 'rice', 'onions', 'tomato', 'chicken', 'green_chili', 'carrot', 'chicken', 'tomatoes', 'green_chillies', 'coriander_powder', 'kasuri_methi', 'salt', 'red_pepper_powder', 'sunflower_oil', 'sweet_chilli_sauce', 'gochujang_style_paste', 'onion_juice', 'onion_powder', 'cayenne_chilli', 'tomato_powder', 'rice', 'garlic_puree', 'soy_sauce', 'chicken_breast', 'coconut', 'ginger', 'green_chilly', 'coriander_leaves', 'suji', 'masala_powder', 'salt', 'chillies', 'tomato', 'onions', 'potato', 'roast_duck', 'mapo_tofu', 'teppan_beef_rice', 'minced_lamb', 'spices', 'kale_leaves', 'avocado', 'banana', 'greek_yogurt', 'honey', 'chia_seeds', 'ice_cubes', 'potato', 'butter', 'whole_wheat_flour', 'water', 'salt', 'fresh_spinach', 'onion', 'garlic_and_ginger', 'green_chili', 'cumin_seeds', 'coriander_powder', 'turmeric', 'and_garam_masala', 'oil', 'salt', 'water', 'bread_slice', 'egg', 'oil', 'crushed_black_pepper', 'green_chili', 'onion', 'salt', 'rice', 'chicken', 'spices', 'onion', 'curd', 'chilli', 'ginger', 'garlic', 'coriander', 'tomato', 'salt', 'cooking_oil', 'oatmeal', 'oat_milk', 'honey', 'eggs', 'tomatoes', 'olive_oil', 'salt', 'pepper', 'chicken', 'salt', 'lemon', 'yogurt', 'chili_powder', 'garam_masala', 'turmeric', 'ginger', 'chicken', 'bacon', 'bread', 'spaghetti', 'mushroom', 'rice', 'roasted_cobette', 'pork', 'cooked_rice', 'vegetables', 'cooking_oil', 'protein', 'eggs', 'soy_sauce', 'salt_and_pepper', 'chilli_sauce', 'oyster_sauce', 'mirin', 'sesame_seeds', 'yellow_lentils', 'chopped', 'fresh_cilantro_leaves', 'rice', 'potato', 'minced_meat', 'cucember', 'tomato_paste', 'onion', 'tomato', 'mushroom', 'onions', 'tomato', 'oil', 'masalas', 'whole_wheat_flour', 'water', 'salt', 'oil', 'cheese_cottage', 'turmeric_powder', 'maggi_masala', 'onion', 'tomato', 'salt', 'yellow_lentil', 'onion', 'garlic_cloves', 'tomato', 'green_chilli', 'oil', 'salt', 'red_chilli_powder', 'grounded_turmeric', 'grounded_coriander', 'chapati', 'water', 'salt', 'chicken', 'beef_steak', 'dough', 'potatoes', 'mike', 'egg', 'chicken_thighs', 'peppers', 'bubble_squash', 'potatoes', 'rosemary', 'butter', 'water', 'cream', 'unsalted_butter', 'vegetable_oil', 'sugar', 'modified_corn_starch', '_tomato', 'spices', 'dried_onion', 'ginger', 'garlic', 'salt', 'chips', 'salt', 'egg', 'tomato', 'noodle', 'cabbage', 'chicken_thigh', 'rice', 'coriander', 'black_pepper', 'bay_leaf', 'cardamom', 'cinnamon_stick', 'green_chillies', 'onion', 'tomatoes', 'garlic_paste', 'oil', 'yogurt', 'whole_spices', 'salt', 'ground_spices', 'lemon', 'ghee', 'rice', 'turmeric', 'chicken_leg', 'salt', 'garlic_powder', 'onion_powder', 'smoked_paprika', 'potato', 'basil', 'carrots', 'zucchini', 'gram_flour', 'potatoes', 'salt', 'chilli', 'crabs', 'salt', 'vegetable_oil', 'fenugreek_leaves', 'toor_dal', 'asafoetida', 'mustard_seeds', 'cumin_seeds', 'yellow_lentils', 'tomato', 'onion', 'green_chilly', 'curry_leaves', 'pepper_powder', 'turmeric_powder', 'coriander_powder', 'garam_masala', 'salt', 'water', 'seabream', 'potatoes', 'salsa_verde', 'pinto_beans', 'sweet_potato', 'beef', 'cauliflower_rice', 'avocado', 'kale', 'tomato_paste', 'pasta', 'cheese', 'chilli', 'cucumber', 'minced_meat', 'bechamel', 'salmon', 'chicken', 'avocado', 'rice', 'mixed_herbs', 'garam_masala', 'chili_powder', 'turmeric', 'curry_powder', 'star_anise', 'cardamon', 'cloves', 'cinnamon_stick', 'oil', 'chicken', 'water', 'rice', 'tomato', 'onion', 'yogurt', 'cucumber', 'eggs', 'salt', 'oil', 'white_flour_buns', 'broccoli', 'carrots', 'snap_peas', 'bok_choy', 'mushrooms', 'onions', 'and_bean_sprouts', 'rice', 'lamb', 'curry_sauce', 'lettuce', 'cucumber', 'feta', 'tomatoes', 'olives', 'bread', 'honey', 'banana', 'wheat_flour', 'water', 'olive_oil', 'rice', 'vegetables', 'onion_tomato', 'coriander_leaf', 'pasta', 'cheese', 'milk', 'turmeric_powder', 'mix_spices', 'oregano', 'chilli_flakes', 'salt', 'rice', 'paneer', 'capsicum', 'onion', 'spices', 'salt', 'oil', 'rice', 'onion', 'vegetable_oil', 'salt', 'rice', 'lemon', 'chillies', 'spices', 'salt', 'oil', 'mustard', 'garlic', 'turmeric', 'salt', 'rice', 'bay_leaf', 'black_pepper', 'asafoetida', 'cardamom', 'cinnamon_cloves', 'coriander', 'star_anise', 'sesame_seeds', 'rice', 'pork', 'cabbage', 'bean_sprouts', 'espresso', 'tia_maria', 'amaretto', 'eggs', 'sugar', 'mascarpone', 'ladyfinger_biscuits', 'vanilla_ice_cream', 'beef', 'salad', 'olive_oil', 'butter', 'boiled_egg', 'tomato', 'onion', 'coriander_leaves', 'chilli_powder', 'tumeric', 'curry_leaves', 'mustard', 'roasted_wheat_roti', 'rice', 'green_chilli', 'oil', 'cumin_seeds', 'coriander', 'bay_leaves', 'peas', 'cloves', 'salt', 'chicken', 'cumin', 'turmeric', 'ginger', 'garlic', 'sunflower_oil', 'tomatoes', 'onions', 'red_chilli_powder', 'salt', 'turmeric', 'bell_peppers', 'rice', 'chicken_stock', 'tomato_puree', 'egg', 'salt', 'black_pepper', 'coconut_oil', 'brown_bread', 'rice', 'onion', 'vegetable_oil', 'salt', 'pepper', 'bbq_sauce', 'chicken', 'cabbage', 'spring_onion', 'ginder', 'garlic', 'corn_flour', 'maida', 'salt', 'black_pepper', 'soy_sauce', 'green_chilli', 'chilli_sauce', 'rice_flour', 'dal', 'coconut', 'pepper_corns', 'mustard_seeds', 'chicken_wings', 'salt', 'black_pepper', 'plain_flour', 'garlic_powder', 'mustard_powder', 'cayenne_pepper', 'flat_rice', 'onion', 'mustard_seed', 'tomato', 'green_chilli', 'salt', 'turmeric', 'red_chilli_powder', 'oil', 'bacon', 'eggs', 'bun', 'spinach', 'tomato', 'oil', 'green_chilli', 'garlic_cloves', 'salt', 'red_chilli_powder', 'wheat_flour', 'butter', 'rice', 'chicken', 'curd', 'onions', 'pepper', 'horsegram', 'cabbage', 'carrot', 'tomato', 'egg', 'green_pepper', 'thyme_herb', 'noodles', 'cooking_oil', 'onions', 'carrots', 'salt', 'chopped_coriander', 'water', 'chicken', 'rice', 'oil', 'chilli_powder', 'salt', 'turmeric', 'tomato', 'yogurt', 'barbecue_flavoured_chicken', 'tortilla_wraps', 'barbecue_sauce', 'lettuce', 'carrot', 'beetroot', 'lamb_chops', 'spices', 'pasta', 'pasta_sauce', 'cheese', 'garlic_bread', 'lamb_chunks', 'rice_and_potatos', 'bell_peppers', '2_tablespoons_oil', 'green_chilies', '2_large_tomatoes', 'fresh_coriander_leaves', 'chopped', 'basmati_rice', '2_tablespoons_ghee', 'cloves', 'green_cardamom', '_cinnamon_stick', '1_green_chili', '_carrot', 'potato', 'mixed_vegetables', 'bell_peppers', 'chicken_broth', 'fresh_coriander_leaves', 'chopped', 'for_garnish', 'rice', 'tomato', 'onion', 'garlic', 'olive_oil', 'prawn', 'mussel', 'basmati_rice', 'onions', 'garlic', 'ginger', 'tomato', 'green_chilli', 'red_chilli', 'black_pepper', 'turmeric', 'yodhurt', 'water', 'salt', 'vegetable_oil', 'cumin', 'coriander', 'green_cardamom', 'brown_cardamom', 'clove', 'cinnamon', 'soy', 'bay_leaves', 'food_colouring', 'cheese', 'bread', 'avocado', 'tomatoes', 'lemon_juice', 'chilli_flakes', 'butter', 'onions', 'garlic', 'ginger', 'tomato', 'green_chilli', 'red_chilli', 'black_pepper', 'turmeric', 'salt', 'yoghurt', 'water', 'vegetable_oil', 'paprika', 'cumin', 'coriander', 'brown_sugar', 'fennal', 'cinnamon', 'soy', 'boiled_eggs', 'ginger_garlic_paste', 'onions', 'salt', 'indian_spices', 'corriander_leaves', 'chicken', 'orzo', 'leeks', 'olive_oil', 'lemon_juice', 'lemon_zest', 'rice', 'yellow_daal', 'chicken', 'lettuce', 'tomatoes', 'cucumbers', 'salt', 'herbs', 'vinegar', 'garlic', 'onion', 'tumeric', 'chili_paste', 'clams', 'mussels', 'squid', 'tofu', 'olive_oil', 'ginger', 'garlic', 'tomato', 'onion', 'potato', 'carrot', 'peas', 'beans', 'lamb_mince', 'rice', 'pappadoms', 'avocado', 'bread', 'tomato', 'tuna', 'pesto', 'skimmed_milk', 'arabica_coffee', 'sugar', 'sodium_carbonate', 'brinjal', 'oil', 'rice', 'onion', 'spices', 'pepperoni', 'spicy_beef', 'mozzarella_cheese', 'tomato_sauce', 'pork_ham', 'bread', 'chicken', 'rice', 'plantain', 'mixed_herbs', 'wheat_flour', 'potato', 'spices', 'herbs', 'mint_chutney', 'yoghurt', 'mutton', 'onion', 'green_chillies', 'garam_masala', 'garlic_paste', 'cumin_powder', 'chilly_powder', 'salt', 'pepper', 'turmeric_powder', 'basmati_rice', 'spices', 'oil', 'rice_flour', 'cocunut_powder', 'salt', 'green_gram', 'turmeric_powder', 'chilli_powder', 'onion', 'tomato', 'green_chilli', 'coriander_powder', 'refined_wheat_flour', 'potato', 'onion', 'salt', 'refined_oil', 'peas', 'peanut', 'corriander', 'tamrind', 'water', 'butter', 'wheat', 'brown_rice', 'chicken', 'peanut_sauce', 'parsey', 'chili_powder', 'lime', 'chips', 'steak', 'tomato', 'onion', 'gravy', 'egg', 'onion', 'tomato', 'vegetable_oil', 'chillies', 'bread', 'indian_spices', 'red_kidney_beans', 'basmati_rice', 'garlic', 'ginger', 'green_chilli', 'coriander_powder', 'cumin_powder', 'ground_black_pepper', 'green_cardamom', 'black_cardamom', 'clove', 'sunflower_oil', 'ghee', 'tomato', 'onion', 'salt', 'water', 'brinjal', 'garam_masala', 'brinjal_bath_mix', 'chilli', 'chilli_powder', 'cumin_seeds', 'salt', 'rice', 'sponge_gourd', 'tomato', 'cumin_seeds', 'ginger', 'onion', 'salt', 'turmeric_powder', 'red_chilli_powder', 'coriander_powder', 'sunflower_oil', 'bolied_potato', 'oil', 'chopped_onions', 'ginger_garlic_paste', 'masals', 'spices', 'termeric_powder', 'chickpeas', 'cilantro', 'tahini_sauce', 'chilli_sauce', 'aubergines', 'tomatoes', 'lettuce', 'hummus', 'olive_oil', 'pickled_turnips', 'pickles', 'jalapenos', 'lettuce', 'cauliflower', 'olive_oil', 'lemon_juice', 'red_onion', 'parsley', 'dried_oregano', 'cherry_tomatoes', 'sweetcorn', 'garlic', 'red_wine_vinegar', 'lettuce', 'white_rice', 'bread', 'minced_beef', 'potato', 'carrot', 'oil', 'nori', 'vegetables', 'soy_sauce', 'sesame_seeds', 'dosa_dough', 'oil', 'salt', 'onions', 'tomato', 'chillies', 'green_peppers', 'rock_salt', 'olive_oil', 'white_focaccia', 'fried_chicken_breast', 'burger_bun', 'lettuce', 'mayonnaise', 'tomatoes', 'bread', 'scrambled_eggs', 'bacon', 'cherry_tomatoes', 'chicken', 'potato', 'solid_curry_raux', 'sunflower_oil', 'rice', 'dal', 'onion', 'carrot', 'brinjal', 'tomato', 'sambar_spice', 'red_chilli_powder', 'tumeric', 'oil', 'salt', 'herbs', 'fish', 'rice', 'chicken_breast', 'red_peppers', 'green_peppers', 'carrots', 'brussels_sprouts', 'rice', 'onion', 'tomato', 'turmeric_powder', 'red_chilli_powder', 'ghee', 'chicken', 'yoghurt', 'ginger_garlic_paste', 'red_lentil', 'spinach', 'tomato_puree', 'onion', 'garlic', 'olive_oil', 'black_pepper', 'salt', 'mixed_spice', 'chicken', 'basmati_rice', 'salt', 'chilli_powder', 'tumeric_powder', 'corriander_powder', 'garam_masala', 'ginger', 'garlic', 'onion', 'potatoes', 'flour', 'sugur', 'gee', 'oil', 'eggplant', 'potatoes', 'corriander', 'salt', 'pepper', 'oil', 'broccoli', 'sweet_potato', 'bean_sprouts', 'chicken', 'carrot', 'granola', 'yogurt', 'strawberry', 'mixed_berries', 'broccoli', 'tumeric_powder', 'black_pepper', 'chilly_powder', 'cucumber', 'chicken', 'flour', 'oil', 'potatoes', 'salt', 'pepper', 'hot_sauce', 'oreo', 'cheese', 'flour', 'pizza_crust', 'pizza_sauce', 'cooked_chicken', 'sliced_pepperoni', 'cherry_tomatoes', 'mozzarella_cheese', 'wheat_flour', 'salt', 'wheat_gluten', 'spices', 'dehydrated_vegetables', 'chicken', 'sunflower_oil', 'bread_crumbs', 'chilli_flakes', 'maida', 'egg', 'tomato_sauce', 'mayonaise', 'chicken_wings', 'black_pepper', 'plain_flour', 'garlic_powder', 'mustard_powder', 'cayenne_pepper', 'vegetable_oil', 'potato_chips', 'salt', 'chicken', 'mushroom', 'sweetcorn', 'bread', 'tomato', 'mozzarella_cheese', 'rice', 'pulliyogare_powder', 'spices', 'penne_pasta', 'mince_beef', 'sweetcorn', 'carrots', 'broccoli', 'dolmio_bolognese_sauce', 'chicken_wings', 'hot_sauce', 'scallions', 'mloukhiyeah(the_leaf)', 'lemon', 'garlic', 'olive_oil', 'salt', 'minced_meat', 'chicken', 'paprika', 'cayenne_pepper', 'garlic_powder', 'onion_powder', 'sugar', 'ginger', 'rice', 'dal', 'salt', 'spices', 'kidney_beans', 'onions', 'garlic', 'ghee', 'cumin', 'green_chilli', 'red_chilli_powder', 'turmeric', 'water', 'tomato', 'garam_masala', 'banana', 'blueberry', 'raspberry', 'cinnamon', 'honey', 'oat_milk', 'oats', 'egg', 'onion', 'ginger', 'garlic', 'red_chilly_powder', 'coconut', 'coriander_powder', 'salt', 'egg', 'rice_noodles', 'stinky_bamboo', 'peanuts', 'chilli_oil', 'green_bean', 'granola', 'yogurt', 'eggs', 'clams', 'rice_flour', 'gram_flour', 'red_chilli_powder', 'turmeric_powder', 'coriander_powder', 'cumin_powder', 'garlic_paste', 'tamarind_pulp', 'fresh_coconut', 'mustard_seeds', 'cumin_seeds', 'fenugreek_seeds', 'curry_leaves', 'asafoetida', 'oil', 'salt', 'oats', 'milk', 'apple', 'honey', 'avocado', 'sourdough_bread', 'eggs', 'butter', 'butter', 'cumin', 'bay_leaf', 'cinnamon', 'cardamom', 'cloves', 'pepper', 'onion', 'tomato', 'beans', 'peas', 'carrot', 'potato', 'salt', 'water', 'basmati_rice', 'bread', 'marinara_sauce', 'mozzarella', 'cheddar', 'flour', 'sugar', 'walnut', 'olive_oil', 'ginger', 'garlic', 'onion', 'tomato', 'parsley', 'paneer', 'wheat_flour', 'dough', 'cheese', 'tomato_sauce', 'tomatoes', 'broccolli', 'breaded_cod', 'fried_potatoes', 'wheat_flour', 'oil', 'water', 'kidney_beans', 'e_onions', 'tomato_puree', 'flour', 'partha', 'chilli', 'chicken', 'cauliflower', 'onions', 'tomatoes', 'ginger_garlic_paste', 'oil', 'salt', 'whole_spices', 'chillies', 'rice', 'chicken', 'rice', 'lettuce_leaves', 'ginger', 'garlic', 'biryani_mix', 'choclate', 'cocoa_mass', 'sugar', 'cocoa_butter', 'milk', 'skim_milk', 'flavouring', 'wheat_flour', 'water', 'tapioca_starch', 'wheat_gluten', 'rapeseed_oil', 'salt', 'cabbage', 'carrot', 'tofu', 'soya_beans', 'spring_onion', 'spinach', 'soy_sauce', 'rice_vinegar', 'mirin', 'konbu_extract', 'flour', 'olive_oil', 'burrata', 'mushrooms', 'truffles', 'truffle_oil', 'pesto', 'pasta', 'capsicum', 'onion', 'garlic', 'oil', 'salt', 'pepper', 'soy_sauce', 'chilli_sauce', 'cheese', 'gram_flour', 'chickpea_flour', 'salt', 'sugar', 'olive_oil', 'mustard_seeds', 'curry_leaves', 'green_chillies', 'baking_soda', 'water', 'oat', 'tomato', 'garlic', 'onion', 'basil', 'tomato_puree', 'coriander', 'salt', 'mixed_spice', 'dal', 'semolina', 'rice', 'fenugreek_seeds', 'chilli_powder', 'turmeric_powder', 'toasted_wheat_bread', 'melted_cheese', 'boiled_sweet_corn', 'butter', 'black_pepper_powder', 'chili_flakes', 'mashed_potatoes', 'onions', 'tomatoes', 'garlic_cloves', 'ginger', 'yogurt', 'turmeric_powder', 'red_chilli_powder', 'garam_masala', 'salt', 'coriander', 'spaghetti', 'tomato_sauce', 'basil', 'bacon', 'parmesan', 'butter', 'carrot', 'sugar', 'hamburger_bread', 'sausag', 'tomatoes', 'ketchap', 'chicken', 'tomatoes', 'cream_cheese', 'cheese', 'onions', 'pesto_sauce', 'pita_bread', 'prawn', 'cabbage', 'sweetcorn', 'chicken', 'peas', 'choclate', 'cocoa_mass', 'sugar', 'cocoa_butter', 'milk', 'skim_milk', 'flavouring', 'flattened_rice', 'green_peas', 'potato', 'tomato', 'onions', 'lettuce', 'seaweed', 'sesame_oil', 'ponzu_dressing', 'chicken', 'chilli', 'olive_oil', 'cumin', 'ginger_powder', 'salt', 'pepper', 'red_wine_vinegar', 'thyme', 'peri_peri_salt', 'yellow_pulse', 'wheat_flour', 'salt', 'wheat_flour', 'black_chickpeas', 'salt', 'turmeric', 'onion', 'garlic', 'ginger', 'oil', 'green_chilli', 'water', 'paneer', '_chillies', 'maida', 'capsicum', 'butter', 'spring_onions', 'soy_sauce', 'egg', 'rice', 'bean', 'vegetable_oil', 'cardamom_pods', 'red_chillies', 'onions', 'garlic_paste', 'lamb_mince', 'coriander', 'cumin_seeds', 'turmeric', 'lemon_juice', 'seer_fish', 'onion', 'mustard', 'tomato', 'curry_leaves', 'garlic', 'chilli_powder', 'tumeric', 'cooking_oil', 'potato', 'cumin', 'red_chilli_powder', 'sunflower_oil', 'carrot', 'cucumber', 'tortilla', 'salt', 'harissa_chicken', 'wheat_pasta', 'green_pesto', 'spinach', 'sauce', 'parmesan', 'mozzarella', 'cheddar', 'nutmeg', 'salt', 'black_pepper', 'cabbage', 'aubergine', 'miso', 'cooked_pasta', 'water', 'chicken', 'tomato', 'red_pepper', 'onion', 'olive_oil', 'red_chilli', 'salt', 'garlic_powder', 'lamb', 'bread', 'tomato', 'butter', 'yoghurt', 'pepper', 'cream_cheese', 'caster_sugar', 'double_cream', 'gelatine_leaf', 'passionfruit_puree', 'eggs', 'unsalted_butter', 'white_chocolate', 'pistacchio_paste', 'grounded_pistacchio', 'edible_viola_flowers', 'frozen_dried_passionfruit', 'rice', 'soy_sauce', 'vinegar', 'red_chilli_sauce', 'green_chilli_sauce', 'onion', 'capsicum', 'peas', 'coriander', 'salt', 'sunflower_oil', 'rice', 'chicken', 'spices', 'pepper', 'olive_oil', 'ginger', 'garlic', 'chicken', 'lime_juice', 'olive_oil', 'garlic', 'chili_powder', 'cumin', 'paprika', 'cayenne_pepper', 'black_pepper', 'fresh_cilantro', 'potatoes', 'salt', 'chicken_wings', 'cooking_oil', 'flour', 'pepper', 'wheat_flour', 'chicken', 'onion', 'tomato', 'yogurt', 'ginger', 'garlic', 'carrot', 'beans', 'green_chillies', 'chilli_powder', 'turmeric_powder', 'dal', 'rice', 'onions', 'green_chilli', 'masalas', 'chicken', 'onion', 'tomato', 'ginger_garlic_paste', 'chilli_powder', 'salt', 'chicken_masala', 'sunflower_oil', 'broccoli', 'shrimp', 'potatoes', 'fish', 'chicken', 'fish', 'pork', 'carrots', 'pasta', 'cucumber', 'salt', 'vinegar', 'chicken', 'butter', 'secret_sauce', 'corn', 'eggs', 'cornmeal', 'butter', 'sugar', 'salt', 'cheese', 'curd', 'onions', 'tamotoes', 'salt', 'egg', 'capsicum', 'onion', 'spices', 'oil', 'duck', 'chicken', 'pork', 'rice', 'pak_choi', 'garlic', 'chicken_wings', 'yogurt', 'garlic_paste', 'turmeric_powder', 'red_chili_powder', 'coriander_powder', 'garam_masala', 'salt', 'lemon_juice', 'cooking_oil', 'fenugreek_seeds', 'salt', 'water', 'fresh_mint_leaves', 'coriander_leaves', 'green_chilies', 'ginger', 'coconut_milk', 'salt', 'cooking_oil', 'curry_leaves', 'meat', 'cheese', 'pizza_sauce', 'pizza_base', 'flour', 'cheese', 'egg', 'mushroom', 'lettuce', 'red_pepper', 'olive_oil', 'lemon', 'french_fries', 'chicken', 'cucumbers', 'tomatoes', 'lettuce', 'shirataki_noodles', 'chili_paste', 'tomato_puree', 'salt', 'chilli_powder', 'onion_powder', 'chicken_drumstick', 'mackerel_fish', 'onions', 'tomatoes', 'garlic_paste', 'red_chilli_powder', 'turmeric_powder', 'coriander_powder', 'cumin_powder', 'garam_masala', 'tamarind_pulp', 'fresh_coconut', 'mustard_seeds', 'cumin_seeds', 'fenugreek_seeds', 'curry_leaves', 'asafoetida', 'oil', 'salt', 'potatoes', 'peas', 'onion', 'curry', 'beef_broth', 'miso_paste', 'chilli', 'olive_oil', 'salt', 'pepper', 'flat_bread', 'chicken_breasts', 'green_bell_pepper', 'onion', 'yogurt', 'red_chilli_powder', 'turmeric_powder', 'garam_masala', 'rice', 'chimichurri', 'sweet_potato_crisps', 'beef_steak', 'water', 'potato', 'rice', 'tomato', 'red_pepper', 'onion', 'olive_oil', 'red_chilli', 'salt', 'garlic_powder', 'rice', 'kidney_beans', 'spices', 'curry', 'chicken', 'potatoes', 'carrots', 'egg', 'cottage_cheese', 'carrot', 'corn', 'chilli_flakes', 'tomato_puree', 'salt', 'pepper', 'chicken', 'mozarella', 'cheddar', 'tomatoes', 'sweetcorn', 'peppers', 'chitpole_southwest_sauce', 'red_gram', 'cumin', 'tomato', 'onion', 'chilli_powder', 'salt', 'tamarind', 'asafoetida_powder', 'vegetable_oil', 'turmeric_powder', 'yeast', 'salt', 'bread_flour', 'water', 'olive_oil', 'garlic', 'tomatoes', 'cheese', 'sugar', 'maida', 'eggs', 'leeks', 'cheese', 'jalapenos', 'chicken', 'onions', 'spring_onions', 'sriracha', 'fries', 'basmati_rice', 'onions', 'oil', 'turmeric', 'cardamom', 'cloves', 'chicken', 'garlic', 'yogurt', 'green_chillies', 'ginger', 'lemonjuice', 'tomatoes', 'cashew_nuts', 'coriander', 'butter', 'bay_leaf_powder', 'pigeon_peas', 'tomato', 'onion', 'mustard_seeds', 'curry_leaves', 'salt', 'sugar', 'oil', 'red_chilli_powder', 'garlic', 'ginger', 'lotus_root', 'coriander', 'lemon_grass', 'leek', 'potato_starch', 'wheat_flour', 'egg', 'chilli_powder', 'sesame_oil', 'spring_onion', 'olive_oil', 'onion', 'celery', 'carrot', 'turmeric', 'smoked_paprika', 'paella_rice', 'tomatoes', 'spinach', 'butter_beans', 'stock_cube', 'lemon_juice', 'noodles', 'carrots', 'mushrooms', 'onions', 'cabbage', 'red_pepper', 'corn', 'chicken', 'salt', 'pepper', 'chowmein_sauce', 'soy_sauce', 'chicken_thigh', 'salad_onion', 'sunflower_oil', 'chilli_pepper', 'rice_flakes', 'tumeric_powder', 'green_chilli', 'chickpea_flour_noodles', 'onion', 'curry_leaves', 'caraway_seeds', 'oil', 'cumin_seeds', 'salt', 'rice', 'peas', 'veggies', 'garam_masala', 'turmeric_powder', 'chilli_powder', 'pressed_rice', 'spices', 'oil', 'onion', 'chillies', 'tomato', 'salt', 'green_grape', 'orange', 'apple', 'pear', 'wheat_flour', 'butter', 'water_potatoes', 'onion', 'green_chilli', 'salt', 'red_chilli_powder', 'sirloin', 'chunky_chips', 'vine_ripened_tomatoes', 'garlic_field_mushroom', 'sauce', 'lentils', 'turmeric', 'garlic', 'mustard_seeds', 'rice', 'oil', 'water', 'chickpea', 'salt', 'spices', 'cardamom', 'cumin_seeds', 'garlic_paste', 'tomato_puree', 'onions', 'green_chilli', 'ghee', 'bay_leaf', 'cinnamon', 'chicken_breast_fillets', 'rice', 'carrots', 'cauliflower', 'potato', 'chilli_powder', 'salt', 'turmeric', 'red_chilli', 'cumin_powder', 'oil', 'fenugreek', 'orange_juice', 'muelsi', 'flour', 'cheese', 'sweetcorn', 'mushroom', 'chicken', 'pizza_sauce', 'tomatoes', 'jalapeños', 'garlic', 'herbs', 'chicken', 'chicken', 'spices', 'chole_bhature', 'flour', 'butter', 'rice', 'boiled_eggs', 'onions', 'tomatoes', 'cinnamon', 'green_cardomom', 'bay_leaf', 'salt', 'chicken', 'spices', 'onion', 'ginger_garlic_paste', 'oil', 'white_rice', 'chicken', 'parmesan', 'lettuce', 'mixed_leaves', 'parsnip', 'egg', 'bacon', 'pea', 'chilli_pepper', 'pork', 'carrot', 'egg', 'pak_choi', 'garlic', 'chicken', 'cauliflower_couscous', 'red_pepper', 'houmous', 'gluten_sesame', 'barley_spinach', 'mushroom', 'soya_beans', 'bread', 'avocado', 'smoked_salmon', 'eggs', 'fish_fillets', 'garlic', 'chili', 'tamarind_sauce', 'sweet_basil', 'crusjed_nuts', 'rice_flour', 'cumin', 'mint', 'gram', 'tomato', 'onion', 'curd', 'pomegranate', 'tamarind', 'crab', 'moong_dal', 'sugar', 'ghee', 'milk', 'cardamom', 'cashews', 'pista', 'almond', 'wheat_flour', 'potatoes', 'peas', 'salt', 'water', 'chillies', 'oil', 'boiled_chickpeas', 'fresh_cilantro', 'parsley', 'green_chilies', 'garlic', 'cumin', 'coriander', 'lemon_juice', 'olive_oil', 'salt', 'herb_spices', 'wheat_flour', 'potato', 'onion', 'spices', 'beef', 'chicken', 'pepperoni', 'mozerrella', 'tomato_puree', 'bread', 'okra', 'paratha', 'onions', 'tomatoes', 'spices', 'salt', 'oil', 'red_chillies', 'ground_coriander', 'tamarind_juice', 'chicken', 'pork', 'fried_eggs', 'spicy_chills', 'soyabean_sauce', 'puffed_rice', 'garlic', 'onion', 'eggs', 'prawn', 'mushrooms', 'dashi', 'onion', 'breaded_chicken', 'tortilla_wraps', 'barbecue_sauce', 'lettuce', 'carrot', 'beetroot', 'rolled_oats', 'oat_milk', 'chia_seeds', 'honey', 'peanut_butter', 'almonds', 'walnuts', 'spinash', 'fenugreek', 'rice_dough', 'onion', 'ginger', 'lady_fingers', 'chicken', 'rice', 'spices', 'garlic', 'peppers', 'onion', 'mozzarella_cheese', 'halloumi_cheese', 'wheat', 'clarified_butter', 'potatoes', 'boiled', 'peeled', '_grated', 'green_chilies', 'fresh_coriander_leaves', 'lemon_juice', '_chicken', 'skinless_chicken_breasts', 'garlic_powder', '2_tablespoons_butter', 'to_taste', 'egg', 'noodle', 'beef', 'pea_flakes', 'pea_flour', 'salt', 'rice_flour', 'pepper', 'nutmeg', 'coriander', 'pimento', 'water', 'plain_flour', 'egg', 'milk', 'sugar', 'sunflower_oil', 'maple_syrup', 'mixed_pepper', 'spaghetti', 'chicken_breast', 'lemon_wedge', 'parsley', 'olive_oil', 'warm_spices', 'beef', 'chicken', 'rice', 'palm_oil', 'sunflower_oil', 'tomatoes', 'spinach', 'thyme', 'garlic', 'maggi', 'curry_powder', 'chilli_pepper', 'chicken_stock', 'salt', 'beef', 'curry_sauce', 'wrap', 'soy_sauce', 'chicken_breast', 'red_pepper', 'onions', 'bread', 'cheese', 'tomato_sauce', 'basil', 'nduja', 'garlic', 'lemon_juice', 'vegetable_oil', 'salt', 'rice', 'tomato', 'tomato_paste', 'pepper_powder', 'dry_indian_chilli', 'green_leaves', 'sabudana', 'peanuts', 'salt', 'potato', 'inian_spices', 'finger_millet_flour', 'water', 'salt', 'oil', 'peanuts', 'red_chili_powder', 'coriander_powder', 'garam_masala', 'mustard_seeds', 'cumin_seeds', 'ginger', 'tamarind', 'black_gram', 'okra', 'tomatoes', 'rice', 'chickpeas', 'onions', 'tomato', 'mustard', 'green_chillies', 'turmeric_powder', 'chicken_wings', 'garlic_powder', 'cinnamon', 'smoked_paprika', 'nutmeg', 'cayenne_pepper', 'dried_parsley', 'white', 'pepper', 'cumin', 'savory_herb', 'brown_sugar', 'red_lentils', 'oil', 'salt', 'onions', 'rice_crisps', 'onions', 'tomatoes', 'cilantro', 'lemon', 'chaat_masala', 'cucumber', 'raspberries', 'greek_yoghurt', 'shredded_coconut', 'almonds', 'pumpkin_seeds', 'nuts', 'honey', 'pitta_bread', 'chicken', 'onion', 'tomato', 'mayonnaise', 'leafy_vegetables', 'salt', 'egg', 'onion', 'tomato', 'salt', 'chilli_powder', 'ginger_garlic_paste', 'garam_masala', 'sunflower_oil', 'chick_peas', 'onions', 'garlic', 'ginger', 'tomato', 'green_chilli', 'red_chilli', 'black_pepper', 'turmeric', 'salt', 'vegetable_oil', 'cardamom', 'clove', 'cinnamon', 'brown_sugar', 'coriander', 'chicken', 'beef', 'fried_garlic', 'olive_oil', 'basmati_rice', 'ghee', 'masoor', 'asafoetida', 'cumin_seed', 'turmeric', 'onion', 'garlic', 'chicken', 'courgette', 'carrot', 'celery', 'rice', 'prawns', 'chilli_powder', 'corn_flour', 'pepper_powder', 'onion', 'salt', 'butter', 'caster_sugar', 'vanilla_bean_paste', 'egg', 'sunflower_oil', 'dark_chocolate', 'plain_flour', 'baking_powder', 'baking_soda', 'unsweetened_cocoa_powder', 'single_cream', 'whole_milk', 'ground_almonds', 'muesli', 'apple', 'blueberries', 'strawberries', 'soy_milk', 'honey', 'almonds', 'raisins', 'pumpkin_seed', 'black_chickpeas', '2_tablespoons_oil', '1_large_onion', '_finely_chopped', '2_tomatoes', '_finely_chopped', '_garlic', '_minced', 'ginger', '_minced', 'green_chilies', '_finely_chopped', 'red_chili_powder', 'salt_to_taste', 'white_rice', 'cumin_seeds', 'turmeric', 'salt', 'red_chili_powder', 'pineapple', 'blueberries', 'carrot', 'mange_tout', 'baby_bell', 'cooked_chapati', 'beans', 'olive_oil', 'salt', 'water', 'onion', 'tomato', 'chilli', 'pepper', 'lentils_soup', 'rice', 'rose', 'eggs', 'sugar', 'cake_flour', 'baking_powder', 'butter', 'cream', 'vanilla_extract', 'salt', 'etc', 'egg', 'onion', 'tomato', 'salt', 'chilli_powder', 'ginger_garlic_paste', 'garam_masala', 'sunflower_oil', 'potatoes', 'olive_oil', 'garlic_powder', 'onion_powder', 'smoked_paprika', 'pepper', 'salt', 'brinjal', 'onion', 'tomato', 'spices', 'olive_oil', 'wheat_flour', 'boiled_chickpeas', 'potatoes', '_finely_chopped', '1_large_tomato', '_finely_chopped', '_finely_chopped', 'tamarind_chutney', 'roasted_cumin_powder', 'red_chili_powder', 'chaat_masala', 'salt_to_taste', 'garnish_with_tofu', 'beef', 'bread', 'tomato', 'lettuce', 'pickles', 'onion', 'mayonnaise', 'rice', 'chicken', 'tomato_sauce', 'onion', 'potatoes', 'spinach', 'yogurt', 'noodles', 'miso', 'seaweed', 'pork', 'baby_spinach', 'cottage_cheese', 'spices', 'onion', 'tomato', 'ginger_garlic_paste', 'wheat_flour', 'gram_flour', 'sugar', 'salt', 'milk', 'mustard_oil', 'water', 'semi_skimmed_milk', 'oreo_cereal', 'vegetable_oil', 'rice', 'onion', 'cucumber', 'lettuce', 'carrot', 'choclate', 'cocoa_mass', 'sugar', 'cocoa_butter', 'milk', 'skim_milk', 'flavouring', 'puffed_rice', 'onion', 'tomato', 'coriander', 'chilli', 'chilli_sauce', 'lemon', 'onion', 'bell_peppers', 'green_chillis', 'chicken', 'oil', 'all_purpose_flour', 'corn_flour', 'ginger_garlic_paste', 'rice', 'wheat_flour', 'pigeon_peas', 'turmeric', 'salt', 'water', 'brinjal', 'mustard_oil', 'garlic', 'green_chilies', 'turmeric', 'carrot', 'onion', 'oxtail', 'onions', 'tomatos', 'garlic', 'ginger', 'scotch_bonnet', 'pimento', 'thyme', 'seasoning', 'butter_beans', 'dumplings', 'rice', 'squash', 'carrots', 'bread', 'cheese', 'mince', 'tomatoes', 'green_peppers', 'sliced_toast', 'penanut_butter', 'caramel_syrup', 'coriander_seeds', 'channa_dal', 'urad_dal', 'cumin', 'methi', 'sesame_seeds', 'vegetable_oil', 'red_chillies', 'curry_leaves', 'turmeric', 'toor_dal', 'ghee', 'white_rice', 'onions', 'tomatoes', 'salt', 'tamarind', 'chilli_powder', 'carrot', 'beans', 'okra', 'chicken_breasts', 'lemon', 'lettuce', 'rigatoni_pasta', 'egg_yolk', 'guanciale', 'pecorino', 'black_pepper', 'butter', 'flour', 'sugar', 'salt', 'yeast', 'milk', 'potato', 'wheat_flour', 'salt', 'green_chilli', 'onion', 'cabbage', 'brocolli', 'spinach', 'ghee', 'garlic', 'lemon', 'cottage_cheese', 'tomato', 'onion', 'cashew_nut', 'garlic_paste', 'butter', 'oil', 'red_chilli_powder', 'tumeric_powder', 'coriander_powder', 'fresh_cream', 'all_purpose_flour', 'salt', 'muffins', 'sausage_patty', 'cheese', 'egg', 'pancakes', 'potatoes', 'semolina', 'green_peas', 'onion', 'peanuts', 'mustard_seeds', 'olive_oil', 'green_chillies', 'salt', 'water', 'macaroni', 'nutritional_yeast_flakes', 'garlic', 'dried_tomatoes', 'paprika_powder', 'oregano', 'onion_powder', 'rice', 'egg', 'soya_sauce', 'chilli_sauce', 'tomato_sauce', 'cumin', 'sunflower_oil', 'black_pepper_powder', 'carrot', 'chilli', 'beans', 'onion', 'pepperoni', 'cheese', 'tomato', 'wheat', 'lamb_lever', 'gnocchi', 'tomato_sauce', 'bacon', 'sausages', 'eggs', 'oatcake', 'butter', 'roasted_chana_dal', '_turmeric_powder', 'to_taste', 'red_chili_powder', 'chickpeas', 'sunflower_oil', 'onions', 'cumin_seeds', 'ginger', 'garlic_cloves', 'curry_powder', 'tomato_sauce', 'coriander', 'basmati_rice', 'salt', 'red_chilli_powder', 'water', 'salt', 'garam_masala', 'milk', 'whole_chicken', 'peri_sauce', 'olive_oil', 'lemon_juice', 'salt', 'black_pepper', 'garlic_bread', 'french_bread', 'butter', 'garlic', 'potatoes', 'spice', 'olive_oil', 'salt_and_pepper', 'gram_flour', 'semolina', 'yogurt', 'ginger_paste', 'green_chilli_paste', 'turmeric_powder', 'lemon_juice', 'sugar', 'baking_soda', 'salt', 'water', 'mustard_seeds', 'curry_leaves', 'asafoetida', 'cooking_oil', 'eggs', 'salt', 'spices', 'oil', 'onion', 'bread', 'tomato', 'bacon', 'lettuce', 'avocado', 'chicken', 'bread', 'tomato', 'pesto', 'paneer', 'bell_peppers', 'onions', 'chili_sauce', 'tomato', 'egg', 'boiled_rice', 'tomato', 'onion', 'garlic', 'coriander_leaves', 'chilli_powder', '_turmeric_powder', 'salt', 'bay_leaves', 'sunflower_oil', 'pepper', 'cardamom', 'clove', 'lemon', 'eggs', 'salt', 'pepper', 'butter', 'semolina', 'spices', 'vegetables', 'sprouts', 'tomato', 'onion', 'green_chilli', 'tortilla', 'mango_pickle', 'sunflower_oil', 'salt', 'red_chilli_powder', 'spice_mix', 'cauliflower', 'tomato', 'shallots', 'salt', 'oil', 'mustard_seeds', 'cumin', 'asafoetida', 'tofu', 'shiitake_mushroom', 'salt', 'soy_sauce', 'amontillado_sherry', 'olive_oil', 'egg', 'spinach', 'olive_oil', 'salt', 'rice', 'kebab', 'garlic_bread', 'mixed_spices', 'dal', 'rice', 'sambar_powder', 'chilli_powder', 'tamarind', 'turmeric_powder', 'wheat', 'mushrooms', 'mixed_peppers', 'red_onion', 'tomato', 'tomato_sauce', 'cheese', 'chicken_thigh', 'spaghetti', 'tomato', 'coriander', 'red_pepper', 'green_pepper', 'garlic', 'wheat', 'yeast', 'choc_chips', 'egg', 'sugar', 'beef_ribs', 'potato', 'beans', 'wheat_flour', 'vegetables', 'turmeric_powder', 'coriander_leaves', 'salt', 'cumin_seeds', 'ghee', 'olive_oil', 'water', 'mix_spices', 'milk', 'chotolate', 'vanilla', 'sugar', 'cream', 'rice', 'egg', 'onion', 'tomato', 'green_chilli', 'ginger', 'garlic', 'chilli_powder', 'turmeric_powder', 'chickpeas', '_soaked_overnight', 'water', 'salt_to_taste', '1_large_onion', '_finely_chopped', '_garlic', '_minced', 'ginger', '_grated', 'green_chilies', '_slit', '2_large_tomatoes', '_finely_chopped', '_turmeric_powder', 'amchur', 'salt_to_taste', 'almond', 'butter', 'milk', 'egg', 'paneer', 'onion', 'bell_pepers', 'chillies', 'warm_spices', 'salt', 'beef_patty', 'bun', 'breaded_onion', 'bbq_sauce', 'chilli_sauce', 'lettuce', 'tomato', 'cheddar', 'potato', 'oil', 'cabbage', 'carrots', 'cucumber', 'lime', 'mushroom', 'onion', 'tomato', 'ginger_garlic_paste', 'chilli_powder', 'green_chilli', 'salt', 'garam_masala', 'tortilla', 'sunflower_oil', 'lettuce', 'cucmber', 'carrot', 'shrimp', 'corn', 'wheat_flour', 'lady_finger', 'oil', 'spices', 'milk', 'tea_leaves', 'sugar', 'carrot', 'cabbage', 'capsicum', 'corn_flour', 'ginger', 'garlic', 'soy_sauce', 'chilli_sauce', 'salt', 'pepper', 'bagel', 'eggs', 'salt', 'pepper', 'nutritional_yeast', 'ketchup', 'melon', 'pineapple', 'orange', 'weetabix', 'milk', 'honey', 'ice_cream', 'cherry', 'chocolate', 'cone', 'egg', 'chestnut_flour', 'olive_oil', 'greek_yogurt', 'strawberries', 'kefir', 'eggs', 'rice', 'lemon', 'creme_fraiche', 'pomegranate', 'seeds', 'cauliflower', 'green_curry', 'potato', 'chicken', 'rice', 'lamb', 'spices', 'chilly_powder', 'tomato', 'onion', 'sunflower_oil', 'apple', 'milk', 'all_purpose_flour', 'sugar', 'vanilla_flavour', 'eggs', 'butter', 'salt', 'bread', 'chicken', 'lettuce', 'mayonnaise', 'potato', 'bread_bun', 'chicken', 'cheese', 'tomato', 'lettuce', 'onion', 'bbq_sauce', 'semolina', 'clarified_butter', 'sugar', 'water', 'milk', 'cardamom_powder', 'cashews', 'raisins', 'saffron_strands', 'sliced_almonds', 'whole_chicken', 'bbq_sauce', 'minced_garlic', 'lemon_juice', 'worcestershire_sauce', 'yellow_mustard', 'salt', 'red_kidney_beans', 'onions', 'tomatoes', 'vegetable_oil', '_canola_oil', 'ghee', 'garlic', 'ginger', 'green_chilies', 'cumin_seeds', 'ground_coriander', 'ground_cumin', 'turmeric_powder', 'garam_masala', 'red_chili_powder', 'salt', 'fresh_cilantro_leaves', 'water', 'rice', 'peas', 'carrots', 'ghee', 'moong_dal', 'onion', 'green_chilli', 'garlic', 'tomato', 'potatoes', 'boiled_peas', 'bread_crumbs', 'green_chilies', 'ginger', 'garam_masala', 'red_chili_powder', 'cilantro', 'salt', 'cooking_oil', 'rice_flakes', 'carrot', 'onion', 'ginger', 'green_peas', 'french_beans', 'peanuts', 'raisins', 'burger_buns', 'veggie_patties', 'lettuce', 'tomatoes', 'onions', 'pickles', 'cheese', 'condiments', 'spices', 'cooking_oil', 'jealepones', 'mushrooms', 'salt', 'cooking_oil', 'paprika', 'garlic', 'extra_seasoning', 'yoghurt', 'tomato_paste', 'lemons', 'garlic', 'spices', 'chicken_thighs', 'pepper', 'onion', 'cucumber', 'lettuce', 'carrot', 'naan_bread', 'butter', 'pearl_millet_flour', 'fenugreek_leaves', 'red_chilli', 'coriander', 'sesame_seeds', 'yogurt', 'lamb', 'rice', 'butter', 'spices', 'white_roll', 'butter', 'red_leicester', 'bread', 'green_peas', 'potato', 'tomato', 'spices', 'chickpeas', 'onion', 'green_chillies', 'coriander', 'ginger', 'garlic', 'lemon_juice', 'chicken', 'chili_sauce', 'rice', 'pulses', 'cumin_seeds', 'turmeric_powder', 'coriander_powder', 'buns', 'beef', 'cheese', 'grilled_onion', 'pickles', 'tomatoes', 'lettuce', 'mushrooms', 'chickpea', 'onion', 'tomato', 'indian_spices', 'ginger', 'garlic', 'wheat', 'chicken_soup', 'mushrooms', 'onions', 'garlic_cloves', 'butter', 'olive_oil', 'salt', 'white_pepper_powder', 'cream', 'bread', 'cheese', 'etc', 'fried_chicken_breast', 'lettuce', 'ketchup', 'sesame_seed_bun', 'mayonnaise', 'fried_potatoes', 'fried_chicken_wings', 'skinless_chicken_thighs', 'masala_spice_mix', 'lemon_juice', 'cumin', 'coriander', 'turmeric', 'paprika', 'pepper', 'chopped_cilantro_leaves', 'lemon_wedges', 'chicken_wings', 'potato', 'peanut_oil', 'coriander', 'salt', 'water', 'ramen_powder', 'salt', 'black_pepper', 'onion', 'mushroom', 'green_onion', 'carrot', 'rice', 'onions', 'coriander_leaves', 'mint_leaves', 'green_chillies', 'garlic_paste', 'black_pepper', 'bay_leaf', 'cardamom', 'cumin_seeds', 'cinnamon_stick', 'cloves', 'oil', 'salt', 'turmeric_powder', 'water', 'kebab', 'chicken_wings', 'egg', 'butter', 'salt', 'onion', 'bread', 'chicken', 'rice', 'water', 'salt_to_taste', 'chicken_pieces', 'onions', 'tomatoes', 'garlic_paste', 'red_chili_powder', 'turmeric_powder', 'coriander_powder', 'garam_masala', 'cooking_oil', 'salt_to_taste', 'water', 'flattened_rice', 'oil', 'mustard_seeds', 'cumin_seeds', 'green_chillies', 'onion', 'potatoes', 'peas', 'salt', 'sugar', 'lemon_juice', 'cilantro', 'curry_leaves', 'chicken_breast', 'olive_oil', 'garlic', 'thyme', 'oregano', 'salt', 'black_pepper', 'lemon', 'garlic_bread', 'butter', 'rice', 'beans', 'water', 'tomato', 'red_pepper', 'onion', 'olive_oil', 'red_chilli', 'salt', 'garlic_powder', 'potato', 'tumeric_powder', 'cumin_seeds', 'oil', 'red_chilli_powder', 'coriander_powder', 'salt', 'jalapeno_chillies', 'cream_cheese', 'mozarella_cheese', 'oil', 'king_prawn', 'mushroom', 'carrot', 'chinese_leaves', 'onion', 'hoisin_sauce', 'bread', 'peanut_butter', 'jam', 'shredded_coconut', 'almonds', 'seeds', 'rice', 'red_lentils', 'spinach', 'vegetable_oil', 'curry_powder', 'onions', 'tomato_paste', 'plain_flour', 'cornflour', 'lemon_juice', 'yogurt', 'turmeric', 'ghee', 'baking_powder', 'bicarbonate_soda', 'lemon_juice', 'green_cardamon_powder', 'saffron', 'castor_sugar', 'vegetable_oil', 'pistachios', 'parotta', 'chicken', 'spices', 'oil', 'carrot', 'onion', 'grilled_chicken_leg', 'fried_potatoes', 'salami', 'oregano', 'mayonnaise', 'cheese', 'fries', 'chillies', 'bbq_sauce', 'spicy_mayo', 'fresh_milk', 'streptococcus_thermophilus', 'lactobacillus_bulgaricus', 'salt', 'unsalted_butter', 'granulated_sugar', 'eggs', 'vanilla', 'extract_milk', 'tomato', 'eggs', 'ham', 'noodles', 'rice', 'pomegranate', 'aubergine', 'mixed_salad', 'beef', 'beef_soup', 'noodle', 'cabbage', 'pak_choi', 'lamb', 'rice', 'lamb_letuce', 'mushroom_sauce', 'vanilla', 'caremel', 'red_velvate_powder', 'choco_powder', 'cadbury_bar', 'chocolate_syrup', 'cream', 'dry_fruits', 'olive_oil', 'beef_steaks', 'vegetables', 'spicy_curry', 'onion', 'tomato', 'green_pepper', 'sauce', 'water', 'milk', 'garlic_powder', 'potatoes', 'tomatoes', 'onions', 'green_bell_peppers', 'peas', 'carrots', 'butter', 'garlic', 'ginger', 'red_chilli_powder', 'turmeric', 'salt', 'lemon_juice', 'pav', 'dal', 'rice', 'fenugreek_seeds', 'potato', 'onion', 'green_chilli', 'coconut', 'red_chilli', 'mustard', 'curry_leaves', 'chilli_powder', 'turmeric_powder', 'rice', 'beef_slices', 'porret', 'chilli', 'oil', 'etc', 'mushroom', 'onion', 'tomato', 'turmeric_powder', 'red_chilli_powder', 'dried_fenugreek_leaves', 'rice', 'milk', 'clarified_butter', 'almonds', 'cashews', 'raisins', 'salmon', 'green_peas', 'fried_onion', 'rice', 'sriracha_mayo', 'prawns', 'rice_peanut_oil', 'soy_sauce', 'eggs', 'garlic', 'onions', 'toor_dal', 'rice', 'mixed_vegetables', '_beans', '_peas', 'tamarind', 'water', 'oil_or_ghee', 'mustard_seeds', 'cumin_seeds', 'urad_dal', 'chana_dal', 'red_chilies', 'curry_leaves', 'asafoetida', 'turmeric_powder', 'sambar_powder', 'jaggery', 'salt', 'ghee', 'macaroni', 'butter', 'flour', 'milk', 'cheddar_cheese', 'breadcrumbs', 'chicken', 'potatoes', 'curry_powder', 'udon', 'egg', 'salt', 'pepper', 'butter', 'oregano', 'cauliflower', 'potatoes', '1_large_onion', '2_tomatoes', 'cloves_garlic', 'ginger', 'green_chilies', 'fresh_coriander_leaves', 'chopped', 'vegetable', 'onion', 'green_chili', 'red_chili_powder', 'garlic_paste', 'garam_masala', 'egg', 'olive_oil', 'salt', 'onion', 'tomato', 'black_pepper', 'rice', 'olive_oil', 'cheese', 'chilli_flakes', 'turmeric_powder', 'salt', 'chicken_thigh', 'salad_onion', 'sunflower_oil', 'peppercorn', 'halloumi', 'garlic', 'protobello_mushroom', 'dried_rosemary', 'potatoesl_tomatos', 'cheese', 'burger_buns', 'wild_rocket', 'pesto', 'balsamic_vinegar', 'chicken', 'onion', 'biryani_masala', 'yoghurt', 'beef', 'carrot', 'potato', 'onion', 'cabbage', 'tomato', 'golden_mushroom', 'egg', 'spring_onion', 'oil', 'eggs', 'red_bell_pepper', 'yellow_bell_pepper', 'soy_sauce', 'salt', 'rice', 'chicken', 'tomato', 'onion', 'yogurt', 'mint', 'coriander', 'biryani_spice', 'egg', 'rice', 'salt', 'onion', 'spices', 'oil', 'rice', 'baby_chickpea', 'onions', 'tomatoes', 'garlic_paste', 'red_chili_powder', 'turmeric_powder', 'coriander_powder', 'garam_masala', 'cooking_oil', 'salt', 'water', 'moong_dal', 'cucumber', 'tomatoes', 'onions', 'green_chilies', 'fresh_coriander_leaves', 'lemon_juice', 'salt', 'cumin_powder', 'chaat_masala', 'fish_filet_portion', 'bun', 'ketchup', 'cheddar_cheese_slice', 'wheat', 'mixed_lentils', 'onions', 'garlic', 'ginger', 'tomato', 'green_chilli', 'red_chilli', 'black_pepper', 'turmeric', 'salt', 'water', 'vegetable_oil', 'paprika', 'cumin', 'coriander', 'green_cardamom', 'brown_cardamom', 'clove', 'cinnamon', 'soy', 'bay_leaves', 'fresh_lemon', 'rice_cake', 'pork', 'tomato', 'mashroom', 'chinese_leaves', 'salt', 'garlic', 'rice', 'seaweed', 'salmon', 'black_sesame_seeds', 'pickles', 'kidney_beans', 'oil', 'spices', 'wheat_flour', 'salt', 'water', 'egg', 'oil', 'spices', 'salt', 'ham', 'eggs', 'cheese_slices', 'toast', 'noodles', 'chicken', 'green_onion', 'red_chili_oil', 'sesame_oil', 'miso_broth', 'minced_meat', 'pastry', 'beef', 'ox_tripe', 'spring_onion', 'peanuts', 'sesame_seeds', 'sesame_oil', 'garlic', 'peppercorn', 'bay_leaf', 'lennel_seeds', 'vinegar', 'sot_sause', 'dark_sause', 'sugar', 'vegetable_oil', 'chicken', 'egg', 'breadcrumbs', 'buttermilk', 'salt', 'oil', 'chickpea', 'chilli_powder', 'turmeric', 'cumin_powder', 'coriander_powder', 'tomato', 'onion', 'lemon', 'ginger', 'oil', 'semolina_flour', 'curry_leaves', 'green_chilli', 'oil', 'onion', 'caraway_seeds', 'coriander_leaves', 'salt', 'raddish', 'lettuce', 'basil_pesto', 'greek_yogurt', 'cucumber', 'onion', 'pepper', 'garlic', 'rice', 'chicken', 'wheat_flour', 'chole', 'whole_wheat_flour', 'salt', 'sunflower_oil', 'water', 'potato', 'red_chilli_powder', 'coriander_powder', 'cumin_powder', 'ghee', 'chicken', 'tikka_masala', 'bananas', 'cauliflower_florets', 'peeled', '2_tomatoes', '_chopped', 'ginger', 'green_chilies', 'rice', 'oil', 'corn', 'carrot', 'spices', 'salt', 'chicken', 'indian_spices', 'grated_coconut', 'ginger', 'garlic', 'red_chili_powder', 'salt', 'lamb', 'salt', 'soy_sauce', 'pepper', 'cooking_wine', 'green_onion', 'pepper_water', 'shrimp', 'chives', 'scallion_oil', 'oyster_sauce', 'flour', 'chicken_ribs', 'salt', 'black_pepper', 'olive_oil', 'parsley', 'cheese', 'cottage_cheese', 'onion', 'tomato', 'garlic_paste', 'red_chilli_powder', 'tumeric_powder', 'coriander_powder', 'warming_spice', 'rice', 'oil', 'salt', 'yogurt', 'phulki', 'bell_pepper', 'imlee_sauce', 'onions', 'chaat_masala', 'warming_spices', 'basmati_rice', 'bay_leaf', 'green_cardamom', 'cinnamon_stick', 'salt', 'sorrel_leaves_paste', 'large_onion', 'tomatoes', 'yogurt', 'ginger_garlic_paste', 'turmeric_powder', 'red_chilli_powder', 'ghee', 'carrots', 'onions', 'salt', 'black_pepper', 'sesame_oil', 'cooking_oil', 'spring_roll_wrappers', 'corn_starch', 'water', 'soy_sauce', 'rice_vinegar', 'chili_sauce', 'garlic_paste', 'rice', 'tomato', 'curry_sauce', 'potato', 'egg', 'onion', 'olive_oil', 'salt', 'boneless_chicken_breast', 'tikka_masala', 'vegetable_oil', 'pizza_dough', 'pizza_sauce', 'shredded_mozzarella_cheese', 'red_onion', 'bell_pepper', 'olive_oil', 'brown_sprout', 'potato', 'tomato', 'garlic', 'curry_leaves', 'onions', 'turmeric_powder', 'salt', 'basmati_rice', 'olive_oil', 'wheat_flour', 'gooseberry', 'green_chilli', 'spices', 'pork_ribs', 'sesame_seeds', 'scallion', 'sugar', 'salt', 'soy_sauce', 'pigeon_pea', 'salt', 'sunflower_oil', 'turmeric_powder', 'water', 'rice', 'red_chilli_powder', 'salmon', 'patatoes', 'onion', 'pepper', 'chicken', 'flour', 'oil', 'potato', 'tomato', 'basil', 'buffalo_mozzarella', 'radiatori_pasta', 'olive_oil', 'rice', 'tamarind_pulp', 'mustard_seeds', 'split_chickpeas', 'split_black_gram', 'peanuts', 'curry_leaves', 'red_chillies', 'salt', 'ivy_gourd', 'onions', 'tomatoes', 'pork', 'tuna', 'egg', 'oil', 'spices', 'salt', 'spring_onion', 'noodles', 'spices', 'whole_wheat_flour', 'water', '_as_needed', 'chicken_drumsticks', 'onions', 'tomatoes', 'green_chilies', 'garlic_paste', 'curry_leaves', 'coriander_leaves', 'red_chili_powder', 'turmeric_powder', 'cumin_powder', 'mustard_seeds', 'fennel_seeds', 'garam_masala', 'salt', 'cooking_oil', 'grains', 'corn', 'sugar', 'bananas', 'yogurt', 'beef', 'potato', 'salt', 'soy_sauce', 'oyster_sauce', 'pepper', 'oil', 'salmon', 'soba_noodles', 'teriyaki_sauce', 'curry_oil', 'mangetout', 'bok_choy', 'red_onion', 'spring_onion', 'chilli', 'beansprouts', 'sesame_seeds', 'rice', 'bitter_gourd', 'onions', 'tomato', 'oil', 'egg', 'chicken', 'lettuce', 'mayo', 'flour', 'moong_dal', 'salt', 'turmeric', 'indian_spices', 'corriander_leaves', 'rice', 'pork_sausage', 'eggs', 'potato', 'oil', 'salt', 'chopped_onion', 'capsicum', 'coriander', 'oil', 'samosa_pads', 'minced_chicken', 'salt', 'lettuce', 'carrots', 'pepper', 'chilli_powder', 'turmeric', 'oil', 'chicken_breast', 'oil', 'spices', 'salt', 'rice', 'salt', 'turmeric', 'coriander_powder', 'onion', 'tomato', 'cabbage', 'lemon', 'oil', 'coriander', 'lemon', 'white_rice', 'vegetable_oil', 'soya_chunks', 'mustard_seeds', 'cumin_seeds', 'tomato', 'onion', 'red_chilli_powder', 'turmeric_powder', 'coriander_powder', 'garam_masala', 'salt', 'water', 'basmati_rice', 'ghee', 'cloves', 'onions', 'yogurt', 'cornflour', 'beans', 'anise', 'butter', 'coconut', 'cashew_nuts', 'green_chilllies', 'ginger', 'coriander_leaves', 'prosciutto', 'feta_cheese', 'mixed_greens', 'cherry_tomatoes', 'balsamic_vinegar', 'olive_oil', 'chicken', 'flour', 'lettuce', 'corn', 'mayonnaise', 'tomato', 'onion', 'pepper', 'tomato', 'onion', 'spices', 'olive_oil', 'yoghurt', 'garlic', 'parsley', 'pizza_dough', 'mozzarella', 'tomato_sauce', 'olive_oil', 'basil', 'oats', 'semolina', 'oil_or_ghee', 'mustard_seeds', 'black_gram', 'bengal_gram', 'curry_leaves', 'onions', 'green_chilies', 'ginger', 'mixed_vegetable', 'water', 'salt', 'turmeric_powder', 'lemon_juice', 'fresh_coriander_leaves', 'potato', 'oil', 'chicken', 'butter', 'garlic', 'ginger', 'mint', 'curd', 'lemon', 'chilli_powder', 'whole_wheat_flour', 'salt', 'potatoes', 'boiled', 'peeled', '_onion', 'green_chilies', 'red_chili_powder', 'fresh_coriander_leaves', 'ghee_or_oil', 'kidney_beans', 'spices', 'chillies', 'rice', 'gram_flour', 'yogurt', 'water', 'lemon_juice', 'green_chilli_paste', 'turmeric_powder', 'salt', 'eno_fruit_salt', 'asafoetida', 'mustard_seeds', 'curry_leaves', 'green_chillies', 'sugar', 'grated_coconut', 'oats', 'honey', 'milk', 'chicken', 'rice', 'cucumber', 'satsuma', 'banana', 'yoghurt', 'boneless_chicken', 'vegetable_oil', 'yogurt', 'lemon_juice', 'garlic', 'paprika', 'cumin_seeds', 'coriander', 'cayenne_pepper', 'salt', 'black_pepper', 'mayonaise', 'ketchup', 'mustard', 'pickle', 'vinegar', 'onion_powder', 'garlic_powder', 'sugar', 'chicken_wings', 'baking_powder', 'salt', 'black_pepper', 'lettuce', 'onion', 'lemon', 'red_cabbage', 'white_cabbage', 'bread', 'egg', 'oil', 'chilli_flakes', 'chicken', 'cheese', 'tomato', 'pea', 'red_onion', 'flour', 'iceberg_lettuce', 'soy_sauce', 'olive_oil', 'bread', 'cheese', 'pepperoni', 'tomato_puree', 'spices', 'salt', 'herbs', 'butter', 'gnocchi', '_avocado', '_sesame_seeds', 'sriracha', 'spinach', 'tahini', 'egg', 'pepper', 'chilli', 'salt', 'tomato', 'rice', 'meat', 'curry_sauce', 'chickpeas', 'tomato', 'shifka_pepper', 'pita', 'oats', 'peanut_butter', 'milk', 'banana', 'apple', 'blueberries', 'grapes', 'rice', 'pigeon_peas', 'cumin_seeds', 'green_chilli_paste', 'tumeric_powder', 'oil', 'red_chilli_powder', 'coriander_powder', 'salt', 'chicken', 'seasonings', 'wheat_flour', 'oil', 'crushed_paneer', 'jeera', 'kasuri_methi', 'besan_flour', 'lemon_juice', 'split_pigeon_peas', 'turmeric_powder', 'mustard_seeds', 'coriander', 'onion', 'tomato', 'oil', 'fermented_rice', 'coconut', 'chilli', 'bread', 'eggs', 'cottage_cheese', 'butter', 'salt_and_pepper', 'coco_pops', 'oat_milk', 'moong_daal', 'spinach', 'aubergine', 'spices', 'red_lentils', 'tomato', 'onion', 'garlic', 'ghee', 'spices', 'rice', 'cilantro', 'salt', 'water', 'potato', 'corn', 'beef', 'flour', 'ketchup', 'mashed_potatoes', 'salt', 'salmon', 'ketchup', 'mayonnaise', 'potatoes', 'jerk_marinade', 'chicken', 'cauliflower_rice', 'kidney_beans', 'coconut_milk', 'sprouts', 'kale', 'bread', 'french_fries', 'chicken', 'purple_sweet_potato', 'purple_glutinous_rice', 'black_glutinous_rice', 'kidney_bean', 'chestnut', 'puttu_rice_flour', 'grated_coconut', 'water', 'salt', 'black_chickpeas', 'onions', 'red_chili_powder', 'coriander_powder', 'garam_masala', 'mustard_seeds', 'cumin_seeds', 'green_lentil', 'tomato', 'pomegranate', 'parsley', 'spring_onion', 'garlic', 'lemon', 'apple_cider_vinegar', 'olive_oil', 'salt', 'black_pepper', 'cumin_powder', 'lamb', 'potatoes', 'red_pepper', 'sweetcorn', 'tomato', 'mayonnaise', 'chive', 'carrot', 'lettuce', 'salt', 'white_cabbage', 'honey', 'flour', 'sugar', 'baking_powder', 'brioche_burger_bun', 'chicken_breasts', 'carrots', 'corn', 'bell_peppers', 'cajun_seasoning', 'black_pepper', 'garlic_butter', 'four_cheese_mix', 'mayonnaise', 'chipotle_sauce', 'leek', 'potato', 'peas', 'watercress', 'black_pepper', 'water', 'stock_cube', 'turmeric', 'olive_oil', 'tomatoes', 'feta_cheese', 'oregano', 'red_pepper', 'hummus', 'wheat_flour_tortillas', 'chicken', 'hot_sauce', 'chickpeas', 'baking_powder', 'cumin', 'black_peppercorns', 'coriander_seeds', 'vegetable_oil', 'bay_leaves', 'onion', 'garlic', 'ginger', 'turmeric', 'green_chilli', 'red_chilli_powder', 'tomatoes', 'dried_mango_powder', 'garam_masala', 'potato', 'carrot', 'garden_peas', 'onions', 'garlic', 'ginger', 'tomato', 'green_chilli', 'red_chilli', 'black_pepper', 'turmeric', 'salt', 'vegetable_oil', 'clove', 'cinnamon', 'coriander', 'egg', 'oil', 'spices', 'salt', 'lamb', 'boiled_egg', 'porridge_oats', 'honey', 'milk', 'banana', 'rice_flour', 'sugar', 'salt', 'ginger', 'garlic', 'cabbage', 'onion', 'soy_sauce', 'salt', 'red_chilli_sauce', 'cornflour', 'capsicum', 'sunflower_oil', 'tomato_sauce', 'wheat_flour', 'smoked_bacon', 'tomato', 'mayonnaise', 'lettuce', 'salt', 'barley_flour', 'egg_yolk', 'rapeseed_oil', 'mustard_flour', 'palm_oil', 'white_vine_vinegar', 'honey', 'pasta', 'chese', 'butter', 'milk', 'seasoning', 'corn_kernels', 'cheese', 'butter', 'cream', 'salt_and_pepper', 'parsley', 'chives', 'garlic_powder', 'potatoes', 'yoghurt', 'garlic', 'chilli_oil', 'eggs', 'oil', 'salt', 'ham', 'cheese', 'eggplant', 'peas', 'onion', 'chilli', 'cultured_butter', 'jaggery', 'whole_wheat_flour', 'prone', 'all_purpose_flour', 'salt', 'red_pepper_powder', 'sunflower_oil', 'kidney_beans', 'onions', 'tomatoes', 'green_chili', 'ginger_garlic_paste', 'turmeric', 'coriander_powder', 'salt', 'rice', 'water', 'turkish_yoghurt', 'cucumber', 'basil', 'coriander', 'fennel', 'salt', 'black_pepper', 'yellow_split_pea', 'wheat_roti', 'kidney_beans', 'chocolate_biscuits', 'oat_milk', 'chicken', 'onnion', 'garlic', 'ginger', 'soy_sauce', 'oyster_sauce', 'salt', 'black_pepper', 'tomatoes', 'rump_steak', 'chilli_peper', 'garlic', 'sunflower_oil', 'white_rice', 'water', 'ramen', 'hot_flavour_sauce', 'lettuce', 'banana', 'apple', 'orange', 'pomegranate', 'orange_juice', 'eggs', 'garlic', 'tomatoes', 'tortillas', 'onions', 'olive_oil', 'salt', 'pepper', 'sesame_seeds', 'flour', 'soy_sauce', 'eggwhites', 'rice', 'diced_chicken', 'clove_garlic', 'pasta', 'red_pasta_sauce', 'chilly', 'black_pepper', 'cheese', 'chicken', 'cheese', 'pasta', 'potato', 'cabbage', 'spinach', 'pea', 'potato', 'oil', 'salt', 'flour', 'bacon', 'chese', 'tomato', 'cauliflower', 'potatoes', 'onion', 'garlic_paste', 'lemon_juice', 'cumin_seeds', 'tomatoes', 'green_chillies', 'paneer', 'onions', 'rice', 'chicken', 'tamarind_powder', 'curd', 'onion', 'spices', 'oil', 'rava', 'onions', 'chilli', 'lemon', 'water', 'corriander', 'bean_sprouts', 'chicken', 'carrot', 'ginger', 'chinese_cabbage', 'rice', 'chicken', 'carrots', 'onion', 'mixed_herbs', 'milk', 'jaggery', 'nuts', 'sugar', 'popcorn_chicken', 'fries', 'burger', 'chicken_wrap', 'chicken_breast', 'pasta', 'onion', 'tomato', 'salt', 'mixed_pepper', 'black_pepper', 'olive_oil', 'spinach', 'soy_sauce', 'salt', 'pepper', 'greek_yogurt', 'green_grapes', 'black_grapes', 'jackfruit', 'pepper', 'oats', 'noodles', 'garlic', 'chilli_flakes', 'oil', 'noodle', 'mayonnaise', 'white_beans', 'prawns', 'eggs', 'white_rice', 'vegetables', 'seasonings', 'satay_sauce', 'green_onions', 'tomatoes', 'onions_garlic', 'herbs', 'rice', 'carrot', 'onion', 'beans', 'rice', 'noodles', 'salt', 'chicken', 'oregano', 'seasoning_oil', 'pitta_bread', 'peppers', 'onion', 'red_cabbage', 'firm_tofu', 'lambs_lettuce', 'rocket', 'aioli', 'potato', 'onion', 'carrot', 'green_peas', 'egg', 'spices', 'salt', 'butter', 'multigrain_bun', 'tomato', 'boiled_rice', 'chicken', 'ghee', 'onion', 'tomato', 'salt', 'turmeric_powder', 'ginger', 'garlic', 'green_chilli', 'chilli_powder', 'sunflower_oil', 'pepper', 'bay_leaves', 'garam_masala', 'cashew_nuts', 'lemon', 'clove', 'coriander_leaves', 'poppadom', 'shredded_beef', 'burger_buns', 'chicken_patty', 'mayo', 'leafy_green', 'onions', 'cheese', 'gerkin', 'tomato', 'relish_sauce', 'potato_fries', 'cheese', 'flour', 'baking_powder', 'salt', 'sugar', 'egg', 'milk', 'butter', 'chocolate', 'banana', 'onion', 'potato', 'bell_pepper', 'chicken', 'pita_bread', 'oil', 'ginger_garlic_paste', 'buns', 'tomato_slice', 'lettuce', 'onion', 'cheese_slice', 'pickle', 'mustard', 'ketchup', 'burger', 'rice', 'pigeon_peas', 'turmeric_powder', 'tomatoes', 'ginger', 'garlic', 'green_chilli', 'salt', 'cumin_seeds', 'rice', 'tomoato', 'potato', 'peas', 'lentils', 'salt', 'water', 'mustard_oil', 'green_chilli', 'curd', 'pepper', 'water', 'chicken', 'butter', 'ginger', 'garlic', 'chillli_powder', 'curry_powder', 'lemon', 'mint', 'olive_oil', 'seeded_bread', 'butter', 'egg', 'salt', 'pepper', 'rice_noodle', 'beef', 'salt', 'beef_soap', 'bean_sprout', 'coriander', 'mint_leaf', 'tuna', 'rice', 'flattened_rice', 'oil', 'salt', 'onions', 'spices', 'tofu', 'soy_sauce', 'amontillado_sherry', 'olive_oil', 'chicken', 'tortila', 'oil', 'tikka_masala', 'chicken', 'tomato', 'red_chilli_powder', 'spices', 'flour', 'tomato', 'cheese', 'pepperoni', 'cauliflower', 'tomato', 'oil', 'green_chilli', 'grounded_turmeric', 'chilli_powder', 'salt', 'grounded_coriander', 'water', 'butter', 'coriander', 'tortilla', 'chicken', 'bbq_sauce', 'cabbage', 'lettuce', 'chicken', 'potato', 'breadcrumbs', 'bbq_sauce', 'gravy', 'chicken_stock', 'salt', 'prawns', 'onions', 'tomatoes', 'scotch_bonnet', 'rice', 'pasta', 'vegetables', 'herbs', 'olive_oil', 'garlic', 'cheese', 'carrot', 'nuts', 'lemon_juice', 'potato', 'egg', 'cottage_cheese', 'capsicum', 'onion', 'tumeric_powder', 'red_chilli_powder', 'oil', 'salt', 'beef', 'pepper', 'onion', 'black_bean', 'dark_soy_sause', 'sesame_oil', 'potato', 'wheat_flour', 'tumeric', 'green_chilli', 'cumin_seeds', 'garlic_coriander_leaves', 'oil', 'mango', 'caraway_seeds', 'salt', 'shrimp', 'olive_oil', 'garlic', 'rice', 'salt', 'pepper', 'bread', 'olive_oil', 'egg', 'milk', 'spring_onion', 'parsley', 'tea_leaves', 'honey', 'sirloin', 'mix_salad', 'vine_ripened_tomatoes', 'garlic_field_mushroom', 'sauce', 'flour', 'carrot', 'bean_sprouts', 'egg', 'king_prawns', 'mango', 'curry_powder', 'sriracha', 'honey', 'vegetable_oil', 'salt', 'pepper', 'mayonaise', 'salt', 'lemon_juice', 'flour', 'oil', 'chicken', 'spices', 'carrots', 'sugar', 'milk', 'cardamom_powder', 'clarified_butter', 'nuts', 'ingredients:\\nfor_the_filling:\\n2_boneless', 'skinless_chicken_breasts', 'mushrooms', '_onion', '2_cloves_garlic', '2_tablespoons_butter', 'to_taste', 'puff_pastry_sheets', 'chicken_thigh', 'salad_onion', 'sunflower_oil', 'chilli_pepper', 'cereal_and_milk', 'fish', 'chili', 'basil', 'thai_seasonings', 'minced_meat', 'lamb', 'chicken', '_onion', '2_cloves_garlic', 'ginger', '_tomato', 'king_prawn', 'pea', 'carrot', 'sweet_corn', 'soy_sauce', 'vegetable_oil', 'breaded_chicken', 'tortilla_wraps', 'barbecue_sauce', 'lettuce', 'carrot', 'beetroot', 'potatoes', 'curry_leaves', 'butter', 'black_pepper', 'wheat_dough', 'chilly_powder', 'turmeric_powder', 'carrot', 'pumpkin', 'carrot', 'black_curry_paste', 'onion', 'aubergine', 'minced_meat', 'tomato', 'potato', 'onion', 'broth', 'onions', 'ramen_noodles', 'corn', 'garlic_and_ginger', 'sesame_oil', 'chickpeas', 'tomatoes', 'onions', 'vegetable_oil', '_canola_oil', 'ghee', 'garlic', 'ginger', 'green_chilies', 'cumin_seeds', 'ground_coriander', 'ground_cumin', 'turmeric_powder', 'garam_masala', 'red_chili_powder', 'salt', 'fresh_cilantro_leaves', 'water', 'lemon_wedges', 'rice', 'chicken', 'chicken_curry_powder', 'onion', 'tomato', 'beef', 'onion', 'tomatoes', 'green_chilli', 'garlic_paste', 'salt', 'pepper_powder', 'turmeric_powder', 'chilli_powder', 'coconut_oil', 'garam_masala', 'curry_leaves', 'garlic', 'olive_oil', 'tomato_puree', 'water', 'salt', 'cannellini_beans', 'rigatoni_pasta', 'prawn', 'flour', 'egg', 'mayonnaise', 'salt', 'pepper', 'breadcrumbs', 'chicken_pieces', 'yogurt', 'ginger_garlic_paste', 'lemon_juice', 'chilli_powder', 'turmeric_powder', 'cumin_powder', 'coriander_powder', 'garam_masala', 'salt', 'potato', 'vegetable_oil', 'chickpeas', 'mint', 'coriander', 'red_onion', 'onion', 'parsley', 'ginger', 'sugar', 'chaat_masala_powder', 'salt', 'potato', 'red_chilli_powder', 'cumin', 'coriander', 'chicken', 'sichuan_peppercorn', 'chilli_oil', 'soybean_oil', 'coriander', 'salt', 'chilli', 'onion', 'egg', 'boiled_rice', 'green_peas', 'onion', 'ginger', 'garlic', 'green_chilli', 'chilli_powder', 'turmeric_powder', 'salt', 'sunflower_oil', '_flour', 'water', 'salt_to_taste', 'mutton', 'onions', 'tomatoes', 'garlic_paste', 'red_chili_powder', 'turmeric_powder', 'coriander_powder', 'garam_masala', 'cooking_oil', 'salt_to_taste', 'water', 'paneer', 'oil', 'spices', 'wheat_flour', 'salt', 'tomatoes', '_flour', 'water', 'jaggery', 'potatoes', 'boiled', 'peeled', '_onion', 'green_chilies', 'fresh_coriander_leaves', 'chopped', '2_tablespoons_oil', 'noodles', 'black_pomfret', 'rice_flour', 'gram_flour', 'red_chilli_powder', 'turmeric_powder', 'coriander_powder', 'cumin_powder', 'garlic_paste', 'tamarind_pulp', 'fresh_coconut', 'mustard_seeds', 'cumin_seeds', 'fenugreek_seeds', 'curry_leaves', 'asafoetida', 'oil', 'salt', 'chicken', 'beansprouts', 'spring_onion', 'beef', 'egg', 'cabbage', 'tumeric', 'onions', 'capsicum', 'yellow_bell_pepper', 'red_bell_pepper', 'salt', 'oil', 'garam_masala', 'yogurt', 'chilli_powder', 'cottage_cheese', 'oil', 'water', 'lemon', 'sugar', 'green_cardamom', 'clarified_butter', 'saffron', 'rice', 'onion', 'tomato', 'turmeric_powder', 'red_chilli_powder', 'mushroom', 'green_bell_pepper', 'fried_chicken', 'pita_bread', 'lettuce', 'parsley', 'lamb_chops', 'garlic', 'vinegar', 'light_brown_sugar', 'ground_nutmeg', 'plum_jam', 'honey', 'soy_sauce', 'french_friec', 'cheddar_cheese', 'mozaralla_cheese', 'onions', 'spices', 'white_rice', 'egg', 'salt', 'black_pepper', 'sambhar_powder', 'rice', 'egg', 'soy_sauce', 'shrimp', 'chicken', 'beef', 'olive_oil', 'spring_onion', 'red_pepper', 'green_pepper', 'dumpling_wrappers', 'corn', 'cheese', 'garlic', 'ginger', 'soy_sauce', 'salt', 'pepper', 'cooking_oil', 'wheat_base', 'jalapeños', 'onion', 'capsicum', 'sauce', 'herbs', 'cheese', 'chicken', 'onion', 'vegetable_oil', 'tomato', 'potato', 'ginger', 'garlic', 'green_chilli', 'curry_powder', 'garam_masala', 'cinnamon', 'turmeric', 'cumin', 'lentil', 'clove', 'bay_leaf', 'rice', 'garlic', 'pepper', 'onion', 'tomatoes', 'sweetcorn', 'spinach', 'beef', 'carrots', 'red_wine', 'spagetti', 'mushroom', 'olive_oil', 'salt', 'red_lentil', 'onion', 'tomato', 'salt', 'oil_turmeric_powder', 'bittergourd', 'potatoes', 'tomato_gravy', 'chicken', 'chili_sauce', 'lasagne_sheets', 'bechamel', 'mozzarella', 'paneer', 'coriander_powder', 'curd', 'turmeric_powder', 'onion', 'tomatoes', 'green_chilli', 'garam_masala', 'red_chilli_powder', 'salt', 'butter', 'vegetable_oil', 'cumin_powder', 'chicken_masala', 'ginger_garlic_paste', 'rice', 'egg', 'onion', 'garlic', 'ham_slices', 'salt', 'say_sauce', 'oil', 'chicken', 'mushroom', 'corn', 'pasta', 'oil', 'salt', 'water', 'tomato_sauce', 'cheese', 'pickles', 'jalepenos', 'egg', 'noodles', 'pho_seasoning', 'fried_onions', 'beef_balls', 'beef_patty', 'bun', 'lettuce', 'tomato', 'cheese', 'sauce', 'chicken', 'bbq_sauce', 'rice', 'potatoes', 'whole_wheat_flour', 'water', 'vegetable_oil', 'mustard_seeds', 'cumin_seeds', 'brinjal', 'tamarind', 'jaggery', 'coconut', 'tomato', 'onion', 'red_chilly_powder', 'coriander_powder', 'cumin_powder', 'curry_leaves', 'salt', 'beans', 'tomato_sauce', 'eggs', 'black_pudding', 'sausage', 'bacon', 'mushrooms', 'potatoes', 'cabbage', 'puff_pastry_sheets', 'dark_chocolate_chips', 'egg', 'sugar', 'milk', 'potato', 'oil', 'salt', 'chicken', 'yoghurt', 'onion', 'tomato', 'garlic', 'ginger', 'olive_oil', 'rice', 'tamarind', 'water', 'jaggery', 'cooked_rice', 'groundnuts', 'curry_leaves', 'peanuts', 'mustard_seeds', 'puliyogare_powder', 'chickpeas', 'black_gram_lentils', 'salt', 'coriander_leaves', 'flattened_rice', 'oil', 'musturd_seeds', 'cumin_seeds', 'curry_leaves', 'onions', 'green_chilies', 'salt', 'turmeric_powder', 'onion', 'say_sauce', 'pasta', 'chicken', 'rape', 'tuna_fish', 'white_rice', 'lemon_juice', 'pasta', 'parmesan', 'pasta', 'brocolli', 'asparagus', 'sambar_powder', 'dal', 'small_onions', 'tomato', 'oil', 'curry_leafs', 'beef', 'daikon', 'pork', 'aubergine', 'celery', 'chilli', 'soy_sauce', 'vegetable_oil', 'wheat_flour', 'rosted_gram_flour', 'salt', 'green_chilli', 'milk', 'tea_leaves', 'sugar', 'water', 'rolled_oats', 'sweet_cinnamon_powder', 'apples', 'honey', 'whole_wheat_fluor', 'water', 'oil', 'salt', 'cottage_cheese', 'turmeric_powder', 'red_chilli_powder', 'asafoetida', 'onion', 'garam_masala', 'butter', 'yogurt', 'lamb', 'olive_oil', 'butter', 'patatoes', 'onion', 'pepper', 'cauliflower', 'potatoes', 'liquid_cheese', 'grated_cheese', 'chipotle_sauce', 'peri_peri_sauce', 'onion', 'chilly_sauce', 'jalapenos', 'rice', 'bay_leaf', 'black_cardamom', 'green_cardamom', 'pepper', 'clove', 'coconut', 'onion', 'potato', 'green_peas', 'red_chilli_powder', 'coriander_powder', 'cumin_powder', 'garlic', 'ginger', 'green_chilli', 'asafoetida', 'mustard_seeds', 'oil', 'salt', 'sugar', 'coriander', 'kimchi', 'egg', 'bacon', 'rice', 'ketchup', 'flour', 'sugar', 'cinnamon_powder', 'vegetable_oil', 'chicken', 'burger_buns', 'salt', 'pepper', 'garlic_powder', 'paprika', 'oil', 'lettuce', 'tomato', 'onion', 'mayonnaise', 'ketchup', 'cheese', 'pickles', 'pepsi', 'smoked_salmon', 'cream_cheese', 'lemon_juice', 'olive_oil', 'carrot', 'mayo', 'kimchi', 'cherry_tomatoes', 'courgettes', 'peppers', 'aubergine', 'garlic', 'gnocchi', 'rosemary', 'olive_oil', 'ricotta', 'salt', 'pepper', 'noodles', 'spices', 'herbs', 'butter', 'chicken', 'garlic', 'chicken', 'curd', 'onion', 'green_chili', 'butter', 'potatoes', 'butter', 'cream', 'cauliflower', 'beans', 'mushrooms', 'green_beans', 'pasta', 'baby_corn', 'tomato', 'spinach', 'olive_oil', 'salt', 'bread', 'greek_yogurt', 'carrots', 'salt', 'pepper', 'mustard_seeds', 'butter', 'beetroot', 'spinach', 'olive_oil', 'lemon', 'garlic', 'cashew', 'black_pepper', 'salt', 'pork', 'salt', 'vinegar', 'besan_flour', 'sugar', 'salt', 'oil', 'ginger_paste', 'green_chilli_paste', 'lemon_juice', 'turmeric_powder', 'citric_fruit_salt', 'curry_leaves', 'asafetida', 'cheese', 'mushroom', 'olives', 'tomato_sauce', 'jalapenos', 'pork_meat_ball', 'rice', 'cucumber', 'cabbage', 'hoisin_sauce', 'onions', 'garlic', 'ginger', 'tomato', 'green_chilli', 'red_chilli', 'black_pepper', 'turmeric', 'yoghurt', 'salt', 'water', 'vegetable_oil', 'paprika', 'cumin', 'coriander', 'brown_sugar', 'fennal', 'green_cadamom', 'brown_cadamom', 'cinnamon', 'soy', 'bay_leaves', 'ghee', 'dosa_flour', 'cubed_lamb', 'potatoes', 'peas', 'sweetcorn', 'carrots', 'banana', 'onions', 'rice', 'rice', 'lentils', 'salt', 'ghee', 'beetroot', 'rice', 'water', 'salt', 'toor_dal', 'cumin_seeds', 'garlic', 'ginger', 'onion', 'chilli', 'tomatoes', 'turmeric', 'red_chilin_powder', 'garam_masala', 'salt', 'kasuri_methi', 'coriander_leaves', 'lemon', 'ghee', 'hing', 'flour', 'butter', 'pickle', 'curd', 'onion', 'potato', 'green_lentil', 'potato', 'carrot', 'onion', 'chicken_wings', 'eggs', 'cheese', 'mushrooms', 'olive_oil', 'herbs', 'chickpeas', 'garlic', 'tomatoes', 'onion', 'tortillas', 'olive_oil', 'salt', 'pepper', 'chicken_thighs', 'piri_piri_sauce', 'bread', 'garlic', 'butter', 'tortilla', 'chicken_strips', 'lettuce', 'mayonnaise', 'chips', 'egg', 'cheese', 'salt', 'pepper', 'seasoning', 'hotdogs', 'bread', 'oil', 'green_chili', 'mustard_seeds', 'chickpeas_flour', 'soda', 'coriander', 'salt', 'basmati_rice', 'butter', 'sunflower_oil', 'onions', 'bay_leaf', 'cardamom_pods', 'cinnamon_stick', 'turmeric_powder', 'chicken', 'red_chilli_powder', 'rose_water', 'kewda_water', 'biryani_masala', 'chicken_masala', 'garam_masala', 'salt', 'water', 'chicken_strips', 'breadcrumbs', 'eggs', 'oil', 'pork', 'green_beans', 'cabbage', 'egg', 'salt', 'peanut_oil', 'thai_chilli', 'chilli_bean_sauce', 'sesame_seeds', 'chicken', 'lemon', 'honey', 'soy_sauce', 'ginger', 'corn_flour', 'salt', 'pepper', 'sesame_seeds', 'luncheon_meat', 'spinach', 'mushroom', 'egg', 'korean_chili_sauce', 'rice', 'wheat', 'rolled_oats', 'potato', 'onion', 'carrot', 'green_peas', 'green_chilli', 'sunflower_oil', 'salt', 'turmeric_powder', 'coconut_milk', 'egg', 'salmon', 'salad', 'hot_sauce', 'chilli', 'garlic', 'cumin', 'sugar', 'onion', 'oil_spices', 'red_lentils', 'sourdough_base', 'spicy_arrabbiata_chicken', 'roasted_red_peppers', 'mozzarella_cheese', 'chicken', 'wheat_flour', 'butter', 'rapeseed_oil', 'garlic_puree', 'parsley_salt', 'yeast', 'black_pepper', 'pea_fibre', 'cauliflower', 'potatoes', 'onions', 'tomatoes', 'vegetable_oil', '_canola_oil', 'ghee', 'garlic', 'ginger', 'green_chilies', 'cumin_seeds', 'turmeric_powder', 'coriander_powder', 'cumin_powder', 'garam_masala', 'red_chili_powder', 'salt', 'fresh_cilantro_leaves', 'water', 'naanbread', 'steamed_rice', 'ghee', 'cashew', 'chicken', 'onions', 'tomatoes', 'garlic_paste', 'green_chilies', 'curry_leaves', 'coriander_leaves', 'turmeric_powder', 'coriander', 'red_chili_powder', 'garam_masala', 'coconut_milk', 'cooking_oil', 'salt', 'water', 'white_rice', 'chopped_spinach_leaves', 'onion', 'garlic', 'cumin_seeds', 'dal', 'chilli_flakes', 'corn', 'butter', 'pasta', 'onion', 'tomato', 'turmeric_powder', 'red_chilli_powder', 'pasta_sauce', 'grapes', 'lamb', 'potato', 'halloumi', 'tomato', 'lettuce', 'salad_dressing', 'egg', 'oil', 'spices', 'salt', 'potato', 'dosa_flour', 'oil', 'coconut', 'spices', 'onion', 'tomato', 'pizza_dough', 'mozzarella', 'tomato_sauce', 'turkey_pepperoni', 'jalapeno', 'olive_oil', 'egg', 'oil', 'salt', 'red_chilli_powder', 'onion', 'wheat', 'water', 'apple', 'rice', 'chicken', 'corriander', 'lemon', 'oregano', 'chili_flakes', 'curd', 'brown_rice', 'chicken', 'chili_sauce', 'paprika', 'salt', 'aioli', 'pomegranate_seeds', 'parsley', 'lemon', 'gram_flour', 'onion', 'salt', 'green_chilli', 'spices', 'water', 'oil', 'mixed_sprouts', 'onion', 'tomato', 'potato', 'gram_flour_noodles', 'tamarind_pulp', 'red_chilli_powder', 'misal_spice_mix', 'oil', 'mustard_seeds', 'cumin_seeds', 'turmeric_powder', 'salt', 'coriander_leaves', 'pearl_millet_flour', 'warm_water', 'tortilla', 'kidney_beans', 'lentils', 'tomatoes', 'onions', 'cumin_seeds', 'ginger_garlic_paste', 'spices', 'rice_flour', 'jaggery', 'fresh_coconut', 'cardamom_powder', 'ghee', 'water', 'salt', 'masoor_dal', 'moong_dal', 'channa_dal', 'onion', 'tomato', 'red_chilli_powder', 'rice', 'onion', 'ginger', 'pepper', 'salt', 'red_chilli_powder', 'coriander_powder', 'haldi_and_potatoes', 'iceberg_lettuce', 'cooked_glazed_prawns', 'cocktail_sauce', 'carrots', 'sweetcorn', 'cucumber', 'rapeseed_oil', 'sugar', 'paprika', 'mustard_seeds', 'salt', 'spirit_vinegar', 'black_pepper', 'rice', 'potatoes', 'yoghurt', 'minced_meat', 'ragu_sauce', 'cheese', 'aubergines', 'chilli_sauce', 'chicken', 'buttermilk', 'flour', 'paprika', 'salt', 'powdered_pepper', 'oil', 'breadcrumbs', 'pork_chop', 'potato', 'olive_oil', 'cucumber', 'lettuce', 'rosemary', 'thyme', 'pepper', 'salt', 'lemon', 'bread', 'paneer', 'carrots', 'cucumber', 'tomato', 'boiled_corn', 'tomato_sauces', 'chicken', 'all_purpose_flour', 'baking_soda', 'olive_oil', 'potato', 'pasta', 'white_sauce', 'cheese', 'black_pepper', 'butter', 'chilly', 'chicken', 'rice', 'tamarind', 'spices', 'potato', 'cheese', 'milk', 'onion', 'tomato', 'green_chilli', 'turmeric_powder', 'chilli_powder', 'coriander_powder', 'garlic', 'salt', 'rapeseed_oil', 'chicken', 'wheat', 'mayonnaise', 'rice_flour', 'grated_coconut', 'jaggery', 'poppy_seeds', 'tomato_sauce', 'onions', 'red_cabbage', 'cheese', 'pine_nuts', 'etc', 'tomato', 'red_peppers', 'orange_peppers', 'butter_beans', 'garlic', 'red_onion', 'salt', 'pepper', 'white_bread', 'butter', 'rice', 'sprint_onion', 'carrot', 'coriander_leaves', 'capsicum', 'cloves', 'oil', 'cabbage', 'green_chillies', 'steamed_rice', 'toor_dal', 'carrot', 'potato', 'tomato', 'onion', 'tamarind_pulp', 'sambar_powder', 'cumin_seeds', 'red_chili_peppers', 'salt', 'urad_dal_flour', 'black_pepper', 'water', 'cooking_oil', 'chicken_strips', 'lettuce', 'tortilla', 'mayonnaise', 'urad_dal_batter', 'salt', 'sunflower_oil', 'toast', 'houmous', 'eggs', 'onion', 'capsicum', 'paneer', 'curd', 'garam_masala', 'chilli_powder', 'pepper', 'butter', 'salt', 'eggs', 'salt', 'pepper', 'butter', 'chilly_powder', 'masala_powder', 'chicken', 'tomato', 'onion', 'chili_powder', 'turmeric', 'garam_masala', 'star_anise', 'clove', 'cardamom', 'coconut_milk', 'sunflower_oil', 'water', 'boiled_rice', 'chicken', 'sunflower_oil', 'chilli_powder', 'turmeric_powder', 'salt', 'chicken', 'onion', 'mandi_mix', 'tomato', 'rice', 'egg', 'bread', 'milk', 'butter', 'cheese', 'oil', 'mayonise', 'salt', 'chicken_tikka', 'cheese', 'cheese', 'jalapeno', 'red_onion', 'red_pepper', 'garlic_sauce', 'chipotle_sauce', 'tortilla', 'oil', 'yellow_pepper', 'cheese', 'mayonnaise', 'sugar', 'salt', 'cornflower', 'beef', 'parsley', 'garlic', 'sunflower_oil', 'double_patty', 'cheddar_cheese', 'burger_sauce', 'crisp_lettuce', 'red_onions', 'rice', 'kofta', 'potatoes', 'yoghurt', 'cucumber', 'tangerines', 'potatoe', 'garlic', 'mushroom', 'pak_choi', 'aubergine', 'sesame', 'pepper', 'spring_onion', 'boiled_rice', 'toor_dal', 'potato', 'onion_stir_fry', 'prawns_dry_roast', 'poppadom', 'salt', 'noodles', 'eggs', 'spicy_sauce', 'pulliyogarai_mix', 'rice', 'ladies_fingers', 'chilly_powder', 'tumeric_powder', 'miso_paste', 'tofu', 'seaweed', 'pasta', 'tomatoes', 'garlic', 'onion', 'sugar', 'salt', 'water', 'carrot', 'capsicum', 'corn', 'cheese', 'fresh_cream', 'butter', 'tortillas', 'potatoes', 'onion', 'indian_spices', 'poppy_seeds', 'coriander', 'cumin_seeds', 'dry_red_chillies', 'garlic_cloves', 'vegetable_oil', 'curry_leaves', 'chicken', 'onions', 'star_anise', 'tomatoes', 'turmeric', 'salt', 'asparagus', 'beef', 'onion', 'black_pepper', 'veal', 'green_beans', 'quinoa', 'bread', 'egg', 'milk', 'sugar', 'maple_syrup', 'white_rice', 'tomato', 'onion', 'vegetable_oil', 'cumin_seeds', 'rice', 'wheat', 'yellow_split_pea', 'sweetyougut', 'white_rice', 'spinach', 'pickled_plum', 'sesame_seeds', 'whitebait', 'stock', 'split_green_gram', '_garlic', 'cumin_seeds', 'chilli_powder', 'ginger', 'tomato', 'oil', 'salt', 'sunflower_oil', 'caster_sugar', 'eggs', 'milk', 'butter', 'cocoa', 'self_raising_flour', 'raspberry_jam', 'double_cream', 'icing_sugar', 'baguette', 'chicken', 'cheddar_cheese', 'cucumber', 'lettuce', 'jalepeno', 'cucumber', 'mayonnaise', 'chipotle_sauce', 'chicken', 'bread_crumbs', 'oil', 'fries', 'salad', 'rice', 'turmeric', 'chicken_thighs', 'salt', 'garlic_powder', 'smoked_paprika', 'olive_oil', 'potato', 'basil', 'basmati_rice', 'beans', 'potatoes', 'carrots', 'peas', 'onions', 'saffron', 'cardamom', 'star_anise', 'cloves', 'bay_leaves', 'salt', 'chilli_powder', 'garam_masala', 'curd', 'vegetable_oil', 'egg', 'corn', 'olive_oil', 'salt', 'chicken_breast', 'mixed_peppers', 'olive_oil', 'onion', 'garlic', 'tomato', 'tomato_puree', 'mixed_spice', 'salt', 'black_pepper', 'chickpea', 'onion', 'garlic', 'tomato', 'olive_oil', 'cumin_seeds', 'rice', 'rice', 'water', 'chicken', 'chilli_sauce', 'panko_bread_crumbs', 'lettuce', 'seaseme_seeds', 'mashed_potato', 'beef_tenderloin', 'carrot', 'cabbage', 'parsley_leaves', 'semolina', 'onion', 'parsley', 'green_chili', 'mustard_seeds', 'rice', 'dal', 'flour', 'onion', 'chillies', 'pickle', 'vegetable_oil', 'eggs', 'cornstarch', 'flour', 'salt', 'pepper', 'garlic', 'chicken_breast_fillets', 'sesame_oil', 'chinese_rice_vinegar', 'honey', 'sweet_chilli_sauce', 'brown_sugar', 'soy_sauce', 'rice', 'scallions', 'tuna', 'mixed_leaves', 'carrot', 'sweetcorn', 'cabbage', 'beetroot', 'pepper', 'mayonnaise', 'black_pepper', 'salt', 'sugar', 'pea', 'cumin', 'pepper', 'garlic', 'lentil', 'idly_batter', 'fenugreek_seeds', 'salt', 'water', 'fresh_mint_leaves', 'coriander_leaves', 'green_chilies', 'ginger', 'coconut', 'roasted_chana_dal', 'salt', 'cooking_oil', 'urad_dal', 'curry_leaves', 'coriander', 'rice', 'water', 'chicken', 'tomato', 'red_pepper', 'onion', 'olive_oil', 'red_chilli', 'salt', 'garlic_powder', 'lemon_slices', 'stew', 'rajma', 'tomato', 'bay_leaves', 'clove', 'cinnamon_stick', 'ginger_garlic_paste', 'onions', 'salt', 'chilli_powder', 'garam_masala', 'rajma_masala', 'sunflower_oil', 'chicken', 'groundnut', '_red_chilly', '_salt', 'rice', '_lentil', '_butter', 'jaggery', '_butter', 'chicken', 'noodles', 'broth', 'spinash', 'vegetables', 'tomatoes', 'lemon', 'soy_sauce', 'garlic', 'ginger', 'fava_beans', 'falafel', 'yoghurt', 'olive_oil', 'black_beans', 'beef', 'tomatoes', 'lettuce', 'nacho_cheese_sauce', 'sour_cream', 'fries', 'beans', 'tomato', 'onion', 'green_chillies', 'spices', 'butter', 'oil', 'garlic_paste', 'cumin_powder', 'chilly_powder', 'salt', 'yoghurt', 'butter', 'olive_oil', 'rice', 'lentil', 'onion', 'mushroom', 'carrot', 'potatoe', 'chicken', 'crambled_bread', 'chilly_powder', 'wheat_flour', 'egg', 'water', 'potato', 'leak', 'garlic', 'butter', 'green_pepper', 'pancakes', 'bread', 'egg', 'baked_beans', 'butter', 'salt', 'pepper', 'bread', 'tomato', 'chicken', 'lettuce', 'soji', 'onion', 'garlic', 'salt', 'white_flour', 'salt', 'sugar', 'dried_east_oil', 'butter', 'egg', 'quinoa', 'brown_rice', 'coconut_milk', 'coriander', 'ginger', 'cumin', 'flaxseeds', 'spring_onion', 'sweetcorn', 'bell_pepper', 'lime', 'oats', 'oat_milk', 'blueberries', 'raspberries', 'honey', 'cinnamon', 'peanut_butter', 'flour', 'salt', 'water', 'ghee', 'eggs', 'pepper', 'whithe_grapes', 'rice', 'tumeric_powder', 'ghee', 'salt', 'yellow_lentils', 'pizza_dough', 'pizza_sauce', 'mozarella_cheese', 'crushed_garlic_cloves', 'tomatoes', 'olive_oil', 'fish_balls', 'beef_balls', 'ginger', 'spring_onion', 'mushroom', 'wood_ear', 'spring_onion', 'egg', 'soy_sauce', 'amontillado_sherry', 'sugar', 'water', 'hot_dog', 'egg', 'spices', 'boiled_penne_pasta', 'tomato', 'onion', 'ginger_garlic_paste', 'red_chili_powder', 'turmeric', 'coriander_powder', 'whole_spice_mix', 'butter', 'chili_flakes', 'instant_noodles', 'boiling_water', 'buffalo_sauce', 'steak', 'olive_oil', 'salt_and_pepper', 'tomato', 'onion', 'olive_oil', 'cummin_seed', 'pusle', 'salt', 'turmeric', 'mix_spices', 'onions', 'garlic', 'ginger', 'tomato', 'green_chilli', 'red_chilli', 'black_pepper', 'turmeric', 'salt', 'yoghurt', 'water', 'vegetable_oil', 'boiled_eggs', 'cumin', 'clove', 'cinnamon', 'bay_leaves', 'coriander', 'rice', 'peas', 'green_beans', 'carrot', 'spices', 'halloumi', 'onion', '_peas', 'onion', 'tomato', 'red_chilli_powder', 'tumeric_powder', 'caraway_seeds', 'coriander_leaves', 'garlic', 'oil', 'salt', 'weetabix', 'milk', 'bananas', 'beans', 'kale', 'rocket_leaves', 'broccoli', 'almond_paste', 'pak_choi', 'pine_nuts', 'lemon', 'chicken', 'potatos', 'spring_onion', 'cheese_sauce', 'broccoli', 'gram_flour', 'sunflower_oil', 'carom_seed', 'turmeric_powder', 'red_chilli_powder', 'salt', 'cauliflower', 'gammon_bacon', 'potato', 'curd', 'rapeseed_oil', 'onion', 'rice', 'chilli_powder', 'turmeric_powder', 'coriander_powder', 'garam_masala', 'coriander', 'salt', 'chicken', 'chili', 'green_onion', 'peanut_oil', 'flour', 'chicken', 'onions', 'turmeric_powder', 'chilli_powder', 'oil', 'chicken', 'pasta', 'tomato', 'garlic_colves', 'basil', 'parsley', 'salt', 'olive_oil', 'red_chilli_powder', 'water', 'black_pepper', 'chicken', 'lime', 'cheese', 'burger_buns', 'tomatoes', 'jalapeno', 'mayonnaise', 'onions', 'wheat_flour', 'corn_starch', 'rice', 'onion', 'vegetable_oil', 'salt', 'vitamins', 'cauliflower', 'broccoli', 'mushroom', 'margarine', 'flour', 'vegan_cheese', 'oat_milk', 'nutritional_yeast', 'dijon_mustard', 'soy_sauce', 'fusilli', 'black_pepper', 'cherry_tomatoes', 'bread', 'salmon', 'lettuce', 'cottage_cheese', 'red_bell_pepper', 'onions', 'milk', 'red_chilli_sauce', 'garlic', 'tomato', 'warming_spice', 'oil', 'salt', 'flour', 'beans', 'squid', 'green_onions', 'carrots', 'soy_sauce', 'chickpeas', 'tahini', 'olive_oil', 'lamb', 'olive_oil', 'garlic', 'ginger', 'butter', 'hot_sauce', 'rice', 'carrot', 'peas', 'beans', 'chilli_oil', 'water', 'black_gram_lentils', 'cumin', 'garlic', 'onion', 'ginger', 'salt', 'turmeric', 'red_chilli_powder', 'garam_masala', 'green_chilli', 'sunflower_oil', 'wheat_flour', 'bengal_gram', 'salt', 'milk', 'oats', 'honey', 'quesadilla', 'onion', 'beef', 'cheese', 'sauce', 'jalapenos', 'rice', 'salt', 'pepper', 'spices', 'tomatoes', 'chicken', 'wheat', 'cashew', 'onion', 'carrot', 'lemon', 'beer', 'lamb_mince', 'salt', 'crushed_chillis', 'green_chillis', 'egg', 'garam_masala', 'ginger', 'garlic', 'onions', 'oil', 'red_chilli_powder', 'tumeric_powder', 'fresh_corriander', 'plain_flour', 'butter', 'salt', 'cod', 'lettuce', 'onion', 'pomegranate', 'cucumber', 'lemon', 'tortilla', '_chicken', 'butter', 'garlic_mayonnaise', 'chilli_mayonnaise', 'capsicum', 'couscous', 'lamb', 'potatoes', 'carrots', 'onion', 'tomato_puree', 'salt', '_pepper', 'chickpeas', 'vegtable_oil', 'garlic', 'cinimon', 'chicken_breast', 'sweet_pepper', 'cherry_tomato', 'sweetcorn', 'lettuce', 'salt', 'mixed_pepper', 'black_pepper', 'olive_oil', 'paneer', 'green_peas', 'tomato', 'onion', 'green_chilli', 'spice_mix', 'garlic_paste', 'sunflower_oil', 'red_chilli_powder', 'salt', 'noodles', 'salt', 'indomie_seasoning_mix', 'pepper', 'onions', 'yogurt', 'raspberry', 'sugar', 'butter', 'bread', 'ham', 'halloumi', 'broken_wheat', 'potato', 'carrot', 'tomato', 'oil', 'green_peas', 'black_mustard_seeds', 'cloves', 'turmeric_powder', 'black_pepper_powder', 'salt', 'water', 'ghee', 'green_chilies', 'rice', 'oil', 'tamarind', 'curry_leaves', 'peanuts', 'urad_dal', 'bengal_gram', 'puliogare_mix', 'salt', 'noodle', 'broccoli_chicken', 'all_purpose_flour', 'water', 'yeast', 'chickpeas', 'tahini', 'lemon_juice', 'olive_oil', 'garlic', 'seasoning', 'potato', 'chili', 'eggplant', 'soy_sauce', 'sugar', 'bagel', 'smoked_salmon', 'butter', 'maggi', 'onion', 'tomato', 'olive_oil', 'gnocchi', 'san_marzano_dop', 'tomato', 'mozzarella', 'parmesan', 'basil', 'olive_oil', 'rice', 'dried_chili', 'coriander_seeds', 'black_pepper', 'sesame_seeds', 'chana_dal', 'asafoetida', 'peanuts', 'tamarind', 'urad_dal', 'oil', 'mustard_seeds', 'turmeric', 'garlic_bread', 'cheese', 'oregano', 'tomatoes', 'flour', 'olives', 'cheese', 'chicken', 'onion', 'garlic', 'mushrooms', 'plainflour', 'milk', 'egg', 'sugar', 'noodles', 'mushrooms', 'potato', 'chicken_drumstick', 'masala_powder', 'vegetable_oil', 'herbs', 'spices', 'curry', 'flour', 'onion', 'mushroom', 'noddles', 'dried_vegetbles', 'chicken', 'tortilla', 'parsey', 'pepper', 'light_cream', 'paneer', 'salt', 'spices', 'oil', 'banana', 'oatmeal', 'olive_oil', 'whey_protein_powder', 'milk', 'rice', 'dal', 'vegetables', 'pork_sausages', 'bread', 'bechamel_sauce', 'butter', 'streaky_bacon', 'cheddar', 'onion', '_flour', 'lentil', 'oil', 'cumin_seeds', 'asafoetida', 'red_chilli_powder', 'salt', 'coriander_seeds', 'water', 'whole_chicken', 'bbq_sauce', 'sesame_seeds', 'beef_patty', 'bread', 'salt', 'pepper', 'burger_sauce', 'mackerel', 'red_pepper', 'lettuce', 'tomato', 'onion', 'peppers', 'bread', 'tomatoes', 'flour', 'olives', 'cheese', 'chicken', 'onion', 'garlic', 'mushrooms', 'boiled_rice', 'salmon', 'seaweed', 'cucumber', 'sweet_corn', 'sugar', 'spirit_vinegar', 'rice_vinegar', 'salt', 'demerara_sugar', 'egg', 'potato', 'bean', 'tomato', 'mushroom', 'sausage', 'brown_sauce', 'pepper', 'bacon', 'peas', 'pasta', 'cream', 'parmesan_cheese', 'garlic', 'butter', 'pasta', 'milk', 'pancetta', 'salt', 'pepper', 'garlic', 'coriander', 'nutmeg', 'cheese', 'cornflour', 'egg', 'parsley', 'black_gram_lentils', 'split_green_gram', 'yogurt', 'tamarind_chutney', 'green_chutney', 'chaat_masala', 'roasted_cumin_powder', 'red_chili_powder', 'salt', 'baking_soda', 'water', 'oil', 'chicken', 'turmeric_powder', 'chilli_power', 'chicken_masala_powder', 'oil', 'salt', 'chicken_fillet', 'lettuce', 'spicy_shake', 'samurai_sauce', 'spicy_slaw', 'chips', 'chicken', 'chilli_power', 'pepper', 'salt', 'turmeric_powder', 'coriander_powder', 'naan', 'oats', 'banana', 'blueberries', 'chicken_wings', 'baking_powder', 'salt', 'black_pepper', 'potatoes', 'sunflower_oil', 'mayonaise', 'garlic', 'lemon_juice', 'olive_oil', 'kidney_beans', 'onions', 'tomatoes', 'ginger', 'garlic', 'cooking_oil', 'cumin_seeds', 'coriander_powder', 'cumin_powder', 'turmeric_powder', 'red_chili_powder', 'garam_masala', 'salt', 'water', 'iceberg_lettuce', 'baby_plum_tomatoes', 'carrots', 'spinach', 'cucumber', 'green_multileaf_lettuce', 'red_radish', 'pasta_sheets', 'cheese', 'milk', 'olive_oil', 'onion', 'bell_pepper', 'garlic_powder', 'tomato_sauce', 'oregano', 'parsley', 'salt', 'ribeye_steak', 'salt', 'butter', 'garlic_powder', 'vegtable_oil', 'salmon_fish', 'rice', 'chickpea_flour', 'red_chilli_powder', 'salt', 'onion', 'potato', 'green_chilli', '_sunflower_oil', 'pork', 'prawn', 'carrot', 'mushroom', 'lettuce', 'shrimp_paste', 'boiled_broccoli', 'onion', 'tomato', 'chilli_powder', 'cumin_powder', 'pepper_powder', 'salt', 'rice', 'cauliflower', 'potato', 'vegetsble_oil', 'ghee', 'onions', 'garlic_paste', 'tomatoes', 'turmeric_powder', 'red_chili_powder', 'coriander_powder', 'garam_masala', 'salt', 'chapati_dough', 'salt', 'cacao', 'cake', 'chips', 'burger', 'chicken_nugget', 'spagghetti', 'meatballs', 'sweet_potato', 'pepper', 'chana_dal', 'roti', 'onion', 'wheat_flour', 'potato', 'jeera', 'spinach', 'yellow_dal', 'chilli_powder', 'mustard', 'green_chillies', 'turmeric_powder', 'sunflower_oil', 'tomatoes', 'chicken_stock', 'soy_sauce', 'pepper', 'salt', 'eggs', 'cabbage', 'lettuce', 'paneer', 'tomato', 'onion', 'ghee', 'cumin', 'capsicum', 'salt', 'garam_masala', 'coriander_powder', 'cumin_powder', 'potato', 'salt', 'red_pepper_powder', 'cabbage', 'sunflower_oil', 'fried_potatoes', 'potatoes', 'salt', 'red_chilli_powder', 'grounded_turmeric', 'grounded_coriander', 'water', 'butter', 'potato', 'chili_powder', 'paprika_powder', 'cornflower', 'vegetable_oil', 'sphagetti', 'cheese', 'alfredo_sauce', 'prawn', 'salt', 'brocolli', 'capsicum', 'oregano', 'ginger_garlic_paste', 'noodle', 'salt', 'maggi_masala', 'onion', 'peas', 'refined_oil', 'chicken', 'potatoes', 'rice', 'sesame_seeds', 'vinegar', 'rice', 'ghee', 'salt', 'chickpeas', 'tomato', 'onion', 'channa_masala', 'chicken', 'lettuce', 'tomatoes', 'onions', 'bell_peppers', 'cucumbers', 'tzatziki_sauce', 'barbecue_sauce', 'hot_sauce', 'cheese', 'olives', 'salt', 'pepper', 'garlic_powder', 'chili_powder', 'chick_peas', 'onion', 'tomato', 'spice_mix', 'garlic_paste', 'burger_bread', 'lettuce', 'onion', 'chicken', 'mayo', 'sunflower_oil', 'bread_crumps', 'ginger_garlic_paste', 'chilli_powder', 'salt', 'chicken_masala', 'boneless_chicken', 'yogurt', 'garlic', 'olive_oil', 'cumin', 'paprika', 'turmeric', 'coriander', 'cinnamon', 'cayenne_pepper', 'salt', 'pita_bread', 'lettuce', 'pickles', 'rice', 'vegetable_oil', 'egg', 'small_potatoes', 'rajhma', 'spice', 'onion', 'corn', 'tortillas', 'shredded_chicken', 'cheese', 'black_beans', 'sauce', 'onion', 'tomato', 'lettuce', 'salmon', 'rice', 'nori', 'cucumber', 'carrot', 'avocado', 'egg', 'butter', 'salt', 'mutton', 'onion', 'green_chillies', 'garam_masala', 'garlic_paste', 'cumin_powder', 'chilly_powder', 'salt', 'pepper', 'turmeric_powder', 'spices', 'oil', 'yoghurt', 'gram_flour', 'onions', 'garlic', 'ginger', 'tomato', 'green_chilli', '_red_chilli', '_black_pepper', '_turmeric', 'salt', 'yoghurt', 'water', 'vegetable_oil', 'coriander', 'cinnamon', 'chicken', 'garlic', 'bay_leaves', 'ground_cloves', 'ground_ginger', 'ground_coriander', 'turmeric', 'yellow_mustard_seeds', 'potato', 'salt', 'oil', 'lamb_chop_meat', 'onion', 'cumin_powder', 'oil', 'red_chilli', 'salt', 'noodles', 'meat', 'vegetable', 'beef_mince', 'american_cheese', 'ketchup', 'lettuce', 'brioche_buns', 'black_lentils', 'kidney_beans', 'kidney_beans', '_salt', '_turmeric_powder', '2_tablespoons_butter', '1_large_onion', '_finely_chopped', 'cloves_garlic', '_minced', 'ginger', '_grated', 'green_chilies', '_slit', '2_large_tomatoes', '_pureed', '_turmeric_powder', 'fresh_cream', 'salt_to_taste', 'chicken_fillets', 'chips', 'breaded_chicken', 'tortilla_wraps', 'barbecue_sauce', 'lettuce', 'carrot', 'beetroot', 'egg', 'white_rice', 'salt', 'black_pepper', 'water', 'cumin', 'garlic', 'ginger', 'onion', 'red_chilli_powder', 'turmeric', 'salt', 'petite_yellow_lentils', 'potato', 'tomato', 'onion', 'chillies', 'oil', 'bread', 'corn_flour', 'onion', 'garlic', 'carrot', 'celery', 'tinnned_tomatoes', 'thyme', 'tomato_puree', 'worcestershire_sauce', 'red_wine', 'beef_stock', 'vegetarian_mince', 'rigatoni_pasta', 'parmesan', 'boiled_eggs', 'chickpea_flour', 'turmeric_powder', 'rice', 'chicken', 'carrot', 'olive_oil', 'onion', 'tomato', 'indian_spices', 'chilli_powder', 'green_chilli', 'rice', 'red_kidney_beans', 'salt', 'spices', 'kidney_beans', 'tomatoes', 'onion', 'garlic', 'spices', 'rice', 'beef', 'noodles', 'coriander', 'chilli', 'salt', 'scallion', 'olive_oil', 'fried_noodles', 'schezwan_sauce', 'tomato_sauce', 'coriander_leaves', 'oregano', 'prok_chop', 'salt', 'soy_sauce', 'oyster_sauce', 'pepper', 'oil', 'chicken_breast', 'cheese', 'doritos', 'tomato_salsa', 'sweetcorn', 'peppers', 'chipotle_southwest_sauce', 'adai_mix', 'onions', 'coconut', 'green_chilli', 'jaggery', 'chicken', 'rice', 'ginger', 'garlic', 'onion', 'black_pepper', 'cocunut', 'indian_spices', 'instant_noodles', 'rape', 'pasta', 'minced_meat', 'tomato_sauce', 'rocket_leaves', 'tomatoes', 'rice', 'dal', 'egg', 'potato', 'green_chilli', 'carrots', 'beens', 'chilli_powder', 'turmeric_powder', 'spaghetti_pasta', 'tomato_sauce', 'beef_mince', 'tendon', 'vermicelli', 'chili', 'coriander', 'oil', 'noodles', 'egg', 'paprika', 'cumin', 'black_pepper', 'salt', 'garlic_powder', 'mushroom', 'rice', 'spices', 'oil', 'onion', 'tomatoes', 'eggs', 'mushrooms', 'garlic', 'scallions', 'sugar', 'soy_sauce', 'olive_oil', 'black_gram', 'bengal_gram', 'fenugreek_seeds', 'rice', 'salt', 'butter', 'rice_batter', 'baking_soda', 'rice', 'kokum', 'tamarind', 'waffle', 'banana', 'chocolate', 'chicken_wing', 'garlic', 'pizza_dough', 'marinara_sauce', 'mozzarella_cheese', 'chicken_pieces', 'peri_peri_sauce', 'olive_oil', 'garlic', 'lemon_juice', 'paprika', 'cumin_seeds', 'coriander', 'sumac', 'beef', 'pasta', 'garlic', 'herbs', 'parmesan_cheese', 'tomato', 'onion', 'rice_noodles', 'eggs', 'tofu', 'tamarind', 'fish_sauce', 'peanuts', 'lime', 'flour', 'dashi', 'eggs', 'salt', 'cabbage', 'spring_onions', 'mochi', 'octopus', 'ginger', 'okonomiyaki_sauce', 'mayonnaise', 'seaweed', 'bonito_flakes', 'chicken_wings', 'paprika', 'salt', 'pepper', 'onion_powder', 'garlic_powder', 'chinese_cabbage', 'crab_sticks', 'chilli_pepper', 'garlic', 'salad_onion', 'lamb_ribs', 'lemon', 'salt', 'black_pepper', 'tomatoes', 'fennel', 'vegetarian_sausages', 'pasta', 'shallots', 'garlic', '_brocolli', 'tortilla', 'spinach', 'basil', 'parsley', 'coriander', 'turkish_cheese', 'salt', 'black_pepper', 'garlic', 'pepper', 'onion', 'tomatoes', 'sweetcorn', 'spinach', 'carrots', 'red_wine', 'spagetti', 'mushroom', 'olive_oil', 'maggi', 'curry_powder', 'chicken', 'palm_oil', 'sunflower_oil', 'thyme', 'chilli_pepper', 'chicken_stock', 'salt', 'bread', 'butter', 'salmon', 'tomato_passata', 'cucumbers', 'lettuce', 'onions', 'potatoes', 'spaghetti', 'spring_onion', 'rice', 'peas', 'paneer', 'onion', 'garlic_sauce', 'vegetable_oil', 'mustard_seeds', 'cumin_seeds', 'flattened_rice', 'onion', 'green_chilly', 'mustard_seeds', 'cumin_seeds', 'turmeric_powder', 'peanuts__salt', 'wheat_flour', 'chickpeas', 'tomato', 'onion', 'potato', 'spices', 'beans', 'toast', 'chicken', 'green_pepper', 'salt', 'garlic', 'soy_sauce', 'oyster_sauce', 'oil', 'beef', 'potato', 'onion', 'avacado', 'mayonnaise', 'cabbage', 'tortilla', 'chicken_leg', 'salt', 'garlic_powder', 'smoked_paprika', 'olive_oil', 'chilli_powder', 'sweet_peppers', 'olives_spinach', 'sweetcorn', 'cucmber', 'tomato', 'potatoes', 'onion', 'tomatoes', 'vegetable_oil', 'cumin_seeds', 'ginger', 'garlic', 'green_chilli', 'red_chilli_powder', 'turmeric_powder', 'coriander_powder', 'garam_masala_powder', 'coriander_leaves', 'chicken', 'rice', 'potato', 'chili_powder', 'grilled_eel', 'rice', 'soy_sauce', 'mirin', 'sugar', 'sake', 'chicken_pieces', 'lemon', 'herbs', 'chilli_flakes', 'olive_oil', 'garlic', 'lemon_juice', 'paprika', 'cumin_seeds', 'coriander', 'sumac', 'tortilla_wraps', 'barbecue_sauce', 'lettuce', 'carrot', 'beetroot', 'smoked_boneless_chicken', 'garlic_mayonese', 'shawarma_roti', 'salt', 'chopped_onions', 'red_chilly_powder', 'flour', 'butter', 'sugar', 'yeast', 'milk', 'almonds', 'beef_patty', 'cheddar', 'cheese', 'bacon', 'onion', 'gherkin', 'bbq_sauce', 'brioche', 'flour', 'cane_sugar', 'chana_dal', 'refined_oil', 'turmeric_powder', 'ghee', 'semolina', 'salt', 'chicken', 'rice', 'shrimp', 'onions', 'porret', 'chilli', 'oil', 'etc', 'fox_tail_millet', 'butter', 'pomegranate', 'chicken', 'olive_oil', 'yoghurt', 'flour', 'egg', 'garlic', 'lemon', 'lentil', 'white_rice', 'minced_beef', 'tomato', 'onion', 'dates', 'seeded_bun', 'chicken_fillet', 'lettuce', 'mayoniaise', 'cheese', 'potato', 'vegetable_oil', 'cow_trotters', 'curry_sauce', 'bread_buns', 'curry_paste', 'chicken', 'egg_noodles', 'wheat_flour', 'oil', 'potato', 'tomato', 'onion', 'rice', 'cooked_basmati_rice', 'sliced_boneless_chicken', 'finely_chopped_carrots', 'cabbage', 'minced_garlic', 'green_chilies', 'soy_sauce', 'schezwan_sauce', 'tomato_ketchup', 'black_pepper_powder', 'green_onions', 'oil', 'moong_dal_flour', 'tomato', 'onion', 'chillies', 'rice', 'lentils', 'oats', 'salt', 'olive_oil', 'butter', 'saffron', 'pork_tender_bone', 'cilantro', 'salt', 'soy_sauce', 'oyster_sauce', 'oil', 'cooked_mandazi', 'rice', 'salt', 'water', 'tomato', 'onions', 'olive_oil', 'chicken', 'turmeric_powder', 'salt', 'pepper', 'butter', 'yogurt', 'meatballs', 'potatoes', 'rocket_leaves', 'tomato_sauce', 'double_cream', 'pasta', 'chicken', 'spinach', 'garlic', 'mushrooms', 'olive_oil', 'spinach', 'oil', 'garlic', 'salt', 'custard_powder', 'plain_cake', 'almond', 'sugar', 'spices', 'dosa_dough', 'chatney_powder', 'oil', 'salt', 'rice', 'split_pigeon_peas', 'chickpeas', 'green_gram', 'garlic', 'black_gram', 'cumin', 'roasted_gram', 'dry_red_chilli', 'salt', 'oil', 'moong_dal', '4_cups_water', '2_tomatoes', '_chopped', 'ginger', 'green_chilies', 'caramel', 'pecans', 'vanilla', 'butter', 'milk', 'red_kidney_beas', 'potatoes', 'tomatoes', 'chilly_powder', 'wheat_flour', 'butter', 'salt', 'curry_leaves', 'rice_flour', 'carrots', 'beans', 'corn', 'potatoes', 'red_cabbage', 'lettuce', 'tahini_sauce', 'chilli_powder', 'breadcrumbs', 'oil', 'oats', 'strawberry_jam', 'milk', 'egg', 'red_chilli_powder', 'salt', 'black_pepper', 'vegetable_oil', 'white_bread', 'flour', 'salt', 'yeast', 'oil', 'ricotta', 'nutella', 'icing_sugar', 'mushroom', 'spices', 'oils', 'chillies', 'salmon_fish', 'onions', 'garlic', 'ginger', 'tomato', 'green_chilli', 'red_chilli', 'black_pepper', 'turmeric', 'yoghurt', 'salt', 'vegetable_oil', 'paprika', 'cumin', 'coriander', 'cinnamon', 'soy', 'fresh_lemon', 'pasta', 'unsalted_butter', 'heavy_cream', 'salt', 'black_pepper', 'garlic_powder', 'fresh_parsley', 'bread', 'potato', 'tomato', 'egg', 'mushroom', 'bread', 'gherkin', 'beef', 'mayonnaise', 'rice', 'sunflower_oil', 'egg', 'fish', 'onion', 'tomato', 'curry_powder', 'salt', 'curry_leaves', 'chicken', 'garlic_bread', 'chips', 'chicken', 'spices', 'onion', 'ginger_garlic_paste', 'oil', 'oats', 'milk', 'gram_flour', 'yogurt', 'cumin_seeds', 'mustard_seeds', 'coriander', 'garlic', 'rice', 'black_gram', 'fenugreek_seeds', 'sesame_oil', 'moth_bean_sprouts', 'onion', 'tomato', 'turmeric_powder', 'red_chilli_powder', 'bun', 'pasta', 'cheese', 'olive_oil', 'capsicum', 'onions', 'salt', 'pepper', 'oregano', 'flour', 'water', 'oil', 'toor_dal', 'cumin_seeds', 'garlic', 'ginger', 'onion', 'chilli', 'tomatoes', 'turmeric', 'red_chilin_powder', 'garam_masala', 'salt', 'kasuri_methi', 'coriander_leaves', 'lemon', 'ghee', 'hing', 'chicken_breast', 'lettuce', 'carrot', 'beetroot', 'apple_cider_vinegar', 'soy_milk', 'white_sugar', 'plain_flour', 'cocoa_powder', 'baking_powder', 'salt', 'oil', 'vanilla_extract', 'red_food_colouring', 'baking_soda', 'white_vinegar', 'vegan_cream_cheese', 'icing_sugar', 'cornstarch', 'wheat_flour', 'indian_spices', 'potato', 'onion', 'ladyfingers', 'massor_pulses', 'noodles', 'brocolli', 'babycorn', 'onion', 'carrot', 'soya_sauce', 'oil', 'lamb', 'olive_oil', 'butter', 'quinoa', 'tomato', 'red_sweet_pepper', 'cumin', 'olive_oil', 'lettuce_leaves', 'whole_wheat', 'spices', 'paneer', 'rice', 'dal', 'onions', 'tomato', 'sambar_powder', 'papadam', 'oil', 'chicken', 'nashville_hot_sauce', 'breadcrumbs', 'oil', 'brioche_buns', 'lettuce', 'mayonnaise', 'pizza_dough', 'tomato_sauce', 'mozzarella_cheese', 'cooked_chicken', '_shredded', 'red_bell_pepper', '_sliced', 'green_bell_pepper', '_sliced', 'red_onion', '_thinly_sliced', 'mushrooms', '_sliced', 'sliced', 'olive_oil', 'salt_and_pepper', 'salad_leaves', 'fennel', 'cabbage', 'vegetarian_chicken_pieces', 'salad_dressing', 'grated_beef', 'chilly_powder', 'wheat_flour', 'oil', 'mint_sauce', 'cummen_seeds', 'onion', 'rice', 'boiled_egg', 'oil', 'tumeric', 'coriander_powder', 'red_chilli_powder', 'ginger', 'garlic', 'tumeric', 'onion', 'tomato', 'salt', 'rice', 'sweet_potatoes', 'corn', 'beef', 'lettuce', 'corn_flour', 'turmeric', 'mustard_seeds', 'oil', 'special_dhokla_flour', 'mushroom', 'minced_meat', 'dough', 'cheese', 'flour', 'onion', 'paneer', 'salt', 'water', 'omlette', 'rice', 'wholemeal_seeded_bread', 'halloumi_cheese', 'tomato', 'pesto', 'olive_oil', 'chilli_flakes', 'cooked_rice', 'water', 'eggs', 'tomato', 'red_pepper', 'onion', 'olive_oil', 'red_chilli', 'salt', 'garlic_powder', 'garlic', 'pepper', 'onion', 'tomatoes', 'sweetcorn', 'lamb_spinach', 'carrots', 'red_wine', 'spagetti', 'mushroom', 'olive_oil', 'maggi', 'curry_powder', 'salt', 'chicken', 'tomato', 'cabbage', 'bread', 'sauce', 'carrot', 'almond', 'cashew', 'fresh_cream', 'suger', 'saffron', 'desi_ghee', 'beef', 'onions', 'green_jalapenos', 'cheese', 'beans', 'lamb', 'tomato', 'pepper', 'chilli', 'butter', 'pumpkin', 'leek', 'carrots', 'oil', 'whole_wheat_pasta', 'tomato_puree', 'vegetables', 'italian_herbs', 'spices', 'lentis', 'chilli', 'basmati_rice', 'chopped_garlic', 'olive_oil', 'black_pepper', 'ginger_garlic_paste', 'butter', 'ghee', 'pasta', 'wheat', 'tuna', 'iceberg_lettuce', 'salt', 'egg', 'mustard', 'cucumber', 'black_pepper', 'cod', 'potato', 'oil', 'flour', 'yellow_lentil', 'salt', 'red_pepper_powder', 'cumin', 'rice', 'sunflower_oil', 'black_lentils', 'onions', 'garlic', 'ginger', 'tomato', 'green_chilli', 'red_chilli', 'black_pepper', 'turmeric', 'yoghurt', 'salt', 'water', 'vegetable_oil', 'cumin', 'coriander', 'clove', 'cinnamon', 'soy', 'chappati', 'mushroom', 'carrot', 'chilly_powder', 'dal', 'semolina', 'rice', 'fenugreek_seeds', 'onion', 'tomato', 'coconut', 'red_chilli', 'rice', 'water', 'salt', 'cumin', 'peas', 'ghee', 'carrot', 'french_beans', 'garlic', 'onion', 'ginder', 'turmeric', 'red_chilli', 'salt', 'garam_masala', 'biryani_masala', 'chicken', 'spices', 'onion', 'ginger_garlic_paste', 'oil', 'potato', 'green_chilli', 'flour', 'water', 'coriander', 'spices', 'vegetable_oil', 'mustard_seeds', 'cumin_seeds', 'yellow_lentils', 'tomato', 'onion', 'green_chilly', 'curry_leaves', 'pepper', 'turmeric_powder', 'coriander_powder', 'garam_masala', 'salt', 'cauliflower', 'yogurt', 'pepper_paste', 'tomato_paste', 'gram_flour', 'fenugreek_leaves', 'carom_seeds', 'onion', 'turmeric', 'red_chilli_powder', 'baking_soda', 'sunflower_oil', 'yoghurt', 'garlic_paste', 'chicken', 'carrots', 'mushroom', 'tofu', 'ginger', 'garlic', 'soy_souce', 'apples', 'peanut_butter', 'honey', 'potato', 'pizza_dough', 'tomato_sauce', 'onions', 'red_cabbage', 'cheese', 'pine_nuts', 'etc', 'ghee', 'chicken', 'onion', 'tomato', 'red_chili_powder', 'coriander_powder', 'pickle_masala', 'mango_pickle', 'green_chili_pepper', 'whole_spice_powder', 'yogurt', 'oil', 'carrot', 'tomato', 'onion', 'beans', 'red_chilly_powder', 'rice', 'salt', 'egg', 'butter', 'double_cream', 'sugar', 'cinamon', 'vanilla_extract', 'white_bread', 'black_eyed_bean', 'tomato', 'onion', 'salt', 'spices', 'wheat_flour', 'schezwan', 'rice', 'chicken', 'onion', 'spices', 'salt', 'oil', 'fusilli', '_pasta_sauce', 'butter', 'celery', 'cheese', 'oats', 'milk', 'honey', 'chocolate_and_coffee', 'bread', 'egg', 'cheese', 'onion', 'oil', 'milk', 'chilli_flakes', 'mayonnaise', 'cheese', 'corn', 'milk', 'creame', 'peper', 'salt', 'macroni', 'black_lentils', 'red_kidney_beans', 'onions', 'tomatoes', 'vegetable_oil', '_canola_oil', 'ghee', 'garlic_paste', 'green_chilies', 'cream_or_butter', 'cumin_seeds', 'turmeric_powder', 'garam_masala', 'red_chili_powder', 'salt', 'fresh_cilantro_leaves', 'water', 'allpurpose_flour', 'sugar', 'baking_powder', 'rice', 'water', 'coconut_milk', 'salt', 'oil', 'rice_flour', 'wheat_flour', 'gram_flour', 'salt', 'green_chili', 'turmeric', 'potatoes', 'gram_flour', 'turmeric_powder', 'red_chilli_powder', 'mustard_seeds', 'cumin_seeds', 'asafoetida', 'curry_leaves', 'garlic', 'green_chillies', 'salt', 'oil', 'bread_rolls', 'tamarind_chutney', 'green_chutney', 'creme_fraiche', 'rigatoni_pasta', 'lemon', 'mushroom', 'tarragon', 'cheese', 'leek', 'chicken_strips', 'bread_buns', 'mayonaise', 'cheese', 'beef', 'rice_noodle', 'pho_soup', 'garlic', 'morning_glory', 'beef', 'potato', 'lettuce', 'flour', 'salt', 'soy_sauce', 'oyster_sauce', 'oil', 'beef_brisket', 'cardamon', 'sugar', 'milk_powder', 'rose_syrup', 'flour', 'baking_powder', 'saffron', 'rice', 'onion', 'chicken', 'spices', 'oil', 'carrot', 'beans', 'mixed_vegetables', 'green_peas', 'pav_bhaji_masala', 'butter_and_pav', 'asparagus', 'olive_oil', 'salt', 'coconut', 'ginger', 'green_chilly', 'coriander_leaves', 'toor_dal', 'onion', 'tomato', 'chicken', 'paprika', 'cayenne_pepper', 'garlic_powder', 'onion_powder', 'sugar', 'ginger', 'potato', 'chili_powder', 'vegetable_oil', 'dosa_rava_premix', 'curd_salt', 'turmeric_powder', 'mix_spices', 'salt', 'water', 'tomato', 'cumin_seed', 'sweet_neem_leaves', 'bagel', 'cucumber', 'grapes', 'baby_bell', 'rice', 'water', 'salt', 'cumin', 'peas', 'ghee', 'penne_pasta', 'green_cauliflower', 'bacon', 'water', 'breadcrumbs', 'olive_oil', 'salt', 'chilli_flakes', 'chilli_powder', 'cumin_seeds', 'paprika', 'oregano', 'garlic', 'onion_powder', 'cilantro', 'lime_juice', 'lettuce', 'onions', 'lemon', 'jalapenos', 'carrot', 'potatoes', '_oil', 'black', 'lentil', 'red_lentil', 'yellow_lentil', 'onion', 'tomato', 'garlic_cloves', 'ginger', 'green_chilli', 'salt', 'grounded_turmeric', 'wheat_flour', 'butter', 'water', 'gluten', 'sugar_syrup', 'cardamom', 'dry_coconut_powder', 'oil', 'wheat', 'tomato_sauce', 'corn_flour', 'water', 'mozzarella_cheese', 'mild_cheddar_cheese', 'rapeseed_oil', 'salt', 'yeast', 'bread', 'cheese', 'onion', 'butter', 'mayonnaise', 'mustard', 'rice', 'cauliflowerl_spice', 'curry_powder', 'chicken', 'tomato', 'green_beans', 'potato', 'onion', 'carrot', 'turmeric', 'italian_herb_bread', 'chipotle_mayo_sauce', 'sweet_chilli_sauce', 'jalapeños', 'tomatoes', 'cucumber', 'lettuce', 'rice', 'chicken', 'coconut_milk', 'chilli', 'garlic_paste', 'curry_leaves', 'turmeric_powder', 'barbecue_flavoured_chicken', 'tortilla_wraps', 'barbecue_sauce', 'lettuce', 'carrot', 'beetroot', 'chickpea', 'tomato', 'onion', 'red_chilli_powder', 'coriander_powder', 'cumin_powder', 'salt', 'sugar', 'lemon', 'curry_leaves', 'musatard_seeds', 'asafoetida', 'all_purpose_flour', 'water', 'oil', 'paneer', 'indian_spices', 'oil', 'salt', 'bread', 'onion', 'tomato', 'ginger', 'garlic', 'chicken', 'yougurt', 'garlic_paste', 'chili_powder', 'salt', 'oil', 'black_peppercorns', 'cardamom_pods', 'cloves', 'tomatoes', 'capsicum', 'fresh_cream', 'chicken', 'bread_bun', 'fries', 'cheese', 'mayonaise', 'cheesy_coleslaw', 'corn', 'beans', 'greens', 'chicken', 'tortilla_wrap', 'onion', 'tomato', 'beef', 'wine', 'tomato', 'mushroom', 'garlic_sauce', 'wholewheat_pasta', 'mozzarella', 'chicken', 'potato', '_beans', 'small_bringals', 'kand', 'potatoes', 'green_peas', 'pigeon_peas', 'salt', 'vegetable_oil', 'ginger', 'garlic', 'carom_seeds', 'asafoetida', 'red_chilli_powder', 'turmeric_powder', 'sesame_seeds', 'coriander_seeds', 'fenugreek_leaves', 'water', 'shredded_boiled_chicken', 'tortilla_wrap', 'olive_oil', 'latus', 'onion', 'tomato', 'peri_peri_mayonnaise', 'chedder_cheese', 'salt', 'ground_black_pepper', 'red_chilli_powder', 'tomato', 'egg', 'noodles', 'yoghurt', 'granola', 'green_peas', 'paneer', 'whole_spices', 'ground_spices', 'whole_spices', 'onions', 'tomatos', 'garlic', 'ginger', 'rice', 'mustard_seeds', 'cumin_seeds', 'tumeric_powder', 'coriander_powder', 'black_pepper_powder', 'curd', 'carrot', 'tomato', 'oil', 'salt', 'milk', 'weetabix', 'sugar', 'smoked_eel', 'yellow_lentils', 'garlic', 'onions', 'chili_powder', 'cumin_seeds', 'curry_leaves', 'clarified_butter', 'salt', 'wheat', 'water', 'chili_peppers', 'spices', 'rice', 'red_kidney_beans', 'salt', 'spices', 'chicken_breast', 'olive_oil', 'pepper', 'herbs', 'lemon', 'lemon_zest', 'cucumber', 'tomatoes', 'onion', 'iceberg_lettuce', 'salad_cream', 'rice', 'sriracha_sauce', 'greek_feta_cheese', 'chili_flakes', 'egg', 'toast', 'avocado', 'cheese', 'bread', 'meat', 'onion', 'curd', 'cream', 'wheat_flour', 'potatoes', 'spices', 'garlic', 'onion', 'rice', 'ginger_garlic_paste', 'oatmeal', 'chocolate_powder', 'chiaseed', 'lentil', 'rice', 'salt', 'pepper', 'crispy_potatos', 'wheat_roti', 'cuccumber', 'carrot', 'pork', 'prawn', 'carrot', 'mushroom', 'lettuce', 'black_eyed_beans', 'potato', 'whole_spices', 'ground_spices', 'onions', 'tomatos', 'garlic', 'ginger', 'tomato_sauce', 'grilled_chicken', 'pepperoni', 'ham', 'black_olives', '_chicken', 'yogurt', 'tandoori_spice_blend', 'garlic_paste', 'lemon_juice', 'salt', 'vegetable_oil', 'cucumber', 'tomato', 'fresh_herbs', 'lemon_juice', 'olive_oil', 'ramen', 'crushed_tomatoes', 'heavy_cream', 'mixed_herbs', 'minced_beef', 'eggs', 'salt', 'pepper', 'butter', 'wok_style_noodles', 'soy_sauce', 'egg', 'chilli_oil', 'ginger_garlic_paste', 'chicken', 'potatoes', 'green_beans', 'peas', 'cabbage', 'mixed_herbs', 'chicken', 'flour', 'buffalo_sauce', 'drumstick', 'rice', 'vegetable_oil', 'red_lentils', 'curry_powder', 'ground_rice', 'water', 'tomato_paste', 'wheat', 'oil', 'water', 'salt', 'paneer', 'turmeric', 'chilli_powder', 'asafoetida', 'onion', 'garam_masala', 'paav_bhaji_masala', 'butter', 'yogurt', 'mung_bean', 'black_chickpeas', 'apple', 'orange_juice', 'chat_masala', 'lemon_juice', 'salt', 'eggs', 'chilli_powder', 'onions', 'tomatoes', 'cilantro', 'lemon', 'coriander_powder', 'oil', 'salt', 'egg', 'flour', 'cabbage', 'wheat_floor', 'oil', 'water', 'salt', 'tomato', 'onion', 'chilli', 'spices', 'semolina', 'ghee', 'mustard_seeds', 'chickpea_lentils', 'curry_leaves', 'green_chili', 'ginger', 'onion', 'mixed_vegetables', 'turmeric_powder', 'salt', 'water', 'red_lentils', 'onion', 'cherry_tomatoes', 'turmeric', 'aubergine', 'cumin_seeds', 'cardamom', 'garlic', 'coriander', 'rice', 'lettuce', 'salad_dressing', 'tomato', 'onion', 'cucumber', 'pigeon_pea', 'onion', 'tomato', 'ginger', 'garlic', 'olive_oil', 'cumin_seeds', 'parsley', 'rice', 'oil', 'mustard', 'garlic', 'turmeric', 'salt', 'rice', 'bay_leaf', 'black_pepper', 'asafoetida', 'cardamom', 'cinnamon', 'cloves', 'coriander', 'star_anise', 'sesame_seeds', 'egg', 'wheat', 'water', 'potato', 'spinash', 'wheat_flour', 'olive_oil', 'butter', 'chocolate_bar', 'water', 'flour', 'yeast', 'salt', 'sugar', 'rice', 'black_lentils', 'fenugreek_seeds', 'egg', 'tomato', 'onion', 'ginger', 'garlic', 'sunflower_oil', 'salt', 'turmeric_powder', 'chilli_powder', 'coriander_powder', 'garam_masala', 'cilantro', 'eggs', 'ham', 'pepper', 'dried_mutton', 'garlic_paste', 'mustard_oil', 'garam_masala', 'turmeric', 'onion', 'cumin_seeds', 'salt', 'red_peppers', 'coriander_leaves', 'chicken', 'sweet_chilli_sauce', 'oil', 'soya_sauce', 'fish', 'beans', 'orange', 'dried_chilli', 'smoked_paprika', 'mustard', 'honey', 'ketchup', 'olive_oil', 'chicken', 'egg', 'yoghurt', 'tomato', 'onion', 'ginger', 'garlic', 'eggs', 'rice', 'moong_lentil', 'gram_flour', 'chillies', 'cumin_seeds', 'tumeric_powder', 'chilli_powder', 'ginger', 'oil', 'salt', 'potato', 'beef', 'cheese', 'bun', 'green_beans', 'tomato', 'onion', 'garlic', 'olive_oil', 'chicken', 'onion', 'tomato', 'chilly_powder', 'coriander_powder', 'ginger_garlic_paste', 'coconut_powder', 'salt', 'bread', 'fries', 'chicken', 'avocado', 'onion', 'tomato', 'salt', 'pepper', 'coriander', 'bread', 'rice', 'ivy_guard', 'chilly_powder', 'chicken', 'tomato', 'carrot', 'spinash', 'green_apple', 'avocado', 'olive_oil', 'lemon_juice', 'fresh_herbs', 'salt_and_pepper', 'cummin_seeds', 'cottage_cheese', 'onion', 'tomato', 'ghee', 'coriander', 'spices', 'pork_slices', 'shrimp', 'wontons', 'spicy_oil', 'salmon', 'tofu', 'green_onion', 'cottage_cheese', 'sugar', 'flour', 'eggs', 'lentils', 'tumeric', 'salt', 'cloves_garlic', 'onion', 'cummin_seeds', 'vegetable_oil', 'flatbread', 'potatoes', 'meat', 'curry_sauce', 'rice', 'chicken', 'rabbit', 'vegetables', 'green_beans', 'garrofons', 'saffron', 'paprika', 'runner_beans', 'choclate', 'cocoa_mass', 'sugar', 'cocoa_butter', 'milk', 'skim_milk', 'flavouring', 'egg', 'noodles', 'chicken_curry_seasoning', 'fried_onions', 'chilli_sauce', 'potato', 'tomato', 'onion', 'chillies', 'cucmuber', 'bread', 'corn_flour', 'spices', 'tomato_sauce', 'cheese', 'bread', 'baked_beans', 'butter', 'cheese', 'egg', 'onion', 'ginger_garlic_paste', 'tomato', 'oil', 'spices', 'whole_wheat_flour', 'salt', 'flatbread', 'boiled', 'green_chilies', 'fresh_coriander_leaves', 'chopped', 'to_taste', 'whole_wheat_flour', 'potato', 'finely_chopped_onion', 'green_chilies', 'cumin_seeds', 'red_chili_powder', 'garam_masala', 'fresh_coriander_leaves', 'potato', 'rice', 'lentils', 'ghee', 'red_chili_powder', 'coriander_powder', 'garam_masala', 'mustard_seeds', 'cumin_seeds', 'ginger', 'tamarind', 'black_gram', 'salt', 'oil', 'coconut', 'soba_noodles', 'black_sesame_seeds', 'chilli_flakes', 'broth', 'soy_sauce', 'spring_onion', 'chicken', 'onion', 'tomato', 'salt', 'chicken', 'peppers', 'broccoli', 'onions', 'pineapples', 'tomato_sauce', 'lettuce', 'broccoli', 'falafel', 'zucchini', 'tomato_sauce', 'tortilla_wrap', 'pepper', 'noodles', 'salt', 'carrots', 'sauce', 'onion', 'olive_oil', 'tomato', 'green_chilli', 'crab', 'salmon', 'prawn', 'cucmber', 'seaweed', 'avocado', 'rice', 'sesame_seeds', 'brown_sugar', 'butter', 'granulated_sugar', 'milk', 'salt', 'vanilla_essence', 'all_purpose_flour', 'white_chocolate_chips', 'melted_white_chocolate', 'paneer', 'onion', 'oil', 'coriander', 'spices', 'salt', 'cod', 'potato', 'olives', 'onion', 'eggs', 'peppers', 'garlic_yoghurt', 'fried_butter', 'chili_sauce', 'raw_egg', 'mat_bean', 'onion', 'tomato', 'ginger', 'garlic', 'spices', 'chilli_powder', 'chips', 'bread', 'fried_chicken_fillet', 'cips', 'ketchup', 'lettuce', 'mayonaise', 'raw_eggs', 'oil', 'onion', 'tomato', 'casicum', 'spices', 'rice', 'eshmi_kebab', 'mutton', 'sheekh_kebab', 'salmon', 'chicken_tikka', 'prawns', 'rice', 'onion', 'tomato', 'coconut_milk', 'curry_paste', 'salt', 'broccoli', 'capsicum', 'carrot', 'flour', 'tomato', 'chicken', 'garlic', 'onion', 'tomatoes', 'black_peppercorn', 'coriander_seed', 'cumin_seed', 'whole_wheat_flour', 'all_purpose_flour', 'salt', 'water', 'rice', 'water', 'wheat_flour', 'salt', 'turmeric_powder', 'oil', 'pointed_gourd', 'potato', 'green_chilli', 'garlic', 'ginger', 'cumin', 'parotta', 'egg', 'onion', 'tomato', 'curry_leaves', 'indian_spices', 'rice', 'chicken', 'ghee', 'onion', 'oil', 'curd', 'spices', 'lentils', 'tamarind', 'vegetables', '_carrot', 'raddish', 'sweet_potato', 'salt', 'water', 'vegetable_oil', 'jaggery', 'wheat_penne', 'butter', 'wheat_flour', 'whole_milk', 'chilli_flakes', 'oregano', 'pepper', 'salt', 'pasta', 'lettuce', 'chicken', 'cheese', 'potatoes', 'rice', 'green_gram_beans', 'oil', 'tumeric', 'green_chilli', 'curry_leaves', 'garlic', 'cumin_seeds', 'caraway_seeds', 'salt', 'burger_buns', 'veg_patty', 'mayo', 'ketchup', 'cheese', 'italian_bread', 'unsalted_butter', 'garlic', 'salt', 'poha', 'chillies', 'onion', 'warm_spices', 'salt', 'colocasia_leaves', 'gram_flour', 'salt', 'tamarind_chutney', 'chocolate', 'eggs', 'flour', 'chocolate_sauce', 'vanilla_bean_icecream', 'maida', 'chicken', 'oil', 'onion', 'tomato', 'spices', 'rice', 'lentils', 'curry_sauce', 'wheat_flour', 'tomato', 'onion', 'lentilscoriander', 'spices', 'rigde_ground', 'onion', 'tomato', 'oil', 'mustard_seeds', 'asafoetida', 'curry_leaves', 'warming_spice_powder', 'red_chilli_powder', 'baby_chickpea', 'salt', 'garlic', 'ginger', 'green_chilli', 'fresh_spinach', 'canola_oil', 'cumin_seeds', 'onion_chopped', 'green_chile_pepper', 'cloves', 'garlic', 'tomatos', 'paneer', 'cream', 'chilli_flakes', 'cluster_bean', 'ghee', 'ginger_garlic_paste', 'wheat_flour', 'oil', 'crushed_garlic_powder', 'chicken', 'greek_yoghurt', 'garlic_paste', 'curry_powder', 'cumin', 'coriander', 'tumeric', 'paprika', 'chilli_powder', 'lemon_juice', 'peanut_butter', 'protein_powder', 'potato', 'onion', 'tomato', 'garlic_paste', 'oil', 'turmeric_powder', 'red_chilli_powder', 'coriander_powder', 'garam_masala', 'salt', 'water', 'coconut', 'curry_leaves', 'coriander_leaves', 'rice', 'peas', 'cloves', 'cinnamon_stick', 'ghee', 'beef', 'potatoes', 'peppers', 'flatbreads', 'pastry', 'egg', 'rice', 'eggs', 'water', 'sunflower_oil', 'light_soy_sause', 'salt', 'rice', 'potato', 'tomato', 'onion', 'cauliflower', 'carrot', 'broccoli', 'spices', 'brown_lentil', 'onion', 'tomato', 'garlic_paste', 'tumeric_powder', 'red_chilli_powder', 'bay_leaf', 'cinnamon_stick', 'warming_spice', 'oil', 'salt', 'potato', 'green_chilli', 'garlic', 'oinion', 'butter', 'salt', 'vegetable_oil', 'mustard_seeds', 'cumin_seeds', 'carrot', 'tomato', 'onion', 'green_chilly', 'pepper', 'turmeric_powder', 'coriander_powder', 'garam_masala', 'salt', 'bread', 'egg', 'vegetable_oil', 'butter', 'pepper', 'cumin_seeds', 'chicken_broth', 'red_chili_powder', 'grated_coconut', 'garlic', 'flour', 'baking_powder', 'butter', 'soda_bicarbonate', 'black_treacle', 'brown_sugar', 'eggs', 'chickpeas', 'onions', 'tomatoes', 'cumin_seeds', 'coriander_powder', 'garam_masala', 'dried_mango_powder', 'ho_fun', 'prawn', 'fish_balls', 'beansprouts', 'fried_shallots', 'onions', 'shrimp_paste', 'cookie', 'orange', 'eggs', 'butter', 'cottage_cheese', 'chives', 'toast', 'all_purpose_flour', 'finely_chopped_vegetables', 'salt', 'seaweeds', 'beans', 'puff_pastry', 'custard', 'icing_sugar', 'coffee_powder', 'ladyfingers', 'cream', 'potato', 'capsicum', 'cauliflower', 'tomatoes', '_onions', 'garlic', 'butter', 'oil', 'red_chilli_powder', 'salt', 'chicken', 'onion', 'tomato', 'lettuce', 'spices', 'mayonnaise', 'rice', 'kebab', 'garlic_potato', 'courgette', 'spicy_marinade', 'mixed_spices', 'eggs', 'sunflower_oil', 'onion', 'tomato', 'green_chili', 'paprika', 'coriander_powder', 'turmeric', 'salt', 'bread', 'hotdog', 'gherkin', 'ketchup', 'mayonnaise', 'mustard', 'flour', 'chana_dal', 'urad_dal', 'rice', 'fenugreek_seeds', 'onion', 'tomato', 'carrots', 'green_chilli', 'vegetable_balls', 'flour', 'cornstarch', 'soy_sauce', 'ginger', 'garlic_paste', 'green_chilies', 'onions', 'bell_peppers', 'spring_onions', 'salt', 'black_pepper', 'oil', 'water', 'soy_sauce', 'red_chili_sauce', 'ketchup', 'vinegar', 'sugar', 'rice_flour', 'tofu', 'soy_sauce', 'salt', 'corn', 'edamame', 'red_cabbage', 'lettuce', 'chicken_wings', 'flour', 'all_spice', 'salt', 'half_chicken', 'peri_bbq_marinade', 'mixed_salad', 'vanilla_icecream', 'chocolate_icecream', 'chocolate_brownie', 'chicken', 'chilli', 'soya_sauce', 'bell_peppers', 'onions', 'spring_onions', 'sugar_syrup', 'spinach', 'water', 'salt', 'pepper', 'butter', 'prawns', 'salt', 'pepper', 'broccoli', 'olive_oil', 'sooji', 'curd', 'coriander', 'chillies', 'pepper', 'curry_leaves', 'vegetable_oil', 'warm_spices', 'chicken', 'rice', 'flattened_rice', 'onions', 'spices', 'herbs', 'lemon_juice', 'peanuts_and_cookie', 'flour', 'sugar', 'chocolate', 'gram_flour', 'pulses', 'oil', 'salt', 'mixed_spices', 'chilli', 'tamarind', 'wheat_flour', 'onion', 'tomato_puree', 'potato', 'curd', 'indian_spices', 'boiled_cauliflower', 'sea_bream', 'whole_rice', 'white_rice', 'smoked_salmon', 'green_beans', 'cherry_tomatoes', 'olive_oil', 'salt', 'balsamic_vinegar', 'seeded_bread', 'rice', 'chicken', 'onion', 'tomato', 'ginger_garlic_paste', 'indian_spices', 'mint', 'sunflower_oil', 'turmeric_powder', 'eggs', 'milk', 'salt', 'pepper', 'cheese', 'chicken', 'smoked_paprika', 'pepper', 'mustard', 'honey', 'ketchup', 'dried_chilli', 'oil', 'penne_pasta', 'tomato_sauce', 'black_pepper', 'parsley_seasoning', 'semi_skimmed_milk', 'oats', 'salmon_fillet', 'broccoli', 'cucumber', 'sweet_pepper', 'salt', 'mixed_pepper', 'olive_oil', 'boiled_rice', 'chicken', 'salt', 'garlic', 'ginger', 'garam_masala', 'lemon', 'pepper_powder', 'coriander_powder', 'turmeric_powder', 'wheat_flour', 'chicken', 'tomato_paste', 'onion', 'garlic_powder', 'chilli_powder', 'rapeseed_oil', 'coriander', 'ground_cardamom', 'turmeric_powder', 'cumin_powder', 'chicken', 'tomato', 'oil', 'coriander', 'oil', 'tomatoes_and_onion', 'rice', 'black_lentils', 'salt', 'sunflower_oil', 'peanuts', 'ginger', 'mustard_seeds', 'green_chilli', 'onion', 'coconut', 'tomatoes', 'cucumber', 'red_onion', 'olives', 'oats', 'milk', 'apple', 'honey', 'pineapple', 'strawberry', 'pomegranate', 'vegetable_stock', 'butternut_squash', 'carrot', 'onion', 'celery', 'leek', 'garlic', 'olive_oil', 'salt', 'sage', 'black_pepper', 'spinach', 'cottage_cheese', 'cream', 'onion', 'tomato', 'beef', 'pork', 'rice', 'salad', 'oats', 'milk', 'minced_beef', 'tomato_sauce', 'mozzarella_cheese', 'olive_oil', 'white_lasagne_sauce', 'grilled_chicken', 'tortilla_bread', 'lettuce', 'tomatoes', 'onions', 'mayonaise', 'bbq_sauce', 'black_pepper', 'salt', 'chilli', 'salami', 'flour', 'chicken_breast', 'cheese', 'tomato_sauce', 'zucchini', 'green_beans', 'potato', 'lamb', 'onion', 'garlic', 'aubergine', 'chicken', 'tortillas', 'onions', 'garlic', 'mayonnaise', 'salt', 'pepper', 'red_kidney_beans', 'chilli_powder', 'butter', 'chopped_ginger', 'chopped_onion', 'refined_oil', 'ginger_garlic_paste', 'black_lentils', 'tomato', 'water', 'bread', 'jam', 'rice', 'carrot', 'green_peas', 'beans', 'onion', 'garlic', 'cilantro', 'salt', 'black_pepper', 'soya_sauce', 'egg', 'mushroom', 'vegetables', 'rice', 'pepper', 'rice', 'chilli_powder', 'turmeric_powder', 'tomato', 'potato', 'cumin_seeds', 'garlic', 'salt', 'beef', 'cheese', 'onion', 'pickles', 'bun', 'fries', 'brinjal', 'gram_flour', 'spice_mix', 'salt', 'red_chilli_powder', 'sunflower_oil', 'minced_beef', 'bread_crumbs', 'egg', 'spices', 'broccoli', 'potato', 'chinese_cabbage', 'vermicelli', 'pasta', 'fish_fillet', 'mozarealla_cheese', 'onion', 'tomato_paste', 'salt', 'black_pepper', 'thyme', 'olive_oil', 'chopped_garlic', 'yellow_pepper', 'garam_masala', 'chili_powder', 'turmeric', 'curry_powder', 'star_anise', 'cardamon', 'cloves', 'cinnamon_stick', 'oil', 'fish', 'water', 'rice', 'tomato', 'onion', 'yogurt', 'toast', 'cheese', 'beef', 'tomato', 'bay_leaves', 'clove', 'mustard_seeds', 'cumin_seed', 'chana_daal', 'ginger_garlic_paste', 'onions', 'salt', 'chilli_powder', 'sunflower_oil', 'vegetable_oil', 'cooked_rice', 'mustard_seeds', 'cumin_seeds', 'tomato', 'onion', 'green_chilly', 'pepper_powder', 'turmeric_powder', 'coriander_powder', 'garam_masala', 'salt', 'aubergine', 'plum_tomatoes', 'salt', 'black_pepper', 'olive_oil', 'garlic', 'dried_chilli', 'sugar', 'spaghetti', 'pecorino_romano', 'basil_leaves', 'chicken', 'bread', 'rice', 'lentils', 'potatoes', 'cumin_seeds', 'pork', 'potatoes', 'tomatoes', 'chillies', 'curry_leaves', 'salt', 'pepper', 'milk', 'oats', 'sugar', 'long_grain_rice', 'vegetable_oil', 'eggs', 'onion', 'spring_onions', 'sweetcorn', 'chicken', 'breadcrumbs', 'oil', 'rice', 'chicken_drumstick', 'masala_powder', 'vegetable_oil', 'herbs', 'spices', 'onion', 'cucumber', 'lettuce', 'carrot', 'noodles', 'vegetables', 'soy_sauce', 'tomato_ketchup', 'chilli_sauce', 'ginger', 'garlic', 'spring_onion', 'egg', 'rice', 'oil', 'onion', 'spices', 'salt', 'shiitake_mushroom', 'taro', 'salt', 'pepper', 'shiitake_soy_sauce', 'lemon_juice', 'sugar', 'minced_chili_pepper', 'ginger', 'oil', 'egg', 'milk', 'butter', 'milk_chocolate', 'granulated_sugar', '_flour', 'unsweetened_cocoa_powder', 'baking_powder', 'salt', 'white_chocolate', 'chocolate', 'flour', 'sugar', 'strawberries', 'baking_soda', 'red_lentils', 'basmati_rice', 'ghee', 'cumin', 'cloves', 'garlic', '_cinnamon_stick', '_tomato', 'coriander', 'red_chilli_powder', 'beef_meat_ball', 'mushroom', 'chinese_leaves', 'garlic', 'egg', 'rice', 'broccoli', 'soy_sauce', 'oysters', 'ham', 'rice', 'zucchini', 'red_lentils', 'oil', 'salt', 'onions', 'rice', 'chicken', 'mushrooms', 'onion', 'cloves', 'bay_leaves', 'cream', 'milk', 'parmesan_cheese', 'ground_black_pepper', 'chilli_powder', 'olive_oil', 'butter', 'salt', 'water', 'whole_wheat_pasta', 'tofu', 'spaghetti', 'gochujang', 'soy_sauce', 'miso_paste', 'peanut_butter', 'lime_juice', 'rice_wine_vinegar', 'sesame_seeds', 'garlic', 'ginger', 'black_pepper', 'spring_onion', 'coriander', 'water', 'potato', 'onion', 'salt', 'indian_spices', 'corriander_leaves', 'salt', 'ginger_garlic_paste', 'rice_flour_batter', 'salt', 'onion', 'tomato', 'sunflower_oil', 'urad_dhal', 'thor_dhal', 'sambar_powder', 'rice', 'carrot', 'beans', 'chicken', 'onion', 'soy_sauce', 'potato', 'wheat_flour', 'tumeric_powder', 'curry_leaves', 'onion', 'oil', 'caraway_seeds', 'garlic', 'ginger', 'salt', 'flour', 'salt', 'water', 'ghee', 'eggs', 'pepper', 'garlic', 'ginger', 'red_pepper', 'yellow_pepper', 'mushroom', 'mange_tout', 'bean_sprouts', 'soy_sauce', 'cornflour', 'coconut_milk', 'brown_rice', 'tofu', 'coarse_wheat', 'carrot', 'onion', 'ginger', 'green_peas', 'french_beans', 'peanuts', 'raisins', 'boiled_red_lentils', 'onion', 'tomato', 'green_chili', 'ginger_garlic_paste', 'ghee', 'cumin', 'red_chili_powder', 'turmeric', 'salt', 'ghee', 'dal', 'semolina', 'rice', 'fenugreek_seeds', 'coconut', 'red_chilli', 'mustard', 'curry_leaves', 'chilli_powder', 'turmeric_powder', 'rice', 'black_gram_lentils', 'fenugreek_seeds', 'split_chickpeas', 'potatoes', 'onions', 'green_chillies', 'ginger', 'mustard_seeds', 'cumin_seeds', 'curry_leaves', 'turmeric_powder', 'salt', 'oil', 'carrots', 'drumsticks', 'eggplant', 'okra', 'tamarind_pulp', 'sambhar_seasoning', 'asafoetida', 'red_chillies', 'baby_chickpea', 'mutton', 'oil', 'chilli_powder', 'salt', 'pepper', 'turmeric_powder', 'coriander_powder', 'chicken', 'redchilli', 'salt', 'chicken_powder', 'pomfret', 'coconut', 'tamarind', 'ginger', 'garlic', 'green_chilies', 'curry_leaves', 'turmeric_powder', 'red_chili_powder', 'coriander_powder', 'curry_leaves', 'slat', 'coconut_oil', 'rice', 'wheat_flour', 'oil', 'water', 'paneer', 'masalas', 'onions', 'tomato', 'sugar', 'flour', 'chocolate_spread', 'strawberry', 'yeast', 'water', 'salt', 'flour', 'oil', 'chicken', 'tamarind_water_onion', 'ginger', 'garlic', 'fresh_coconut', 'poppy_seeds', 'cloves', 'cinnamon_stick', 'black_pepper_corns', 'cumin_seeds', 'coriander', 'fennel_seeds', 'turmeric_powder', 'sesame_seeds', 'fenugreek_seeds', 'bread', 'sugar', 'egg', 'milk', 'cinnamon_powder', 'boiled_rice', 'chickpeas', 'onion', 'green_chilli', 'chilli_powder', 'turmeric_powder', 'salt', 'coriander_powder', 'coconut_milk', 'beef', 'lemon', 'pho_soup', 'chili', 'bean_sprouts', 'cauliflower', 'vegan_cheese', 'broccoli', 'potato', 'tomatoes', 'olive_oil', 'flour', 'nutritional_yeast', 'black_pepper', 'oat_milk', 'bay_leaves', 'peas', 'mange_tout', 'rice', 'mixed_vegetables', 'fried_rice_masala', 'oil', 'onions', 'salt', 'basmati_rice', 'ghee', 'onion', 'water', 'green_chili', 'salt', 'cashewnuts', 'raisins', 'cinnamon', 'cloves', 'cardamoms', 'star_anise', 'bay_leaf', 'plantain', 'tomatoes', 'pepper', 'corriander', 'shredded_beef', 'wheat_flour', 'indian_spices', 'egg', 'pepper', 'chilli', 'salt', 'water', 'salt', 'cauliflower', 'plain_flour', 'ginger_garlic_paster', 'oil', 'green_chili', 'onions', 'capsicum', 'vinegar', 'soy_sauce', 'crushed_pepper', 'spring_onions', 'oats', 'onion', 'chillies', 'tomato', 'curd', 'salmon', 'rice', 'onion', 'oil', 'spices', 'chicken', 'rice', 'oil', 'salt', 'pepper', 'tomato', 'pea', 'cucumber', 'olives', 'yogurt', 'flour', 'chicken', 'breadcrumbs', 'oil', 'chicken', 'yoghurt', 'lemon_juice', 'ginger', 'garlic', 'salt', 'turmeric_powder', 'chilli_powder', 'coriander_powder', 'sunflower_oil', 'pasta', 'olives', 'cheese', 'flour', 'jalapenos', 'onions', 'capsicum', 'spices', 'wheat_flour', 'salt', 'water', 'chicken', 'rice', 'egg', 'vegetable_oil', 'soy_sauce', 'sesame_oil', 'onions', 'peas', 'carrots', 'green_onions', 'chicken_breast', 'bread', 'mayonnaise', 'sour_cream', 'fresh_dill', 'pickles', 'onion', 'salt', 'pepper', 'noodles', 'prawns', 'tomato', 'mushroom', 'bean_sprouts', 'spinach', 'sesame_seed', 'sesame_oil', 'soy_sauce', 'garlic', 'sugar', 'potatoes', 'bread_crumbs', 'green_chilies', 'ginger', 'cumin_seeds', 'garam_masala', 'red_chili_powder', 'coriander_powder', 'salt', 'oil_for_frying', 'fresh_coriander_leaves', 'lemon_juice', 'for_garnish', 'tamarind_chutney', 'chicken_breast', 'brown_rice', 'lettuce', 'sweet_pepper', 'parsley', 'cherry_tomato', 'fennel', 'coriander', 'salt', 'mixed_pepper', 'black_pepper', 'olive_oil', 'balsamico', 'rice', 'batter', 'indian_cottage_cheese', 'onion', 'tomato', 'spices', 'chashew', 'olive_oil', 'wheat_flour', 'sultanas', 'sugar', 'raisins', 'wheat', 'cider', 'palm_oil', 'rum', 'brandy', 'humactant', 'salt', 'mixed_spices', 'orange_oil', 'yeast', 'cottage_cheese', 'onion', '_tomatoes', 'cashew_nut', 'green_chillies', 'coriander_powder', 'chilli_powder', 'garam_masala', 'cumin_powder', 'salt', 'butter', 'dried_fenugreek_leaves', 'coriander_leaves', 'broken_wheat', 'tomato', 'onion', 'spice_mix', 'sunflower_oil', 'salt', 'red_chilli_powder', 'flour', 'salt', 'water', 'ghee', 'lentils', 'tomatoes', 'pork_ribs', 'green_beans', 'soybean_oil', 'light_soy_sauce', 'oyster_sauce', 'cooking_wine', 'salt', 'scallion', 'chicken', 'spices', 'peas', 'tortila', 'chicken', 'olive_oil', 'salt', 'spices', 'garlic', 'ginger', 'capsicum', 'pasta', 'beef', 'onion', 'green_pepper', 'olive_oil', 'coriander', 'soy_sauce', 'hot_sauce', 'chickpea', 'rice', 'salt', 'red_pepper', 'salt', 'garam_masala', 'carrot', 'cucumber', 'sunflower_oil', 'chicken', 'water', 'vegetable_oil', 'mustard_seeds', 'cumin_seeds', 'coconut', 'tomato', 'onion', 'red_chilly_powder', 'coriander_powder', 'cumin_powder', 'curry_leaves', 'salt', 'cabbage', 'salt', 'lard', 'prawn', 'wheat_flour', 'salt', 'beetroot', 'spices', 'cooked_rice', 'vegetables', 'chicken', 'sauce', 'beef', 'potato', 'soysauce', 'garlic', 'ginger', 'vegetable_oil', 'egg', 'oil', 'spices', 'chicken', 'seasoning', 'salt', 'mozzarella_cheese', 'flour', 'potato_starch', 'bbq_sauce', 'milk', 'honey', 'cornflakes', 'oats', 'chocolate_whey_protein', 'milk', 'mixed_berries', 'eggs', 'pasta', 'garlic', 'butter', 'oregano', 'lamb', 'chilli_powder', 'salt', 'cumin_powder', 'coriander_powder', 'oil', 'chicken_breast', 'lemon_herb_sauce', 'fries', '2_weetabix_biscuits', 'milk', 'chicken', 'flour', 'noodles', 'korean_chili_sauce', 'rice', 'green_peas', 'tomato', 'potato', 'spices', 'potato', 'dal', 'onion', 'rice', 'spices', 'oil', 'coriander_leaves', 'yogurt', 'vaniila', 'carrot', 'eggs', 'oil', 'olive_oil', 'onion', 'garlic', 'capers', 'chilli_flakes', 'tomatoes', 'vegetable_stock', 'spaghetti', 'black_pepper', 'yogurt', 'chaat_masala', 'phulki', 'apple', 'potato', 'tomato_sauce', 'mozzarella_cheese', 'pizza_dough', 'vegetables', 'carrots', 'paneer', 'boiled_corn_kernels', 'chopped_garlic', 'olive_oil', 'salt', 'black_pepper', 'sizzler_sauce', 'olives', 'red_chili_flakes', 'oregano', 'noodles', 'chicken_nuggets', 'butter', 'soya_sauce', 'chicken', 'basmati_rice', 'onions', 'tomatoes', 'ginger_garlic_paste', 'cardamom', 'cloves', 'cinnamon', 'bay_leaves', 'yogurt', 'mint', 'coriander', 'ghee', 'chicken_stock', 'dried_radish', 'salt', 'chilli', 'beef', 'cheese', 'bun', 'okra', 'onion', 'green_chilli', 'garlic', 'ginger', 'coconut_oil', 'salt', 'peanut_butter', 'peanut_butter_spread', 'whole_milk', 'coffee_powder', 'cashews', 'bun', 'potato', 'tomato', 'onion', 'mayonnaise', 'tomato_ketchup', 'spices', 'cheese_slice', 'chickpea', 'rice', 'tomato', 'onion', 'garlic', 'indian_spices', 'yogurt', 'granola', 'mango_pieces', 'oats', 'green_peas', 'spice_mix', 'rice_cake', 'noodles', 'seaweed', 'gyoza', 'lamb', 'large_onion', 'garlic_clove', 'crushed', 'ghee', 'ground_coriander', 'ground_cumin', 'ground_turmeric', 'black_pepper', 'garam_masala', 'bay_leaves', 'cinnamon_sticks', 'yogurt', 'tomatoes', 'skinned_and_salt', 'cauliflower', 'potatoes', 'wheat_flour', 'salt', 'water', 'oil', 'wrap', 'falaffel', 'houmous', 'carrot', 'salad', 'salad_dressing', 'cucumber', 'potato', 'indian_spices', 'salt', 'onion', 'wheat_flour', 'salt', 'oil', 'corriander_leaves', 'basmati_rice', 'oil', 'onion', 'green_chilies', 'ginger', 'peas', 'beans', 'bay_leaf', 'cloves', 'cumin_seeds', 'cinnamon_sticks', 'garam_masala', 'turmeric_powder', 'peanut_oil', 'wood_fungus', 'fat_beef', 'mutton', 'coriander', 'tripe', 'mushroom', 'beancurd', 'green_vegetables', 'shrimps', 'chicken', 'mushrooms', 'eggs', 'butter', 'garlic', 'onions', 'salt', 'mixed_herbs_seasoning', 'red_chilli_powder', 'milk', 'cheese', 'water', 'rice', 'wheat_flour', 'vegetables', 'green_peas', 'turmeric_powder', 'coriander_leaves', 'salt', 'cumin_seeds', 'ghee', 'olive_oil', 'water', 'mix_spices', 'toor_dal', 'amaranthus_leaves', 'salt', 'red_hilly', 'egg', 'oil', 'spices', 'salt', 'brinjal', 'onion', 'vegetable_oil', 'cumin', 'salt', 'chilli_powder', 'mustard_seeds', 'asafoetida', 'turmeric', 'eggs', 'salt', 'pepper', 'green_chilli', 'onion', 'tomato', 'butter', 'eggplant', 'semolina', 'salt', 'pepper', 'red_chili_powder', 'vegetable_oil', 'sago', 'pea', 'green_chilly', 'potatoes', 'wheat', 'polenta', 'salt', 'parmesan', 'butter', 'spaghetti', 'beef', 'bacon', 'oatmeal_bread', 'oatmeal', 'wheat', 'yeast', 'salt', 'barley', 'tuna', 'mayonnaise', 'pigeon_pea', 'ginger', 'dry_red_chillies', 'shallots', 'salt', 'curry_leaves', 'coconut_oil', 'chicken', 'green_chill', 'onion', 'turmeric_powder', 'greek_yogurt', 'garam_masala', 'garlic_cloves', 'red_chilli_powder', 'chicken_masala', 'basmati_rice', 'sunflower_oil', 'lemon_juice', 'salt', 'water', 'cooked_pasta', 'water', 'chicken', 'tomato', 'red_pepper', 'onion', 'olive_oil', 'red_chilli', 'salt', 'garlic_powder', 'courgette', 'aubergine', 'peppers', 'peas', 'rice', 'red_lentils', 'ginger', 'garlic', 'turmeric', 'butter', 'garam_masala', 'amchur', 'salt', 'tomato_puree', 'paneer', 'warm_spices', 'tomato', 'capsicum', 'salt', 'olive_oil', 'pepper', 'chicken', 'curd', 'mint', 'lemon', 'chilli_powder', 'vanilla_custard', 'egg_yolk', 'milk', 'raspberries', 'tomatoes', 'curry_sauce', 'flatbread', 'pepper', 'carrot', 'crouton', 'potato', 'mayonnaise', 'chilli', 'flour', 'vinegar', 'tomato', 'worcester_sauce', 'basil', 'toor_dal', 'onions', 'white_rice', 'turmeric_powder', 'green_chilli', 'garlic', 'tomato', 'salt', 'vegetable_oil', 'mustard', 'cumin_seeds', 'red_chilli', 'asafoetida', 'onion', 'banana', 'refined_flour', 'sugar', 'salt', 'baking_soda', 'refined_oil', 'butter', 'water', 'flat_noodles', 'chillies', 'lemon', 'cilantro', 'chicken_broth', 'prawns', 'soy_sauce', 'chilli_sauce', 'vineger', 'onions', 'mushrooms', 'carrot', 'celery', 'tomato', 'courgette', 'babycorn', 'brussels_sprout', 'red_onion', 'italian_seasoning_mix', 'vegetable_broth', 'sourdough_bread', 'chicken_thighs', 'curry_powder_seasoning', 'spinach', 'flour', 'milk', 'butter', 'beef_stock', 'cottage_cheese', 'cheddar_cheese', 'pasta', 'meat', 'bread', 'onion', 'potatoes', 'salmon', 'ground_pepper', 'salt', 'oil', 'salmon', 'seaweed', 'avocado', 'rice', 'sesame_seeds', 'white_rice', 'french_beans', 'carrot', 'potato', 'aubergine', 'radish', 'sunflower_oil', 'turmeric_powder', 'salt', 'turmeric', 'water', 'carrot', 'celery', 'broccoli', 'greek_yoghurt', 'parsley', 'basil', 'garlic', 'salt', 'black_pepper', 'olive_oil', 'balsamico', 'chicken_wings', 'fries', 'flour', 'all_spice', 'salt', 'pumpkin', 'milk', 'sugar', 'cashew_nut', 'almond', 'raisin', 'clarified_butter', 'pork', 'chicken', 'green_onion', 'lemon', 'all_purpose_flour', '_butter', '_paneer', '_capsicum', '_paneer', '_tomato', '_garam_masala', '_ginger_garlic', '_salt', '_cashew', 'macaroni', 'cheese', 'flour', 'milk', 'broccoli', 'pepper', 'rice', 'muchroom', 'tofu', 'carrot', 'corn_shoots', 'chinese_cabbage', 'fungus', 'bamboo_shoots', 'egg', 'bacon', 'carrots', 'cucumber', 'boiled_black_chickpeas', 'tomato', 'onion', 'green_chili', 'salt', 'pepper', 'red_chili_powder', 'lemon_juice', 'chicken', 'cheese', 'pasta', 'potato', 'cabbage', 'spinach', 'pea', 'lemon', 'lettuce', 'pomegranate', 'tomatoe', 'bread', 'meat', 'cheese', 'tomato_sauce', 'potato', 'onion', 'tortilla_wrap', 'artichoke', 'huitaloche', 'guajillo_crema', 'white_onion', 'tomatoes', 'cilantro', 'artichoke_chips', 'tomatoes', 'onions', 'green_bell_pepper', 'green_peas', 'carrots', 'cauliflower', 'fresh_beans', 'garlic_paste', 'masala', 'chilli_powder', 'turmeric_powder', 'salt', 'butter', 'water', 'green_peas', 'paneer', 'tomato', 'bay_leaves', 'clove', 'cinnamon_stick', 'ginger_garlic_paste', 'onions', 'salt', 'chilli_powder', 'garam_masala', 'tumeric_powder', 'sunflower_oil', 'pizza_dough', 'cheese', 'mushrooms', 'tomatos', 'onion', 'chicken', 'bell_pepper', 'tomato_sauce', 'noodles', 'salt', 'indomie_seasoning_mix', 'pepper', 'onions', 'rice', 'coconut', 'potato', 'chilli_powder', 'mustard', 'green_chillies', 'turmeric_powder', 'eggs', 'bread', 'mushrooms', 'hummus', 'butter_beans', 'tomato_sauce', 'butterbeans', 'sourdough', 'gouda', 'tomato_paste', 'seasoning', 'onion', 'garlic', 'celery', 'carrot', 'bell_pepper', 'chickpeas', 'tomato', 'broccoli', 'rice', 'turmeric', 'black_pepper', 'stock_cubes', 'carrot', 'potatoe', 'pasta', 'radish', 'basil_pesto', 'pork', 'carrots', 'bamboo_shoots', 'scallions', 'peanut_oil', 'sugar', 'salt', 'gluten', 'egg', 'dairy', 'celery_mustard', 'sulphite', 'oil', 'rice_vermicelli_noodle', 'pork_sausage', 'prawn', 'chicken', 'mushroom', 'shrimp_paste', 'flour', 'cheese', 'tomatoes', 'oregano', 'ketchup', 'white_flour', 'salt', 'sugar', 'yeast', 'oil', 'butter', 'egg', 'ghee', 'milk', 'milk_powder', 'cardamom', 'sugar', 'saffron', 'mutton', 'chicken', 'curry_powder', 'onion', 'garlic', 'chilli', 'flour', 'oil', 'yoghurt', 'chickpea_flour', 'olive_oil', 'curry_leaves', 'garlic', 'onion', 'rice', 'eggs', 'vegetable_oil', 'tomatoes', 'onions', 'coriander_leaves', 'turmeric', 'salt', 'water', 'sambhar_masala_powder', 'red_chilli_powder', 'coriander_powder', 'garam_masala', 'fava_beans', 'salt', 'cumin', 'lemon_juice', 'oil', 'boneless_chicken', 'duck', 'sugar', 'spices', 'beef_patty', 'bun', 'egg', 'bbq_sauce', 'mayonnaise', 'plant_based_burger', 'iceberg_lettuce', 'tomato', 'ketchup', 'vegan_cheese', 'pickles', 'onions', 'mustard', 'sesame_bun', 'vegan_sandwich_sauce', 'fries', 'channa_dal', 'urad_dal', 'coriander', 'black_pepper', 'fenugreek', 'red_chillies', 'asafoetida', 'groundnut_oil', 'mustard', 'turmeric_powder', 'peanuts', 'tamarind', 'salt', 'sago', 'pea', 'green_chilly', 'potatoes', 'rice', 'tuna', 'garlic', 'soy_sauce', 'mutton', 'onion', 'tomato', 'coconut', 'ginger', 'garlic', 'turmeric_powder', 'chilly_powder', 'salt', 'cashew_nut', 'almond', 'raisin', 'jaggery', 'coconut', 'pumpkin_seeds', 'clarified_butter', 'sugar', 'eggs', 'butter', 'pepper', 'bread', 'chicken', 'chilli', 'oyster_sauce', 'capsicum', 'sugar', 'ketchup', 'flattened_rice', 'peanuts', 'potato', 'onions', 'lemon_juice', 'indian_spices', 'falafel', 'chicken', 'curd', 'garlic_paste', 'curry_leaves', 'chilli_powder', 'turmeric_powder', 'meat_powder', 'salt', 'tortilla_wrap', 'steak', 'cilantro', 'cheese', 'white_onion', 'pickled_onion', 'wheat_flour', 'salt', 'carom', 'black_chickpeas', 'turmeric', 'mustard_oil', 'onion', 'cumin', 'water', 'flattened_rice', 'turmeric', 'green_chili', 'salt', 'vegetable_oil', 'parsley', 'flour', 'butter', 'chocolate', 'eggs', 'chicken', 'lemon', 'turmeric', 'mix_masalas', 'ivy_gourd', 'ghee', 'ginger_garlic_paste', 'wheat_flour', 'oil', 'bolognese_sauce', 'parmesan_cheese', 'spaghetti', 'rucola', 'potato', 'peas', 'wheat_flour', 'mixed_spices', 'apples', 'potato', 'cumin', 'oil', 'salt', 'pepper', 'water', 'dal', 'tomato', 'chilli_powder', 'tomato', 'asafoetida', 'cumin', 'ginger', 'curry_leaves', 'salt', 'sunflower_oil', 'bread', 'cheese', 'fish', 'potato', 'fermented_rice', 'tomatoes', 'drumsticks', 'coriander', 'musturd_seeds', 'curry_leaves', 'rice', 'meat_curry', 'lentil_curry', 'salmon', 'onion', 'ginger', 'cauliflower_rice', 'almonds', 'coconut_milk', 'tomato', 'chillis', 'celery', 'mustard', 'sulphites', 'oil', 'white_bread', 'butter', 'cheese_slice', 'steamed_rice', 'green_pigeon_peas', 'cooking_oil', 'mustard_seeds', 'cumin_seeds', 'curry_leaves', 'green_chilies', 'ginger', 'turmeric_powder', 'tomatoes', 'coriander_powder', 'red_chili_powder', 'salt', 'water', 'coriander_leaves', 'sliced_onions', 'sliced_cucumber', 'pickle', 'olive_oil', 'pork_slices', 'salt_and_pepper', 'water', 'macaroni_pasta', 'butter', '_flour', 'milk', 'salt', 'black_pepper', 'shredded_cheddar_cheese', 'chicken_breast', 'bread_roll', 'ground_beef', 'salt', 'black_pepper', 'garlic_powder', 'onion', 'cheddar_cheese', 'butter', 'avocadoes', 'sliced_boiled_egg', 'chilli_sauce', 'cheese', 'chicken_slices', 'chicken', 'rice', 'sweet_chilli_sauce', \"kellogg's_chocos\", 'cereals', 'dry_fruits', 'eggs', 'chilli_powder', 'salt', 'tomato', 'onion', 'garam_masala_powder', 'olive_oil', 'gram_flour', 'plain_flour', 'desi_ghee', 'ground_cardamom', 'saffron', 'white_suger', 'pistachios', 'lentils', 'cumin', 'salt', 'oil', 'water', 'garlic', 'bay_leaf', 'pasta_sheets', 'tomatoes', 'mozzarella', 'parmesan', 'olive_oil', 'mushrooms', 'tomato_paste', 'olives', 'dried_red_chillies', 'lettuce', 'sichuan_pepper', 'beef', 'chilli_bean_paste', 'coriander', 'ginger', 'garlic', 'spring_onion', 'vegetable_oil', 'potatoes', 'cauliflower', 'chili_powder', 'ginger_garlic_paste', 'cumin_seeds', 'tomatoes', 'salt', 'olive_oil', 'lamb_mince', 'salt', 'crushed_chillis', 'green_chillis', 'egg', 'garam_masala', 'crushed_almonds', 'ginger', 'garlic', 'onions', 'oil', 'red_chilli_powder', 'tumeric_powder', 'water', 'papaya', 'cereal', 'bun', 'crab_fillet', 'pizza_dough', 'tomato_sauce', 'basil', 'olive_oil', 'oregano', 'mozzarella', 'chicken', 'salt', 'garlic_powder', 'smoked_paprika', 'olive_oil', 'basil', 'oregano', 'dal', 'tomato', 'onion', 'green_chili', 'turmeric', 'garlic', 'salt', 'curry_powder', 'bean', 'carrot', 'chili_powder', 'chickpeas', 'brinjal', 'wheat', 'pickle', 'brown_sugar', 'butter', 'nutella', 'hazelnuts', 'milk', 'salt', 'vanilla_essence', 'all_purpose_flour', 'dark_chocolate_chips', 'rice', 'onion', 'red_kidney_beans', 'tomatoes', 'oil', 'spices', 'ginger_garlic', 'ghee', 'boneless_pork_shoulder', 'kosher_salt', 'black_pepper', 'cornstarch', 'vegetable_oil', 'yellow_onion', 'garlic_cloves', 'tomato_paste', 'yukon_gold_potatoes', 'chicken_broth', 'white_beans', 'eggs', 'onions', 'tomato', 'oil', 'garam_masala', 'chilli_powder', 'chicken_wings', 'salt', 'black_pepper', 'garlic_powder', 'onion_powder', 'paprika', 'cayenne_pepper', 'large_potatoes', 'vegetable_oil', 'ribs', 'potatoe', 'salt', 'pepper', 'tortilla', 'fried_chicken_strips', 'bbq_sauce', 'lettuce', 'cheese', 'baked_beans', 'yoghurt', 'dried_raspberries', 'dried_blueberries', 'lettuce', 'tomato', 'cod_fish', 'fruits', 'cabbage', 'vinegar', 'salt', 'say_sauce', 'oil', 'rice', 'vegetables', 'salt', 'ginger', 'butter', 'olive_oil', 'burghul', 'bagel', 'avocado', 'butter', 'semolina', 'rice_flour', '_flour', 'cumin_seeds', 'green_chillies', 'curry_leaves', 'ginger', 'buttermilk', 'water', 'salt', 'oil', 'fresh_coconut', 'yogurt', 'mustard_seeds', 'chicken', 'honey', 'mustard', 'cayenne_pepper', 'soy_sauce', 'garlic', 'tortilla_wraps', 'lettuce', 'carrot', 'beetroot', 'rice', 'vegetables', 'butter', 'turmeric', 'sugar', 'flour', 'yeast', 'spinach', 'paneer', 'green_chilly', 'butter', 'oil', 'spices', 'onions', 'ginger', 'garlic', 'tomatoes', 'cashews', 'cooked_chicken', 'mayonnaise', 'fresh_herbs', 'pickles', 'spinash', 'fresh_vegetables', 'nuts', 'crossiants', 'salta', 'pepper', 'walnuts', 'cranberries', 'stir_fried_noodles', 'gochujang', 'gochugaru', 'chicken_powder', 'soy_sauce', 'garlic_powder', 'rice_vinegar', 'salt', 'sugar', 'toasted_sesame_oil', 'sesame_seeds', 'seaweed', 'beef', 'chili', 'mushrooms', 'salt', 'soy_sauce', 'oyster_sauce', 'pepper', 'oil', 'oil', 'chicken', 'flour', 'salt', 'mutton', 'garlic_paste', 'red_chilli_powder', '_garam_masala', 'salt_to_taste', 'linguini', 'shrimp', 'tomato', 'squid', 'mussels', 'rice', 'cilantro', 'lime', 'chicken', 'broccoli', 'cabbage', 'carrot', 'red_onion', 'mayonnaise', 'mustard', 'yogurt', 'white_vinegar', 'chees', 'sugar', 'eggs', 'sour_cream', 'vanilla_extract', 'graham_cracker_crumbs', 'butter', 'lasagne_sheets', 'quorn_meat', 'cheese', 'tomato_sauce', 'broccoli', 'green_beans', 'biscuits', 'grapes', 'rice', 'lentils', 'urad_dal', 'chana_dal', 'fenugreek', 'puffed_rice', 'toor_dal', 'chutneys', 'and_sambar', 'chicken_breast', 'rice', 'carrot', 'peppers', 'beansprout', 'bamboo_shoots', 'cabbage', 'pack_choi', 'sesame_seeds', 'vegetable_oil', 'cheese', 'flour', 'olive_oil', 'rice', 'minced_beef', 'onion', 'green_pepper', 'soy_sauce', 'olive_oil', 'coriander', 'hot_sauce', 'miso_paste', 'french_fries', 'jalapeno', 'cabbage', 'burger_sauce', '_chicken', 'chicken', 'rice', 'broccolli', 'salt', 'pepper', 'paprika', 'garlic_powder', 'chicken', 'chilli_powder', 'salt', 'garlic_paste', 'garam_masala', 'coriander_powder', 'chicken_masala', 'sliced_chilli', 'dosa_batter', 'tomatoes', 'onions', 'green_chilies', 'curry_leaves', 'coriander_leaves', 'garlic', 'mustard_seeds', 'black_gram', 'split_bengal_gram', 'salt', 'egg', 'olive_oil', 'salt', 'potato', 'oil', 'coriander', 'cumin_powder', 'salt', 'wheat_flour', 'milk', 'white_rice', 'sugar', 'dry_fruit', 'lentils', 'spinach', 'salt', 'water', 'chilli_powder', 'turmeric', 'mustard_seeds', 'green_chilli', 'cumin', 'oil', 'rice', 'potato', 'coleslaw', 'onion', 'cucumber', 'lettuce', 'carrot', 'white_chickpeas', 'potato', 'cinnamon', 'cloves', 'onion', 'green_chilli', 'garlic_paste', 'tomato', 'salt', 'water', 'wheat_flour', 'eggs', 'rice', 'chicken', 'mushrooms', 'parsey', 'beef', 'rice', 'lentils', 'sausage', 'carrots', 'all_purpose_flour', 'hund_curd', 'clarified_butter', 'sugar', 'saffron', 'green_cardamom', 'corn_flour', 'baking_soda', 'oil', 'water', 'rose_essence', 'tomato', 'mozzarella', 'aubergine', 'parmesan', 'flour', 'salt', 'yeast', 'oil', 'carrot', 'onion', 'garlic', 'oil', 'soya_sauce', 'maize_starch', 'green_chillies', 'maida', 'butter', 'sugar', 'egg', 'salt', 'pepper', 'butter', 'oregano', 'tomato', 'magic_masala', 'curry', 'rice', 'bacon', 'onions', 'eggs', 'porridge_oats', 'cinnamon', '_honey', '_banana', 'chia_seeds', 'yoghurt', 'sliced_mango', 'sambar_powder', 'carrot', 'tomato', 'onion', 'papad', 'spices', 'tomatoes', 'fish', 'potatoes', 'soy_sauce', 'indian_cottage_cheese', 'parmesan_cheese', 'onions', 'tomatoes', 'southwest_chipotle_sauce', 'brown_bread', 'beef', 'chili', 'peanut_oil', 'bean_sprouts', 'coriander', 'garlic', 'beef', 'red_wine', 'beef_stock', 'lardons', 'onions', 'bouquet_garni', 'pearl_onions', 'mushrooms', 'cauliflower', 'cheese', 'rice', 'onion', 'vegetable_oil', 'salt', 'onion', 'tomato', 'olive_oil', 'salt', 'green_chilli', 'capsicum', 'tomato_sauce', 'paneer', 'cabbage', 'white_flour', 'black_lentils', 'cottogecheese', 'oil', 'galic_paste', 'kidney_beans', 'butter', 'gram_flour', 'onion', 'potatoes', 'fresh_corriander', 'green_chillis', 'salt', 'pomegranate_powder', 'crushed_chillis', 'corriander_powder', 'water', 'oil', 'beef', 'lettuce', 'onion', 'bacon', 'tomato', 'potato', 'ketchup', 'bread_bun', 'cheese', 'chicken_breast', 'cabbage', 'garlic', 'chow_mein_noodles', 'carrot', 'bean_sprouts', 'cornflour', 'soy_sauce', 'oyster_sauce', 'sugar', 'sesame_oil', 'choclate', 'cocoa_mass', 'sugar', 'cocoa_butter', 'milk', 'skim_milk', 'flavouring', 'pumpkin', 'leek', 'herbs', 'salt', 'pepper', 'onions', 'bread', 'sesame_seeds', 'garlic', 'double_cream', 'vegetable_oil', 'mustard_seeds', 'cumin_seeds', 'bitter_guard', 'tomato', 'onion', 'green_chilly', 'turmeric_powder', 'coriander_powder', 'garam_masala', 'coriander_leaves', 'salt', 'eggs', 'creamcheese', 'sugar', 'flour', 'flour', 'sausage', 'egg', 'pastry', 'beans', 'red_cabbage', 'mint', 'olive_oil', 'red_onion', 'rocket_leaves', 'courgette', 'cucumber', 'lentils', 'black_rice', 'spelt', 'quinoa', 'broccoli', 'pak_choi', 'canned_tomatoes', 'onion', 'carrots', 'celery', 'garlic', 'green_beans', 'zucchini', 'cabbage', 'vegetable_broth', 'kidney_beans', 'cannellini_beans', 'pasta', 'macaroni', 'olive_oil', 'fresh_basil', 'dried_oregano', 'salt', 'black_pepper', 'parmesan_cheese', 'wheat', 'onion', 'cashew_sweets', 'potatoes', 'spices', 'curd', 'rice', 'cilantro', 'pomogranate', 'green_chillies', 'mustard_seeds', 'oil', 'asafoetida', 'curry_leaves', 'egg', 'spices', 'turmeric', 'oil', 'bread', 'cloves', 'cinomon', 'oil', 'onion', 'tomato', 'red_chilly_powder', 'garlic_paste', 'rice', 'salt', 'aubergine', 'beetroot', 'yoghurt', 'onion', 'chickpeas', 'beef', 'curry_sauce', '2_cloves_garlic', 'ginger', 'carrots', 'peas', 'bell_peppers', 'chicken', 'beef', 'tofu', 'etc', 'salt_to_taste', 'baked_beans', 'sausages', 'eggs', 'bacons', 'tomatoes', 'sweet_rice_flour', 'brown_sugar', 'dosa_batter', 'egg', 'oil', 'podi', 'cauliflower_florets', '_flour', 'cornstarch', 'red_chili_powder', 'soy_sauce', 'salt', 'water', 'sauce', 'chopped_garlic', 'chopped_ginger', 'chopped_green_chilies', 'chopped_spring_onions', 'soy_sauce', 'red_chili_sauce', 'tomato_ketchup', 'cornstarch', 'water', 'salt', 'sugar', 'vinegar', 'green_beans', 'oil', 'rice', 'salt', 'onion', 'ginger', 'garlic', 'carrot', 'green_chilli', 'turmeric', 'eggplant', 'potatoes', 'spices', 'chickpea_flor', 'jaggery', 'almonds', 'fenugreek_seeds', 'bean_sprout', 'pickle_mustard', 'rice_noodles', 'miced_pork', 'lettuce', 'beef_meatball', 'chilli', 'salt', 'sesame_oil', 'eggs', 'salt', 'pepper', 'green_onions', 'lettuce', 'spring_onion', 'cabbage', 'cluster_beans', 'tomato', 'onion', 'red_chilli_powder', 'cumin_powder', 'coriander_power', 'peanut', 'salt', 'sugar', 'oil', 'mustard_seeds', 'garlic', 'ginger', 'green_chilli', 'wheat_flour', 'water', 'basa_fillet', 'lemon', 'garlic', 'thyme', 'olive_oil', 'potato', 'asparagus', 'moong_dal', 'onion', 'tomato', 'corriander', 'olive_oil', 'wheat_flour', 'tofu', 'olive_oil', 'cumin_powder', 'chilli_powder', 'sesame_seeds', 'salt', 'chicken_wing', 'flour', 'oil', 'salt', 'spicy', 'pepper', 'lamb_chops', 'corriander_powder', 'salt', 'garam_masala', 'ginger', 'garlic', 'onion', 'oil', 'basmati_rice', 'kidney_beans', 'wheat_flour', 'vegetable_oil', 'bay_leaf', 'cumin', 'onions', 'tomatoes', 'green_chilli', 'ginger', 'garlic', 'turmeric_powder', 'red_chilli_powder', 'coriander', 'bread', 'olive_oil', 'egg', 'milk', 'spring_onion', 'parsley', 'tea_leaves', 'honey', 'lentils', 'cumin_seeds', 'salt', 'turmeric_powder', 'red_chilli_powder', 'coriander_powder', 'ginger', 'garlic', 'green_chilli', 'sunflower_oil', 'chicken', 'bread', 'lettuce', 'tomato', 'oinion', 'mayonise', 'cheese', 'oil', 'potato', 'salt', 'wheat_flour', 'tomato_gravy', 'reen_chili_onions', 'indian_spices', 'onion', 'chicken', 'rosemary', 'pasta', 'tomato', 'garlic', 'semolina', 'sugar', 'raisins', 'almonds', 'coconut', 'pistachios', 'saffron', 'egg', 'smoked_turkey_breast', 'lemon', 'olive_oil', 'pepper', 'pecorino_shaves', 'cherry_tomatoes', 'bread', 'chicken_breasts', 'yogurt', 'chilli_powder', 'pepper_powder', 'turmeric_powder', 'coriander_powder', 'garam_masala_powder', 'garlic_paste', 'salt', 'coconut_oil', 'cucumber', 'salt', 'garlic', 'gochugaru', 'rice_vinegar', 'sesame_oil', 'sugar', 'urad_dhal', 'sugar_syrup', 'vegetable_oil', 'color_powder', 'salt', 'oats', 'tomatoes', 'onions', 'warm_spices', 'butter', 'pasta', 'pasta_sauce', 'chicken', 'cheese', 'garlic_bread', 'rice', 'black_lentils', 'coconut', 'mustard', 'corriander', 'chicken_fillet', 'salt', 'black_pepper', 'garlic_powder', 'onion_powder', 'paprika', 'breadcrumbs', 'egg', 'lettuce', 'onion', 'tomato', 'mayonaise', 'ketchup', 'vegetable_oil', 'burger_buns', 'red_onion', 'courgette', 'red_pepper', 'yellow_pepper', 'salt', 'pepper', 'garlic', 'chilli_oil', 'salmon', 'bok_choi', 'teriyaki_sauce', 'wheat_flour', 'salt', 'water', 'baby_potatoes', '_turmeric_powder', '2_tablespoons_oil', '_chopped', 'ginger', 'green_chilies', '2_large_tomatoes', 'fresh_coriander_leaves', 'chopped', 'for_garnish', 'beef', 'salt', 'burger_buns', 'ketchup', 'cheese', 'eggs', 'canned_beans', 'vegetable_oil', 'chicken_fillet', 'lettuce', 'pickles', 'mayo', 'potato_chips', 'egg', 'pepper', 'chilli_powder', 'salt', 'chilli', 'garam_masala', 'rice', 'egg', 'potato', 'onion', 'salt', 'pepper', 'oil', 'chicken', 'bread_crumbs', 'semolina', 'butter', 'sugar', 'water', 'nuts', 'plain_flour', 'salt', 'butter', 'oil', 'chickpeas', 'potatoes', 'ginger', 'garlic', 'onions', 'red_chilli_powder', 'garam_masala', 'tumeric_powder', 'corriander_powder', 'tofu', 'pork_mince', 'salt', 'sugar', 'soy_sauce', 'oyster_sauce', 'olive_oil', 'shaoxing_wine', 'corn_starch', 'chili_bean_sauce', 'noodles', 'cooking_oil', 'garlic', 'ginger', 'onions', 'carrots', 'bell_peppers', 'cabbage', 'soy_sauce', 'green_chilies', 'vinegar', 'spring_onions', 'salt', 'black_pepper', 'peppers', 'garlic', 'spices', 'cod', 'chips', 'rice', 'cottage_cheese', 'onion', 'ginger', 'garlic', 'red_chilli_powder', 'curd', 'tumeric', 'oil', 'salt', 'pigeon_peas', 'fenugreek_leaves', 'salt', 'tomatoes', 'curry_leaves', 'onion', 'ghee', 'chicken_wings', 'black_pepper', 'barbeque_sauce', 'apple_juice', 'cottage_cheese', 'capsicum', 'red_bell_pepper', 'carrot', 'onion', 'green_chilly', 'oil', 'tumeric', 'garlic', 'oil', 'wheat_flour', 'salt', 'cauliflower', 'onion', 'yogurt', 'milk', 'spices', 'salt', 'ginger_garlic_paste', 'olive_oil', 'wheat_flour', 'water', 'rice', 'mince_beef', 'sweetcorn', 'carrots', 'broccoli', 'shrimp', 'potato', 'butter', 'milk', 'chicken', 'chilli_sauce', 'garlic', 'ginger', 'bell_peppers', 'onion', 'green_onions', 'soy_sauce', 'sugar', 'sesame_oil', 'rice', 'olive_oil', 'garlic_cloves', 'red_pepper_flakes', 'tomato_puree', 'brown_sugar', 'salt', 'pepper', 'parmesan_cheese', 'penne_pasta', 'wheat_noodles', 'mushroom', 'beansprouts', 'cabbage', '_carrot', 'onion', 'soy_sauce', 'black_pepper', 'salt', 'tomato', 'beef', 'onion', 'shahe_fen', 'bread_bun', 'marinated_steak', 'cheddar_cheese', 'chicken', 'peppers', 'tomato', 'carrot', 'bread', 'onions', 'peri_peri_spice', 'haricot_beans', 'spices', 'salt', 'oil', 'onion', 'rice', 'rice_flour', 'green_gram', 'tomato', 'onion', 'grated_cocunut', 'salt', 'chilli_powder', 'turmeric_powder', 'green_chilli', 'coriander_powder', 'fried_chicken_strips', 'chipotle_mayo', 'jalepenos', 'lettuce', 'batter', 'scampi', 'chicken', 'halloumi', 'pepper', 'salt', 'nandos_seasoning', 'olive_oil', 'toast', 'avocado', 'egg', 'spring_onions', 'garlic', 'baby_sweet_corn', 'courgette', 'egg', '_pilau_rice', 'sriracha', 'soy_sauce', 'chilli_oil', 'rice', 'brown_lentils', 'onion', 'tomato', 'green_chilli', 'ginger', 'garlic', 'cumin_seeds', 'bay_leaves', 'cinnamon_stick', 'warming_spices', 'tumeric_powder', 'red_chilli_powder', 'lemon_juice', 'oil', 'salt', 'custard_powder', 'milk', 'fruits', 'nuts', 'beef', 'sesame_oil', 'light_soy_sauce', 'ginger', 'cornstarch', 'oyster_sauce', 'onions', 'salt', 'sugar', 'water', 'chillis', 'eggs', 'sucuk_beef_sousage', 'potatos', 'beans', 'mushrooms', 'sausage', 'hash_brown', 'egg', 'frozen_fries', 'butter', 'cheese', 'chilli_flakes', 'oregano', 'fresh_parsley', 'mayonnaise', 'tomato_ketchup', 'squash', 'oil', 'salt', 'hummus', 'chilli', 'coriander', 'pasta', 'tomato_sauce', 'herbs', 'mozzarella_cheese', 'shredded_cheese', 'curd', 'apple', 'banana', 'pomegranate', 'sugar', 'almonds', 'oats', 'milk', 'sugar', 'almond', 'cashew', 'apple', 'pigeon_peas', 'tomato', 'onion', 'ginger_garlic_paste', 'ghee', 'spices', 'rice', 'salt', 'curry_leaves', 'water', 'poached_eggs', 'garlic', 'yoghurt', 'chili_oil', 'mint', 'sourdough', 'chilli_powder', 'rice_flour', 'salt', 'ground_black_pepper', 'paprika', 'garlic_powder', 'chicken_wings', 'barbecue_sauce', 'honey', 'dosa_batter', 'fenugreek_seeds', 'salt', 'water', 'fresh_mint_leaves', 'coriander_leaves', 'green_chilies', 'ginger', 'coconut', 'salt', 'cooking_oil', 'curry_leaves', 'mixed_vegetables', 'cooking_oil', 'onion', 'garlic_paste', 'tomatoes', 'spices', 'salt', 'water', 'fresh_herbs', 'fresh_cilantro_leaves', 'water', 'salt', 'morning_glory', 'beansprouts', 'onions', 'garlic', 'shrimp_paste', 'fried_shallots', 'shrimp', 'fried_tofu', 'olive_oil', 'spagetti', 'prawns', 'carrots', 'broccoli', 'cauliflower', 'cheese', 'onion', 'lady’s_finger', 'turmeric_powder', 'chilli_powder', 'cumin_powder', 'coriander_powder', 'oil', 'urad_dal', 'rice', 'onion', 'carrot', 'spring_onion', 'capsicum', 'oil', 'soy_sauce', 'red_chilli_sauce', 'green_chilli_sauce', 'vinegar', 'garlic', 'salt', 'eggs', 'flat_parsley_leaves', 'cheddar_cheese', 'tomatoes', 'egg_noodles', 'bean_sprouts', 'fish_balls', 'laksa_paste', 'shrimp', 'garlic', 'coconut_milk', 'fish_sauce', 'shrimp_paste', 'dosa_batter', 'fenugreek_seeds', 'salt', 'water', 'tomato_slices', 'chopped_onions', 'mint_leaves', 'coriander_leaves', 'green_chilies', 'ginger', 'coconut', 'salt', 'cooking_oil', 'curry_leaves', 'chicken', 'potato_chips', 'rice', 'onion', 'vegetable_oil', 'salt', 'bread', 'fried_chicken', 'hot_sauce', 'spinach', 'mushroom', 'egg', 'flour', 'cream', 'cheese', 'vigna_mungo', 'chickpeas', 'rice', 'mexican_rice', 'chicken', '_sweetcorn_salsa', 'cheese', 'sour_cream', 'black_beans', 'salsa_verde', 'guacamole', 'pasta', 'olive_oil', 'turmeric', 'red_chilli', 'tomato', 'onion', 'garlic', 'butter', 'capsicum', 'salt', 'tomato_sauce', 'curd', 'chicken', 'honey', 'mustard', 'cayenne_pepper', 'soy_sauce', 'garlic', 'tortilla_wraps', 'lettuce', 'carrot', 'beetroot', 'jaggery', 'raw_coconut', 'cardamon', 'water', 'salmon_fillets', 'potato', 'asparagus', 'sweet_pepper', 'cherry_tomato', 'salt', 'mixed_pepper', 'olive_oil', 'instant_ramen', 'oil', 'hot_chilli_sauce', 'soy_sauce', 'garlic', 'vinegar', 'chicken', 'pepper', 'salt', 'egg', 'lettuce', 'salt', 'chicken_breast', 'lettuce', 'cucumber', 'cherry_tomato', 'sweet_pepper', 'parsley', 'basil', 'coriander', 'salt', 'black_pepper', 'olive_oil', 'balsamico', 'onions', 'green_chillies', 'ginger', 'cilantro', 'cashews', 'bengal_gram', 'black_gram', 'curry_leaves', 'beans', 'bread', 'bacon', 'butter', 'hash_browns', 'kielwurst', 'penne_pasta', 'cheese', 'mince_beef', 'sweetcorn', 'carrots', 'broccoli', 'dolmio_bolognese_sauce', 'corn_flour', 'potato', 'baking_soda', 'chicken', 'oil', 'pepper', 'garlic', 'wheat', 'pepper', 'onion', 'tomatoes', 'sweetcorn', 'salt', 'spinach', 'chia_seeds', 'qourn', 'carrots', 'parmesan', 'red_wine', 'spagetti', 'mushroom', 'olive_oil', 'watermelon', 'pineapple', 'carrot', 'cucumber', 'chapathi', 'sprouts', 'corn_flakes', 'curd', 'chapati', 'okra_vegetable', 'salt', 'olive_oil', 'lemon_slices', 'onion', 'tomato', 'water', 'udon', 'beef', 'tomato', 'cabbage', 'fish_ball', 'soya_bean', 'onions', 'tomato', 'masalas', 'oil', 'rice', 'chicken', 'mixed_spices', 'broccoli', 'gram_flour', 'sunflower_oil', 'carom_seed', 'turmeric_powder', 'red_chilli_powder', 'salt', 'black_scabbard_fish', 'onion', 'rice', 'rocket', 'feta', 'olives', 'fried_egg', 'oil', 'seeded_bread', 'rice', 'black_gram_lentils', 'fenugreek_seeds', 'salt', 'water', 'carrots', 'drumsticks', 'eggplant', 'okra', 'tamarind_pulp', 'sambhar_seasoning', 'red_chillies', 'oil', 'mustard_seeds', 'cumin_seeds', 'curry_leaves', 'turmeric_powder', 'tortilla_wrap', 'chicken', 'olive_oil', 'piri_piri_sauce', 'cheddar_cheese', 'mayonnaise', 'lettuce', 'potato_fries', 'crab_meat', 'spices_and_seasonings', 'chicken_broth', 'coconut_milk', 'cinnamon', 'tomatoes', 'mozarella_cheese', 'bread_flour', 'chicken', 'pepper', 'salt', 'soy_sauce', 'oyster_sause', 'sugar', 'vinegar', 'oil', 'bread', 'butter', 'egg', 'okra', 'garlic', 'onion', 'spices', 'salt', 'noodles', 'salt', 'olive_oil', 'wheat_flour', 'egg', 'onion', 'garlic', 'capsicum', 'salt', 'noodles', 'carrot', 'cabbage', 'garlic', 'ginger', 'green_onion', 'soy_sauce', 'bell_peppers', 'oil', 'chicken_breasts', 'peri_peri_sauce', 'lemon_juice', 'garlic', 'paprika', 'oregano', 'thyme', 'black_pepper', 'olive_oil', 'peri_peri', 'salt', 'seasoning', 'cumin', 'paprika', 'turmeric', 'chilli_powder', 'coriander', 'broccoli', 'mushroom', 'turmeric', 'salt', 'chilli_powder', 'garam_masala', 'sunflower_oil', 'oats', 'milk', 'honey', 'bananas', 'prawns', 'olive_oil', 'corn', 'broccoli', 'carrots', 'onion', 'spinach', 'whole_wheat_flour', 'warm_water', 'chicken_wings', 'sesame_seed_bun', 'lettuce', 'mayonnaise', 'tomato_ketchup', 'potatoes', 'oil', 'flour', 'chicken', 'halloumi', 'pepper', 'salt', 'nandos_seasoning', 'olive_oil', 'sweet_potato', 'egg', 'salt', 'black_pepper', 'coconut_oil', 'avacado', 'beagle', 'cream_cheese', 'siracha', 'chocolate_chip_cookies', 'strawberries', 'boneless_chicken', 'eggplant', 'mushroom', 'say_sauce', 'salt', 'lard', 'rice', 'onion', 'chilli', 'chilli_powder', 'tomato', 'salt', 'indian_spices', 'rice', 'mince_beef', 'sweetcorn', 'carrots', 'broccoli', 'potatoes', 'honey', 'chili_sauce', 'spices', 'beaten_rice_flakes', 'turmeric', 'salt', 'corriander', 'green_chilli', 'onion', 'mustard_seeds', 'water', 'wheat_flour', 'potato', 'tuna', 'spices', 'herbs', 'egg', 'vegetable_oil', 'chicken', 'butter', 'yoghurt', 'tomatoes', 'olive_oil', 'onion', 'garlic_cloves', 'vegetable_broth', 'basil_leaves', 'salt_and_pepper', 'vegetable_oil', 'plain_flour', 'cocoa_powder', 'bicarbonate_soda', 'light_brown_sugar', 'fine_salt', 'buttermilk', 'vanilla_extract', 'eggs', 'icing_sugar', 'salted_butter', 'tomato', 'onion', 'rice', 'coriander_powder', 'chilli_powder', 'biryani_masala', 'salt', 'sesame_oil', 'garlic_paste', 'rice', 'toor_dal', 'spices', 'salt', 'chicken_meat', 'noodles', 'coriander', 'soy_sauce', 'olive_oil', 'chilli_oil', 'cream', 'jam', 'tea', 'water', 'milk', 'raisin', 'flour', 'butter', 'sugar', 'baking_powder', 'salmon', 'tomato_sauce', 'galic', 'sweet_potato', 'olive_oil', 'dill', 'potato', 'cheddar_cheese', 'pepper', 'tomato_sauce', 'mayonaise', 'vegetable_oil', 'potato', 'onion', 'chickpeas', 'garlic', 'ginger', 'ground_coriander', 'paprika', 'cumin', 'turmeric', 'cloves', 'ground_mustard', 'chilli_powder', 'olive_oil', 'tomatoes', 'coconut_milk', 'basmati_rice', 'fresh_coriander', 'black_pepper', 'scotch_bonnet_chilli', 'lime_juice', 'potato', 'garlic_powder', 'salt', 'olive_oil', 'toasted_ground_nut', 'chilli', 'garlic', 'cocunut', 'mustard', 'oil', 'tomatoes', 'flour', 'olives', 'peppers', 'cheese', 'chicken', 'onion', 'garlic', 'mushrooms', 'fresh_corriander', 'mint_leaves', 'green_chillis', 'garlic', 'ginger', 'tomatoes', 'bread_crumbs', 'salt', 'eggs', 'oil', 'spring_onions', 'corriander_powder', 'garam_masala', 'pomegranate_powder', 'corn_flower', 'crushed_chillis', 'lamb_mince', 'chicken_nuggets', 'peri_peri', 'garlic', 'yogurt', 'seasoning', 'potato', 'spring_onion', 'chilli', 'roasted_garlic_aioli', 'lemon', 'cheddar_cheese', 'mozzarella_cheese', 'tortilla', 'egg', 'sausages', 'chipotle_sauce', 'ham', 'chicken_breast', 'greek_yogurt', 'salt', 'coriander_powder', 'garam_masala', 'red_chilli_powder', 'paprika', 'turmeric_powder', 'butter', 'heavy_cream', 'tomato_puree', 'garlic_ginger_paste', 'onions', 'noodles', 'coriander', 'soya_sauce', 'garlic', 'pepper', 'salt', 'chicken', 'corn_flour', 'beef_patty', 'bun', 'cheddar_cheese_slice', 'tomato_ketchup', 'prawn', 'crab', 'chillies', 'pepper', 'tomato', 'onion', 'sunflower_oil', 'black_eyed_beans', 'rice', 'cocunut_oil', 'onions', 'dried_millet', 'chilli', 'chives', 'venison', 'spaghetti', 'zucchini', 'pearl_millet', 'olive_oil', 'berries', 'chickpeas', 'rice', 'tomatoes', 'turmeric', 'coriander_powder', 'curry_leaves', 'clarified_butter', 'salt', 'water', 'rice', 'roasted_cobette', 'pork', 'flatbread', 'feta', 'noodles', 'meat', 'vegetable', 'chicken_breast', 'parsley_tomatoes', 'onions', 'olive_oil', 'lemons', 'mushrooms', 'chicken', 'onion', 'green_chili', 'red_chili_powder', 'garlic_paste', 'garam_masala', 'fried_egg', 'cucumber', 'chinese_leaves', 'green_onion', 'carrot', 'milk', 'almonds', 'toasted_wheat_bread', 'butter', 'beaten_eggs', 'milk', 'vanilla_extract', 'ground_cinnamon', 'beef', 'lettuce', 'gherkin', 'tomatoes', 'potatoes', 'salt', 'mayonnaise', 'ketchup', 'cheese', 'potato', 'spinach', 'chilli_powder', 'turmeric', 'cumin_powder', 'coriander_powder', 'tomato', 'onion', 'lemon', 'ginger', 'oil', 'beef_patty', 'cheese', 'ketchup', 'mustard', 'pickle', 'lettuce', 'onion', 'bun', 'puff_pastry', 'maple_syrup', 'pecan_nuts', 'choclate', 'cocoa_mass', 'sugar', 'cocoa_butter', 'milk', 'skim_milk', 'flavouring', 'rice', 'yellow_pigeon_peas', 'curd', 'milk', 'spices', 'tomato_salad', 'eggs', 'pepper', 'bread', 'milk', 'strawberry_marmalade', 'cheese', 'tomatoes', 'onions', 'flour', 'chilli', 'butter', 'sugar_syrup', 'almonds', 'jalapenos', 'bread', 'tabasco', 'tomato', 'tuna', 'pesto', 'pizza_base', 'tomato_sauce', 'cheese', 'garlic', 'olive_oil', 'pachino_tomatoes', 'water', 'salt', 'rigatoni_pasta', 'basil', 'chicken_wings', 'baking_powder', 'salt', 'garlic_powder', 'butter', 'sugar', 'potato_chips', 'basmati_rice', 'lentils', 'oil', 'ginger', 'garlic', 'onion', 'corriander_powder', 'red_chilli_powder', 'salt', 'tumeric_powder', 'tomatoes', 'green_chillis', 'oat_granola', 'mixed_seeds', 'blueberries', 'milk', 'indian_cottage_cheese', 'onion', 'tomato', 'spices', 'chashew', 'olive_oil', 'wheat_flour', 'poha', 'onion', 'peanuts', 'olive_oil', 'beef', 'onion', 'beansprout', 'shahe_fen', 'milk', 'coco_powder', 'white_chocolate', 'dark_chocolate', 'tortilla', 'chicken', 'lettuce', 'tomato', 'mayonnaise', 'peri-peri', 'hakka_noodles', 'skinless_chicken_breast', 'bell_peppers', 'carrots', 'cabbage', 'green_onions', 'minced_garlic', 'grated_ginger', 'green_chilies', 'soy_sauce', 'chilli_sauce', 'vinegar', 'salt', 'pepper', 'oil', 'pork_sausages', 'red_onion', 'sage', 'fennel_seeds', 'flour', 'pastry', 'egg', 'eggs', 'tumeric_powder', 'chilly_powder', 'salt', 'black_pepper', 'rice', 'water', 'yoghurt', 'cooked_rice', 'salt', 'coriander_leaves', 'brinjal', 'noodle', 'prawns', 'water', 'light_soy_sause', 'salt', 'iceberg_lettuce', 'sweetcorn', 'red_pepper', 'cucumber', 'cherry_tomatoes', 'sweetcorn', 'peas', 'feta_cheese', 'olive_oil', 'vinegar', 'honey', 'salt', 'pepper', 'white_chickpeas', 'onions', 'tomatoes', 'ginger', 'garlic', 'cooking_oil', 'cumin_seeds', 'turmeric_powder', 'red_chili_powder', 'coriander_powder', 'garam_masala', 'salt', 'water', 'fresh_coriander_leaves', 'whole_wheat_flour', 'sticky_rice', 'sweet_soy_sauce', 'roasted_chinese_leaf', 'papaya_salad', 'milk', 'sugar', 'paneer', 'curd', 'cashew', 'saffron', 'almond', 'semolina_puffs', 'tamarind_water', 'potatoes', 'chickpeas', 'spices', 'oil', 'ginger', 'garlic', 'turmeric', 'salt', 'rice', 'cream', 'egg', 'sugar', 'vanilla', 'eggs', 'bread', 'oregano', 'coffee', 'milk', 'sugar', 'butter', 'pizza_dough', 'pachino_tomatoes', 'buffalo_mozzarella', 'fresh_anchovies_fillets', 'olive_oil', 'salt', 'basil', 'maida', 'chicken', 'coconut_puree', 'indian_spices', 'paneer', 'seasonings', 'pasta', 'basil', 'pine_nuts', 'olive_oil', 'garlic', 'cherry_tomato', 'rocket', 'balsamic_vinegar', 'lambs_lettuce', 'corned_beef', 'cheese', 'lasagna', 'tomato_passata', 'onion', 'rice_batter', 'coconut', 'red_chilli_powder', 'salt', 'vegetable_oil', 'ginger', 'cumin_seeds', 'mustard_seeds', 'curry_leaves', 'feta_cheese', 'bread', 'black_olives', 'green_olives', 'salami', 'mushrooms', 'minced_meat', 'pastry', 'cheese', 'eggs', 'wheat', 'mushroom', 'onion', 'ginger', 'garlic', 'sunflower_oil', 'salt', 'turmeric', 'black_pepper', 'coriander_powder', 'cilantro', 'coconut_milk', 'egg', 'mustard', 'wheat', 'pasta', 'paprika', 'garlic_powder', 'tomato', 'red_onion', 'coriander_powder', 'cornflour', 'chilli_powder', 'salt', 'cheese', 'tomato_sauce', 'salami', 'ground_beef', 'salt', 'coriander', 'garlic_powder', 'onion_powder', 'lemon_juice', 'apple_cider_vinegar', 'cucumber', 'red_onion', 'tomato', 'black_pepper', 'olive_oil', 'beef', 'potato', 'peas', 'onion', 'cumin_seeds', 'ginger', 'turmeric', 'salt', 'water', 'flour', 'oil', 'tamarind', 'red_chilli_powder', 'suji', 'peanuts', 'green_chili', 'lemon_juice', 'peas', 'tomato', 'onions', 'salt', 'indian_spices', 'egg', 'hash_browns', 'buttered_toast', 'toor_dhal', 'rice', 'chillies', 'olive_oil', 'spices', 'cabbage', 'potato', 'lady_finger', 'cucumber', 'lentils_and_rice', 'croissant', 'lettuce_leaves', 'fruit_jelly', 'cheese', 'carrot', 'onion', 'cornflaks', 'milk', 'honey', 'wheat', 'rice', 'potatoes', 'onion', 'spices', 'oat', 'milk', 'apple', 'potato', 'paprika', 'salt', 'pepper', 'olive_oil', 'ham', 'egg', 'potato', 'salt', 'oil', 'rice', 'bell_peppers', 'tomato', 'salt', 'black_pepper', 'chicken', 'brioche_bun', 'chicken_fillet', 'hoisin_bbq_sauce', 'lettuce', 'chilli_crisp', 'coleslaw', 'mutton', 'onions', 'tomatoes', 'garlic_paste', 'red_chilli_powder', 'turmeric_powder', 'coriander_powder', 'cumin_powder', 'garam_masala', 'cloves', 'cinnamon', 'bay_leaves', 'green_chillies', 'fresh_coconut', 'mustard_seeds', 'cumin_seeds', 'fenugreek_seeds', 'curry_leaves', 'asafoetida', 'oil', 'salt', 'rice', 'tumeric_powder', 'salt', 'cumin_seeds', 'vegetables', 'egg', 'vegetable_oil', 'croissant', 'mix_spices', 'beans', 'rice', 'meat', 'cream', 'mascarpone', 'caster_sugar', 'coffee', 'sponge_fingers', 'dark_chocolate', 'cocoa_powder', 'chicken', 'curry', 'rice', 'greens', 'bell_pepper', 'chicken', 'egg', 'corn_floor', 'sesame_seeds', 'bbq_sauce', 'gram_flour', 'palmolein_oil', 'rice_flakes', 'red_lentil', 'sugar', 'groundnut', 'cornflakes', 'spices', 'salt', 'carom_seeds', 'gram_flour', 'tomato', 'onion', 'indian_spices', 'milk', 'semolina', 'plain_flour', 'sugar', 'dry_fruit', 'oil', 'onion', 'garlic', 'chili', 'salt', 'turmeric', 'gelatine_leaf', 'dark_chocolate', 'milk_chocolate', 'egg_yolk', 'double_cream', 'unsalted_butter', 'caster_sugar', 'cocoa_powder', 'water', 'icing_sugar', 'whole_eggs', 'plain_flour', 'coffee', 'syrup', 'vanilla_beans_paste', 'bun', 'beef_patty', 'american_cheese', 'lettuce', 'mayonnaise', 'potato', 'vegetable_oil', 'salt', 'pepper', 'chickpea', 'onion', 'garlic', 'tomato', 'olive_oil', 'cumin_seeds', 'rice', 'beef_patty', 'smokey_bbq_relish', 'gherkins', 'turkey_bacon', 'mature_cheddar_cheese', 'red_onions', 'tomatoes', 'potato_fries', 'leafy_greens', 'tomato_sauce', 'pork', 'pasta', 'minced_beef', 'mashed_potato', 'pepper', 'onion', 'olive_oil', 'bell_pepper_garlic', 'wheat_flour', 'spices', 'salmon', 'spices', 'rice', 'peas', 'carrot', 'green_beans', 'chicken', 'rice', 'salt', 'water', 'unsalted_butter', 'onion', 'red_chilli_powder', 'ground_black_pepper', 'turmeric_powder', 'garam_masala', 'ground_cumin', 'cayenne_pepper', 'ginger', 'cloves_garlic', 'cinnamon_stick', 'tomato_sauce', 'cream', 'cilantro', 'chicken', 'paprika', 'oil', 'spices', 'garlic', 'lemon_juice', 'pepper', 'seasonings', 'yogurt', 'chipotle_sauce', 'hash_brown', 'bacon', 'sausage', 'egg', 'olive_oil', 'boiled_penne_pasta', 'flour', 'milk', 'pepper', 'salt', 'mozzarella_cheese', 'dried_oregano', 'chili_flakes', 'carrot', 'broccoli', 'refined_wheat_flour', 'potato', 'onion', 'salt', 'refined_oil', 'peas', 'peanut', 'corriander', 'tamrind', 'water', 'waffle_fries', 'cheese', 'brioche_bun', 'beef_patty', 'gherkin', 'onion', 'lettuce', 'burger_sauce', 'shallot', 'garlic', 'broccoli', 'rice', 'tomato', 'cheese', 'balsamic_glaze', 'mushroom', 'flour', 'yeast', 'butter', 'pizza_dough', 'tomato', 'poha', 'cooking_oil', 'mustard_seeds', 'curry_leaves', 'green_chilies', 'onions', 'turmeric_powder', 'salt', 'sugar', 'fresh_cilantro_leaves', 'peanuts', 'bhujiya', 'chapati', 'prawns', 'turmeric', 'salt', 'green_chilli', 'curry_leaves', 'dry_red_chili', 'grated_coconut', 'olive_oil', 'chicken', 'red_rice', 'paprika', 'onion', 'oregano', 'cumin_powder', 'cayenne_powder', 'salt', 'ground_black_pepper', 'onion', 'garlic', 'capsicum', 'refined_beans', 'chedder_cheese', 'coriander_powder', 'water', 'olive_oil', 'tortilla', 'rice', 'tamarind', 'onion', 'tomato', 'indian_spices', 'garlic', 'rice_flour', 'water', 'salt', 'groundnut_oil', 'eggs', 'onions', 'tomatoes', 'turmeric', 'garam_masala', 'coconut_milk', 'ginger_garlic_paste', 'chicken', '_flour', 'water', 'yeast', 'sugar', 'salt', 'egg', 'turmeric', 'cumin', 'garlic', 'ginger', 'chilli', 'garam_massala', 'mixed_vegetables', 'whole_spices', 'rice', 'onions', 'tomatoes', 'biryani_masala', 'yogurt', 'lemon_juice', 'salt', 'chillies', 'ghee', 'ginger_garlic_paste', 'mint_leaves', 'corriander_leaves', 'tomatoes', 'flour', 'olives', 'cheese', 'chicken', 'onion', 'garlic', 'mushrooms', 'button_mushrooms', '_sliced', 'bell_pepper', 'green_chilies', '2_cloves_garlic', 'ginger', 'red_chili_sauce', 'chopped_spring_onions', 'to_taste', 'chicken', 'mozerrella', 'tomato_puree', 'bread', 'lettuce', 'carrot', 'red_cabbage', 'cucumber', 'onion', 'pepper', 'tomato', 'fresh_mint', 'parsley', 'olive_oil', 'burger_bun', 'rice', 'ghee', 'chole', 'tomato', 'onion', 'spices', 'noodles', 'chilli_powder', 'onion', 'tomato_paste', 'chilli', 'salmon', 'potato', 'olive_oil', 'rosemary', 'chickpeas', 'whole_spices', 'ground_spices', 'whole_spices', 'onions', 'tomatos', 'garlic', 'ginger', 'dosa_batter', 'oil', 'chilli_powder', 'green_vegs', 'garlic', 'ginger', 'olive_oil', 'paprika', 'sunflower_oil', 'coriander', 'lamb_sausage', 'pita_bread', 'cumin', 'pickled_chillies', 'chilli_sauce', 'mince', 'chicken_wings', 'basmati_rice', 'onions', 'garlic', 'ginger', 'tomato', 'green_chilli', 'red_chilli', 'black_pepper', 'turmeric', 'yoghurt', 'salt', 'water', 'vegetable_oil', 'cumin', 'coriander', 'clove', 'cinnamon', 'soy', 'fresh_lemon', 'salmon', 'avocado', 'shallot', 'teriyaki_sauce', 'sushi_rice', 'sesame_seeds', 'seaweed', 'flour', 'eggs', 'sugar', 'grated_chocolate', 'caramel_sauce', 'penne_pasta', 'tomato', 'tomato_puree', 'garlic', 'olive_oil', 'salt', 'pepper', 'broccoli', 'olive', 'mozzarella_cheese', 'egg', 'basil', 'british_beef', 'skimmed_milk', 'egg', 'udon_noodles', 'modified_tapioca_starch', 'wheat', 'acidity_regulator', 'chicken_gyoza', 'cabbage', 'white_onion', 'spring_onion', 'soy_sauce', 'ginger', 'yeast_extract', 'garlic', 'chicken_stock', 'sesame_oil', 'textured_soya_protein', 'sugar', 'gyoza_skin', 'pink_star_cabbage', 'green_cabbage', 'carrot', 'kale', 'courgette', 'spinach', 'wood_ear_mushrooms', 'chicken_broth', 'garlic_puree', 'chilean_salt', 'pea_protein_isolate', 'chicken_fat', 'leek_powder', 'onion_powder', 'ginger_puree', 'lemon_concentrate', 'spice_extracts', 'paprika_extract', 'sage_extract', 'natural_flavouring', 'ginger', 'black_gram_lentils', 'rice', 'green_chillies', 'ginger', 'curry_leaves', 'asafoetida', 'salt', 'oil', 'capsicum', 'boiled_eggs', 'onions', 'chilli', 'egg_masala', 'spices', 'wheat_flour', 'butter', 'water', 'lettuce', 'tomatoes', 'onion', 'green_chilli', 'tomato_ketchup', 'tandoori_mayonise', 'sugar', 'golden_syrup', 'cream', 'egg', 'butter', 'vegetable_oil', 'raisin', 'dates', '_vanilla_extract', 'black_treacle', 'custard', 'flattened_rice', 'cumin_seeds', 'salt', 'potato', 'onions', 'peanuts', 'turmeric_powder', 'red_chilli_powder', 'sunflower_oil', 'haddock', 'pepper', 'sunflower_oil', 'pizza_dough', 'flour', 'cornmeal', 'tomato_sauce', 'olive_oil', 'garlic', 'dried_oregano', 'salt_and_pepper', 'corn_kernels', 'mozzarella_cheese', 'cheddar_cheese', 'red_onion', 'red_pepper_flakes', 'noodles', 'egg', 'chipotle_sauce', 'peri_peri_masala', 'maggie_masala', 'onion', 'beef', 'noodle', 'vegetable', 'curd', 'rice', 'dough', 'tomato_sauce', 'mozzarella_cheese', 'pepperoni', 'fish', 'tofu', 'lemon', 'lettuce', 'vegetables', 'etc', 'rice', 'milk', 'sugar', 'cashew_nut', 'almond', 'raisin', 'clarified_butter', 'olive_oil', 'baby_corn', 'paneer', 'cauliflower', 'carrots', 'broccoli', 'pepper_powder', 'beans', 'chilli_powder', 'salt', 'tomato', 'coconut_milk', 'curry_leaf', 'cumin_seeds', 'coriander_leaf', 'oil', 'salt', '_tomato', 'chicken', 'penne', 'spinach', 'garlic', 'mutton', '_minced', '1_green_chili', 'pasta', 'cheese', 'onion', 'milk', 'flour', 'butter', 'milk', 'broccoli', 'bread', 'butter', 'strawberry_jam', 'orange', 'carrot', 'bell_peppers', 'boroccoli', 'garlic', 'soy_sauce', 'chilli_oil', 'chicken', 'flour', 'yeast', 'sessame_seads', 'ham', 'chickpea', 'onion', 'garlic', 'tomato', 'olive_oil', 'cumin_seeds', 'potato', 'green_chillies', 'wheat_flour', 'chicken', 'oil_rice', 'chicken_spices', 'pasta', 'lamb', 'carrots', 'potatoes', 'peas', 'soy_sauce', 'curry', 'bread', 'eggs', 'salt', 'papaya', 'apple', 'vegetable_oil', 'tomatoes', 'red_peppers', 'onions', 'tomato_paste', 'curry_powder', 'chicken_stock', 'unsalted_butter', 'rice', 'chicken_legs', 'wheat_flour', 'salt', 'vegetable_oil', 'potatoes', 'green_chilli', 'red_chilli_powder', 'coriander_powder', 'turmeric', 'butter', 'fennel_seeds_powder', 'coco_flour', 'egg', 'milk', 'white_chocolate', 'dark_chocolate', '2_cups_cabbage', '_thinly_sliced', 'potatoes', '2_tablespoons_oil', '1_onion', '_finely_chopped', 'green_chilies', '_finely_chopped', 'garlic_paste', '_turmeric_powder', 'red_chili_powder', 'salt_to_taste', '_garam_masala', 'pork', 'rice', 'egg', 'olive_oil', 'garlic', 'leek', 'carrot', 'potato', 'celery', 'zucchini', 'milk', 'scrambled_eggs', 'black_pepper', 'fresh_herbs', 'cardamom_pods', 'crushed', 'wheat_flour', 'sunflower_oil', 'potato', 'chilli_powder', 'turmeric_powder', 'salt', 'garam_masala', 'wheat_flour', 'brinjal', 'mustard_oil', 'garlic', 'green_chilies', 'turmeric', 'potatoes', 'chickpea_flour', 'dosa', 'coconut_chutney', 'bread', 'potato', 'tomato', 'chilli', 'oil', 'potato', 'salt', 'milk', 'chocolate_powder', 'chicken', 'breadcrumbs', 'vegetable_oil', 'lamb', 'onion', 'garlic', 'breadcrumbs', 'cumin', 'oregano', 'paprika', 'chicken', 'garlic', 'ginger', 'beans', 'carrot', 'onion', 'tomato', 'rice', 'tortilla', 'cheese', 'egg', 'green_chilli_sauce', 'naga_chilli_sauce', 'rice', 'warm_spices', 'salt', 'chillies', 'burger_buns', 'lettuce', 'fish_fillet', 'cheese', 'noodles', 'tomatoes', 'bell_peppers', 'onion', 'vegetable_broth', 'soy_sauce', 'chilli_sauce', 'vinegar', 'lemon', 'green_gram_beans', 'ginger', 'green_chilli', 'red_chilli_powder', 'salt', 'cumin_powder', 'chickpea_flour', 'salt', 'oil', 'large_tortilla_bread', 'shredded_mozarella_cheese', 'shredded_cheddar_cheese', 'butter', 'rice', 'lentil', 'spices', 'oil', 'chillies', 'onion', 'salt', 'bread', 'egg', 'salt', 'olive_oil', 'cajun_seasoning', 'wheat_flour', 'vegetables', 'egg', 'turmeric_powder', 'coriander_leaves', 'salt', 'cumin_seeds', 'ghee', 'olive_oil', 'water', 'mix_spices', 'indian_cottage_cheese', 'ginger', 'hot_spices', 'ground_cumin', 'tomatoes', 'peas', 'coriander', 'salt', 'water', 'tomatoes', 'flour', 'olives', 'peppers', 'cheese', 'chicken', 'onion', 'garlic', 'mushrooms', 'minced_pork', 'mushroom', 'chinese_cabbage', 'ladies_finger', 'onions', 'green_chilli', 'spices', 'sausage', 'cheese', 'ketchup', 'basmati_rice', 'onion_shallots', 'ginger', 'garlic', 'chicken', 'yogurt', 'coriander', 'tomato_paste', 'curry_powder', 'cloves', 'fresh_double_cream', 'vegetable_oil', 'butter', 'rice', 'potatoes', 'meat', 'curry_sauce', 'chicken', 'green_chickpeas', 'onions', 'tomatoes', 'ginger', 'garlic', 'cooking_oil', 'cumin_seeds', 'turmeric_powder', 'red_chili_powder', 'coriander_powder', 'garam_masala', 'whole_wheat_flour', 'water', 'salt', 'ghee', 'meat', 'onion', 'yoghurt', 'marinated_chicken', 'jerk_sauce', 'tumeric', 'rice', 'pineapple', 'sweetcorn', 'spinach', 'mango', 'black_beans', 'red_kidney_beans', 'chilli_tortilla_wrap', 'crisps', 'cottage_cheese', 'corn_flour', '_flour', 'red_chilli_powder', 'garam_masala', 'salt', 'oil', 'whole_wheat_flour', 'water', 'eggs', 'black_pepper', 'salt', 'chilly', 'flour', 'onion', 'pepper', 'oregano', 'corn', 'garlic_oil', 'bell_pepper', 'cheese', 'rice_noodles', 'spices', 'salt', 'oil', 'onions', 'chilllies', 'potato', 'tomato', 'carrots', 'okra', 'onion', 'green_chillies', 'garlic', 'dry_chilly', 'oil', 'chilly_powder', 'salt', 'egg', 'spring_onion', 'white_bread', 'butter', 'salt', 'green_chillies', 'flour', 'egg', 'chocolate', 'onion', 'capsicum', 'mushroom', 'pasta', 'cheese', 'butter', 'italian_spices', 'onions', 'lettuce', 'brocolli', 'potatoes', 'kale', 'olive_oil', 'salt', 'pepper', 'potato', 'spinach', 'onions', 'garlic', 'ginger', 'tomato', 'green_chilli', 'red_chilli', 'black_pepper', 'turmeric', 'salt', 'vegetable_oil', 'clove', '_cinnamon', 'coriander', 'choclate', 'cocoa_mass', 'sugar', 'cocoa_butter', 'milk', 'skim_milk', 'flavouring', 'boneless_chicken', 'sunflower_oil', 'onion', 'pepper', 'pineapple_juice', 'garlic', 'root_ginger', 'soy_sauce', 'brown_sugar', 'tomato_ketchup', 'dried_chilli', 'spaghetti', 'jalapenos', 'chicken', 'sweet_potato', 'chicken_breast', 'milk', 'plain_flour', 'egg', 'panko_breadcrumbs', 'soy_sauce', 'sunflower_oil', 'butter', 'carrot', 'garlic', 'curry_powder', 'honey', 'ketchup', 'red_miso_paste', 'chicken_stock_cube', 'rice', 'water', 'aubergine', 'olive_oil', 'yellow_onion', 'bell_pepper', 'garlic', 'tomato', 'courgette', 'red_wine', 'thyme', 'black_pepper', 'sweet_paprika', 'dried_rosemary', 'cider_vinegar', 'fresh_basil', 'sour_dough_baguette', 'bao_bun', 'tofu', 'red_cabbage', 'dumpling', 'corn_and_peas', 'mushroom', 'cougette', 'carrot', 'peas', 'tomato_sauce', 'fusilli', 'onion', 'bagel', 'lettuce', 'avocado', 'salmon', 'oats', 'oranges', 'apple', 'egg', 'milk', 'sugar', 'chocolate', 'almond', 'caramel', 'vanila', 'noodles', 'carrots', 'green_beans', 'eggs', 'mushrooms', 'chicken', 'tomato', 'lettuce', 'spices', 'mayonnaise', 'bread', 'plain_flour', 'tomato_sauce', 'yeast', 'ham', 'mozarella_cheese', 'oil', 'wheat_flour', 'potato', 'tuna', 'spices', 'herbs', 'vegetable_oil', 'black_curry', 'rice', 'wheat_bread', 'meatballs', 'pepperoni', 'cheddar', 'crispy_onions', 'peppers', 'marinara_sauce', 'soybean', '2_tablespoons_oil', '1_onion', '_finely_chopped', '2_tomatoes', '_finely_chopped', '1_green_chili', '_finely_chopped', 'garlic_paste', '_turmeric_powder', 'red_chili_powder', 'salt_to_taste', '_garam_masala', 'puff_pastry', 'mozzarella_cheese', 'ham', 'butter', 'chicken', 'bread', 'lettuce', 'tomato', 'mayonise', 'cheese', 'spices', 'potato', 'oil', 'cheese', 'salt', 'tortillas', 'egg', 'onion', 'bean_sprouts', 'chicken', 'carrot', 'soy_sauce', 'spring_onion', 'rice', 'water', 'lentils', 'kale', 'salt', 'pepper', 'cucumber', 'edamame', 'apple', 'coriander', 'ginger', 'garlic', 'soy_sauce', 'dijon_mustard', 'rice_vinegar', 'olive_oil', 'dal', 'oil', 'onion', 'salt', 'spices', 'vegetables', 'corn_flour', 'wheat_flour', 'jowar_flour', 'gram_flour', 'salt', 'water', 'cooking_oil', 'yogurt', 'groundnut_powder', 'carrots', 'sliced_cucumber', 'coriander', 'vegetable_oil', 'eggs', 'cornstarch', 'flour', 'salt', 'pepper', 'garlic', 'chicken_breast_fillets', 'sesame_oil', 'chinese_rice_vinegar', 'honey', 'sweet_chilli_sauce', 'brown_sugar', 'soy_sauce', 'rice', 'scallions', 'mujadara', 'falafel', 'scrambled_eggs', 'roasted_veg', 'chinese_noodles', 'egg', 'green_beans', 'carrots', 'potato', 'tuna', 'mayonnaise', 'rocket', 'tomato', 'cucumber', 'feta', 'chicken', 'water', 'mushroom', 'oil', 'salt', 'welsh_onion', 'prawns', 'rice', 'soy_sauce', 'olive_oil', 'onion', 'green_pepper', 'salt', 'coriander', 'hot_sauce', 'spinach', 'indian_cotage_cheese', 'peanut', 'onion', 'ginger', 'rice', 'sweet_potatoes_chopped', 'spinach', 'onions', 'tomato_puree', 'butter', 'coconut_milk', 'salt', 'garam_masala', 'red_chilli_powder', 'lemon_juice', 'sardines', 'whole_wheat_semolina', 'mushrooms', 'kidney_beans', 'onion', 'green_bell_pepper', 'tomatoes', 'lemon_juice', 'olive_oil', 'green_pepper', 'salt', 'pepper', 'chicken', 'rice', 'chilli_powder', 'turmeric_powder', 'ghee', 'meat_masala', 'tomato', 'onion', 'salt', 'spaghetti', 'minced_meat', 'tomato_sauce', 'firm_tofu', '_cubed', '2_cloves_garlic', '_minced', 'ginger', '_minced', '_thinly_sliced', '_thinly_sliced', '1_carrot', '_julienned', '_trimmed', '_chopped', 'green_onions', '_chopped', 'salt_and_pepper', '_to_taste', 'soy_sauce', '1_teaspoon_sugar', 'leafy_green', 'sweet_corn', 'olive_oil', 'salt', 'tomato', 'curry_leaves', 'mustard_seeds', 'urad_dal', 'oil', 'yogurt', 'rice', 'dried_chili', 'whole_grain_oats', 'corn_starch', 'sugar', 'salt', 'rice', 'lamb', 'garlic', 'onion', 'ginger', 'whole_spices', 'ground_spices', 'oil', 'salt', 'egg', 'spring_onion', 'salt', 'oil', 'chicken_wings', 'corn_flour', 'corn_starch', 'bread_crumbs', 'oil', 'garlic_powder', 'paprika', 'baking_powder', 'red_lentils', '4_cups_water', '1_large_tomato', '1_green_chili', 'ginger', 'fresh_coriander_leaves', 'chopped', 'whole_wheat_flour', 'salt', 'a_pinch', 'rice_flour', 'salt', 'oil', 'beef_bones', 'pork_shanks', 'peppercorns', 'star_anise', 'green_onions', 'ginger', 'salt', 'sugar', 'curry_powder', 'chicken_essence', 'coriander', 'squash', 'oil', 'chili_oil', 'dark_soy_sauce', 'mint', 'potato', 'curd', 'corriander', 'wheat_flour', 'onion', 'mustard_oil', 'chickpea', 'rice', 'gram_flour', 'chilli', 'garlic', 'coriander', 'coconut', 'lemon', 'chorizo', 'fusilli', 'onion', 'mushrooms', 'garlic', 'eggs', 'chilli_powder', 'salt', 'rice', 'milk', 'sugar', 'rice', 'spinach', 'lentils', 'green_chilies', 'curry_leaves', 'garlic', 'tomato', 'ghee', 'turmeric', 'cumin_seeds', 'salt', 'oil', 'bread', 'tomato', 'buffalo_stracciatella', 'evo_oil', 'basil', 'flour', 'water', 'lamb', 'onions', 'peas', 'cumin', 'rice', 'schezwan_chutney', 'bell_peppers', 'onions', 'garlic', 'chicken', 'chilli', 'chopped_garlic', 'olive_oil', 'black_pepper', 'ginger_garlic_paste', 'beef', 'buns', 'cheese', 'lettuce', 'french_fries', 'pickles', 'maize_floor', 'tomatoes', 'onion', 'garlic_powder', 'water', 'olive_oil', 'green_pepper', 'capsicum', 'onion', 'tomato', 'salt', 'chilli_powder', 'garam_masala', 'sunflower_oil', 'chicken', 'potato', 'vegetables', 'salt', 'oregano', 'salt', 'rock_salt', 'bread', 'coriander_leaves', 'cheese', 'butter', 'vegetable_oil', 'mustard_seeds', 'cumin_seeds', 'basmati_rice', 'bay_leaves', 'cinnamon_sticks', 'cloves', 'cardamom_pods', 'peanuts', 'water', 'tomato', 'onion', 'green_chilly', 'pepper', 'turmeric_powder', 'coriander_powder', 'garam_masala', 'salt', 'eggs', 'fat', 'ginger', 'onion', 'mushrooms', 'onion', 'mushrooms', 'kidney_beans', 'tomato', 'onions', 'cottage_cheese', 'beans', 'egg', 'black_rice', 'lentils', 'spelt', 'quinoa', 'barley', 'mashed_potatoes', 'green_beans', 'onions', 'red_cabbage', 'aubergine', 'sweet_potatoes', 'cauliflower', 'olive_oil', 'green_chili_peppers', 'gram_flour', 'rice_flour', 'carom_seeds', 'red_chili_powder', 'turmeric_powder', 'salt', 'water', 'cooking_oil', 'rice', 'tamarind_pulp', 'pigeon_peas', 'turmeric_powder', 'salt', 'tomato', 'carrot', 'onion', 'french_beans', 'cashew_nut', 'mustard_seeds', 'lady’s_finger', 'cumin_powder', 'chilli_powder', 'oil', 'lemon_juice', 'surreal_frosted_flavour', 'semi_skimmed_milk', 'saffron', 'milk', 'sugar', 'cardamon', 'raisins', 'pistachios', 'almonds', 'sticky_rice', 'egg', 'beef', 'prawns', 'carrot', 'spring_onion', 'soy_sauce', 'chilli_oil', 'noodels', 'buldak_hot_sauce', 'water', 'chedder_cheese', 'basmati_rice', 'potato', 'carrot', 'garden_peas', 'onions', 'garlic', 'ginger', 'tomato', 'green_chilli', 'red_chilli', 'black_pepper', 'turmeric', 'water', 'salt', 'vegetable_oil', 'cardamom', 'clove', 'cinnamon', 'coriander', 'bay_leaves', 'chicken_drumstics', 'chicken_masala', 'curd', 'paprika', 'flour', 'pork', 'rice', 'egg', 'spices', 'vegetable_oil', 'egg', 'potatoes', 'onions', 'curd', 'cumin_powder', 'red_chilli_powder', 'salt', 'all_purpose_flour', 'sunflower_oil', 'avocado', 'egg', 'lentils', 'black_rice', 'spelt', 'barley', 'quinoa', 'cauliflower', 'red_onion', 'red_cabbage', 'mushrooms', 'courgette', 'potatoes', 'olive_oil', 'lamb', 'whole_spices', 'rice', 'onions', 'tomatoes', 'biryani_masala', 'yogurt', 'lemon_juice', 'salt', 'chillies', 'ghee', 'ginger_garlic_paste', 'mint_leaves', 'corriander_leaves', 'apple', 'cucumber', 'peanuts', 'kiwi', 'tomato', 'lemon_juice', 'chaat_masala', 'black_salt', 'rice', 'onion', 'cumin_seeds', 'coriander_powder', 'bay_leaf', 'cinnamon', 'cloves', 'green_cardomom', 'green_peas', 'carrots', 'beans_and_oil', 'flour', 'sugar', 'carrot', 'olive_oil', 'chicken_leg', 'kosher_salt', 'black_pepper', 'garlic_powder', 'paprika', 'dried_thyme', 'bacon', 'broccoli_paste', 'lettuce', 'fish', 'aromatic_spices', 'ginger_garlic_paste', 'chilli_powder', 'cooking_oil', 'bread', 'oil', 'eggs', 'tomato', 'pepper', 'salt', 'corriander_leaves', 'burger_bun', 'buttermilk', 'plain_flour', 'oregano', 'paprika', 'cayenne_pepper', 'garlic_powder', 'vegetable_oil', 'lettuce', 'mayonnaise', 'chicken', 'rice', 'lemon', 'onion', 'turmeric', 'tomato_sauce', 'mozzarella_cheese', 'pizza_dough', 'vegetables', 'chicken_salami', 'boiled_corn_kernels', 'chopped_garlic', 'olive_oil', 'salt', 'black_pepper', 'sizzler_sauce', 'olives', 'red_chili_flakes', 'oregano', 'chicken', 'potatoes', 'corn', 'coriander', 'coriander_seeds', 'pepper', 'salt', 'chilli', 'onion', 'cumin', 'red_wine_vinegar', 'cow_trotters', 'curry_sauce', 'roti', 'rice', 'water', 'salt', 'carrot', 'capsicum', 'garlic', 'ginger', 'schezwan_sauce', 'courgette', 'tomatoes', 'rice', 'sesame_seeds', 'salt', 'wheat_flour', 'spices', 'spinach', 'salt', 'pita', 'courgette', 'burrata', 'onion', 'pine_kernels', 'yoghurt', 'labneh', 'butter', 'flour', 'eggs', 'apples', 'vanilla_ice_cream', 'berries', 'porc', 'celery', 'sweet_pepper', 'red_chilli', 'salt', 'vegetable_oil', 'flour', 'sugar', 'hazelnut_sauce', 'choco_chip', 'oats', 'milk', 'dal', 'garlic', 'pasta', 'capsicum', 'cream', 'cheese', 'magic_masala', 'red_pepper', 'onion', 'rice', 'spices', 'hing', 'ginger_garlic_paste', 'salt', 'oil', 'vegitables', 'black_dal', 'tomato', 'spices', 'potato', 'green_chilli', 'gram_flour', 'coriander', 'curry_leaves', 'oil', 'rice_flour', 'salt', 'macaroni_pasta', 'cheddar_cheese', 'milk', 'butter', 'salt', 'pepper', 'noodles', 'maggie', 'maggie_sauce', 'mgic_masala', 'chilly_flakes', 'cheese', 'origano', 'split_black_gram', 'rice', 'oil', 'salt', 'ginger_cumin_seeds', 'black_pepper', 'coconut_pieces', 'lemon_juice', 'mustard_seed', 'urad_daal', 'chana_daal', 'turmeric_powder', 'salt', 'asofoetida_powder', 'green_chilli', 'vegetable_oil', 'mustard_seeds', 'cumin_seeds', 'ivy_guard', 'tomato', 'onion', 'green_chilly', 'pepper', 'turmeric_powder', 'coriander_powder', 'garam_masala', 'salt', 'meat', 'spices', 'rice', 'green_gram', 'ginger', 'garlic', 'oil', 'tumeric_powder', 'green_chilli', 'salt', 'onion', 'lettuce', 'soy_sause', 'oil', 'almond', 'cashew', 'besan', 'pizza_dough', 'rocket', 'buffalo_mozzarella', 'parma_ham', 'ladyfingers', 'oil', 'cumin_seeds', 'mustard_seeds', 'asafoetida', 'turmeric_powder', 'chilli_powder', 'coriander_powder', 'salt', 'garam_masala', 'lemon_juice', 'water', 'fries', 'curd', 'gram_flour', 'rice', 'spices', 'white_chickpeas', 'potato', 'cinnamon', 'cloves', 'onion', 'green_chilli', 'garlic_paste', 'tomato', 'salt', 'water', 'wheat', 'tumeric', 'ginger', 'flour', 'peas', 'chicken_stock', 'prawn_minced', 'onions', 'dashi_powder', 'ginger', 'garlic', 'sesame_oil', 'salt', 'sugar', 'spring_onions', 'wonton_wrappers', 'yellow_lentils', 'onion', 'vegetable_oil', 'cumin_seeds', 'tomato', 'garlic_paste', 'ginger_paste', 'white_rice', 'green_chillies', 'pasta', 'peas', 'lotus_root', 'onion', 'garlic', 'carrot', 'celery', 'tinnned_tomatoes', 'thyme', 'rosemary', 'tomato_puree', 'red_wine', 'beef_stock', 'vegetarian_mince', 'penne_pasta', 'parmesan', 'green_peas', 'carrot', 'basmati_rice', 'vegetable_oil', 'chilli', 'salt', 'rye_wrap', 'chicken', 'sweetcorn', 'salad', 'rapeseed_oil', 'wheat_flour', 'salt', 'avocado', 'red_pepper', 'red_wine_vinegar', 'onion', 'tomato', 'vegetable_oil', 'garlic', 'basil', 'olive_oil', 'coriander', 'mushrooms', '1_large_onion', 'cloves_garlic', 'ginger', 'green_chilies', 'black_lentils', 'pepper', 'green_chilli', 'onion', 'salt', 'sunflower_oil', 'asafoetida', 'chicken', 'potatoes', 'salt', 'mayonnaise', 'ketchup', 'sugar', 'egg', 'double_cream', 'vanilla_extract', 'raspberry', 'blue_berry’s', 'dark_chocolate', 'mint', 'strawberry', 'potatoes', '_tomatoes', '_chopped', '_chopped', 'ginger', 'green_chilies', 'wheat_flour', 'onion', 'tomato', 'green_chillis', 'chilli_powder', 'turmeric_powder', 'rice', 'chicken', 'onion', 'carrot', 'beans', 'soy_sauce', 'chilli_sauce', 'pepper', 'salt', 'garam_masala', 'chicken_breast', 'cheese', 'doritos', 'tomato_salsa', 'sweetcorn', 'peppers', 'chipotle_southwest_sauce', 'rice_flour', 'black_gram', 'lemon', 'pumpkin', 'bottle_gourd', 'tomato', 'onion', 'drumsticks', 'tamarind', 'brown_sugar', 'spaghetti', 'rocket', 'parmesan', 'chilli', 'eggs', 'bread', 'oil', 'salt', 'pepper', 'cheese', 'vegetables', 'tomato', 'asafoetida', 'coriander', 'sesame_seeds', 'green_chilli', 'egg', 'regular_bun', 'beef', 'american_cheese', 'ketchup', 'chopped_tomatoes', 'chopped_onions', 'fries', 'chicken_wings', 'pepsi', 'eggs', 'onions', 'tomatoes', 'vegetable_oil', 'salt', 'turmeric_powder', 'sambhar_masala_powder', 'dough', 'tomato_sauce', 'mozzarella_cheese', 'salami', 'chickpea', 'chilli_powder', 'turmeric', 'cumin_powder', 'coriander_powder', 'tomato', 'onion', 'lemon', 'ginger', 'oil', 'coriander', 'green_chilli', 'flour', 'peas', 'potato', 'warm_spices', 'curd', 'garlic', 'onion', 'beef_patty', 'cheese', 'bacon', 'chillies', 'bbq_sauce', 'mayo', 'lettuce', 'brioche', 'rice', 'peas', 'chillies', 'warm_spices', 'onions', 'lamb', 'tomatoe', 'bread', 'pepper', 'pizza_dough', 'pizza_sauce', 'mozzarella_cheese', 'pepperoni', 'black_pepper', 'sunflower_oil', 'toast', 'peanut_butter', 'blueberries', 'cauliflower_florets', '_flour', 'cornstarch', 'rice_flour', 'red_chili_powder', 'turmeric_powder', 'garam_masala', 'garlic_paste', 'curry_leaves', 'yogurt', 'lemon_juice', 'salt', 'vegetable_oil', 'avocado', 'lime', 'coriander', 'egg', 'feta_cheese', 'spring_onion', 'chilli_flakes', 'pomegranate_molasses', 'cheese', 'cream', 'sauces', 'all_purpose_flour', 'garlic', 'maggi', 'chilli_flakes', 'butter', 'mozzarella_cheese', 'sweet_baby_corn', 'salt', 'chilli_powder', 'ham', 'mushrooms', 'black_olives', 'mozzarella_cheese', 'sour_dough', 'red_lentils', 'rice', 'mixed_vegetables', 'onions', 'tomatoes', 'clarified__butter', 'tamarind_juice', 'turmeric', 'bisibele_bath_masala', 'cashews', 'whole_spices', 'mushroom', 'cabbage', 'cauliflower', 'onion', 'green_chillies', 'oil', 'garam_masala', 'chilly_powder', 'corn_flour', 'potatoe', 'flour', 'indian_bun', 'toast', 'jam', 'butter', 'tea', '_finely_chopped', 'pork', '2_cloves_garlic', 'rolls', 'semolina', 'cooking_oil', 'mustard_seeds', 'split_black_gram', 'split_chickpeas', 'curry_leaves', 'green_chilies', 'ginger', 'onions', 'carrots', 'peas', 'bell_peppers', 'turmeric_powder', 'salt', 'water', 'fresh_coriander_leaves', 'flattened_rice', 'raisins', 'turmeric', 'salt', 'sugar', 'peanuts', 'onions', 'coriander', 'lemon', 'chappati', 'paneer', 'onion', 'capsicum', 'spices', 'oil', 'mayonnaise', 'fish_fingers', 'baked_beans', 'pitta_bread', 'pancakes', 'french_fries', 'chicken', 'red_cabbage', 'paneer', 'rice', 'oil', 'chilli_powder', 'paneer_masala', 'lemon_juice', 'oil', 'rice', 'onion', 'vegetable_oil', 'salt', 'south_asian_spices', 'egg', 'vegetables', 'turmeric_powder', 'olive_oil', 'ghee', 'salt', 'egg_white', 'chilli_powder', 'cumin_seeds', 'green_chilli', 'tomato', 'water', 'flattened_rice', 'oil', 'curry_leaves', 'mustard_seeds', 'onion', 'salt', 'turmeric_powder', 'lemon', 'namkeen_(indian_savory)', 'kimchi', 'beef', 'spinch', 'onions', 'lamb_broth', 'flour', 'egg', 'lemon', 'vinegar', 'spices', 'butter', 'rice', 'onion', 'chilli', 'turmeric_powder', 'tomato', 'salt', 'indian_spices', 'chicken', 'lemon', 'garlic', 'coriander', 'cumin', 'cardamom', 'paprika', 'cayenne_pepper', 'salt', 'burger_buns', 'chicken', 'cheese', 'mayonnaise', 'ketchup', 'potatoes', 'yellow_lentils', 'onion', 'ginger', 'garlic', 'cumin_seeds', 'musturds', 'green_chillies', 'oil', 'garlic', 'curry_leaves', 'green_chilli', 'cumin', 'black_pepper', 'tamarind', 'tomatoes', 'coriander_leaves', 'vegetable_oil', 'mustard', 'asafoetida', 'turmeric', 'water', 'salt', 'white_rice', 'cooked_rice_noodles', 'roasted_chicken', 'water', 'red_peppers', 'garlic', 'sunflower_oil', 'soya_beans', 'wheat', 'mustard', 'salt', 'lettuce', 'tomato', 'onion', 'red_cabbage', 'bread', 'yoghurt', 'garlic', 'beef', 'chicken', 'fries', 'cheese_sauce', 'okra', '_washed', '_dried', '1_large_onion', '_finely_chopped', '_garlic', '_minced', 'ginger', '_grated', '2_tomatoes', '_finely_chopped', '_turmeric_powder', 'cumin_powder', 'red_chili_powder', 'salt_to_taste', '_garam_masala', 'tortilla', 'pak_choi', 'egg', 'flour', 'water', 'salt', 'sago', 'cashew_nut', 'peanut', 'salt', 'sugar', 'ground_pepper', 'oil', 'cheddar_cheese', 'edam_cheese', 'olives', 'tomatoes', 'cucumber', 'olive_oil', 'oregano', 'rice', 'corn', 'beef', 'red_cabbage', 'rice', 'salt', 'cumin_seeds', 'water', 'peas', 'asafoetida', '2_cups_water', '2_tablespoons_ghee', 'green_cardamom', 'cloves', '1_bay_leaf', 'salt_to_taste', 'fried_cottage_cheese', 'ghee', 'lentils', 'milk', 'wheat_flour', 'green_chilli', 'potato', 'onion', 'peanut', 'salt', 'turmeric_powder', 'red_chilli_powder', 'coriander_powder', 'all_purpose_flour', 'sunflower_oil', 'garlic', 'green_chilli', 'kiwi', 'banana', 'apple', 'milk']\n"
          ]
        }
      ]
    },
    {
      "cell_type": "markdown",
      "source": [
        "It is apparent that long_grain_rice could simply be rice and lamb_or_goat_or_beef_mince should just be beef_mince or mince. Let's use regex pattern to find ingredients with 4 or more words and try to reduce them to their base forms."
      ],
      "metadata": {
        "id": "xkOp_WhVXk3W"
      }
    },
    {
      "cell_type": "code",
      "source": [
        "#now trying to reduce unusually long ingredients with shorter more accurate versions\n",
        "MLENDYD_df1[\"Ingredients\"] = [\",\".join(replace_invalid_strings(ingred_str.split(\",\"), pattern = r'(?:.*_){3,}', valid_ingred = short_ingreds0)) for ingred_str in MLENDYD_df1.Ingredients]"
      ],
      "metadata": {
        "id": "twEeQNsGOolr"
      },
      "execution_count": 12,
      "outputs": []
    },
    {
      "cell_type": "markdown",
      "source": [
        "For the final step, lets consider lemmatizing ingredients to their base singular form."
      ],
      "metadata": {
        "id": "eNAO5Y0dbpyR"
      }
    },
    {
      "cell_type": "code",
      "source": [
        "#installing and importing dependencies\n",
        "!pip install --quiet nltk\n",
        "import nltk\n",
        "nltk.download('wordnet')\n",
        "from nltk.stem import WordNetLemmatizer"
      ],
      "metadata": {
        "colab": {
          "base_uri": "https://localhost:8080/"
        },
        "id": "VE5s5VfJVbKs",
        "outputId": "defe59ee-65fe-4697-db45-c95acc290763"
      },
      "execution_count": 13,
      "outputs": [
        {
          "output_type": "stream",
          "name": "stderr",
          "text": [
            "[nltk_data] Downloading package wordnet to /root/nltk_data...\n",
            "[nltk_data]   Package wordnet is already up-to-date!\n"
          ]
        }
      ]
    },
    {
      "cell_type": "code",
      "source": [
        "#initializing the lemmatizer\n",
        "lemmatizer = WordNetLemmatizer()\n",
        "\n",
        "#example to demonstrate that it won't be as harsh as stemming, it would only converting words without underscores to their dictionary form\n",
        "Words = ['peanuts', 'red_chilli_powder']\n",
        "\n",
        "Lemmas = [lemmatizer.lemmatize(word) for word in Words]\n",
        "for i in range(len(Words)):\n",
        "  print(f\"\\t{i+1}) {Words[i]} becomes: {Lemmas[i]}\\n\")"
      ],
      "metadata": {
        "colab": {
          "base_uri": "https://localhost:8080/"
        },
        "id": "jKG6UwwydAi4",
        "outputId": "54941130-2302-42ed-a303-9e8204830967"
      },
      "execution_count": 14,
      "outputs": [
        {
          "output_type": "stream",
          "name": "stdout",
          "text": [
            "\t1) peanuts becomes: peanut\n",
            "\n",
            "\t2) red_chilli_powder becomes: red_chilli_powder\n",
            "\n"
          ]
        }
      ]
    },
    {
      "cell_type": "code",
      "source": [
        "#implementing lemmatization to our ingredients and updating the ingredients column\n",
        "MLENDYD_df1[\"Ingredients\"] = [\",\".join([lemmatizer.lemmatize(ingred) for ingred in ingred_str.split(\",\")]) for ingred_str in MLENDYD_df1.Ingredients]"
      ],
      "metadata": {
        "id": "zP2ZeyqaLIJq"
      },
      "execution_count": 15,
      "outputs": []
    },
    {
      "cell_type": "markdown",
      "source": [
        "Now that we have engineered the ingredients, let's create a mask and exclude all the ingredients that are still present in an invalid format."
      ],
      "metadata": {
        "id": "0iUFDVTJgm4e"
      }
    },
    {
      "cell_type": "code",
      "source": [
        "#defining a regular expression pattern for valid characters\n",
        "valid_pattern = r'^[a-zA-Z0-9_,]+$'\n",
        "\n",
        "#creating mask for all the samples with valid ingredients\n",
        "mask = MLENDYD_df1['Ingredients'].str.contains(valid_pattern)\n",
        "\n",
        "#applying the mask to filter the MLENDYD_df1\n",
        "yd_df1 = MLENDYD_df1[mask]\n",
        "\n",
        "#displaying the filtered dataset\n",
        "display(yd_df1.head(3))\n",
        "print(f\"Number of instances in the filtered dataset: {yd_df1.shape[0]}\\n\")\n",
        "\n",
        "#new total number of ingredients\n",
        "ingreds = [i for j in [i.split(\",\") for i in yd_df1.Ingredients] for i in j if i != \"\"]\n",
        "print(f\"Total number of unique ingredients in yd_df1: {len(set(ingreds))}\")\n",
        "print(f\"Total number of ingredients in yd_df1: {len(ingreds)}\\n\")\n",
        "\n",
        "#double checking if there are any invalid ingredients left\n",
        "invalid_pattern = re.compile(r'[^a-zA-Z0-9_]+')\n",
        "invalid_ingreds = [i for i in ingreds if invalid_pattern.search(i)]\n",
        "print(f\"Unique invalid ingredients: \\n{set(invalid_ingreds)}\")\n",
        "print(f\"Number of unique invalid ingreds: {len(set(invalid_ingreds))}\")\n",
        "print(f\"Total number of invalid ingreds: {len(invalid_ingreds)}\")"
      ],
      "metadata": {
        "colab": {
          "base_uri": "https://localhost:8080/",
          "height": 351
        },
        "id": "51IqMFUPO_Ge",
        "outputId": "407f2772-0a83-4ed8-ddd2-032e2e43f1b8"
      },
      "execution_count": 16,
      "outputs": [
        {
          "output_type": "display_data",
          "data": {
            "text/plain": [
              "                      Diet Cuisine_org  Cuisine          Dish_name  \\\n",
              "filename                                                             \n",
              "000002.jpg  non_vegetarian     english  english  english_breakfast   \n",
              "000004.jpg      vegetarian      indian   indian        gulab_jamun   \n",
              "000005.jpg  non_vegetarian      indian   indian     chicken_masala   \n",
              "\n",
              "           Home_or_restaurant  \\\n",
              "filename                        \n",
              "000002.jpg               home   \n",
              "000004.jpg               home   \n",
              "000005.jpg               home   \n",
              "\n",
              "                                                  Ingredients  \\\n",
              "filename                                                        \n",
              "000002.jpg  egg,bacon,hash_brown,tomato,bread,tomato,baked...   \n",
              "000004.jpg      sugar,water,khoya,milk,salt,oil,cardamon,ghee   \n",
              "000005.jpg  chicken,lemon,turmeric,garam_masala,coriander_...   \n",
              "\n",
              "           Healthiness_rating  Healthiness_rating_int       Likeness  \\\n",
              "filename                                                               \n",
              "000002.jpg          unhealthy                     2.0           like   \n",
              "000004.jpg          unhealthy                     2.0  strongly_like   \n",
              "000005.jpg            healthy                     4.0  strongly_like   \n",
              "\n",
              "            Likeness_int Benchmark_A  \n",
              "filename                              \n",
              "000002.jpg           4.0       Train  \n",
              "000004.jpg           5.0       Train  \n",
              "000005.jpg           5.0       Train  "
            ],
            "text/html": [
              "\n",
              "  <div id=\"df-863cd026-d41d-425a-b7fd-c6ab7289f7e7\" class=\"colab-df-container\">\n",
              "    <div>\n",
              "<style scoped>\n",
              "    .dataframe tbody tr th:only-of-type {\n",
              "        vertical-align: middle;\n",
              "    }\n",
              "\n",
              "    .dataframe tbody tr th {\n",
              "        vertical-align: top;\n",
              "    }\n",
              "\n",
              "    .dataframe thead th {\n",
              "        text-align: right;\n",
              "    }\n",
              "</style>\n",
              "<table border=\"1\" class=\"dataframe\">\n",
              "  <thead>\n",
              "    <tr style=\"text-align: right;\">\n",
              "      <th></th>\n",
              "      <th>Diet</th>\n",
              "      <th>Cuisine_org</th>\n",
              "      <th>Cuisine</th>\n",
              "      <th>Dish_name</th>\n",
              "      <th>Home_or_restaurant</th>\n",
              "      <th>Ingredients</th>\n",
              "      <th>Healthiness_rating</th>\n",
              "      <th>Healthiness_rating_int</th>\n",
              "      <th>Likeness</th>\n",
              "      <th>Likeness_int</th>\n",
              "      <th>Benchmark_A</th>\n",
              "    </tr>\n",
              "    <tr>\n",
              "      <th>filename</th>\n",
              "      <th></th>\n",
              "      <th></th>\n",
              "      <th></th>\n",
              "      <th></th>\n",
              "      <th></th>\n",
              "      <th></th>\n",
              "      <th></th>\n",
              "      <th></th>\n",
              "      <th></th>\n",
              "      <th></th>\n",
              "      <th></th>\n",
              "    </tr>\n",
              "  </thead>\n",
              "  <tbody>\n",
              "    <tr>\n",
              "      <th>000002.jpg</th>\n",
              "      <td>non_vegetarian</td>\n",
              "      <td>english</td>\n",
              "      <td>english</td>\n",
              "      <td>english_breakfast</td>\n",
              "      <td>home</td>\n",
              "      <td>egg,bacon,hash_brown,tomato,bread,tomato,baked...</td>\n",
              "      <td>unhealthy</td>\n",
              "      <td>2.0</td>\n",
              "      <td>like</td>\n",
              "      <td>4.0</td>\n",
              "      <td>Train</td>\n",
              "    </tr>\n",
              "    <tr>\n",
              "      <th>000004.jpg</th>\n",
              "      <td>vegetarian</td>\n",
              "      <td>indian</td>\n",
              "      <td>indian</td>\n",
              "      <td>gulab_jamun</td>\n",
              "      <td>home</td>\n",
              "      <td>sugar,water,khoya,milk,salt,oil,cardamon,ghee</td>\n",
              "      <td>unhealthy</td>\n",
              "      <td>2.0</td>\n",
              "      <td>strongly_like</td>\n",
              "      <td>5.0</td>\n",
              "      <td>Train</td>\n",
              "    </tr>\n",
              "    <tr>\n",
              "      <th>000005.jpg</th>\n",
              "      <td>non_vegetarian</td>\n",
              "      <td>indian</td>\n",
              "      <td>indian</td>\n",
              "      <td>chicken_masala</td>\n",
              "      <td>home</td>\n",
              "      <td>chicken,lemon,turmeric,garam_masala,coriander_...</td>\n",
              "      <td>healthy</td>\n",
              "      <td>4.0</td>\n",
              "      <td>strongly_like</td>\n",
              "      <td>5.0</td>\n",
              "      <td>Train</td>\n",
              "    </tr>\n",
              "  </tbody>\n",
              "</table>\n",
              "</div>\n",
              "    <div class=\"colab-df-buttons\">\n",
              "\n",
              "  <div class=\"colab-df-container\">\n",
              "    <button class=\"colab-df-convert\" onclick=\"convertToInteractive('df-863cd026-d41d-425a-b7fd-c6ab7289f7e7')\"\n",
              "            title=\"Convert this dataframe to an interactive table.\"\n",
              "            style=\"display:none;\">\n",
              "\n",
              "  <svg xmlns=\"http://www.w3.org/2000/svg\" height=\"24px\" viewBox=\"0 -960 960 960\">\n",
              "    <path d=\"M120-120v-720h720v720H120Zm60-500h600v-160H180v160Zm220 220h160v-160H400v160Zm0 220h160v-160H400v160ZM180-400h160v-160H180v160Zm440 0h160v-160H620v160ZM180-180h160v-160H180v160Zm440 0h160v-160H620v160Z\"/>\n",
              "  </svg>\n",
              "    </button>\n",
              "\n",
              "  <style>\n",
              "    .colab-df-container {\n",
              "      display:flex;\n",
              "      gap: 12px;\n",
              "    }\n",
              "\n",
              "    .colab-df-convert {\n",
              "      background-color: #E8F0FE;\n",
              "      border: none;\n",
              "      border-radius: 50%;\n",
              "      cursor: pointer;\n",
              "      display: none;\n",
              "      fill: #1967D2;\n",
              "      height: 32px;\n",
              "      padding: 0 0 0 0;\n",
              "      width: 32px;\n",
              "    }\n",
              "\n",
              "    .colab-df-convert:hover {\n",
              "      background-color: #E2EBFA;\n",
              "      box-shadow: 0px 1px 2px rgba(60, 64, 67, 0.3), 0px 1px 3px 1px rgba(60, 64, 67, 0.15);\n",
              "      fill: #174EA6;\n",
              "    }\n",
              "\n",
              "    .colab-df-buttons div {\n",
              "      margin-bottom: 4px;\n",
              "    }\n",
              "\n",
              "    [theme=dark] .colab-df-convert {\n",
              "      background-color: #3B4455;\n",
              "      fill: #D2E3FC;\n",
              "    }\n",
              "\n",
              "    [theme=dark] .colab-df-convert:hover {\n",
              "      background-color: #434B5C;\n",
              "      box-shadow: 0px 1px 3px 1px rgba(0, 0, 0, 0.15);\n",
              "      filter: drop-shadow(0px 1px 2px rgba(0, 0, 0, 0.3));\n",
              "      fill: #FFFFFF;\n",
              "    }\n",
              "  </style>\n",
              "\n",
              "    <script>\n",
              "      const buttonEl =\n",
              "        document.querySelector('#df-863cd026-d41d-425a-b7fd-c6ab7289f7e7 button.colab-df-convert');\n",
              "      buttonEl.style.display =\n",
              "        google.colab.kernel.accessAllowed ? 'block' : 'none';\n",
              "\n",
              "      async function convertToInteractive(key) {\n",
              "        const element = document.querySelector('#df-863cd026-d41d-425a-b7fd-c6ab7289f7e7');\n",
              "        const dataTable =\n",
              "          await google.colab.kernel.invokeFunction('convertToInteractive',\n",
              "                                                    [key], {});\n",
              "        if (!dataTable) return;\n",
              "\n",
              "        const docLinkHtml = 'Like what you see? Visit the ' +\n",
              "          '<a target=\"_blank\" href=https://colab.research.google.com/notebooks/data_table.ipynb>data table notebook</a>'\n",
              "          + ' to learn more about interactive tables.';\n",
              "        element.innerHTML = '';\n",
              "        dataTable['output_type'] = 'display_data';\n",
              "        await google.colab.output.renderOutput(dataTable, element);\n",
              "        const docLink = document.createElement('div');\n",
              "        docLink.innerHTML = docLinkHtml;\n",
              "        element.appendChild(docLink);\n",
              "      }\n",
              "    </script>\n",
              "  </div>\n",
              "\n",
              "\n",
              "<div id=\"df-c99a11c9-c110-4e45-8e38-b9cde6afd225\">\n",
              "  <button class=\"colab-df-quickchart\" onclick=\"quickchart('df-c99a11c9-c110-4e45-8e38-b9cde6afd225')\"\n",
              "            title=\"Suggest charts\"\n",
              "            style=\"display:none;\">\n",
              "\n",
              "<svg xmlns=\"http://www.w3.org/2000/svg\" height=\"24px\"viewBox=\"0 0 24 24\"\n",
              "     width=\"24px\">\n",
              "    <g>\n",
              "        <path d=\"M19 3H5c-1.1 0-2 .9-2 2v14c0 1.1.9 2 2 2h14c1.1 0 2-.9 2-2V5c0-1.1-.9-2-2-2zM9 17H7v-7h2v7zm4 0h-2V7h2v10zm4 0h-2v-4h2v4z\"/>\n",
              "    </g>\n",
              "</svg>\n",
              "  </button>\n",
              "\n",
              "<style>\n",
              "  .colab-df-quickchart {\n",
              "      --bg-color: #E8F0FE;\n",
              "      --fill-color: #1967D2;\n",
              "      --hover-bg-color: #E2EBFA;\n",
              "      --hover-fill-color: #174EA6;\n",
              "      --disabled-fill-color: #AAA;\n",
              "      --disabled-bg-color: #DDD;\n",
              "  }\n",
              "\n",
              "  [theme=dark] .colab-df-quickchart {\n",
              "      --bg-color: #3B4455;\n",
              "      --fill-color: #D2E3FC;\n",
              "      --hover-bg-color: #434B5C;\n",
              "      --hover-fill-color: #FFFFFF;\n",
              "      --disabled-bg-color: #3B4455;\n",
              "      --disabled-fill-color: #666;\n",
              "  }\n",
              "\n",
              "  .colab-df-quickchart {\n",
              "    background-color: var(--bg-color);\n",
              "    border: none;\n",
              "    border-radius: 50%;\n",
              "    cursor: pointer;\n",
              "    display: none;\n",
              "    fill: var(--fill-color);\n",
              "    height: 32px;\n",
              "    padding: 0;\n",
              "    width: 32px;\n",
              "  }\n",
              "\n",
              "  .colab-df-quickchart:hover {\n",
              "    background-color: var(--hover-bg-color);\n",
              "    box-shadow: 0 1px 2px rgba(60, 64, 67, 0.3), 0 1px 3px 1px rgba(60, 64, 67, 0.15);\n",
              "    fill: var(--button-hover-fill-color);\n",
              "  }\n",
              "\n",
              "  .colab-df-quickchart-complete:disabled,\n",
              "  .colab-df-quickchart-complete:disabled:hover {\n",
              "    background-color: var(--disabled-bg-color);\n",
              "    fill: var(--disabled-fill-color);\n",
              "    box-shadow: none;\n",
              "  }\n",
              "\n",
              "  .colab-df-spinner {\n",
              "    border: 2px solid var(--fill-color);\n",
              "    border-color: transparent;\n",
              "    border-bottom-color: var(--fill-color);\n",
              "    animation:\n",
              "      spin 1s steps(1) infinite;\n",
              "  }\n",
              "\n",
              "  @keyframes spin {\n",
              "    0% {\n",
              "      border-color: transparent;\n",
              "      border-bottom-color: var(--fill-color);\n",
              "      border-left-color: var(--fill-color);\n",
              "    }\n",
              "    20% {\n",
              "      border-color: transparent;\n",
              "      border-left-color: var(--fill-color);\n",
              "      border-top-color: var(--fill-color);\n",
              "    }\n",
              "    30% {\n",
              "      border-color: transparent;\n",
              "      border-left-color: var(--fill-color);\n",
              "      border-top-color: var(--fill-color);\n",
              "      border-right-color: var(--fill-color);\n",
              "    }\n",
              "    40% {\n",
              "      border-color: transparent;\n",
              "      border-right-color: var(--fill-color);\n",
              "      border-top-color: var(--fill-color);\n",
              "    }\n",
              "    60% {\n",
              "      border-color: transparent;\n",
              "      border-right-color: var(--fill-color);\n",
              "    }\n",
              "    80% {\n",
              "      border-color: transparent;\n",
              "      border-right-color: var(--fill-color);\n",
              "      border-bottom-color: var(--fill-color);\n",
              "    }\n",
              "    90% {\n",
              "      border-color: transparent;\n",
              "      border-bottom-color: var(--fill-color);\n",
              "    }\n",
              "  }\n",
              "</style>\n",
              "\n",
              "  <script>\n",
              "    async function quickchart(key) {\n",
              "      const quickchartButtonEl =\n",
              "        document.querySelector('#' + key + ' button');\n",
              "      quickchartButtonEl.disabled = true;  // To prevent multiple clicks.\n",
              "      quickchartButtonEl.classList.add('colab-df-spinner');\n",
              "      try {\n",
              "        const charts = await google.colab.kernel.invokeFunction(\n",
              "            'suggestCharts', [key], {});\n",
              "      } catch (error) {\n",
              "        console.error('Error during call to suggestCharts:', error);\n",
              "      }\n",
              "      quickchartButtonEl.classList.remove('colab-df-spinner');\n",
              "      quickchartButtonEl.classList.add('colab-df-quickchart-complete');\n",
              "    }\n",
              "    (() => {\n",
              "      let quickchartButtonEl =\n",
              "        document.querySelector('#df-c99a11c9-c110-4e45-8e38-b9cde6afd225 button');\n",
              "      quickchartButtonEl.style.display =\n",
              "        google.colab.kernel.accessAllowed ? 'block' : 'none';\n",
              "    })();\n",
              "  </script>\n",
              "</div>\n",
              "    </div>\n",
              "  </div>\n"
            ]
          },
          "metadata": {}
        },
        {
          "output_type": "stream",
          "name": "stdout",
          "text": [
            "Number of instances in the filtered dataset: 2449\n",
            "\n",
            "Total number of unique ingredients in yd_df1: 2206\n",
            "Total number of ingredients in yd_df1: 17386\n",
            "\n",
            "Unique invalid ingredients: \n",
            "set()\n",
            "Number of unique invalid ingreds: 0\n",
            "Total number of invalid ingreds: 0\n"
          ]
        }
      ]
    },
    {
      "cell_type": "markdown",
      "source": [
        "The number of unique ingredients is lesser than the number of datapoints we have, but we still haven't achieved class balance, it's too soon to celebrate."
      ],
      "metadata": {
        "id": "aMsUO3HRdzeL"
      }
    },
    {
      "cell_type": "markdown",
      "source": [
        "Let's now inspect the ingredients and their counts in the filtered dataset to understand what features are going to be passed to the model."
      ],
      "metadata": {
        "id": "rhNMJyfaTHs5"
      }
    },
    {
      "cell_type": "code",
      "source": [
        "#creating a list of unique ingredients and their counts\n",
        "ingred_count = [\n",
        "    (ingredient, ingreds.count(ingredient)) #format in which i want it\n",
        "    for ingredient in set(ingreds) #the set of ingredients that have to be counted\n",
        "    if all(char.isalnum() or char == \"_\" for char in ingredient) and ingredient != \"\"  #shoud either be alphanumeric or contain _ (underscores) but can not be an empty string\n",
        "]\n",
        "\n",
        "#sorting the count\n",
        "sorted_count = sorted(ingred_count, key = lambda x: x[1], reverse = True)\n",
        "print(f\"let's have a look at the first 10 most frequent ingredients and their counts:\")\n",
        "display(sorted_count[:10])"
      ],
      "metadata": {
        "colab": {
          "base_uri": "https://localhost:8080/",
          "height": 208
        },
        "id": "cY1kGOqqTCxV",
        "outputId": "38a2a185-0b59-435a-fa7a-d727f333bc99"
      },
      "execution_count": 17,
      "outputs": [
        {
          "output_type": "stream",
          "name": "stdout",
          "text": [
            "let's have a look at the first 10 most frequent ingredients and their counts:\n"
          ]
        },
        {
          "output_type": "display_data",
          "data": {
            "text/plain": [
              "[('salt', 908),\n",
              " ('onion', 773),\n",
              " ('tomato', 555),\n",
              " ('rice', 389),\n",
              " ('oil', 360),\n",
              " ('garlic', 357),\n",
              " ('chicken', 336),\n",
              " ('egg', 305),\n",
              " ('potato', 300),\n",
              " ('water', 249)]"
            ]
          },
          "metadata": {}
        }
      ]
    },
    {
      "cell_type": "markdown",
      "source": [
        "Let's now consider the option of using ingredient that have a minimumn count of 2 for better results. For that, we would need to consider how many ingredients have a count of 1 and then we can make a decision."
      ],
      "metadata": {
        "id": "TsalcukYV1C2"
      }
    },
    {
      "cell_type": "code",
      "source": [
        "len_1_ingred = [(ingredient, count) for ingredient, count in sorted_count if count == 1]\n",
        "print(f\"total number ingredients that only appear once in the entire dataset: {len(len_1_ingred)}\\n\")\n",
        "print(f\"first 10 ingredients that appear in the entire dataset only once:\")\n",
        "display(len_1_ingred[:10])"
      ],
      "metadata": {
        "colab": {
          "base_uri": "https://localhost:8080/",
          "height": 243
        },
        "id": "TxfKAeMMWPpu",
        "outputId": "0f31201e-9bbd-4602-901a-f654a907db43"
      },
      "execution_count": 18,
      "outputs": [
        {
          "output_type": "stream",
          "name": "stdout",
          "text": [
            "total number ingredients that only appear once in the entire dataset: 1227\n",
            "\n",
            "first 10 ingredients that appear in the entire dataset only once:\n"
          ]
        },
        {
          "output_type": "display_data",
          "data": {
            "text/plain": [
              "[('sweetyougut', 1),\n",
              " ('plant_based_burger', 1),\n",
              " ('curry_leafs', 1),\n",
              " ('fresh_double_cream', 1),\n",
              " ('biryani_spice', 1),\n",
              " ('artichoke', 1),\n",
              " ('pickled_pepper', 1),\n",
              " ('breaded_cod', 1),\n",
              " ('guacamole', 1),\n",
              " ('cocktail_sauce', 1)]"
            ]
          },
          "metadata": {}
        }
      ]
    },
    {
      "cell_type": "code",
      "source": [
        "# Extracting counts and ingredients\n",
        "ingredients_list, counts = zip(*ingred_count)\n",
        "\n",
        "# Creating bins based on the total count of ingredients\n",
        "bins = range(1, max(counts) + 2)\n",
        "\n",
        "# Plotting the histogram-like bar plot\n",
        "plt.figure(figsize = (15, 5))\n",
        "plt.hist(counts, bins = 70, align='left', rwidth=0.8, density = True)\n",
        "plt.xlabel('Ingredients Frequency')\n",
        "plt.ylabel('Log of Frequency (for better visibility)')\n",
        "plt.title('Ingredient Frequencies')\n",
        "plt.xticks(rotation=45, ha='right')  # Rotate x-axis labels for better readability\n",
        "plt.yscale('log')\n",
        "plt.show()"
      ],
      "metadata": {
        "colab": {
          "base_uri": "https://localhost:8080/",
          "height": 502
        },
        "id": "0dradpFBPxfT",
        "outputId": "df314c69-46a0-44ea-aaee-2e22bf94f68c"
      },
      "execution_count": 19,
      "outputs": [
        {
          "output_type": "display_data",
          "data": {
            "text/plain": [
              "<Figure size 1500x500 with 1 Axes>"
            ],
            "image/png": "[encoded data removed]"
          },
          "metadata": {}
        }
      ]
    },
    {
      "cell_type": "markdown",
      "source": [
        "The plot above show that an exponentially (Literally. We used a log scale in the plot.) large number of ingredients have a count very close to 1. It's a lot of information that we can not afford to lose. We can not discard ingredients that only appear once as they also seem to be named reasonably.\n",
        "For example, \"chicken_fat\" is named correctly."
      ],
      "metadata": {
        "id": "5ytO2hiwWvYA"
      }
    },
    {
      "cell_type": "code",
      "source": [
        "#extracting unique Home_or_restaurant values\n",
        "h_or_r = [i for i in yd_df1.Home_or_restaurant]\n",
        "\n",
        "#checking the versions of 'home' so that they can all be generalized as 'home' later\n",
        "h_versions = [i for i in yd_df1.Home_or_restaurant if \"home\" in i.lower()]\n",
        "\n",
        "#printing the respective values\n",
        "print(f\"let's have a look at the unique values we see in the Home_or_restaurant column: \\n{set(h_or_r)}\")\n",
        "print(f\"total number of unique values inside the Home_or_restaurant column: {len(set(h_or_r))}\\n\")\n",
        "print(f\"let's have a look at the unique values with 'home' inside them: \\n{set(h_versions)}\")\n",
        "print(f\"total number of unique values with 'home' inside them: {len(set(h_versions))}\\n\")"
      ],
      "metadata": {
        "colab": {
          "base_uri": "https://localhost:8080/"
        },
        "id": "V68aokk49G-_",
        "outputId": "e421270b-44df-4a30-d938-8fd29a953ff9"
      },
      "execution_count": 20,
      "outputs": [
        {
          "output_type": "stream",
          "name": "stdout",
          "text": [
            "let's have a look at the unique values we see in the Home_or_restaurant column: \n",
            "{'gdk', 'emirates_restaurant', 'vasiniko', 'bananatree', 'mexican_dining_otra', 'dashi_chazuke', 'mcdonalds', 'restraurant', \"mcdonald's\", 'shake_shack', \"sainsbury's\", 'erhan', 'hiba_restraunt', 'resturant', 'nirala_sweets', 'unagiya', 'jahan', 'anjappar_restaurant', 'tonkotsu', 'asda', 'dalchini', 'my_old_place', \"sam's_chicken\", 'itsu', 'saravana_bhavan', 'wasabi', 'mian', 'spag_bowl(bow)', 'super_mario_emin_usta', 'jrc_global_buffet', 'tortilla', 'delamina_east', 'morrisons', 'cake_box', 'afghan_grill', 'albura_kathisma_bistro', 'homemade', 'ymca_indian_restaurant', 'm&s_simply_food', 'kujawiak', 'german_doner_kebab_watford', \"nando's\", 'pizza_hut', '36_street_food', \"nando's_euston_station\", \"maamala's\", 'pizza_union', 'roosters_piri_piri', 'm&s_food_hall_euston_station', 'eminonu_borekcisi', 'tiantian', 'lidl', 'k.o_kebabish', 'burger_and_chop', 'nandos', 'resturaunt', 'fried_&_grilled', 'taco_bell', 'gindaco', 'pizzahut', 'five_guys', 'fortitude_bakehouse', 'mama_li', 'chengdufu', 'wazzir', 'mr._wu', 'five_guys_watford', 'mauriyas_restaurant', \"mc_donald's\", 'haldiram’s', 'ambala', 'young_cheng_buffet', 'domino’s', 'mehak', 'german_doner_kebab', 'south_oxhey_fish_and_chips', 'lakers', 'the_gourmet_hut', 'eat_tokyo', 'taitussi', 'mr_wong’s_wok_&_box_️', 'mcdonald', 'tasty_treats_restaurant', 'aldi', 'tesco', 'wngz', 'efes_restaurant', 'joe_and_the_juice', 'resraurant', \"harper's_steakhouse_weighbridge\", 'the_pizza_room', \"rosa's\", 'co-op', 'kfc', 'wagamama', \"kennedy's_fish_&_chips\", 'broasto', 'naan_spitalfields', 'shapur_restaurant', 'farmer.j', 'papa_johns', 'sarashina_horii', 'oowee_diner', \"emilia's_crafted_pasta\", 'home_café', 'sonargaon', 'khyber_grill', 'waitrose', 'the_curve', 'burger_&_beyond', 'burgasum', 'homies_on_donkies', 'leon', 'pret_a_manger', 'tcr_bar', 'subway', 'the_pure_food_co', 'costa', 'half_moon', 'hong_kong_restaurant', 'harvester', 'wok_&_box', 'old_building-lse', 'sultanahmet_bufesi', 'greggs', 'sainsbury', 'khf', 'qm_student_union_centre', 'm&s', \"bill's\", 'bamboo', 'coco_di_mama', 'home_(hellofresh)', 'senatus', 'grilled_cottage_watford', 'fanzy', 'hiba', 'cafe_de_nata', 'chicken_shop', 'joe_&_the_juice', 'chicken_world', 'little_pizza_hicce', 'wendys', 'papa_nadox_kitchen', 'wok&box', 'home', 'bui_vien', 'efes', 'goodfellas', \"ferrari's\", 'kentucky_fried_chicken', 'mc_donalds', 'jinli', 'spice_hut', 'le_kitchen_vietnamese_restaurant', 'capital_restaurant', 'pizza_room', 'curve', 'green_pepper', 'tesco_express', 'itadakizen_london', 'dartmoor_lodge', 'restaurant', 'dominos', 'burgitzza_watford', 'sainsburys', 'buns_&_berries'}\n",
            "total number of unique values inside the Home_or_restaurant column: 167\n",
            "\n",
            "let's have a look at the unique values with 'home' inside them: \n",
            "{'home_café', 'home_(hellofresh)', 'home', 'homemade'}\n",
            "total number of unique values with 'home' inside them: 4\n",
            "\n"
          ]
        }
      ]
    },
    {
      "cell_type": "markdown",
      "source": [
        "The instance \"home_cafe\" isn't home, we can simply exculde it in the condition we apply. All the others can be generalized as \"home\". Let's now add new columns with the following information:\n",
        "1. binary information about wether a dish was made at home or not\n",
        "1. binary informaiton about wether a dish is healthy or not"
      ],
      "metadata": {
        "id": "lsBDZtDoARVb"
      }
    },
    {
      "cell_type": "code",
      "source": [
        "#this step is so that creating a new column does not throw an error\n",
        "yd_df1 = yd_df1.copy()\n",
        "\n",
        "#creating a new Home_not_home column\n",
        "yd_df1[\"Home_not_home\"] = [1 if \"home\" in i.lower() and \"caf\" not in i.lower() else 0 for i in yd_df1.Home_or_restaurant]\n",
        "\n",
        "#creating a new Healthy_not_healthy column\n",
        "yd_df1[\"Healthy_not_healthy\"] = [0 if i == 1 or i == 2 else 1 for i in yd_df1.Healthiness_rating_int]\n",
        "\n",
        "#displaying the updated df\n",
        "display(yd_df1.head(3))"
      ],
      "metadata": {
        "colab": {
          "base_uri": "https://localhost:8080/",
          "height": 195
        },
        "id": "alD_mD1G-A7l",
        "outputId": "d80efadf-724a-409c-c243-347f47ee5c8c"
      },
      "execution_count": 21,
      "outputs": [
        {
          "output_type": "display_data",
          "data": {
            "text/plain": [
              "                      Diet Cuisine_org  Cuisine          Dish_name  \\\n",
              "filename                                                             \n",
              "000002.jpg  non_vegetarian     english  english  english_breakfast   \n",
              "000004.jpg      vegetarian      indian   indian        gulab_jamun   \n",
              "000005.jpg  non_vegetarian      indian   indian     chicken_masala   \n",
              "\n",
              "           Home_or_restaurant  \\\n",
              "filename                        \n",
              "000002.jpg               home   \n",
              "000004.jpg               home   \n",
              "000005.jpg               home   \n",
              "\n",
              "                                                  Ingredients  \\\n",
              "filename                                                        \n",
              "000002.jpg  egg,bacon,hash_brown,tomato,bread,tomato,baked...   \n",
              "000004.jpg      sugar,water,khoya,milk,salt,oil,cardamon,ghee   \n",
              "000005.jpg  chicken,lemon,turmeric,garam_masala,coriander_...   \n",
              "\n",
              "           Healthiness_rating  Healthiness_rating_int       Likeness  \\\n",
              "filename                                                               \n",
              "000002.jpg          unhealthy                     2.0           like   \n",
              "000004.jpg          unhealthy                     2.0  strongly_like   \n",
              "000005.jpg            healthy                     4.0  strongly_like   \n",
              "\n",
              "            Likeness_int Benchmark_A  Home_not_home  Healthy_not_healthy  \n",
              "filename                                                                  \n",
              "000002.jpg           4.0       Train              1                    0  \n",
              "000004.jpg           5.0       Train              1                    0  \n",
              "000005.jpg           5.0       Train              1                    1  "
            ],
            "text/html": [
              "\n",
              "  <div id=\"df-6f6ad74c-c306-481b-b4a9-b40afe421d5e\" class=\"colab-df-container\">\n",
              "    <div>\n",
              "<style scoped>\n",
              "    .dataframe tbody tr th:only-of-type {\n",
              "        vertical-align: middle;\n",
              "    }\n",
              "\n",
              "    .dataframe tbody tr th {\n",
              "        vertical-align: top;\n",
              "    }\n",
              "\n",
              "    .dataframe thead th {\n",
              "        text-align: right;\n",
              "    }\n",
              "</style>\n",
              "<table border=\"1\" class=\"dataframe\">\n",
              "  <thead>\n",
              "    <tr style=\"text-align: right;\">\n",
              "      <th></th>\n",
              "      <th>Diet</th>\n",
              "      <th>Cuisine_org</th>\n",
              "      <th>Cuisine</th>\n",
              "      <th>Dish_name</th>\n",
              "      <th>Home_or_restaurant</th>\n",
              "      <th>Ingredients</th>\n",
              "      <th>Healthiness_rating</th>\n",
              "      <th>Healthiness_rating_int</th>\n",
              "      <th>Likeness</th>\n",
              "      <th>Likeness_int</th>\n",
              "      <th>Benchmark_A</th>\n",
              "      <th>Home_not_home</th>\n",
              "      <th>Healthy_not_healthy</th>\n",
              "    </tr>\n",
              "    <tr>\n",
              "      <th>filename</th>\n",
              "      <th></th>\n",
              "      <th></th>\n",
              "      <th></th>\n",
              "      <th></th>\n",
              "      <th></th>\n",
              "      <th></th>\n",
              "      <th></th>\n",
              "      <th></th>\n",
              "      <th></th>\n",
              "      <th></th>\n",
              "      <th></th>\n",
              "      <th></th>\n",
              "      <th></th>\n",
              "    </tr>\n",
              "  </thead>\n",
              "  <tbody>\n",
              "    <tr>\n",
              "      <th>000002.jpg</th>\n",
              "      <td>non_vegetarian</td>\n",
              "      <td>english</td>\n",
              "      <td>english</td>\n",
              "      <td>english_breakfast</td>\n",
              "      <td>home</td>\n",
              "      <td>egg,bacon,hash_brown,tomato,bread,tomato,baked...</td>\n",
              "      <td>unhealthy</td>\n",
              "      <td>2.0</td>\n",
              "      <td>like</td>\n",
              "      <td>4.0</td>\n",
              "      <td>Train</td>\n",
              "      <td>1</td>\n",
              "      <td>0</td>\n",
              "    </tr>\n",
              "    <tr>\n",
              "      <th>000004.jpg</th>\n",
              "      <td>vegetarian</td>\n",
              "      <td>indian</td>\n",
              "      <td>indian</td>\n",
              "      <td>gulab_jamun</td>\n",
              "      <td>home</td>\n",
              "      <td>sugar,water,khoya,milk,salt,oil,cardamon,ghee</td>\n",
              "      <td>unhealthy</td>\n",
              "      <td>2.0</td>\n",
              "      <td>strongly_like</td>\n",
              "      <td>5.0</td>\n",
              "      <td>Train</td>\n",
              "      <td>1</td>\n",
              "      <td>0</td>\n",
              "    </tr>\n",
              "    <tr>\n",
              "      <th>000005.jpg</th>\n",
              "      <td>non_vegetarian</td>\n",
              "      <td>indian</td>\n",
              "      <td>indian</td>\n",
              "      <td>chicken_masala</td>\n",
              "      <td>home</td>\n",
              "      <td>chicken,lemon,turmeric,garam_masala,coriander_...</td>\n",
              "      <td>healthy</td>\n",
              "      <td>4.0</td>\n",
              "      <td>strongly_like</td>\n",
              "      <td>5.0</td>\n",
              "      <td>Train</td>\n",
              "      <td>1</td>\n",
              "      <td>1</td>\n",
              "    </tr>\n",
              "  </tbody>\n",
              "</table>\n",
              "</div>\n",
              "    <div class=\"colab-df-buttons\">\n",
              "\n",
              "  <div class=\"colab-df-container\">\n",
              "    <button class=\"colab-df-convert\" onclick=\"convertToInteractive('df-6f6ad74c-c306-481b-b4a9-b40afe421d5e')\"\n",
              "            title=\"Convert this dataframe to an interactive table.\"\n",
              "            style=\"display:none;\">\n",
              "\n",
              "  <svg xmlns=\"http://www.w3.org/2000/svg\" height=\"24px\" viewBox=\"0 -960 960 960\">\n",
              "    <path d=\"M120-120v-720h720v720H120Zm60-500h600v-160H180v160Zm220 220h160v-160H400v160Zm0 220h160v-160H400v160ZM180-400h160v-160H180v160Zm440 0h160v-160H620v160ZM180-180h160v-160H180v160Zm440 0h160v-160H620v160Z\"/>\n",
              "  </svg>\n",
              "    </button>\n",
              "\n",
              "  <style>\n",
              "    .colab-df-container {\n",
              "      display:flex;\n",
              "      gap: 12px;\n",
              "    }\n",
              "\n",
              "    .colab-df-convert {\n",
              "      background-color: #E8F0FE;\n",
              "      border: none;\n",
              "      border-radius: 50%;\n",
              "      cursor: pointer;\n",
              "      display: none;\n",
              "      fill: #1967D2;\n",
              "      height: 32px;\n",
              "      padding: 0 0 0 0;\n",
              "      width: 32px;\n",
              "    }\n",
              "\n",
              "    .colab-df-convert:hover {\n",
              "      background-color: #E2EBFA;\n",
              "      box-shadow: 0px 1px 2px rgba(60, 64, 67, 0.3), 0px 1px 3px 1px rgba(60, 64, 67, 0.15);\n",
              "      fill: #174EA6;\n",
              "    }\n",
              "\n",
              "    .colab-df-buttons div {\n",
              "      margin-bottom: 4px;\n",
              "    }\n",
              "\n",
              "    [theme=dark] .colab-df-convert {\n",
              "      background-color: #3B4455;\n",
              "      fill: #D2E3FC;\n",
              "    }\n",
              "\n",
              "    [theme=dark] .colab-df-convert:hover {\n",
              "      background-color: #434B5C;\n",
              "      box-shadow: 0px 1px 3px 1px rgba(0, 0, 0, 0.15);\n",
              "      filter: drop-shadow(0px 1px 2px rgba(0, 0, 0, 0.3));\n",
              "      fill: #FFFFFF;\n",
              "    }\n",
              "  </style>\n",
              "\n",
              "    <script>\n",
              "      const buttonEl =\n",
              "        document.querySelector('#df-6f6ad74c-c306-481b-b4a9-b40afe421d5e button.colab-df-convert');\n",
              "      buttonEl.style.display =\n",
              "        google.colab.kernel.accessAllowed ? 'block' : 'none';\n",
              "\n",
              "      async function convertToInteractive(key) {\n",
              "        const element = document.querySelector('#df-6f6ad74c-c306-481b-b4a9-b40afe421d5e');\n",
              "        const dataTable =\n",
              "          await google.colab.kernel.invokeFunction('convertToInteractive',\n",
              "                                                    [key], {});\n",
              "        if (!dataTable) return;\n",
              "\n",
              "        const docLinkHtml = 'Like what you see? Visit the ' +\n",
              "          '<a target=\"_blank\" href=https://colab.research.google.com/notebooks/data_table.ipynb>data table notebook</a>'\n",
              "          + ' to learn more about interactive tables.';\n",
              "        element.innerHTML = '';\n",
              "        dataTable['output_type'] = 'display_data';\n",
              "        await google.colab.output.renderOutput(dataTable, element);\n",
              "        const docLink = document.createElement('div');\n",
              "        docLink.innerHTML = docLinkHtml;\n",
              "        element.appendChild(docLink);\n",
              "      }\n",
              "    </script>\n",
              "  </div>\n",
              "\n",
              "\n",
              "<div id=\"df-f01fd419-2b77-4315-9143-bbe460e04dca\">\n",
              "  <button class=\"colab-df-quickchart\" onclick=\"quickchart('df-f01fd419-2b77-4315-9143-bbe460e04dca')\"\n",
              "            title=\"Suggest charts\"\n",
              "            style=\"display:none;\">\n",
              "\n",
              "<svg xmlns=\"http://www.w3.org/2000/svg\" height=\"24px\"viewBox=\"0 0 24 24\"\n",
              "     width=\"24px\">\n",
              "    <g>\n",
              "        <path d=\"M19 3H5c-1.1 0-2 .9-2 2v14c0 1.1.9 2 2 2h14c1.1 0 2-.9 2-2V5c0-1.1-.9-2-2-2zM9 17H7v-7h2v7zm4 0h-2V7h2v10zm4 0h-2v-4h2v4z\"/>\n",
              "    </g>\n",
              "</svg>\n",
              "  </button>\n",
              "\n",
              "<style>\n",
              "  .colab-df-quickchart {\n",
              "      --bg-color: #E8F0FE;\n",
              "      --fill-color: #1967D2;\n",
              "      --hover-bg-color: #E2EBFA;\n",
              "      --hover-fill-color: #174EA6;\n",
              "      --disabled-fill-color: #AAA;\n",
              "      --disabled-bg-color: #DDD;\n",
              "  }\n",
              "\n",
              "  [theme=dark] .colab-df-quickchart {\n",
              "      --bg-color: #3B4455;\n",
              "      --fill-color: #D2E3FC;\n",
              "      --hover-bg-color: #434B5C;\n",
              "      --hover-fill-color: #FFFFFF;\n",
              "      --disabled-bg-color: #3B4455;\n",
              "      --disabled-fill-color: #666;\n",
              "  }\n",
              "\n",
              "  .colab-df-quickchart {\n",
              "    background-color: var(--bg-color);\n",
              "    border: none;\n",
              "    border-radius: 50%;\n",
              "    cursor: pointer;\n",
              "    display: none;\n",
              "    fill: var(--fill-color);\n",
              "    height: 32px;\n",
              "    padding: 0;\n",
              "    width: 32px;\n",
              "  }\n",
              "\n",
              "  .colab-df-quickchart:hover {\n",
              "    background-color: var(--hover-bg-color);\n",
              "    box-shadow: 0 1px 2px rgba(60, 64, 67, 0.3), 0 1px 3px 1px rgba(60, 64, 67, 0.15);\n",
              "    fill: var(--button-hover-fill-color);\n",
              "  }\n",
              "\n",
              "  .colab-df-quickchart-complete:disabled,\n",
              "  .colab-df-quickchart-complete:disabled:hover {\n",
              "    background-color: var(--disabled-bg-color);\n",
              "    fill: var(--disabled-fill-color);\n",
              "    box-shadow: none;\n",
              "  }\n",
              "\n",
              "  .colab-df-spinner {\n",
              "    border: 2px solid var(--fill-color);\n",
              "    border-color: transparent;\n",
              "    border-bottom-color: var(--fill-color);\n",
              "    animation:\n",
              "      spin 1s steps(1) infinite;\n",
              "  }\n",
              "\n",
              "  @keyframes spin {\n",
              "    0% {\n",
              "      border-color: transparent;\n",
              "      border-bottom-color: var(--fill-color);\n",
              "      border-left-color: var(--fill-color);\n",
              "    }\n",
              "    20% {\n",
              "      border-color: transparent;\n",
              "      border-left-color: var(--fill-color);\n",
              "      border-top-color: var(--fill-color);\n",
              "    }\n",
              "    30% {\n",
              "      border-color: transparent;\n",
              "      border-left-color: var(--fill-color);\n",
              "      border-top-color: var(--fill-color);\n",
              "      border-right-color: var(--fill-color);\n",
              "    }\n",
              "    40% {\n",
              "      border-color: transparent;\n",
              "      border-right-color: var(--fill-color);\n",
              "      border-top-color: var(--fill-color);\n",
              "    }\n",
              "    60% {\n",
              "      border-color: transparent;\n",
              "      border-right-color: var(--fill-color);\n",
              "    }\n",
              "    80% {\n",
              "      border-color: transparent;\n",
              "      border-right-color: var(--fill-color);\n",
              "      border-bottom-color: var(--fill-color);\n",
              "    }\n",
              "    90% {\n",
              "      border-color: transparent;\n",
              "      border-bottom-color: var(--fill-color);\n",
              "    }\n",
              "  }\n",
              "</style>\n",
              "\n",
              "  <script>\n",
              "    async function quickchart(key) {\n",
              "      const quickchartButtonEl =\n",
              "        document.querySelector('#' + key + ' button');\n",
              "      quickchartButtonEl.disabled = true;  // To prevent multiple clicks.\n",
              "      quickchartButtonEl.classList.add('colab-df-spinner');\n",
              "      try {\n",
              "        const charts = await google.colab.kernel.invokeFunction(\n",
              "            'suggestCharts', [key], {});\n",
              "      } catch (error) {\n",
              "        console.error('Error during call to suggestCharts:', error);\n",
              "      }\n",
              "      quickchartButtonEl.classList.remove('colab-df-spinner');\n",
              "      quickchartButtonEl.classList.add('colab-df-quickchart-complete');\n",
              "    }\n",
              "    (() => {\n",
              "      let quickchartButtonEl =\n",
              "        document.querySelector('#df-f01fd419-2b77-4315-9143-bbe460e04dca button');\n",
              "      quickchartButtonEl.style.display =\n",
              "        google.colab.kernel.accessAllowed ? 'block' : 'none';\n",
              "    })();\n",
              "  </script>\n",
              "</div>\n",
              "    </div>\n",
              "  </div>\n"
            ]
          },
          "metadata": {}
        }
      ]
    },
    {
      "cell_type": "markdown",
      "source": [
        "Home_not_home map:<br>\n",
        "1: home <br>\n",
        "0: not_home <br>"
      ],
      "metadata": {
        "id": "HuW3YeSmghZ8"
      }
    },
    {
      "cell_type": "markdown",
      "source": [
        "The sample size is still adequate after discarding some of samples.\n",
        "Let's now add a few more columns:\n",
        "1. Pre_processed_ingredients: We don't want weight being assigned to an empty space ''. We remove it from the list of ingredients so that it does not confuse our model. We will also now separting ingredients by single spaces so that it is easy to parse them. We could get an instance of empty spaces as ingredients when a person types two commas instead of one by mistake or otherwise.\n",
        "\n",
        "1. Num_ingreds: This is an additional feature that tracks the number of ingrediets."
      ],
      "metadata": {
        "id": "MJfToBEDDNqY"
      }
    },
    {
      "cell_type": "code",
      "source": [
        "#extracting the string from the Ingredients column and turning it into a list of list of ingredients\n",
        "ingredients_list = [i.split(\",\") for i in yd_df1.Ingredients]\n",
        "\n",
        "#calculating the number of instances that had empty spaces inside them as an ingredient\n",
        "#this could happen when a person types two commas instead of one by mistake or otherwise\n",
        "empty_spaces = [True for i in ingredients_list if \"\" in i]\n",
        "print(f\"Number of instances with empty spaces in their ingredients string: {sum(empty_spaces)}\\n\")\n",
        "\n",
        "#removing all the empty space\n",
        "revised_list = [[j for j in i if j != \"\"] for i in ingredients_list]\n",
        "\n",
        "#creating a new column with pre-processed ingredients with no empty spaces\n",
        "yd_df1[\"Preprocessed_ingredients\"] = [\" \".join(i) for i in revised_list]\n",
        "yd_df1[\"Num_ingreds\"] = [len(i) for i in revised_list]\n",
        "\n",
        "display(yd_df1.head(3))"
      ],
      "metadata": {
        "colab": {
          "base_uri": "https://localhost:8080/",
          "height": 281
        },
        "id": "GOFX67tHS48L",
        "outputId": "608083f6-c5bc-429b-9c66-5790442652ed"
      },
      "execution_count": 22,
      "outputs": [
        {
          "output_type": "stream",
          "name": "stdout",
          "text": [
            "Number of instances with empty spaces in their ingredients string: 116\n",
            "\n"
          ]
        },
        {
          "output_type": "display_data",
          "data": {
            "text/plain": [
              "                      Diet Cuisine_org  Cuisine          Dish_name  \\\n",
              "filename                                                             \n",
              "000002.jpg  non_vegetarian     english  english  english_breakfast   \n",
              "000004.jpg      vegetarian      indian   indian        gulab_jamun   \n",
              "000005.jpg  non_vegetarian      indian   indian     chicken_masala   \n",
              "\n",
              "           Home_or_restaurant  \\\n",
              "filename                        \n",
              "000002.jpg               home   \n",
              "000004.jpg               home   \n",
              "000005.jpg               home   \n",
              "\n",
              "                                                  Ingredients  \\\n",
              "filename                                                        \n",
              "000002.jpg  egg,bacon,hash_brown,tomato,bread,tomato,baked...   \n",
              "000004.jpg      sugar,water,khoya,milk,salt,oil,cardamon,ghee   \n",
              "000005.jpg  chicken,lemon,turmeric,garam_masala,coriander_...   \n",
              "\n",
              "           Healthiness_rating  Healthiness_rating_int       Likeness  \\\n",
              "filename                                                               \n",
              "000002.jpg          unhealthy                     2.0           like   \n",
              "000004.jpg          unhealthy                     2.0  strongly_like   \n",
              "000005.jpg            healthy                     4.0  strongly_like   \n",
              "\n",
              "            Likeness_int Benchmark_A  Home_not_home  Healthy_not_healthy  \\\n",
              "filename                                                                   \n",
              "000002.jpg           4.0       Train              1                    0   \n",
              "000004.jpg           5.0       Train              1                    0   \n",
              "000005.jpg           5.0       Train              1                    1   \n",
              "\n",
              "                                     Preprocessed_ingredients  Num_ingreds  \n",
              "filename                                                                    \n",
              "000002.jpg  egg bacon hash_brown tomato bread tomato baked...            7  \n",
              "000004.jpg      sugar water khoya milk salt oil cardamon ghee            8  \n",
              "000005.jpg  chicken lemon turmeric garam_masala coriander_...            7  "
            ],
            "text/html": [
              "\n",
              "  <div id=\"df-a6e76dbf-bb83-42a7-bda8-ffb13cd000c6\" class=\"colab-df-container\">\n",
              "    <div>\n",
              "<style scoped>\n",
              "    .dataframe tbody tr th:only-of-type {\n",
              "        vertical-align: middle;\n",
              "    }\n",
              "\n",
              "    .dataframe tbody tr th {\n",
              "        vertical-align: top;\n",
              "    }\n",
              "\n",
              "    .dataframe thead th {\n",
              "        text-align: right;\n",
              "    }\n",
              "</style>\n",
              "<table border=\"1\" class=\"dataframe\">\n",
              "  <thead>\n",
              "    <tr style=\"text-align: right;\">\n",
              "      <th></th>\n",
              "      <th>Diet</th>\n",
              "      <th>Cuisine_org</th>\n",
              "      <th>Cuisine</th>\n",
              "      <th>Dish_name</th>\n",
              "      <th>Home_or_restaurant</th>\n",
              "      <th>Ingredients</th>\n",
              "      <th>Healthiness_rating</th>\n",
              "      <th>Healthiness_rating_int</th>\n",
              "      <th>Likeness</th>\n",
              "      <th>Likeness_int</th>\n",
              "      <th>Benchmark_A</th>\n",
              "      <th>Home_not_home</th>\n",
              "      <th>Healthy_not_healthy</th>\n",
              "      <th>Preprocessed_ingredients</th>\n",
              "      <th>Num_ingreds</th>\n",
              "    </tr>\n",
              "    <tr>\n",
              "      <th>filename</th>\n",
              "      <th></th>\n",
              "      <th></th>\n",
              "      <th></th>\n",
              "      <th></th>\n",
              "      <th></th>\n",
              "      <th></th>\n",
              "      <th></th>\n",
              "      <th></th>\n",
              "      <th></th>\n",
              "      <th></th>\n",
              "      <th></th>\n",
              "      <th></th>\n",
              "      <th></th>\n",
              "      <th></th>\n",
              "      <th></th>\n",
              "    </tr>\n",
              "  </thead>\n",
              "  <tbody>\n",
              "    <tr>\n",
              "      <th>000002.jpg</th>\n",
              "      <td>non_vegetarian</td>\n",
              "      <td>english</td>\n",
              "      <td>english</td>\n",
              "      <td>english_breakfast</td>\n",
              "      <td>home</td>\n",
              "      <td>egg,bacon,hash_brown,tomato,bread,tomato,baked...</td>\n",
              "      <td>unhealthy</td>\n",
              "      <td>2.0</td>\n",
              "      <td>like</td>\n",
              "      <td>4.0</td>\n",
              "      <td>Train</td>\n",
              "      <td>1</td>\n",
              "      <td>0</td>\n",
              "      <td>egg bacon hash_brown tomato bread tomato baked...</td>\n",
              "      <td>7</td>\n",
              "    </tr>\n",
              "    <tr>\n",
              "      <th>000004.jpg</th>\n",
              "      <td>vegetarian</td>\n",
              "      <td>indian</td>\n",
              "      <td>indian</td>\n",
              "      <td>gulab_jamun</td>\n",
              "      <td>home</td>\n",
              "      <td>sugar,water,khoya,milk,salt,oil,cardamon,ghee</td>\n",
              "      <td>unhealthy</td>\n",
              "      <td>2.0</td>\n",
              "      <td>strongly_like</td>\n",
              "      <td>5.0</td>\n",
              "      <td>Train</td>\n",
              "      <td>1</td>\n",
              "      <td>0</td>\n",
              "      <td>sugar water khoya milk salt oil cardamon ghee</td>\n",
              "      <td>8</td>\n",
              "    </tr>\n",
              "    <tr>\n",
              "      <th>000005.jpg</th>\n",
              "      <td>non_vegetarian</td>\n",
              "      <td>indian</td>\n",
              "      <td>indian</td>\n",
              "      <td>chicken_masala</td>\n",
              "      <td>home</td>\n",
              "      <td>chicken,lemon,turmeric,garam_masala,coriander_...</td>\n",
              "      <td>healthy</td>\n",
              "      <td>4.0</td>\n",
              "      <td>strongly_like</td>\n",
              "      <td>5.0</td>\n",
              "      <td>Train</td>\n",
              "      <td>1</td>\n",
              "      <td>1</td>\n",
              "      <td>chicken lemon turmeric garam_masala coriander_...</td>\n",
              "      <td>7</td>\n",
              "    </tr>\n",
              "  </tbody>\n",
              "</table>\n",
              "</div>\n",
              "    <div class=\"colab-df-buttons\">\n",
              "\n",
              "  <div class=\"colab-df-container\">\n",
              "    <button class=\"colab-df-convert\" onclick=\"convertToInteractive('df-a6e76dbf-bb83-42a7-bda8-ffb13cd000c6')\"\n",
              "            title=\"Convert this dataframe to an interactive table.\"\n",
              "            style=\"display:none;\">\n",
              "\n",
              "  <svg xmlns=\"http://www.w3.org/2000/svg\" height=\"24px\" viewBox=\"0 -960 960 960\">\n",
              "    <path d=\"M120-120v-720h720v720H120Zm60-500h600v-160H180v160Zm220 220h160v-160H400v160Zm0 220h160v-160H400v160ZM180-400h160v-160H180v160Zm440 0h160v-160H620v160ZM180-180h160v-160H180v160Zm440 0h160v-160H620v160Z\"/>\n",
              "  </svg>\n",
              "    </button>\n",
              "\n",
              "  <style>\n",
              "    .colab-df-container {\n",
              "      display:flex;\n",
              "      gap: 12px;\n",
              "    }\n",
              "\n",
              "    .colab-df-convert {\n",
              "      background-color: #E8F0FE;\n",
              "      border: none;\n",
              "      border-radius: 50%;\n",
              "      cursor: pointer;\n",
              "      display: none;\n",
              "      fill: #1967D2;\n",
              "      height: 32px;\n",
              "      padding: 0 0 0 0;\n",
              "      width: 32px;\n",
              "    }\n",
              "\n",
              "    .colab-df-convert:hover {\n",
              "      background-color: #E2EBFA;\n",
              "      box-shadow: 0px 1px 2px rgba(60, 64, 67, 0.3), 0px 1px 3px 1px rgba(60, 64, 67, 0.15);\n",
              "      fill: #174EA6;\n",
              "    }\n",
              "\n",
              "    .colab-df-buttons div {\n",
              "      margin-bottom: 4px;\n",
              "    }\n",
              "\n",
              "    [theme=dark] .colab-df-convert {\n",
              "      background-color: #3B4455;\n",
              "      fill: #D2E3FC;\n",
              "    }\n",
              "\n",
              "    [theme=dark] .colab-df-convert:hover {\n",
              "      background-color: #434B5C;\n",
              "      box-shadow: 0px 1px 3px 1px rgba(0, 0, 0, 0.15);\n",
              "      filter: drop-shadow(0px 1px 2px rgba(0, 0, 0, 0.3));\n",
              "      fill: #FFFFFF;\n",
              "    }\n",
              "  </style>\n",
              "\n",
              "    <script>\n",
              "      const buttonEl =\n",
              "        document.querySelector('#df-a6e76dbf-bb83-42a7-bda8-ffb13cd000c6 button.colab-df-convert');\n",
              "      buttonEl.style.display =\n",
              "        google.colab.kernel.accessAllowed ? 'block' : 'none';\n",
              "\n",
              "      async function convertToInteractive(key) {\n",
              "        const element = document.querySelector('#df-a6e76dbf-bb83-42a7-bda8-ffb13cd000c6');\n",
              "        const dataTable =\n",
              "          await google.colab.kernel.invokeFunction('convertToInteractive',\n",
              "                                                    [key], {});\n",
              "        if (!dataTable) return;\n",
              "\n",
              "        const docLinkHtml = 'Like what you see? Visit the ' +\n",
              "          '<a target=\"_blank\" href=https://colab.research.google.com/notebooks/data_table.ipynb>data table notebook</a>'\n",
              "          + ' to learn more about interactive tables.';\n",
              "        element.innerHTML = '';\n",
              "        dataTable['output_type'] = 'display_data';\n",
              "        await google.colab.output.renderOutput(dataTable, element);\n",
              "        const docLink = document.createElement('div');\n",
              "        docLink.innerHTML = docLinkHtml;\n",
              "        element.appendChild(docLink);\n",
              "      }\n",
              "    </script>\n",
              "  </div>\n",
              "\n",
              "\n",
              "<div id=\"df-24e2edf6-5605-42d0-832a-82d0e59f41ec\">\n",
              "  <button class=\"colab-df-quickchart\" onclick=\"quickchart('df-24e2edf6-5605-42d0-832a-82d0e59f41ec')\"\n",
              "            title=\"Suggest charts\"\n",
              "            style=\"display:none;\">\n",
              "\n",
              "<svg xmlns=\"http://www.w3.org/2000/svg\" height=\"24px\"viewBox=\"0 0 24 24\"\n",
              "     width=\"24px\">\n",
              "    <g>\n",
              "        <path d=\"M19 3H5c-1.1 0-2 .9-2 2v14c0 1.1.9 2 2 2h14c1.1 0 2-.9 2-2V5c0-1.1-.9-2-2-2zM9 17H7v-7h2v7zm4 0h-2V7h2v10zm4 0h-2v-4h2v4z\"/>\n",
              "    </g>\n",
              "</svg>\n",
              "  </button>\n",
              "\n",
              "<style>\n",
              "  .colab-df-quickchart {\n",
              "      --bg-color: #E8F0FE;\n",
              "      --fill-color: #1967D2;\n",
              "      --hover-bg-color: #E2EBFA;\n",
              "      --hover-fill-color: #174EA6;\n",
              "      --disabled-fill-color: #AAA;\n",
              "      --disabled-bg-color: #DDD;\n",
              "  }\n",
              "\n",
              "  [theme=dark] .colab-df-quickchart {\n",
              "      --bg-color: #3B4455;\n",
              "      --fill-color: #D2E3FC;\n",
              "      --hover-bg-color: #434B5C;\n",
              "      --hover-fill-color: #FFFFFF;\n",
              "      --disabled-bg-color: #3B4455;\n",
              "      --disabled-fill-color: #666;\n",
              "  }\n",
              "\n",
              "  .colab-df-quickchart {\n",
              "    background-color: var(--bg-color);\n",
              "    border: none;\n",
              "    border-radius: 50%;\n",
              "    cursor: pointer;\n",
              "    display: none;\n",
              "    fill: var(--fill-color);\n",
              "    height: 32px;\n",
              "    padding: 0;\n",
              "    width: 32px;\n",
              "  }\n",
              "\n",
              "  .colab-df-quickchart:hover {\n",
              "    background-color: var(--hover-bg-color);\n",
              "    box-shadow: 0 1px 2px rgba(60, 64, 67, 0.3), 0 1px 3px 1px rgba(60, 64, 67, 0.15);\n",
              "    fill: var(--button-hover-fill-color);\n",
              "  }\n",
              "\n",
              "  .colab-df-quickchart-complete:disabled,\n",
              "  .colab-df-quickchart-complete:disabled:hover {\n",
              "    background-color: var(--disabled-bg-color);\n",
              "    fill: var(--disabled-fill-color);\n",
              "    box-shadow: none;\n",
              "  }\n",
              "\n",
              "  .colab-df-spinner {\n",
              "    border: 2px solid var(--fill-color);\n",
              "    border-color: transparent;\n",
              "    border-bottom-color: var(--fill-color);\n",
              "    animation:\n",
              "      spin 1s steps(1) infinite;\n",
              "  }\n",
              "\n",
              "  @keyframes spin {\n",
              "    0% {\n",
              "      border-color: transparent;\n",
              "      border-bottom-color: var(--fill-color);\n",
              "      border-left-color: var(--fill-color);\n",
              "    }\n",
              "    20% {\n",
              "      border-color: transparent;\n",
              "      border-left-color: var(--fill-color);\n",
              "      border-top-color: var(--fill-color);\n",
              "    }\n",
              "    30% {\n",
              "      border-color: transparent;\n",
              "      border-left-color: var(--fill-color);\n",
              "      border-top-color: var(--fill-color);\n",
              "      border-right-color: var(--fill-color);\n",
              "    }\n",
              "    40% {\n",
              "      border-color: transparent;\n",
              "      border-right-color: var(--fill-color);\n",
              "      border-top-color: var(--fill-color);\n",
              "    }\n",
              "    60% {\n",
              "      border-color: transparent;\n",
              "      border-right-color: var(--fill-color);\n",
              "    }\n",
              "    80% {\n",
              "      border-color: transparent;\n",
              "      border-right-color: var(--fill-color);\n",
              "      border-bottom-color: var(--fill-color);\n",
              "    }\n",
              "    90% {\n",
              "      border-color: transparent;\n",
              "      border-bottom-color: var(--fill-color);\n",
              "    }\n",
              "  }\n",
              "</style>\n",
              "\n",
              "  <script>\n",
              "    async function quickchart(key) {\n",
              "      const quickchartButtonEl =\n",
              "        document.querySelector('#' + key + ' button');\n",
              "      quickchartButtonEl.disabled = true;  // To prevent multiple clicks.\n",
              "      quickchartButtonEl.classList.add('colab-df-spinner');\n",
              "      try {\n",
              "        const charts = await google.colab.kernel.invokeFunction(\n",
              "            'suggestCharts', [key], {});\n",
              "      } catch (error) {\n",
              "        console.error('Error during call to suggestCharts:', error);\n",
              "      }\n",
              "      quickchartButtonEl.classList.remove('colab-df-spinner');\n",
              "      quickchartButtonEl.classList.add('colab-df-quickchart-complete');\n",
              "    }\n",
              "    (() => {\n",
              "      let quickchartButtonEl =\n",
              "        document.querySelector('#df-24e2edf6-5605-42d0-832a-82d0e59f41ec button');\n",
              "      quickchartButtonEl.style.display =\n",
              "        google.colab.kernel.accessAllowed ? 'block' : 'none';\n",
              "    })();\n",
              "  </script>\n",
              "</div>\n",
              "    </div>\n",
              "  </div>\n"
            ]
          },
          "metadata": {}
        }
      ]
    },
    {
      "cell_type": "markdown",
      "source": [
        "Let's now check if the Healthiness_rating attribute has any nan values so that it can be handled accordingly."
      ],
      "metadata": {
        "id": "S9OHXpgBIFGe"
      }
    },
    {
      "cell_type": "code",
      "source": [
        "#checking for nan values\n",
        "display(yd_df1[yd_df1.Healthiness_rating_int.isna()])"
      ],
      "metadata": {
        "colab": {
          "base_uri": "https://localhost:8080/",
          "height": 101
        },
        "id": "201njrvQih7U",
        "outputId": "422b38e4-474b-4ed0-9062-fc3acc81a446"
      },
      "execution_count": 23,
      "outputs": [
        {
          "output_type": "display_data",
          "data": {
            "text/plain": [
              "Empty DataFrame\n",
              "Columns: [Diet, Cuisine_org, Cuisine, Dish_name, Home_or_restaurant, Ingredients, Healthiness_rating, Healthiness_rating_int, Likeness, Likeness_int, Benchmark_A, Home_not_home, Healthy_not_healthy, Preprocessed_ingredients, Num_ingreds]\n",
              "Index: []"
            ],
            "text/html": [
              "\n",
              "  <div id=\"df-46cf11a1-f691-4871-9b4d-b9338306f8fc\" class=\"colab-df-container\">\n",
              "    <div>\n",
              "<style scoped>\n",
              "    .dataframe tbody tr th:only-of-type {\n",
              "        vertical-align: middle;\n",
              "    }\n",
              "\n",
              "    .dataframe tbody tr th {\n",
              "        vertical-align: top;\n",
              "    }\n",
              "\n",
              "    .dataframe thead th {\n",
              "        text-align: right;\n",
              "    }\n",
              "</style>\n",
              "<table border=\"1\" class=\"dataframe\">\n",
              "  <thead>\n",
              "    <tr style=\"text-align: right;\">\n",
              "      <th></th>\n",
              "      <th>Diet</th>\n",
              "      <th>Cuisine_org</th>\n",
              "      <th>Cuisine</th>\n",
              "      <th>Dish_name</th>\n",
              "      <th>Home_or_restaurant</th>\n",
              "      <th>Ingredients</th>\n",
              "      <th>Healthiness_rating</th>\n",
              "      <th>Healthiness_rating_int</th>\n",
              "      <th>Likeness</th>\n",
              "      <th>Likeness_int</th>\n",
              "      <th>Benchmark_A</th>\n",
              "      <th>Home_not_home</th>\n",
              "      <th>Healthy_not_healthy</th>\n",
              "      <th>Preprocessed_ingredients</th>\n",
              "      <th>Num_ingreds</th>\n",
              "    </tr>\n",
              "    <tr>\n",
              "      <th>filename</th>\n",
              "      <th></th>\n",
              "      <th></th>\n",
              "      <th></th>\n",
              "      <th></th>\n",
              "      <th></th>\n",
              "      <th></th>\n",
              "      <th></th>\n",
              "      <th></th>\n",
              "      <th></th>\n",
              "      <th></th>\n",
              "      <th></th>\n",
              "      <th></th>\n",
              "      <th></th>\n",
              "      <th></th>\n",
              "      <th></th>\n",
              "    </tr>\n",
              "  </thead>\n",
              "  <tbody>\n",
              "  </tbody>\n",
              "</table>\n",
              "</div>\n",
              "    <div class=\"colab-df-buttons\">\n",
              "\n",
              "  <div class=\"colab-df-container\">\n",
              "    <button class=\"colab-df-convert\" onclick=\"convertToInteractive('df-46cf11a1-f691-4871-9b4d-b9338306f8fc')\"\n",
              "            title=\"Convert this dataframe to an interactive table.\"\n",
              "            style=\"display:none;\">\n",
              "\n",
              "  <svg xmlns=\"http://www.w3.org/2000/svg\" height=\"24px\" viewBox=\"0 -960 960 960\">\n",
              "    <path d=\"M120-120v-720h720v720H120Zm60-500h600v-160H180v160Zm220 220h160v-160H400v160Zm0 220h160v-160H400v160ZM180-400h160v-160H180v160Zm440 0h160v-160H620v160ZM180-180h160v-160H180v160Zm440 0h160v-160H620v160Z\"/>\n",
              "  </svg>\n",
              "    </button>\n",
              "\n",
              "  <style>\n",
              "    .colab-df-container {\n",
              "      display:flex;\n",
              "      gap: 12px;\n",
              "    }\n",
              "\n",
              "    .colab-df-convert {\n",
              "      background-color: #E8F0FE;\n",
              "      border: none;\n",
              "      border-radius: 50%;\n",
              "      cursor: pointer;\n",
              "      display: none;\n",
              "      fill: #1967D2;\n",
              "      height: 32px;\n",
              "      padding: 0 0 0 0;\n",
              "      width: 32px;\n",
              "    }\n",
              "\n",
              "    .colab-df-convert:hover {\n",
              "      background-color: #E2EBFA;\n",
              "      box-shadow: 0px 1px 2px rgba(60, 64, 67, 0.3), 0px 1px 3px 1px rgba(60, 64, 67, 0.15);\n",
              "      fill: #174EA6;\n",
              "    }\n",
              "\n",
              "    .colab-df-buttons div {\n",
              "      margin-bottom: 4px;\n",
              "    }\n",
              "\n",
              "    [theme=dark] .colab-df-convert {\n",
              "      background-color: #3B4455;\n",
              "      fill: #D2E3FC;\n",
              "    }\n",
              "\n",
              "    [theme=dark] .colab-df-convert:hover {\n",
              "      background-color: #434B5C;\n",
              "      box-shadow: 0px 1px 3px 1px rgba(0, 0, 0, 0.15);\n",
              "      filter: drop-shadow(0px 1px 2px rgba(0, 0, 0, 0.3));\n",
              "      fill: #FFFFFF;\n",
              "    }\n",
              "  </style>\n",
              "\n",
              "    <script>\n",
              "      const buttonEl =\n",
              "        document.querySelector('#df-46cf11a1-f691-4871-9b4d-b9338306f8fc button.colab-df-convert');\n",
              "      buttonEl.style.display =\n",
              "        google.colab.kernel.accessAllowed ? 'block' : 'none';\n",
              "\n",
              "      async function convertToInteractive(key) {\n",
              "        const element = document.querySelector('#df-46cf11a1-f691-4871-9b4d-b9338306f8fc');\n",
              "        const dataTable =\n",
              "          await google.colab.kernel.invokeFunction('convertToInteractive',\n",
              "                                                    [key], {});\n",
              "        if (!dataTable) return;\n",
              "\n",
              "        const docLinkHtml = 'Like what you see? Visit the ' +\n",
              "          '<a target=\"_blank\" href=https://colab.research.google.com/notebooks/data_table.ipynb>data table notebook</a>'\n",
              "          + ' to learn more about interactive tables.';\n",
              "        element.innerHTML = '';\n",
              "        dataTable['output_type'] = 'display_data';\n",
              "        await google.colab.output.renderOutput(dataTable, element);\n",
              "        const docLink = document.createElement('div');\n",
              "        docLink.innerHTML = docLinkHtml;\n",
              "        element.appendChild(docLink);\n",
              "      }\n",
              "    </script>\n",
              "  </div>\n",
              "\n",
              "    </div>\n",
              "  </div>\n"
            ]
          },
          "metadata": {}
        }
      ]
    },
    {
      "cell_type": "markdown",
      "source": [
        "No nan values, let's move on."
      ],
      "metadata": {
        "id": "IS8EnCpWbZoX"
      }
    },
    {
      "cell_type": "markdown",
      "source": [
        "#### Checking and addressing class imbalance:\n",
        "We will now move on to checking and ensuring class balance and then making sure we have a decent train test split."
      ],
      "metadata": {
        "id": "oDMmVKoUZzdC"
      }
    },
    {
      "cell_type": "code",
      "source": [
        "print(f\"the number of train samples in the dataset: {yd_df1[yd_df1.Benchmark_A == 'Train'].shape[0]}\")\n",
        "print(f\"the number of test samples in the dataset: {yd_df1[yd_df1.Benchmark_A == 'Test'].shape[0]}\\n\")\n",
        "\n",
        "print(f\"the number of 'Healthy' samples in the dataset: {yd_df1[yd_df1.Healthy_not_healthy == 1].shape[0]}\")\n",
        "print(f\"the number of 'Unhealthy' samples in the dataset: {yd_df1[yd_df1.Healthy_not_healthy == 0].shape[0]}\\n\")\n",
        "\n",
        "print(f\"the percentage of 'Healthy' samples in the dataset: {yd_df1[yd_df1.Healthy_not_healthy == 1].shape[0]/(yd_df1[yd_df1.Healthy_not_healthy == 1].shape[0] + yd_df1[yd_df1.Healthy_not_healthy == 0].shape[0])*100:.2f}%\")\n",
        "print(f\"the percentage of 'Unhealthy' samples in the dataset: {yd_df1[yd_df1.Healthy_not_healthy == 0].shape[0]/(yd_df1[yd_df1.Healthy_not_healthy == 1].shape[0] + yd_df1[yd_df1.Healthy_not_healthy == 0].shape[0])*100:.2f}%\")"
      ],
      "metadata": {
        "colab": {
          "base_uri": "https://localhost:8080/"
        },
        "id": "HKCxNtgAKM5o",
        "outputId": "11a51bf5-5fe5-433f-852e-b7d440e46ef9"
      },
      "execution_count": 24,
      "outputs": [
        {
          "output_type": "stream",
          "name": "stdout",
          "text": [
            "the number of train samples in the dataset: 1721\n",
            "the number of test samples in the dataset: 728\n",
            "\n",
            "the number of 'Healthy' samples in the dataset: 1863\n",
            "the number of 'Unhealthy' samples in the dataset: 586\n",
            "\n",
            "the percentage of 'Healthy' samples in the dataset: 76.07%\n",
            "the percentage of 'Unhealthy' samples in the dataset: 23.93%\n"
          ]
        }
      ]
    },
    {
      "cell_type": "code",
      "source": [
        "#calculating\n",
        "train_test_counts = [yd_df1[yd_df1.Benchmark_A == 'Train'].shape[0], yd_df1[yd_df1.Benchmark_A == 'Test'].shape[0]]\n",
        "healthy_unhealthy_counts = [yd_df1[yd_df1.Healthy_not_healthy == 1].shape[0], yd_df1[yd_df1.Healthy_not_healthy == 0].shape[0]]\n",
        "percentage_healthy = (healthy_unhealthy_counts[0] / sum(healthy_unhealthy_counts)) * 100\n",
        "percentage_unhealthy = (healthy_unhealthy_counts[1] / sum(healthy_unhealthy_counts)) * 100\n",
        "total_samples = sum(train_test_counts)\n",
        "percentage_train = (train_test_counts[0] / total_samples) * 100\n",
        "percentage_test = (train_test_counts[1] / total_samples) * 100\n",
        "\n",
        "#plotting the same\n",
        "fig, ax = plt.subplots(1, 3, figsize=(15, 5))\n",
        "\n",
        "#plot 1: train vs test\n",
        "bars = ax[0].bar([\"Train\", \"Test\"], train_test_counts)\n",
        "ax[0].set_title(\"Train vs. Test\")\n",
        "ax[0].set_ylabel(\"Count\")\n",
        "\n",
        "#plot 2: healthy vs unhealthy\n",
        "ax[1].bar([\"Healthy\", \"Unhealthy\"], healthy_unhealthy_counts)\n",
        "ax[1].set_title(\"Healthy vs. Unhealthy\")\n",
        "ax[1].set_ylabel(\"Count\")\n",
        "\n",
        "#plot 3: percentage of healthy vs unhealthy\n",
        "ax[2].bar([\"Healthy\", \"Unhealthy\"], [percentage_healthy, percentage_unhealthy])\n",
        "ax[2].set_title(\"Percentage of Healthy vs. Unhealthy\")\n",
        "ax[2].set_ylim(0, 100)  # Set y-axis limit to 0-100 for percentage\n",
        "ax[2].set_ylabel(\"Percentage\")\n",
        "\n",
        "#displaying the percentages on top of the bars in the first subplot\n",
        "for bar, percentage in zip(bars, [percentage_train, percentage_test]):\n",
        "    height = bar.get_height()\n",
        "    ax[0].text(bar.get_x() + bar.get_width() / 2, height + 2, f\"{percentage:.2f}%\", ha='center', va='bottom')\n",
        "\n",
        "#displaying the percentages on top of the bars in the third subplot\n",
        "for i, percentage in enumerate([percentage_healthy, percentage_unhealthy]):\n",
        "    ax[2].text(i, percentage + 2, f\"{percentage:.2f}%\", ha='center', va='bottom')\n",
        "\n",
        "plt.show()"
      ],
      "metadata": {
        "colab": {
          "base_uri": "https://localhost:8080/",
          "height": 468
        },
        "id": "amW0KrVyS60c",
        "outputId": "acb55a1b-ddba-4fc8-bfac-81a3f34fdbf6"
      },
      "execution_count": 25,
      "outputs": [
        {
          "output_type": "display_data",
          "data": {
            "text/plain": [
              "<Figure size 1500x500 with 3 Axes>"
            ],
            "image/png": "[encoded data removed]"
          },
          "metadata": {}
        }
      ]
    },
    {
      "cell_type": "code",
      "source": [
        "#extracting the healthy samples\n",
        "healthy_dff = yd_df1[yd_df1.Healthy_not_healthy == 1]\n",
        "\n",
        "#calculating the difference\n",
        "healthy_unhealthy_diff = np.abs(yd_df1[yd_df1.Healthy_not_healthy == 0].shape[0] - yd_df1[yd_df1.Healthy_not_healthy == 1].shape[0])\n",
        "\n",
        "#generating the indices we can drop\n",
        "random_indices = set(healthy_dff.sample(n = healthy_unhealthy_diff, random_state = 42).index)\n",
        "print(f\"we are going to drop the samples with index below:\")\n",
        "print(random_indices)\n",
        "\n",
        "#dropping the indices\n",
        "yd_df1.drop(index = random_indices.intersection(set(yd_df1.index)), axis = 1, inplace = True)"
      ],
      "metadata": {
        "colab": {
          "base_uri": "https://localhost:8080/"
        },
        "id": "qi2x8IAZ8V1Q",
        "outputId": "f904ad7c-859d-45d5-ddb9-4823cfbb380e"
      },
      "execution_count": 26,
      "outputs": [
        {
          "output_type": "stream",
          "name": "stdout",
          "text": [
            "we are going to drop the samples with index below:\n",
            "{'002028.jpg', '002328.jpg', '002951.jpg', '002100.jpg', '002190.jpg', '002738.jpg', '002962.jpg', '002697.jpg', '002904.jpg', '003064.jpg', '002827.jpg', '001936.jpg', '002316.jpg', '002756.jpg', '003186.jpg', '000400.jpg', '000747.jpg', '000228.jpg', '001136.jpg', '001634.jpg', '000345.jpg', '003117.jpg', '000973.jpg', '001648.jpg', '002514.jpg', '002280.jpg', '002955.jpg', '001888.jpg', '001823.jpg', '000990.jpg', '001609.jpg', '000459.jpg', '001393.jpg', '001075.jpg', '002603.jpg', '002695.jpg', '000375.jpg', '003008.jpg', '001950.jpg', '000105.jpg', '000854.jpg', '001665.jpg', '003044.jpg', '002813.jpg', '002194.jpg', '002635.jpg', '001225.jpg', '001973.jpg', '001932.jpg', '002145.jpg', '002158.jpg', '002862.jpg', '002356.jpg', '003241.jpg', '003056.jpg', '002567.jpg', '001476.jpg', '003087.jpg', '001698.jpg', '002720.jpg', '002785.jpg', '002123.jpg', '002283.jpg', '000393.jpg', '000978.jpg', '002069.jpg', '000488.jpg', '000848.jpg', '002639.jpg', '002137.jpg', '001236.jpg', '001404.jpg', '000707.jpg', '001848.jpg', '001824.jpg', '000252.jpg', '000437.jpg', '002279.jpg', '001510.jpg', '001736.jpg', '000208.jpg', '001514.jpg', '002239.jpg', '001059.jpg', '002044.jpg', '001566.jpg', '000399.jpg', '002291.jpg', '002922.jpg', '001526.jpg', '001339.jpg', '002981.jpg', '002111.jpg', '002810.jpg', '001639.jpg', '003084.jpg', '001990.jpg', '002658.jpg', '002973.jpg', '001363.jpg', '000123.jpg', '000108.jpg', '000929.jpg', '002351.jpg', '000882.jpg', '001684.jpg', '003041.jpg', '001801.jpg', '002208.jpg', '002359.jpg', '001622.jpg', '002281.jpg', '000092.jpg', '000336.jpg', '000699.jpg', '000130.jpg', '003158.jpg', '002481.jpg', '001455.jpg', '002938.jpg', '000457.jpg', '001302.jpg', '001261.jpg', '003079.jpg', '002070.jpg', '001245.jpg', '001556.jpg', '001688.jpg', '000110.jpg', '000685.jpg', '001078.jpg', '000465.jpg', '002417.jpg', '002101.jpg', '002408.jpg', '001928.jpg', '003075.jpg', '001418.jpg', '002809.jpg', '000081.jpg', '000166.jpg', '001172.jpg', '002835.jpg', '000245.jpg', '000415.jpg', '001335.jpg', '001420.jpg', '001891.jpg', '001095.jpg', '000344.jpg', '001587.jpg', '001968.jpg', '002488.jpg', '002807.jpg', '001033.jpg', '000056.jpg', '002160.jpg', '001828.jpg', '000372.jpg', '000374.jpg', '001921.jpg', '000778.jpg', '002519.jpg', '001287.jpg', '001223.jpg', '002289.jpg', '002775.jpg', '000544.jpg', '003109.jpg', '000349.jpg', '002570.jpg', '002617.jpg', '002589.jpg', '002282.jpg', '000949.jpg', '001024.jpg', '000813.jpg', '000711.jpg', '002135.jpg', '000120.jpg', '001705.jpg', '002985.jpg', '001675.jpg', '001546.jpg', '002863.jpg', '003060.jpg', '002999.jpg', '001382.jpg', '002889.jpg', '003141.jpg', '001298.jpg', '000587.jpg', '003069.jpg', '000409.jpg', '003002.jpg', '001030.jpg', '000523.jpg', '001644.jpg', '001100.jpg', '000154.jpg', '001051.jpg', '002411.jpg', '001633.jpg', '000824.jpg', '002326.jpg', '003090.jpg', '000834.jpg', '001692.jpg', '000985.jpg', '000264.jpg', '000743.jpg', '001532.jpg', '000836.jpg', '000495.jpg', '003016.jpg', '001832.jpg', '001213.jpg', '000717.jpg', '002926.jpg', '002066.jpg', '000615.jpg', '001905.jpg', '001233.jpg', '001272.jpg', '001235.jpg', '002705.jpg', '002619.jpg', '001408.jpg', '002030.jpg', '001646.jpg', '001840.jpg', '000755.jpg', '000282.jpg', '001062.jpg', '002669.jpg', '001791.jpg', '001628.jpg', '000422.jpg', '003184.jpg', '002052.jpg', '002218.jpg', '001345.jpg', '000574.jpg', '002892.jpg', '000128.jpg', '000507.jpg', '001739.jpg', '001083.jpg', '002472.jpg', '000142.jpg', '001945.jpg', '000600.jpg', '001253.jpg', '001383.jpg', '001453.jpg', '001300.jpg', '002431.jpg', '002050.jpg', '000064.jpg', '002505.jpg', '002413.jpg', '002177.jpg', '002501.jpg', '003226.jpg', '000739.jpg', '001166.jpg', '001445.jpg', '000762.jpg', '002954.jpg', '001855.jpg', '001890.jpg', '002601.jpg', '000898.jpg', '001354.jpg', '000321.jpg', '000420.jpg', '000684.jpg', '002716.jpg', '003096.jpg', '000268.jpg', '001912.jpg', '000928.jpg', '000655.jpg', '002538.jpg', '002677.jpg', '003094.jpg', '000619.jpg', '001405.jpg', '000930.jpg', '000326.jpg', '001164.jpg', '003059.jpg', '001673.jpg', '002292.jpg', '001415.jpg', '000979.jpg', '000623.jpg', '000770.jpg', '000157.jpg', '000955.jpg', '000463.jpg', '002321.jpg', '000766.jpg', '001995.jpg', '000917.jpg', '003238.jpg', '002451.jpg', '001544.jpg', '000022.jpg', '002536.jpg', '002357.jpg', '001479.jpg', '000802.jpg', '001066.jpg', '002479.jpg', '000896.jpg', '001063.jpg', '002042.jpg', '001008.jpg', '002156.jpg', '003177.jpg', '002814.jpg', '001118.jpg', '002325.jpg', '001767.jpg', '000455.jpg', '003127.jpg', '002800.jpg', '002865.jpg', '001192.jpg', '000753.jpg', '001473.jpg', '000479.jpg', '000974.jpg', '001410.jpg', '001954.jpg', '000876.jpg', '000547.jpg', '000535.jpg', '000631.jpg', '000573.jpg', '003123.jpg', '002077.jpg', '001558.jpg', '003021.jpg', '000408.jpg', '001948.jpg', '001070.jpg', '000954.jpg', '001852.jpg', '000676.jpg', '000754.jpg', '002590.jpg', '001277.jpg', '001399.jpg', '002974.jpg', '002247.jpg', '003071.jpg', '002525.jpg', '003137.jpg', '001229.jpg', '001372.jpg', '000863.jpg', '001505.jpg', '003216.jpg', '000089.jpg', '001897.jpg', '002858.jpg', '000525.jpg', '001880.jpg', '002513.jpg', '001156.jpg', '001276.jpg', '000604.jpg', '002755.jpg', '001571.jpg', '003134.jpg', '002195.jpg', '002303.jpg', '000427.jpg', '002199.jpg', '001124.jpg', '001681.jpg', '001057.jpg', '002982.jpg', '000067.jpg', '001799.jpg', '000656.jpg', '003128.jpg', '001804.jpg', '001527.jpg', '001071.jpg', '001647.jpg', '000659.jpg', '001940.jpg', '002944.jpg', '002269.jpg', '002499.jpg', '002128.jpg', '001170.jpg', '002690.jpg', '001004.jpg', '001002.jpg', '001830.jpg', '000296.jpg', '001740.jpg', '001910.jpg', '002905.jpg', '000070.jpg', '002707.jpg', '001837.jpg', '000468.jpg', '001710.jpg', '000826.jpg', '002374.jpg', '002038.jpg', '001227.jpg', '001985.jpg', '002450.jpg', '001025.jpg', '002152.jpg', '001657.jpg', '001704.jpg', '003210.jpg', '003037.jpg', '001440.jpg', '002801.jpg', '002140.jpg', '001016.jpg', '000542.jpg', '001567.jpg', '003229.jpg', '003048.jpg', '001397.jpg', '002031.jpg', '000853.jpg', '001925.jpg', '000313.jpg', '002185.jpg', '000741.jpg', '000673.jpg', '000946.jpg', '002715.jpg', '000254.jpg', '002687.jpg', '001914.jpg', '001537.jpg', '002308.jpg', '001466.jpg', '002102.jpg', '002367.jpg', '000538.jpg', '002965.jpg', '002628.jpg', '001109.jpg', '002422.jpg', '001049.jpg', '002215.jpg', '002594.jpg', '002668.jpg', '000803.jpg', '001984.jpg', '000497.jpg', '001275.jpg', '001686.jpg', '002142.jpg', '002168.jpg', '001026.jpg', '001391.jpg', '003146.jpg', '000680.jpg', '002815.jpg', '001160.jpg', '002736.jpg', '000831.jpg', '000494.jpg', '000567.jpg', '000181.jpg', '000118.jpg', '000829.jpg', '000355.jpg', '000641.jpg', '000541.jpg', '003019.jpg', '000072.jpg', '000429.jpg', '002227.jpg', '000583.jpg', '002362.jpg', '001135.jpg', '001271.jpg', '002463.jpg', '002929.jpg', '001349.jpg', '001568.jpg', '002818.jpg', '002484.jpg', '002056.jpg', '001611.jpg', '000239.jpg', '002180.jpg', '002262.jpg', '000432.jpg', '001576.jpg', '002125.jpg', '001719.jpg', '002249.jpg', '000945.jpg', '001400.jpg', '000310.jpg', '001274.jpg', '002762.jpg', '000363.jpg', '000515.jpg', '001941.jpg', '003170.jpg', '002224.jpg', '002952.jpg', '003077.jpg', '000074.jpg', '000782.jpg', '001638.jpg', '000628.jpg', '001092.jpg', '002396.jpg', '001590.jpg', '003061.jpg', '002345.jpg', '002015.jpg', '002223.jpg', '002754.jpg', '003197.jpg', '001883.jpg', '000539.jpg', '000122.jpg', '002718.jpg', '000241.jpg', '001699.jpg', '001762.jpg', '001998.jpg', '000125.jpg', '000518.jpg', '003207.jpg', '000571.jpg', '000150.jpg', '002003.jpg', '002680.jpg', '002020.jpg', '000596.jpg', '002091.jpg', '001450.jpg', '000215.jpg', '000283.jpg', '002972.jpg', '001574.jpg', '003234.jpg', '000084.jpg', '000633.jpg', '000397.jpg', '000966.jpg', '001039.jpg', '002616.jpg', '000339.jpg', '001949.jpg', '001812.jpg', '002055.jpg', '001724.jpg', '002448.jpg', '002881.jpg', '000620.jpg', '002290.jpg', '002483.jpg', '001538.jpg', '001944.jpg', '003140.jpg', '000508.jpg', '001943.jpg', '000026.jpg', '002023.jpg', '000016.jpg', '000038.jpg', '000155.jpg', '002520.jpg', '000111.jpg', '002043.jpg', '000862.jpg', '001346.jpg', '000614.jpg', '003031.jpg', '000872.jpg', '001196.jpg', '000900.jpg', '001640.jpg', '001332.jpg', '002399.jpg', '001792.jpg', '001993.jpg', '000428.jpg', '001697.jpg', '002225.jpg', '000247.jpg', '001279.jpg', '003235.jpg', '001593.jpg', '002696.jpg', '002979.jpg', '002297.jpg', '001055.jpg', '002722.jpg', '002181.jpg', '001808.jpg', '002515.jpg', '000317.jpg', '002398.jpg', '000719.jpg', '000710.jpg', '002496.jpg', '001608.jpg', '002196.jpg', '001977.jpg', '001356.jpg', '000662.jpg', '002427.jpg', '000156.jpg', '003149.jpg', '000162.jpg', '001623.jpg', '000880.jpg', '002997.jpg', '001866.jpg', '000568.jpg', '000815.jpg', '001157.jpg', '002330.jpg', '003132.jpg', '003152.jpg', '002089.jpg', '002610.jpg', '001678.jpg', '000341.jpg', '001701.jpg', '001284.jpg', '001340.jpg', '000493.jpg', '001650.jpg', '002741.jpg', '002361.jpg', '002717.jpg', '000584.jpg', '000387.jpg', '001708.jpg', '001896.jpg', '000919.jpg', '000405.jpg', '002737.jpg', '000477.jpg', '001085.jpg', '000534.jpg', '000255.jpg', '000959.jpg', '002295.jpg', '002898.jpg', '001693.jpg', '003074.jpg', '000175.jpg', '001961.jpg', '000480.jpg', '000867.jpg', '001237.jpg', '000788.jpg', '000964.jpg', '000348.jpg', '000360.jpg', '000925.jpg', '000362.jpg', '001327.jpg', '000489.jpg', '000008.jpg', '000361.jpg', '001151.jpg', '000028.jpg', '003243.jpg', '000199.jpg', '001652.jpg', '000502.jpg', '001760.jpg', '001011.jpg', '001564.jpg', '002404.jpg', '000431.jpg', '002169.jpg', '000312.jpg', '001194.jpg', '001027.jpg', '002691.jpg', '001996.jpg', '000967.jpg', '000010.jpg', '000238.jpg', '003025.jpg', '000582.jpg', '000421.jpg', '002622.jpg', '000087.jpg', '002678.jpg', '001328.jpg', '000109.jpg', '000153.jpg', '002085.jpg', '001814.jpg', '003138.jpg', '001343.jpg', '000469.jpg', '002659.jpg', '002093.jpg', '002823.jpg', '000298.jpg', '001042.jpg', '002802.jpg', '000319.jpg', '002039.jpg', '001040.jpg', '000045.jpg', '000669.jpg', '000509.jpg', '000413.jpg', '000521.jpg', '001358.jpg', '002046.jpg', '001141.jpg', '001746.jpg', '000243.jpg', '000564.jpg', '002674.jpg', '000981.jpg', '002278.jpg', '001218.jpg', '000077.jpg', '000608.jpg', '001023.jpg', '003155.jpg', '001392.jpg', '001845.jpg', '002880.jpg', '001674.jpg', '001162.jpg', '001902.jpg', '000370.jpg', '000649.jpg', '000902.jpg', '002253.jpg', '002861.jpg', '003230.jpg', '001822.jpg', '000198.jpg', '000658.jpg', '002765.jpg', '001477.jpg', '002748.jpg', '000761.jpg', '000698.jpg', '000232.jpg', '001129.jpg', '000512.jpg', '000776.jpg', '000935.jpg', '002918.jpg', '000183.jpg', '001120.jpg', '001449.jpg', '002578.jpg', '000646.jpg', '002365.jpg', '002547.jpg', '000057.jpg', '000280.jpg', '000787.jpg', '000262.jpg', '002719.jpg', '000636.jpg', '003001.jpg', '001216.jpg', '001975.jpg', '000828.jpg', '002530.jpg', '001422.jpg', '002036.jpg', '002560.jpg', '001153.jpg', '003182.jpg', '000771.jpg', '002341.jpg', '000332.jpg', '000447.jpg', '000830.jpg', '001795.jpg', '000726.jpg', '000018.jpg', '002592.jpg', '001835.jpg', '000322.jpg', '000956.jpg', '002134.jpg', '002577.jpg', '001373.jpg', '001014.jpg', '001598.jpg', '000870.jpg', '001486.jpg', '000734.jpg', '000391.jpg', '000856.jpg', '001560.jpg', '002568.jpg', '002743.jpg', '000250.jpg', '002339.jpg', '002482.jpg', '001613.jpg', '002347.jpg', '001217.jpg', '000102.jpg', '000731.jpg', '001732.jpg', '000061.jpg', '000678.jpg', '002992.jpg', '001512.jpg', '001524.jpg', '002555.jpg', '002655.jpg', '001531.jpg', '002782.jpg', '000728.jpg', '001498.jpg', '000090.jpg', '000237.jpg', '002018.jpg', '001624.jpg', '001706.jpg', '002129.jpg', '002614.jpg', '000182.jpg', '002633.jpg', '000775.jpg', '001460.jpg', '003113.jpg', '002915.jpg', '002241.jpg', '002542.jpg', '002713.jpg', '002098.jpg', '000436.jpg', '000062.jpg', '001539.jpg', '002235.jpg', '002689.jpg', '002226.jpg', '000569.jpg', '000607.jpg', '002588.jpg', '001533.jpg', '002587.jpg', '001820.jpg', '000443.jpg', '000119.jpg', '002694.jpg', '001436.jpg', '000651.jpg', '001000.jpg', '002656.jpg', '000112.jpg', '000738.jpg', '000918.jpg', '001813.jpg', '002041.jpg', '001810.jpg', '001728.jpg', '003046.jpg', '000914.jpg', '003218.jpg', '002580.jpg', '002936.jpg', '000005.jpg', '002961.jpg', '000909.jpg', '000528.jpg', '000148.jpg', '000957.jpg', '000931.jpg', '001876.jpg', '000104.jpg', '000093.jpg', '002747.jpg', '002228.jpg', '002301.jpg', '000402.jpg', '002537.jpg', '000226.jpg', '002565.jpg', '000808.jpg', '002447.jpg', '003028.jpg', '000222.jpg', '002035.jpg', '000532.jpg', '000727.jpg', '002797.jpg', '000923.jpg', '000204.jpg', '002428.jpg', '000594.jpg', '000099.jpg', '003114.jpg', '003036.jpg', '001847.jpg', '001548.jpg', '002068.jpg', '002198.jpg', '002416.jpg', '000774.jpg', '001154.jpg', '002317.jpg', '002090.jpg', '000524.jpg', '000380.jpg', '000342.jpg', '001980.jpg', '000274.jpg', '001266.jpg', '002045.jpg', '002383.jpg', '001927.jpg', '000147.jpg', '001044.jpg', '000654.jpg', '003130.jpg', '001406.jpg', '000660.jpg', '001315.jpg', '002988.jpg', '002171.jpg', '002124.jpg', '000475.jpg', '002688.jpg', '002213.jpg', '000934.jpg', '002734.jpg', '001150.jpg', '000139.jpg', '002804.jpg', '002236.jpg', '002110.jpg', '002329.jpg', '000448.jpg', '002444.jpg', '002831.jpg', '000690.jpg', '003164.jpg', '002455.jpg', '000618.jpg', '000381.jpg', '001875.jpg', '002550.jpg', '001317.jpg', '000055.jpg', '000456.jpg', '002683.jpg', '001575.jpg', '001301.jpg', '002504.jpg', '000202.jpg', '000325.jpg', '000300.jpg', '002182.jpg', '001072.jpg', '002522.jpg', '000178.jpg', '001226.jpg', '000683.jpg', '002846.jpg', '002532.jpg', '002414.jpg', '000993.jpg', '000839.jpg', '000511.jpg', '002389.jpg', '002935.jpg', '001165.jpg', '002073.jpg', '001006.jpg', '000987.jpg', '000266.jpg', '002780.jpg', '001844.jpg', '001903.jpg', '003007.jpg', '002312.jpg', '002273.jpg', '002489.jpg', '001110.jpg', '001501.jpg', '000316.jpg', '002958.jpg', '000501.jpg', '000464.jpg', '000661.jpg', '001781.jpg', '001649.jpg', '002175.jpg', '002891.jpg', '001603.jpg', '000270.jpg', '002446.jpg', '000066.jpg', '000716.jpg', '002165.jpg', '001815.jpg', '001304.jpg', '002843.jpg', '001200.jpg', '002331.jpg', '000800.jpg', '001087.jpg', '000172.jpg', '001803.jpg', '000020.jpg', '002430.jpg', '000812.jpg', '001443.jpg', '001318.jpg', '002104.jpg', '000115.jpg', '001499.jpg', '001159.jpg', '001211.jpg', '002062.jpg', '000982.jpg', '001636.jpg', '000763.jpg', '000078.jpg', '000327.jpg', '003189.jpg', '001492.jpg', '002939.jpg', '001860.jpg', '002541.jpg', '002686.jpg', '003040.jpg', '001081.jpg', '002721.jpg', '001960.jpg', '000065.jpg', '000961.jpg', '003098.jpg', '001751.jpg', '001716.jpg', '001012.jpg', '002406.jpg', '000385.jpg', '000666.jpg', '001152.jpg', '002836.jpg', '002258.jpg', '000940.jpg', '002620.jpg', '000159.jpg', '001416.jpg', '002558.jpg', '002673.jpg', '000816.jpg', '002911.jpg', '001311.jpg', '001281.jpg', '002378.jpg', '000551.jpg', '002886.jpg', '003232.jpg', '001461.jpg', '002311.jpg', '001273.jpg', '002163.jpg', '001555.jpg', '001877.jpg', '002260.jpg', '000756.jpg', '002834.jpg', '003106.jpg', '002971.jpg', '001735.jpg', '002640.jpg', '002193.jpg', '000709.jpg', '002816.jpg', '002709.jpg', '002548.jpg', '000470.jpg', '000951.jpg', '000458.jpg', '001491.jpg', '002005.jpg', '002559.jpg', '000467.jpg', '001204.jpg', '002517.jpg', '003215.jpg', '000126.jpg', '001364.jpg', '000433.jpg', '000752.jpg', '001919.jpg', '000499.jpg', '002784.jpg', '000630.jpg', '000063.jpg', '000820.jpg', '001656.jpg', '001121.jpg', '001605.jpg', '000718.jpg', '000921.jpg', '002141.jpg', '003107.jpg', '001388.jpg', '000860.jpg', '001148.jpg', '000435.jpg', '001752.jpg', '000948.jpg', '000560.jpg', '002623.jpg', '001252.jpg', '001882.jpg', '000572.jpg', '000347.jpg', '001369.jpg', '000203.jpg', '001596.jpg', '003247.jpg', '002143.jpg', '001018.jpg', '000257.jpg', '003212.jpg', '003126.jpg', '001257.jpg', '000137.jpg', '001955.jpg', '001342.jpg', '001398.jpg', '002133.jpg', '001597.jpg', '003120.jpg', '001191.jpg', '001260.jpg', '001909.jpg', '002725.jpg', '000941.jpg', '000503.jpg', '000645.jpg', '000143.jpg', '001829.jpg', '001395.jpg', '002934.jpg', '001748.jpg', '001065.jpg', '002796.jpg', '001456.jpg', '001718.jpg', '002126.jpg', '000975.jpg', '002250.jpg', '001489.jpg', '002490.jpg', '000849.jpg', '002649.jpg', '002016.jpg', '001425.jpg', '000411.jpg', '001099.jpg', '000768.jpg', '002608.jpg', '002572.jpg', '003043.jpg', '000439.jpg', '001243.jpg', '001816.jpg', '002138.jpg', '000514.jpg', '000579.jpg', '000621.jpg', '002630.jpg', '002220.jpg', '002084.jpg', '002407.jpg', '000136.jpg', '002139.jpg', '003178.jpg', '003029.jpg', '002787.jpg', '001193.jpg', '002094.jpg', '001534.jpg', '003045.jpg', '001626.jpg', '000841.jpg', '003220.jpg', '003172.jpg', '001439.jpg', '001186.jpg', '002870.jpg', '002024.jpg', '001068.jpg', '000190.jpg', '002324.jpg', '000671.jpg', '002148.jpg', '002083.jpg', '003018.jpg', '001430.jpg', '000597.jpg', '000617.jpg', '002553.jpg', '001653.jpg', '002764.jpg', '001155.jpg', '000736.jpg', '000643.jpg', '000798.jpg', '000206.jpg', '000591.jpg', '000549.jpg', '003110.jpg', '001205.jpg', '001321.jpg', '001868.jpg', '002845.jpg', '002806.jpg', '000894.jpg', '003211.jpg', '002896.jpg', '000543.jpg', '002107.jpg', '000943.jpg', '002817.jpg', '003100.jpg', '003214.jpg', '003125.jpg', '001249.jpg', '002960.jpg', '001711.jpg', '002466.jpg', '003086.jpg', '000566.jpg', '002243.jpg', '002440.jpg', '002631.jpg', '001635.jpg', '002335.jpg', '001286.jpg', '000938.jpg', '001122.jpg', '002276.jpg', '000168.jpg', '000487.jpg', '000082.jpg', '002349.jpg', '002475.jpg', '001923.jpg', '000311.jpg', '000679.jpg', '001296.jpg', '002821.jpg', '000530.jpg', '000748.jpg', '002953.jpg', '002868.jpg', '000937.jpg'}\n"
          ]
        }
      ]
    },
    {
      "cell_type": "code",
      "source": [
        "print(f\"the number of train samples in the updated dataset: {yd_df1[yd_df1.Benchmark_A == 'Train'].shape[0]}\")\n",
        "print(f\"the number of test samples in the updated dataset: {yd_df1[yd_df1.Benchmark_A == 'Test'].shape[0]}\\n\")\n",
        "\n",
        "print(f\"the number of 'Healthy' samples in the updated dataset: {yd_df1[yd_df1.Healthy_not_healthy == 1].shape[0]}\")\n",
        "print(f\"the number of 'Unhealthy' samples in the updated dataset: {yd_df1[yd_df1.Healthy_not_healthy == 0].shape[0]}\\n\")\n",
        "\n",
        "print(f\"the percentage of 'Healthy' samples in the updated dataset: {yd_df1[yd_df1.Healthy_not_healthy == 1].shape[0]/(yd_df1[yd_df1.Healthy_not_healthy == 1].shape[0] + yd_df1[yd_df1.Healthy_not_healthy == 0].shape[0])*100:.2f}%\")\n",
        "print(f\"the percentage of 'Unhealthy' samples in the updated dataset: {yd_df1[yd_df1.Healthy_not_healthy == 0].shape[0]/(yd_df1[yd_df1.Healthy_not_healthy == 1].shape[0] + yd_df1[yd_df1.Healthy_not_healthy == 0].shape[0])*100:.2f}%\")"
      ],
      "metadata": {
        "colab": {
          "base_uri": "https://localhost:8080/"
        },
        "id": "3fWR7JWo-hxI",
        "outputId": "b8bc568b-bff0-455d-d9de-07d330e7dabb"
      },
      "execution_count": 27,
      "outputs": [
        {
          "output_type": "stream",
          "name": "stdout",
          "text": [
            "the number of train samples in the updated dataset: 821\n",
            "the number of test samples in the updated dataset: 351\n",
            "\n",
            "the number of 'Healthy' samples in the updated dataset: 586\n",
            "the number of 'Unhealthy' samples in the updated dataset: 586\n",
            "\n",
            "the percentage of 'Healthy' samples in the updated dataset: 50.00%\n",
            "the percentage of 'Unhealthy' samples in the updated dataset: 50.00%\n"
          ]
        }
      ]
    },
    {
      "cell_type": "code",
      "source": [
        "#calculating\n",
        "train_test_counts = [yd_df1[yd_df1.Benchmark_A == 'Train'].shape[0], yd_df1[yd_df1.Benchmark_A == 'Test'].shape[0]]\n",
        "healthy_unhealthy_counts = [yd_df1[yd_df1.Healthy_not_healthy == 1].shape[0], yd_df1[yd_df1.Healthy_not_healthy == 0].shape[0]]\n",
        "percentage_healthy = (healthy_unhealthy_counts[0] / sum(healthy_unhealthy_counts)) * 100\n",
        "percentage_unhealthy = (healthy_unhealthy_counts[1] / sum(healthy_unhealthy_counts)) * 100\n",
        "total_samples = sum(train_test_counts)\n",
        "percentage_train = (train_test_counts[0] / total_samples) * 100\n",
        "percentage_test = (train_test_counts[1] / total_samples) * 100\n",
        "\n",
        "#plotting the same\n",
        "fig, ax = plt.subplots(1, 3, figsize=(15, 5))\n",
        "\n",
        "#plot 1: train vs test\n",
        "bars = ax[0].bar([\"Train\", \"Test\"], train_test_counts)\n",
        "ax[0].set_title(\"Train vs. Test\")\n",
        "ax[0].set_ylabel(\"Count\")\n",
        "\n",
        "#plot 2: healthy vs unhealthy\n",
        "ax[1].bar([\"Healthy\", \"Unhealthy\"], healthy_unhealthy_counts)\n",
        "ax[1].set_title(\"Healthy vs. Unhealthy\")\n",
        "ax[1].set_ylabel(\"Count\")\n",
        "\n",
        "#plot 3: percentage of healthy vs unhealthy\n",
        "ax[2].bar([\"Healthy\", \"Unhealthy\"], [percentage_healthy, percentage_unhealthy])\n",
        "ax[2].set_title(\"Percentage of Healthy vs. Unhealthy\")\n",
        "ax[2].set_ylim(0, 100)  # Set y-axis limit to 0-100 for percentage\n",
        "ax[2].set_ylabel(\"Percentage\")\n",
        "\n",
        "#displaying the percentages on top of the bars in the first subplot\n",
        "for bar, percentage in zip(bars, [percentage_train, percentage_test]):\n",
        "    height = bar.get_height()\n",
        "    ax[0].text(bar.get_x() + bar.get_width() / 2, height + 2, f\"{percentage:.2f}%\", ha='center', va='bottom')\n",
        "\n",
        "#displaying the percentages on top of the bars in the third subplot\n",
        "for i, percentage in enumerate([percentage_healthy, percentage_unhealthy]):\n",
        "    ax[2].text(i, percentage + 2, f\"{percentage:.2f}%\", ha='center', va='bottom')\n",
        "\n",
        "plt.show()"
      ],
      "metadata": {
        "colab": {
          "base_uri": "https://localhost:8080/",
          "height": 468
        },
        "id": "8DvVqiyDVHEj",
        "outputId": "f8eeefd4-a805-4a89-d2a1-505275e42df0"
      },
      "execution_count": 28,
      "outputs": [
        {
          "output_type": "display_data",
          "data": {
            "text/plain": [
              "<Figure size 1500x500 with 3 Axes>"
            ],
            "image/png": "[encoded data removed]"
          },
          "metadata": {}
        }
      ]
    },
    {
      "cell_type": "markdown",
      "source": [
        "#### Train - test split:\n",
        "We can try out a train test split of 80-20 for this model, which would mean having to convert a few test instances to train so that the proportion matches the split we aim at."
      ],
      "metadata": {
        "id": "7TBm41MqKkQ6"
      }
    },
    {
      "cell_type": "code",
      "source": [
        "#extracting the test df\n",
        "test_dff = yd_df1[yd_df1.Benchmark_A == \"Test\"]\n",
        "\n",
        "#setting the number of samples we want to convert to train\n",
        "train_test_diff = 120 #approximate value\n",
        "\n",
        "#generating random indices\n",
        "random_indices_to_change = set(test_dff.sample(n = train_test_diff, random_state = 42).index)\n",
        "print(f\"we are going to change the samples with index below to test to train:\")\n",
        "print(random_indices_to_change)\n",
        "\n",
        "#changing the given indices from test to train\n",
        "for i in random_indices_to_change:\n",
        "  yd_df1.loc[i, \"Benchmark_A\"] = \"Train\""
      ],
      "metadata": {
        "colab": {
          "base_uri": "https://localhost:8080/"
        },
        "id": "CM-O1968kvQj",
        "outputId": "04aa83ca-55a6-450d-f465-ad5fb8d084cb"
      },
      "execution_count": 29,
      "outputs": [
        {
          "output_type": "stream",
          "name": "stdout",
          "text": [
            "we are going to change the samples with index below to test to train:\n",
            "{'002978.jpg', '001190.jpg', '000519.jpg', '001703.jpg', '000652.jpg', '003105.jpg', '000485.jpg', '000043.jpg', '000701.jpg', '002245.jpg', '003011.jpg', '002373.jpg', '000846.jpg', '000462.jpg', '001695.jpg', '002671.jpg', '001437.jpg', '001247.jpg', '000664.jpg', '002803.jpg', '001562.jpg', '002966.jpg', '001359.jpg', '002511.jpg', '000811.jpg', '003024.jpg', '000692.jpg', '001189.jpg', '001299.jpg', '001911.jpg', '002159.jpg', '000383.jpg', '002551.jpg', '000818.jpg', '002267.jpg', '002206.jpg', '000218.jpg', '001967.jpg', '002571.jpg', '000988.jpg', '002203.jpg', '000892.jpg', '001267.jpg', '001713.jpg', '001462.jpg', '001426.jpg', '002875.jpg', '002585.jpg', '003082.jpg', '000648.jpg', '002261.jpg', '000837.jpg', '000242.jpg', '000085.jpg', '001872.jpg', '002007.jpg', '001889.jpg', '001750.jpg', '000823.jpg', '001785.jpg', '002545.jpg', '000791.jpg', '003004.jpg', '000785.jpg', '000259.jpg', '003173.jpg', '001621.jpg', '000037.jpg', '000301.jpg', '001112.jpg', '002989.jpg', '001586.jpg', '001007.jpg', '001336.jpg', '003171.jpg', '002497.jpg', '000814.jpg', '001094.jpg', '002983.jpg', '000536.jpg', '001127.jpg', '003083.jpg', '002425.jpg', '000213.jpg', '001117.jpg', '001966.jpg', '001467.jpg', '000234.jpg', '000346.jpg', '002654.jpg', '001341.jpg', '000904.jpg', '001722.jpg', '002790.jpg', '002151.jpg', '002812.jpg', '001994.jpg', '002864.jpg', '000051.jpg', '001717.jpg', '002113.jpg', '002627.jpg', '002746.jpg', '002368.jpg', '002115.jpg', '002369.jpg', '000720.jpg', '000285.jpg', '000333.jpg', '000784.jpg', '002777.jpg', '002757.jpg', '001077.jpg', '002735.jpg', '002681.jpg', '000886.jpg', '001446.jpg', '002465.jpg', '001098.jpg', '002932.jpg'}\n"
          ]
        }
      ]
    },
    {
      "cell_type": "code",
      "source": [
        "#extracting the train part of yd_df1\n",
        "yd_df1_train = yd_df1[yd_df1.Benchmark_A == \"Train\"]\n",
        "\n",
        "#extracting the test part of yd_df1\n",
        "yd_df1_test = yd_df1[yd_df1.Benchmark_A == \"Test\"]\n",
        "\n",
        "#extracting the y_train values\n",
        "y_train = np.array(yd_df1_train.Healthy_not_healthy)\n",
        "\n",
        "#extracting the y_test values\n",
        "y_test = np.array(yd_df1_test.Healthy_not_healthy)"
      ],
      "metadata": {
        "id": "KTK9jPAufh1-"
      },
      "execution_count": 30,
      "outputs": []
    },
    {
      "cell_type": "code",
      "source": [
        "print(f\"percentage of train samples: {yd_df1_train.shape[0]/(yd_df1_train.shape[0] + yd_df1_test.shape[0])*100:.2f}%\\n\")\n",
        "print(f\"percentage of test samples: {yd_df1_test.shape[0]/(yd_df1_train.shape[0] + yd_df1_test.shape[0])*100:.2f}%\")"
      ],
      "metadata": {
        "colab": {
          "base_uri": "https://localhost:8080/"
        },
        "id": "4Q-PYZ_lKBFX",
        "outputId": "a91c6332-4756-45b5-f3aa-f21a90a19273"
      },
      "execution_count": 31,
      "outputs": [
        {
          "output_type": "stream",
          "name": "stdout",
          "text": [
            "percentage of train samples: 80.29%\n",
            "\n",
            "percentage of test samples: 19.71%\n"
          ]
        }
      ]
    },
    {
      "cell_type": "code",
      "source": [
        "#calculating\n",
        "train_test_counts = [yd_df1_train.shape[0], yd_df1_test.shape[0]]\n",
        "healthy_unhealthy_counts = [yd_df1[yd_df1.Healthy_not_healthy == 1].shape[0], yd_df1[yd_df1.Healthy_not_healthy == 0].shape[0]]\n",
        "percentage_healthy = (healthy_unhealthy_counts[0] / sum(healthy_unhealthy_counts)) * 100\n",
        "percentage_unhealthy = (healthy_unhealthy_counts[1] / sum(healthy_unhealthy_counts)) * 100\n",
        "total_samples = sum(train_test_counts)\n",
        "percentage_train = (train_test_counts[0] / total_samples) * 100\n",
        "percentage_test = (train_test_counts[1] / total_samples) * 100\n",
        "\n",
        "#plotting the same\n",
        "fig, ax = plt.subplots(1, 3, figsize=(15, 5))\n",
        "\n",
        "#plot 1: train vs test\n",
        "bars = ax[0].bar([\"Train\", \"Test\"], train_test_counts)\n",
        "ax[0].set_title(\"Train vs. Test\")\n",
        "ax[0].set_ylabel(\"Count\")\n",
        "\n",
        "#plot 2: healthy vs unhealthy\n",
        "ax[1].bar([\"Healthy\", \"Unhealthy\"], healthy_unhealthy_counts)\n",
        "ax[1].set_title(\"Healthy vs. Unhealthy\")\n",
        "ax[1].set_ylabel(\"Count\")\n",
        "\n",
        "#plot 3: percentage of healthy vs unhealthy\n",
        "ax[2].bar([\"Healthy\", \"Unhealthy\"], [percentage_healthy, percentage_unhealthy])\n",
        "ax[2].set_title(\"Percentage of Healthy vs. Unhealthy\")\n",
        "ax[2].set_ylim(0, 100)  # Set y-axis limit to 0-100 for percentage\n",
        "ax[2].set_ylabel(\"Percentage\")\n",
        "\n",
        "#displaying the percentages on top of the bars in the first subplot\n",
        "for bar, percentage in zip(bars, [percentage_train, percentage_test]):\n",
        "    height = bar.get_height()\n",
        "    ax[0].text(bar.get_x() + bar.get_width() / 2, height + 2, f\"{percentage:.2f}%\", ha='center', va='bottom')\n",
        "\n",
        "#displaying the percentages on top of the bars in the third subplot\n",
        "for i, percentage in enumerate([percentage_healthy, percentage_unhealthy]):\n",
        "    ax[2].text(i, percentage + 2, f\"{percentage:.2f}%\", ha='center', va='bottom')\n",
        "\n",
        "plt.show()"
      ],
      "metadata": {
        "colab": {
          "base_uri": "https://localhost:8080/",
          "height": 468
        },
        "id": "zwahRpX7KijG",
        "outputId": "24e8348a-12e2-4828-d64f-1be13d7a18e3"
      },
      "execution_count": 32,
      "outputs": [
        {
          "output_type": "display_data",
          "data": {
            "text/plain": [
              "<Figure size 1500x500 with 3 Axes>"
            ],
            "image/png": "[encoded data removed]"
          },
          "metadata": {}
        }
      ]
    },
    {
      "cell_type": "markdown",
      "source": [
        "Now that all the ratios are exactly what we want them to be, let's move on to the final step: feature extraction and vectorization, and model training."
      ],
      "metadata": {
        "id": "AMfeP54nLC0J"
      }
    },
    {
      "cell_type": "markdown",
      "source": [
        "#### \"Internal Coding Pipeline\" and Model:"
      ],
      "metadata": {
        "id": "EBoHO_YhsJdO"
      }
    },
    {
      "cell_type": "code",
      "source": [
        "from sklearn.model_selection import train_test_split\n",
        "from sklearn.feature_extraction.text import TfidfVectorizer\n",
        "from sklearn.compose import ColumnTransformer\n",
        "from sklearn.pipeline import Pipeline\n",
        "from sklearn.ensemble import RandomForestClassifier\n",
        "from sklearn.svm import LinearSVC\n",
        "from sklearn.feature_extraction.text import CountVectorizer\n",
        "\n",
        "\"\"\"\n",
        "Applying a column transformer to the entire dataframe so that we don't have to manually extract the relevant attributes everytime.\n",
        "The transformer below ensures that required operations are applied to the relevant attributes before being passed to the model.\n",
        "\"\"\"\n",
        "preprocessor = ColumnTransformer(\n",
        "    transformers=[\n",
        "        ('ingredients', CountVectorizer(), \"Preprocessed_ingredients\"),\n",
        "        ('home_not_home', 'passthrough', ['Home_not_home'])\n",
        "    ])\n",
        "\n",
        "#creating an internal \"coding\" pipline (not a machine learning pipeline) or a sub-pipeline that can take a dataframe as an input\n",
        "model = Pipeline([\n",
        "    (\"preprocessor\", preprocessor),\n",
        "    # (\"classifier\", LinearSVC(max_iter = 10000, class_weight = \"balanced\")) #didn't perform as well as random forest clf\n",
        "    (\"rfc\", RandomForestClassifier())\n",
        "])\n",
        "\n",
        "#fitting the model to our train dataset\n",
        "model.fit(yd_df1_train, y_train)"
      ],
      "metadata": {
        "colab": {
          "base_uri": "https://localhost:8080/",
          "height": 191
        },
        "id": "sRJWwB-VfZbI",
        "outputId": "582ccda2-7775-4887-aa18-c1d7122ec015"
      },
      "execution_count": 33,
      "outputs": [
        {
          "output_type": "execute_result",
          "data": {
            "text/plain": [
              "Pipeline(steps=[('preprocessor',\n",
              "                 ColumnTransformer(transformers=[('ingredients',\n",
              "                                                  CountVectorizer(),\n",
              "                                                  'Preprocessed_ingredients'),\n",
              "                                                 ('home_not_home',\n",
              "                                                  'passthrough',\n",
              "                                                  ['Home_not_home'])])),\n",
              "                ('rfc', RandomForestClassifier())])"
            ],
            "text/html": [
              "<style>#sk-container-id-1 {color: black;background-color: white;}#sk-container-id-1 pre{padding: 0;}#sk-container-id-1 div.sk-toggleable {background-color: white;}#sk-container-id-1 label.sk-toggleable__label {cursor: pointer;display: block;width: 100%;margin-bottom: 0;padding: 0.3em;box-sizing: border-box;text-align: center;}#sk-container-id-1 label.sk-toggleable__label-arrow:before {content: \"▸\";float: left;margin-right: 0.25em;color: #696969;}#sk-container-id-1 label.sk-toggleable__label-arrow:hover:before {color: black;}#sk-container-id-1 div.sk-estimator:hover label.sk-toggleable__label-arrow:before {color: black;}#sk-container-id-1 div.sk-toggleable__content {max-height: 0;max-width: 0;overflow: hidden;text-align: left;background-color: #f0f8ff;}#sk-container-id-1 div.sk-toggleable__content pre {margin: 0.2em;color: black;border-radius: 0.25em;background-color: #f0f8ff;}#sk-container-id-1 input.sk-toggleable__control:checked~div.sk-toggleable__content {max-height: 200px;max-width: 100%;overflow: auto;}#sk-container-id-1 input.sk-toggleable__control:checked~label.sk-toggleable__label-arrow:before {content: \"▾\";}#sk-container-id-1 div.sk-estimator input.sk-toggleable__control:checked~label.sk-toggleable__label {background-color: #d4ebff;}#sk-container-id-1 div.sk-label input.sk-toggleable__control:checked~label.sk-toggleable__label {background-color: #d4ebff;}#sk-container-id-1 input.sk-hidden--visually {border: 0;clip: rect(1px 1px 1px 1px);clip: rect(1px, 1px, 1px, 1px);height: 1px;margin: -1px;overflow: hidden;padding: 0;position: absolute;width: 1px;}#sk-container-id-1 div.sk-estimator {font-family: monospace;background-color: #f0f8ff;border: 1px dotted black;border-radius: 0.25em;box-sizing: border-box;margin-bottom: 0.5em;}#sk-container-id-1 div.sk-estimator:hover {background-color: #d4ebff;}#sk-container-id-1 div.sk-parallel-item::after {content: \"\";width: 100%;border-bottom: 1px solid gray;flex-grow: 1;}#sk-container-id-1 div.sk-label:hover label.sk-toggleable__label {background-color: #d4ebff;}#sk-container-id-1 div.sk-serial::before {content: \"\";position: absolute;border-left: 1px solid gray;box-sizing: border-box;top: 0;bottom: 0;left: 50%;z-index: 0;}#sk-container-id-1 div.sk-serial {display: flex;flex-direction: column;align-items: center;background-color: white;padding-right: 0.2em;padding-left: 0.2em;position: relative;}#sk-container-id-1 div.sk-item {position: relative;z-index: 1;}#sk-container-id-1 div.sk-parallel {display: flex;align-items: stretch;justify-content: center;background-color: white;position: relative;}#sk-container-id-1 div.sk-item::before, #sk-container-id-1 div.sk-parallel-item::before {content: \"\";position: absolute;border-left: 1px solid gray;box-sizing: border-box;top: 0;bottom: 0;left: 50%;z-index: -1;}#sk-container-id-1 div.sk-parallel-item {display: flex;flex-direction: column;z-index: 1;position: relative;background-color: white;}#sk-container-id-1 div.sk-parallel-item:first-child::after {align-self: flex-end;width: 50%;}#sk-container-id-1 div.sk-parallel-item:last-child::after {align-self: flex-start;width: 50%;}#sk-container-id-1 div.sk-parallel-item:only-child::after {width: 0;}#sk-container-id-1 div.sk-dashed-wrapped {border: 1px dashed gray;margin: 0 0.4em 0.5em 0.4em;box-sizing: border-box;padding-bottom: 0.4em;background-color: white;}#sk-container-id-1 div.sk-label label {font-family: monospace;font-weight: bold;display: inline-block;line-height: 1.2em;}#sk-container-id-1 div.sk-label-container {text-align: center;}#sk-container-id-1 div.sk-container {/* jupyter's `normalize.less` sets `[hidden] { display: none; }` but bootstrap.min.css set `[hidden] { display: none !important; }` so we also need the `!important` here to be able to override the default hidden behavior on the sphinx rendered scikit-learn.org. See: https://github.com/scikit-learn/scikit-learn/issues/21755 */display: inline-block !important;position: relative;}#sk-container-id-1 div.sk-text-repr-fallback {display: none;}</style><div id=\"sk-container-id-1\" class=\"sk-top-container\"><div class=\"sk-text-repr-fallback\"><pre>Pipeline(steps=[(&#x27;preprocessor&#x27;,\n",
              "                 ColumnTransformer(transformers=[(&#x27;ingredients&#x27;,\n",
              "                                                  CountVectorizer(),\n",
              "                                                  &#x27;Preprocessed_ingredients&#x27;),\n",
              "                                                 (&#x27;home_not_home&#x27;,\n",
              "                                                  &#x27;passthrough&#x27;,\n",
              "                                                  [&#x27;Home_not_home&#x27;])])),\n",
              "                (&#x27;rfc&#x27;, RandomForestClassifier())])</pre><b>In a Jupyter environment, please rerun this cell to show the HTML representation or trust the notebook. <br />On GitHub, the HTML representation is unable to render, please try loading this page with nbviewer.org.</b></div><div class=\"sk-container\" hidden><div class=\"sk-item sk-dashed-wrapped\"><div class=\"sk-label-container\"><div class=\"sk-label sk-toggleable\"><input class=\"sk-toggleable__control sk-hidden--visually\" id=\"sk-estimator-id-1\" type=\"checkbox\" ><label for=\"sk-estimator-id-1\" class=\"sk-toggleable__label sk-toggleable__label-arrow\">Pipeline</label><div class=\"sk-toggleable__content\"><pre>Pipeline(steps=[(&#x27;preprocessor&#x27;,\n",
              "                 ColumnTransformer(transformers=[(&#x27;ingredients&#x27;,\n",
              "                                                  CountVectorizer(),\n",
              "                                                  &#x27;Preprocessed_ingredients&#x27;),\n",
              "                                                 (&#x27;home_not_home&#x27;,\n",
              "                                                  &#x27;passthrough&#x27;,\n",
              "                                                  [&#x27;Home_not_home&#x27;])])),\n",
              "                (&#x27;rfc&#x27;, RandomForestClassifier())])</pre></div></div></div><div class=\"sk-serial\"><div class=\"sk-item sk-dashed-wrapped\"><div class=\"sk-label-container\"><div class=\"sk-label sk-toggleable\"><input class=\"sk-toggleable__control sk-hidden--visually\" id=\"sk-estimator-id-2\" type=\"checkbox\" ><label for=\"sk-estimator-id-2\" class=\"sk-toggleable__label sk-toggleable__label-arrow\">preprocessor: ColumnTransformer</label><div class=\"sk-toggleable__content\"><pre>ColumnTransformer(transformers=[(&#x27;ingredients&#x27;, CountVectorizer(),\n",
              "                                 &#x27;Preprocessed_ingredients&#x27;),\n",
              "                                (&#x27;home_not_home&#x27;, &#x27;passthrough&#x27;,\n",
              "                                 [&#x27;Home_not_home&#x27;])])</pre></div></div></div><div class=\"sk-parallel\"><div class=\"sk-parallel-item\"><div class=\"sk-item\"><div class=\"sk-label-container\"><div class=\"sk-label sk-toggleable\"><input class=\"sk-toggleable__control sk-hidden--visually\" id=\"sk-estimator-id-3\" type=\"checkbox\" ><label for=\"sk-estimator-id-3\" class=\"sk-toggleable__label sk-toggleable__label-arrow\">ingredients</label><div class=\"sk-toggleable__content\"><pre>Preprocessed_ingredients</pre></div></div></div><div class=\"sk-serial\"><div class=\"sk-item\"><div class=\"sk-estimator sk-toggleable\"><input class=\"sk-toggleable__control sk-hidden--visually\" id=\"sk-estimator-id-4\" type=\"checkbox\" ><label for=\"sk-estimator-id-4\" class=\"sk-toggleable__label sk-toggleable__label-arrow\">CountVectorizer</label><div class=\"sk-toggleable__content\"><pre>CountVectorizer()</pre></div></div></div></div></div></div><div class=\"sk-parallel-item\"><div class=\"sk-item\"><div class=\"sk-label-container\"><div class=\"sk-label sk-toggleable\"><input class=\"sk-toggleable__control sk-hidden--visually\" id=\"sk-estimator-id-5\" type=\"checkbox\" ><label for=\"sk-estimator-id-5\" class=\"sk-toggleable__label sk-toggleable__label-arrow\">home_not_home</label><div class=\"sk-toggleable__content\"><pre>[&#x27;Home_not_home&#x27;]</pre></div></div></div><div class=\"sk-serial\"><div class=\"sk-item\"><div class=\"sk-estimator sk-toggleable\"><input class=\"sk-toggleable__control sk-hidden--visually\" id=\"sk-estimator-id-6\" type=\"checkbox\" ><label for=\"sk-estimator-id-6\" class=\"sk-toggleable__label sk-toggleable__label-arrow\">passthrough</label><div class=\"sk-toggleable__content\"><pre>passthrough</pre></div></div></div></div></div></div></div></div><div class=\"sk-item\"><div class=\"sk-estimator sk-toggleable\"><input class=\"sk-toggleable__control sk-hidden--visually\" id=\"sk-estimator-id-7\" type=\"checkbox\" ><label for=\"sk-estimator-id-7\" class=\"sk-toggleable__label sk-toggleable__label-arrow\">RandomForestClassifier</label><div class=\"sk-toggleable__content\"><pre>RandomForestClassifier()</pre></div></div></div></div></div></div></div>"
            ]
          },
          "metadata": {},
          "execution_count": 33
        }
      ]
    },
    {
      "cell_type": "markdown",
      "source": [
        "I have chosen CountVectorizer() or TfIdf() because, a list of ingredieds can or should never have the same ingredient twice, making it a bag of ingredient by default.\n",
        "I tried out TfIdf, CountVectorizer() was giving me better results."
      ],
      "metadata": {
        "id": "31m3vwpRhbVd"
      }
    },
    {
      "cell_type": "markdown",
      "source": [
        "#### Making predictions:"
      ],
      "metadata": {
        "id": "EW3NuT_OsVN1"
      }
    },
    {
      "cell_type": "code",
      "source": [
        "#making predictions on train\n",
        "y_pred_train = model.predict(yd_df1_train)\n",
        "\n",
        "#making predictions on test\n",
        "y_pred_test = model.predict(yd_df1_test)"
      ],
      "metadata": {
        "id": "5YPfp8ITkBJM"
      },
      "execution_count": 34,
      "outputs": []
    },
    {
      "cell_type": "markdown",
      "source": [
        "#### Model evaluation:"
      ],
      "metadata": {
        "id": "PefKLdvIsY3J"
      }
    },
    {
      "cell_type": "code",
      "source": [
        "from sklearn.metrics import accuracy_score, precision_score, recall_score, f1_score, confusion_matrix\n",
        "\n",
        "#metrics for test\n",
        "print(f\"train prediction scores:\")\n",
        "#calculating accuracy\n",
        "accuracy = accuracy_score(y_train, y_pred_train)\n",
        "print(f'Accuracy: {accuracy}')\n",
        "#calculating precision\n",
        "precision = precision_score(y_train, y_pred_train, average = \"weighted\")\n",
        "print(f'Precision: {precision}')\n",
        "#calculating recall\n",
        "recall = recall_score(y_train, y_pred_train, average = \"weighted\")\n",
        "print(f'Recall: {recall}')\n",
        "#calculating f1 score\n",
        "f1 = f1_score(y_train, y_pred_train, average = \"weighted\")\n",
        "print(f'F1 Score: {f1}')\n",
        "print(\"-x\"*20, \"\\n\")\n",
        "\n",
        "#metrics for test\n",
        "print(f\"test prediction scores:\")\n",
        "#calculating accuracy\n",
        "accuracy = accuracy_score(y_test, y_pred_test)\n",
        "print(f'Accuracy: {accuracy:.4f}')\n",
        "#calculating precision\n",
        "precision = precision_score(y_test, y_pred_test, average = \"weighted\")\n",
        "print(f'Precision: {precision:.4f}')\n",
        "#calculating recall\n",
        "recall = recall_score(y_test, y_pred_test, average = \"weighted\")\n",
        "print(f'Recall: {recall:.4f}')\n",
        "#calculating f1 score\n",
        "f1 = f1_score(y_test, y_pred_test, average = \"weighted\")\n",
        "print(f'F1 Score: {f1:.4f}')\n",
        "print(\"-x\"*20)\n"
      ],
      "metadata": {
        "colab": {
          "base_uri": "https://localhost:8080/"
        },
        "id": "7wKXwIOwkjiA",
        "outputId": "4703f536-a4ff-4627-9204-c9022f2171a2"
      },
      "execution_count": 35,
      "outputs": [
        {
          "output_type": "stream",
          "name": "stdout",
          "text": [
            "train prediction scores:\n",
            "Accuracy: 0.9989373007438895\n",
            "Precision: 0.9989395618061365\n",
            "Recall: 0.9989373007438895\n",
            "F1 Score: 0.998937303144176\n",
            "-x-x-x-x-x-x-x-x-x-x-x-x-x-x-x-x-x-x-x-x \n",
            "\n",
            "test prediction scores:\n",
            "Accuracy: 0.8312\n",
            "Precision: 0.8312\n",
            "Recall: 0.8312\n",
            "F1 Score: 0.8312\n",
            "-x-x-x-x-x-x-x-x-x-x-x-x-x-x-x-x-x-x-x-x\n"
          ]
        }
      ]
    },
    {
      "cell_type": "markdown",
      "source": [
        "From the scores, above it can be seen that our model has overfitted to the training data. The test prediction scores show it's true performance, reflecting on the fact that my model might need fewer number of features, which in this case would mean having more consistency in the way the ingredients are spelled, thus having fewer number of unique ingredients.\n",
        "\n",
        "In the testing phase, the model maintains a high level of accuracy, precision, recall, and F1 score at around 81-83%, showcasing its robustness in generalizing to new, unseen data.\n",
        "\n",
        "This exceptional performance suggests that the model effectively discriminates between healthy and unhealthy dishes. The deliberate attention to class balance in the dataset contributes to the model's ability to maintain high accuracy and balanced precision and recall. The 80-20 split, highlights the model's adaptability and reliability in different scenarios."
      ],
      "metadata": {
        "id": "kfozeFIKEUMp"
      }
    },
    {
      "cell_type": "code",
      "source": [
        "def showConfMat(CM, labels = ['Healthy','Unhealthy']):\n",
        "  plt.matshow(CM,cmap='Blues')\n",
        "  for i in range(CM.shape[0]):\n",
        "    for j in range(CM.shape[1]):\n",
        "      plt.text(i,j,CM[i,j].round(2),ha='center',)\n",
        "  plt.xticks([0,1],labels)\n",
        "  plt.yticks([0,1],labels)\n",
        "  plt.show()"
      ],
      "metadata": {
        "id": "K9dy0QMTOnew"
      },
      "execution_count": 36,
      "outputs": []
    },
    {
      "cell_type": "markdown",
      "source": [
        "#### Counfusion matrix:"
      ],
      "metadata": {
        "id": "Cpj7wa-0ubRx"
      }
    },
    {
      "cell_type": "code",
      "source": [
        "Ac = np.mean(y_pred_test[np.array(y_test).astype(int)==0]==0)\n",
        "Ar = np.mean(y_pred_test[np.array(y_test).astype(int)==1]==1)\n",
        "\n",
        "Mc = np.mean(y_pred_test[np.array(y_test).astype(int)==0]==1)\n",
        "Mr = np.mean(y_pred_test[np.array(y_test).astype(int)==1]==0)\n",
        "\n",
        "CM = np.array([[Ac, Mc],[Mr, Ar]])\n",
        "\n",
        "showConfMat(CM)"
      ],
      "metadata": {
        "colab": {
          "base_uri": "https://localhost:8080/",
          "height": 437
        },
        "id": "JppctID7OqIK",
        "outputId": "13fe680a-27ff-4ba3-ee3f-3d74a5f70650"
      },
      "execution_count": 37,
      "outputs": [
        {
          "output_type": "display_data",
          "data": {
            "text/plain": [
              "<Figure size 480x480 with 1 Axes>"
            ],
            "image/png": "[encoded data removed]"
          },
          "metadata": {}
        }
      ]
    },
    {
      "cell_type": "markdown",
      "source": [
        "The confusion matrix provides insights into how well our model is performing for both classes in a balanced dataset, rather than focusing solely on one class. It is the reflected in the balance we see higher true positives and true negatives and lower false positives and false negatives. We have already looked into the precision, recall and f1 for a better understanding."
      ],
      "metadata": {
        "id": "OXZkUbvgGtnZ"
      }
    },
    {
      "cell_type": "markdown",
      "source": [
        "#### Trying out the model on my actual diet"
      ],
      "metadata": {
        "id": "CFg6mMOKi3cr"
      }
    },
    {
      "cell_type": "code",
      "source": [
        "#trying out the model on my actual diet\n",
        "my_diet = pd.DataFrame({\n",
        "    \"Preprocessed_ingredients\": [\"rice,chicken,salt,pepper\", \"oats,milk,honey\"],\n",
        "    \"Home_not_home\": [1, 1]\n",
        "})\n",
        "my_diet.index = [\"Breakfast\", \"Snack\"]\n",
        "display(my_diet)"
      ],
      "metadata": {
        "colab": {
          "base_uri": "https://localhost:8080/",
          "height": 112
        },
        "id": "BtbjOn8bbubr",
        "outputId": "7e18e49d-f5cb-4b00-b2ac-d1504460cb6a"
      },
      "execution_count": 38,
      "outputs": [
        {
          "output_type": "display_data",
          "data": {
            "text/plain": [
              "           Preprocessed_ingredients  Home_not_home\n",
              "Breakfast  rice,chicken,salt,pepper              1\n",
              "Snack               oats,milk,honey              1"
            ],
            "text/html": [
              "\n",
              "  <div id=\"df-e2a1d02c-3bff-4c88-a1dd-b6c366de3fd6\" class=\"colab-df-container\">\n",
              "    <div>\n",
              "<style scoped>\n",
              "    .dataframe tbody tr th:only-of-type {\n",
              "        vertical-align: middle;\n",
              "    }\n",
              "\n",
              "    .dataframe tbody tr th {\n",
              "        vertical-align: top;\n",
              "    }\n",
              "\n",
              "    .dataframe thead th {\n",
              "        text-align: right;\n",
              "    }\n",
              "</style>\n",
              "<table border=\"1\" class=\"dataframe\">\n",
              "  <thead>\n",
              "    <tr style=\"text-align: right;\">\n",
              "      <th></th>\n",
              "      <th>Preprocessed_ingredients</th>\n",
              "      <th>Home_not_home</th>\n",
              "    </tr>\n",
              "  </thead>\n",
              "  <tbody>\n",
              "    <tr>\n",
              "      <th>Breakfast</th>\n",
              "      <td>rice,chicken,salt,pepper</td>\n",
              "      <td>1</td>\n",
              "    </tr>\n",
              "    <tr>\n",
              "      <th>Snack</th>\n",
              "      <td>oats,milk,honey</td>\n",
              "      <td>1</td>\n",
              "    </tr>\n",
              "  </tbody>\n",
              "</table>\n",
              "</div>\n",
              "    <div class=\"colab-df-buttons\">\n",
              "\n",
              "  <div class=\"colab-df-container\">\n",
              "    <button class=\"colab-df-convert\" onclick=\"convertToInteractive('df-e2a1d02c-3bff-4c88-a1dd-b6c366de3fd6')\"\n",
              "            title=\"Convert this dataframe to an interactive table.\"\n",
              "            style=\"display:none;\">\n",
              "\n",
              "  <svg xmlns=\"http://www.w3.org/2000/svg\" height=\"24px\" viewBox=\"0 -960 960 960\">\n",
              "    <path d=\"M120-120v-720h720v720H120Zm60-500h600v-160H180v160Zm220 220h160v-160H400v160Zm0 220h160v-160H400v160ZM180-400h160v-160H180v160Zm440 0h160v-160H620v160ZM180-180h160v-160H180v160Zm440 0h160v-160H620v160Z\"/>\n",
              "  </svg>\n",
              "    </button>\n",
              "\n",
              "  <style>\n",
              "    .colab-df-container {\n",
              "      display:flex;\n",
              "      gap: 12px;\n",
              "    }\n",
              "\n",
              "    .colab-df-convert {\n",
              "      background-color: #E8F0FE;\n",
              "      border: none;\n",
              "      border-radius: 50%;\n",
              "      cursor: pointer;\n",
              "      display: none;\n",
              "      fill: #1967D2;\n",
              "      height: 32px;\n",
              "      padding: 0 0 0 0;\n",
              "      width: 32px;\n",
              "    }\n",
              "\n",
              "    .colab-df-convert:hover {\n",
              "      background-color: #E2EBFA;\n",
              "      box-shadow: 0px 1px 2px rgba(60, 64, 67, 0.3), 0px 1px 3px 1px rgba(60, 64, 67, 0.15);\n",
              "      fill: #174EA6;\n",
              "    }\n",
              "\n",
              "    .colab-df-buttons div {\n",
              "      margin-bottom: 4px;\n",
              "    }\n",
              "\n",
              "    [theme=dark] .colab-df-convert {\n",
              "      background-color: #3B4455;\n",
              "      fill: #D2E3FC;\n",
              "    }\n",
              "\n",
              "    [theme=dark] .colab-df-convert:hover {\n",
              "      background-color: #434B5C;\n",
              "      box-shadow: 0px 1px 3px 1px rgba(0, 0, 0, 0.15);\n",
              "      filter: drop-shadow(0px 1px 2px rgba(0, 0, 0, 0.3));\n",
              "      fill: #FFFFFF;\n",
              "    }\n",
              "  </style>\n",
              "\n",
              "    <script>\n",
              "      const buttonEl =\n",
              "        document.querySelector('#df-e2a1d02c-3bff-4c88-a1dd-b6c366de3fd6 button.colab-df-convert');\n",
              "      buttonEl.style.display =\n",
              "        google.colab.kernel.accessAllowed ? 'block' : 'none';\n",
              "\n",
              "      async function convertToInteractive(key) {\n",
              "        const element = document.querySelector('#df-e2a1d02c-3bff-4c88-a1dd-b6c366de3fd6');\n",
              "        const dataTable =\n",
              "          await google.colab.kernel.invokeFunction('convertToInteractive',\n",
              "                                                    [key], {});\n",
              "        if (!dataTable) return;\n",
              "\n",
              "        const docLinkHtml = 'Like what you see? Visit the ' +\n",
              "          '<a target=\"_blank\" href=https://colab.research.google.com/notebooks/data_table.ipynb>data table notebook</a>'\n",
              "          + ' to learn more about interactive tables.';\n",
              "        element.innerHTML = '';\n",
              "        dataTable['output_type'] = 'display_data';\n",
              "        await google.colab.output.renderOutput(dataTable, element);\n",
              "        const docLink = document.createElement('div');\n",
              "        docLink.innerHTML = docLinkHtml;\n",
              "        element.appendChild(docLink);\n",
              "      }\n",
              "    </script>\n",
              "  </div>\n",
              "\n",
              "\n",
              "<div id=\"df-58af363b-b5fd-4b71-a6b1-dbce7f77e88d\">\n",
              "  <button class=\"colab-df-quickchart\" onclick=\"quickchart('df-58af363b-b5fd-4b71-a6b1-dbce7f77e88d')\"\n",
              "            title=\"Suggest charts\"\n",
              "            style=\"display:none;\">\n",
              "\n",
              "<svg xmlns=\"http://www.w3.org/2000/svg\" height=\"24px\"viewBox=\"0 0 24 24\"\n",
              "     width=\"24px\">\n",
              "    <g>\n",
              "        <path d=\"M19 3H5c-1.1 0-2 .9-2 2v14c0 1.1.9 2 2 2h14c1.1 0 2-.9 2-2V5c0-1.1-.9-2-2-2zM9 17H7v-7h2v7zm4 0h-2V7h2v10zm4 0h-2v-4h2v4z\"/>\n",
              "    </g>\n",
              "</svg>\n",
              "  </button>\n",
              "\n",
              "<style>\n",
              "  .colab-df-quickchart {\n",
              "      --bg-color: #E8F0FE;\n",
              "      --fill-color: #1967D2;\n",
              "      --hover-bg-color: #E2EBFA;\n",
              "      --hover-fill-color: #174EA6;\n",
              "      --disabled-fill-color: #AAA;\n",
              "      --disabled-bg-color: #DDD;\n",
              "  }\n",
              "\n",
              "  [theme=dark] .colab-df-quickchart {\n",
              "      --bg-color: #3B4455;\n",
              "      --fill-color: #D2E3FC;\n",
              "      --hover-bg-color: #434B5C;\n",
              "      --hover-fill-color: #FFFFFF;\n",
              "      --disabled-bg-color: #3B4455;\n",
              "      --disabled-fill-color: #666;\n",
              "  }\n",
              "\n",
              "  .colab-df-quickchart {\n",
              "    background-color: var(--bg-color);\n",
              "    border: none;\n",
              "    border-radius: 50%;\n",
              "    cursor: pointer;\n",
              "    display: none;\n",
              "    fill: var(--fill-color);\n",
              "    height: 32px;\n",
              "    padding: 0;\n",
              "    width: 32px;\n",
              "  }\n",
              "\n",
              "  .colab-df-quickchart:hover {\n",
              "    background-color: var(--hover-bg-color);\n",
              "    box-shadow: 0 1px 2px rgba(60, 64, 67, 0.3), 0 1px 3px 1px rgba(60, 64, 67, 0.15);\n",
              "    fill: var(--button-hover-fill-color);\n",
              "  }\n",
              "\n",
              "  .colab-df-quickchart-complete:disabled,\n",
              "  .colab-df-quickchart-complete:disabled:hover {\n",
              "    background-color: var(--disabled-bg-color);\n",
              "    fill: var(--disabled-fill-color);\n",
              "    box-shadow: none;\n",
              "  }\n",
              "\n",
              "  .colab-df-spinner {\n",
              "    border: 2px solid var(--fill-color);\n",
              "    border-color: transparent;\n",
              "    border-bottom-color: var(--fill-color);\n",
              "    animation:\n",
              "      spin 1s steps(1) infinite;\n",
              "  }\n",
              "\n",
              "  @keyframes spin {\n",
              "    0% {\n",
              "      border-color: transparent;\n",
              "      border-bottom-color: var(--fill-color);\n",
              "      border-left-color: var(--fill-color);\n",
              "    }\n",
              "    20% {\n",
              "      border-color: transparent;\n",
              "      border-left-color: var(--fill-color);\n",
              "      border-top-color: var(--fill-color);\n",
              "    }\n",
              "    30% {\n",
              "      border-color: transparent;\n",
              "      border-left-color: var(--fill-color);\n",
              "      border-top-color: var(--fill-color);\n",
              "      border-right-color: var(--fill-color);\n",
              "    }\n",
              "    40% {\n",
              "      border-color: transparent;\n",
              "      border-right-color: var(--fill-color);\n",
              "      border-top-color: var(--fill-color);\n",
              "    }\n",
              "    60% {\n",
              "      border-color: transparent;\n",
              "      border-right-color: var(--fill-color);\n",
              "    }\n",
              "    80% {\n",
              "      border-color: transparent;\n",
              "      border-right-color: var(--fill-color);\n",
              "      border-bottom-color: var(--fill-color);\n",
              "    }\n",
              "    90% {\n",
              "      border-color: transparent;\n",
              "      border-bottom-color: var(--fill-color);\n",
              "    }\n",
              "  }\n",
              "</style>\n",
              "\n",
              "  <script>\n",
              "    async function quickchart(key) {\n",
              "      const quickchartButtonEl =\n",
              "        document.querySelector('#' + key + ' button');\n",
              "      quickchartButtonEl.disabled = true;  // To prevent multiple clicks.\n",
              "      quickchartButtonEl.classList.add('colab-df-spinner');\n",
              "      try {\n",
              "        const charts = await google.colab.kernel.invokeFunction(\n",
              "            'suggestCharts', [key], {});\n",
              "      } catch (error) {\n",
              "        console.error('Error during call to suggestCharts:', error);\n",
              "      }\n",
              "      quickchartButtonEl.classList.remove('colab-df-spinner');\n",
              "      quickchartButtonEl.classList.add('colab-df-quickchart-complete');\n",
              "    }\n",
              "    (() => {\n",
              "      let quickchartButtonEl =\n",
              "        document.querySelector('#df-58af363b-b5fd-4b71-a6b1-dbce7f77e88d button');\n",
              "      quickchartButtonEl.style.display =\n",
              "        google.colab.kernel.accessAllowed ? 'block' : 'none';\n",
              "    })();\n",
              "  </script>\n",
              "</div>\n",
              "    </div>\n",
              "  </div>\n"
            ]
          },
          "metadata": {}
        }
      ]
    },
    {
      "cell_type": "code",
      "source": [
        "prediction = model.predict(my_diet)\n",
        "for i in prediction:\n",
        "  print(f\"Model predicted: {'Healthy' if i == 1 else 'Unhealthy'}\\n\")"
      ],
      "metadata": {
        "colab": {
          "base_uri": "https://localhost:8080/"
        },
        "id": "gWrr9hUOcrbK",
        "outputId": "f69ca512-f86a-4037-dce8-bbb57f9295cd"
      },
      "execution_count": 39,
      "outputs": [
        {
          "output_type": "stream",
          "name": "stdout",
          "text": [
            "Model predicted: Healthy\n",
            "\n",
            "Model predicted: Healthy\n",
            "\n"
          ]
        }
      ]
    },
    {
      "cell_type": "markdown",
      "source": [
        "This is a different kind of validation for me. :D <br>\n",
        "(not the machine learning validation)"
      ],
      "metadata": {
        "id": "RIYxNFd2jFzE"
      }
    },
    {
      "cell_type": "markdown",
      "metadata": {
        "id": "fSrJCR_cekPO"
      },
      "source": [
        "# 9 Conclusions"
      ]
    },
    {
      "cell_type": "markdown",
      "source": [
        "I would like to use this space to acknowledge that the healthiness of a dish has a huge dependency on the portion size of the dish, quantity of each ingredient used and other factors and it may be bit premature to just look at the \"bag-of-ingredients\".<br>\n",
        "As a conclusion I would say while bag-of-words representation of ingredients may not be the best way to assess the healthiness of a dish, our model still performs well thus speaking about how one can tell how healthy or unhealthy a dish is just by looking at the list of ingredients and wether the food was prepared at home or outside.\n",
        "Areas where the workflow could use further development:\n",
        "1. Reduction in the total numbers features to avoid overfitting\n",
        "1. Better processing of the list of ingredients to ensure there is more consistency in the ingredients we see. So a lemmatization equivalent for ingredients.\n",
        "1. Further fine tuning like:\n",
        "  * Model parameters\n",
        "  * Other vector representation method\n",
        "1. There are some stopwords equivalent of ingredients like \"salt\" and \"pepper\" etc. So might have to consider a way to handle those to reduce noise. It would require deeper knowledge about the nutritional sciences.\n",
        "1. Further experimenting with other models.\n",
        "1. Using cross validation based approach to rule out any doubt about the effectiveness of the classifier."
      ],
      "metadata": {
        "id": "RK2CavV6aJsp"
      }
    }
  ],
  "metadata": {
    "colab": {
      "provenance": []
    },
    "kernelspec": {
      "display_name": "Python 3",
      "name": "python3"
    },
    "language_info": {
      "codemirror_mode": {
        "name": "ipython",
        "version": 3
      },
      "file_extension": ".py",
      "mimetype": "text/x-python",
      "name": "python",
      "nbconvert_exporter": "python",
      "pygments_lexer": "ipython3",
      "version": "3.11.5"
    }
  },
  "nbformat": 4,
  "nbformat_minor": 0
}